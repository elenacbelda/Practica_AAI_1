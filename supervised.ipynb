{
 "cells": [
  {
   "cell_type": "markdown",
   "metadata": {},
   "source": [
    "# Entrenamiento"
   ]
  },
  {
   "cell_type": "code",
   "execution_count": 1,
   "metadata": {},
   "outputs": [],
   "source": [
    "import numpy as np \n",
    "import pandas as pd\n",
    "import joblib\n",
    "import os\n",
    "import matplotlib.pyplot as plt\n"
   ]
  },
  {
   "cell_type": "code",
   "execution_count": 2,
   "metadata": {},
   "outputs": [],
   "source": [
    "models_results = {}"
   ]
  },
  {
   "cell_type": "markdown",
   "metadata": {},
   "source": [
    "### Cargado de datos"
   ]
  },
  {
   "cell_type": "code",
   "execution_count": 3,
   "metadata": {},
   "outputs": [
    {
     "name": "stdout",
     "output_type": "stream",
     "text": [
      "Archivo ../data/dataFrame_final/final_train/df_final_train_1.csv cargado en df_train_1\n",
      "Archivo ../data/dataFrame_final/final_test/df_final_test_1.csv cargado en df_test_1\n",
      "Archivo ../data/dataFrame_final/final_train/df_final_train_2.csv cargado en df_train_2\n",
      "Archivo ../data/dataFrame_final/final_test/df_final_test_2.csv cargado en df_test_2\n",
      "Archivo ../data/dataFrame_final/final_train/df_final_train_3.csv cargado en df_train_3\n",
      "Archivo ../data/dataFrame_final/final_test/df_final_test_3.csv cargado en df_test_3\n",
      "Archivo ../data/dataFrame_final/final_train/df_final_train_4.csv cargado en df_train_4\n",
      "Archivo ../data/dataFrame_final/final_test/df_final_test_4.csv cargado en df_test_4\n",
      "Archivo ../data/dataFrame_final/final_train/df_final_train_5.csv cargado en df_train_5\n",
      "Archivo ../data/dataFrame_final/final_test/df_final_test_5.csv cargado en df_test_5\n",
      "Archivo ../data/dataFrame_final/final_train/df_final_train_6.csv cargado en df_train_6\n",
      "Archivo ../data/dataFrame_final/final_test/df_final_test_6.csv cargado en df_test_6\n",
      "Archivo ../data/dataFrame_final/final_train/df_final_train_7.csv cargado en df_train_7\n",
      "Archivo ../data/dataFrame_final/final_test/df_final_test_7.csv cargado en df_test_7\n"
     ]
    }
   ],
   "source": [
    "for i in range(1, 8):\n",
    "    file_name_train = f'../data/dataFrame_final/final_train/df_final_train_{i}.csv'\n",
    "    globals()[f'df_train_{i}'] = pd.read_csv(file_name_train, encoding='ISO-8859-1')\n",
    "    print(f'Archivo {file_name_train} cargado en df_train_{i}')\n",
    "\n",
    "    file_name_test = f'../data/dataFrame_final/final_test/df_final_test_{i}.csv'\n",
    "    globals()[f'df_test_{i}'] = pd.read_csv(file_name_test, encoding='ISO-8859-1')\n",
    "    print(f'Archivo {file_name_test} cargado en df_test_{i}')"
   ]
  },
  {
   "cell_type": "markdown",
   "metadata": {},
   "source": [
    "### Normalización\n"
   ]
  },
  {
   "cell_type": "markdown",
   "metadata": {},
   "source": [
    "Es necesaria normalización para Redes neuronales y recomendada para Regresión Logística, SVM, Regresión Lineal y Polinomial"
   ]
  },
  {
   "cell_type": "markdown",
   "metadata": {},
   "source": [
    "### Definición de funciones"
   ]
  },
  {
   "cell_type": "code",
   "execution_count": 4,
   "metadata": {},
   "outputs": [],
   "source": [
    "from sklearn import metrics\n",
    "from sklearn.linear_model import SGDRegressor\n",
    "import numpy as np\n",
    "from sklearn.linear_model import SGDClassifier\n",
    "from sklearn.tree import DecisionTreeClassifier\n",
    "from sklearn.ensemble import VotingClassifier\n",
    "from sklearn.decomposition import PCA\n"
   ]
  },
  {
   "cell_type": "code",
   "execution_count": null,
   "metadata": {},
   "outputs": [],
   "source": [
    "!pip3.12 install dask dask-ml joblib"
   ]
  },
  {
   "cell_type": "code",
   "execution_count": 5,
   "metadata": {},
   "outputs": [],
   "source": [
    "# Recibe un modelo entrenado y realiza una predicción sobre los conjuntos de entrenamiento y test para evaluarlo\n",
    "def evaluate_model(X, y, model, model_name):\n",
    "        \n",
    "    raw_predictions = model.predict(X)\n",
    "    if model_name == 'LinearRegression' or model_name == 'PolinomialRegression' or model_name == 'new_LinearRegression':\n",
    "        predictions = [round(x) for x in raw_predictions]\n",
    "        average = 'macro'\n",
    "    else:\n",
    "        predictions = raw_predictions \n",
    "        average = 'binary'\n",
    "        \n",
    "    accuracy = metrics.accuracy_score(y, predictions)\n",
    "    precision, recall, fscore, _ = metrics.precision_recall_fscore_support(\n",
    "        y, predictions, average=average, zero_division=0\n",
    "    )\n",
    "    train_auc = metrics.roc_auc_score(y, predictions)\n",
    "    \n",
    "    return {\n",
    "        'accuracy': accuracy,\n",
    "        'precision': precision,\n",
    "        'recall': recall,\n",
    "        'f1_score': fscore,\n",
    "        'auc': train_auc,\n",
    "        'num_samples': len(y)  \n",
    "    }\n",
    "    \n"
   ]
  },
  {
   "cell_type": "code",
   "execution_count": 6,
   "metadata": {},
   "outputs": [],
   "source": [
    "def prediction(model, model_name, pca=False):\n",
    "    results_list = {\n",
    "        'train': [],\n",
    "        'test': []\n",
    "    }\n",
    "\n",
    "    for i in range(1, 8):\n",
    "        if pca : \n",
    "            data_train = globals()[f'df_train_{i}_pca']\n",
    "            data_test = globals()[f'df_test_{i}_pca']\n",
    "        else:\n",
    "            data_train = globals()[f'df_train_{i}']\n",
    "            data_test = globals()[f'df_test_{i}']\n",
    "\n",
    "        X_train = data_train.drop(columns=['label']).values\n",
    "        y_train = data_train['label'].values\n",
    "\n",
    "        \n",
    "        X_test = data_test.drop(columns=['label']).values\n",
    "        y_test = data_test['label'].values\n",
    "\n",
    "        train_partition_results = evaluate_model(X_train, y_train, model, model_name)\n",
    "        results_list['train'].append(train_partition_results)\n",
    "\n",
    "        test_partition_results = evaluate_model(X_test, y_test, model, model_name)\n",
    "        results_list['test'].append(test_partition_results)\n",
    "\n",
    "    # Guardar resultados de cada partición en models_results\n",
    "    models_results[f'{model_name}'] = results_list\n"
   ]
  },
  {
   "cell_type": "code",
   "execution_count": 7,
   "metadata": {},
   "outputs": [],
   "source": [
    "def plot_results(model_name):\n",
    "    train_f1_scores = [result['f1_score'] for result in models_results[f'{model_name}']['train']]\n",
    "    test_f1_scores = [result['f1_score'] for result in models_results[f'{model_name}']['test']]\n",
    "\n",
    "    plt.figure(figsize=(10, 6))\n",
    "    plt.plot(range(1, 8), train_f1_scores, label='Train F1 Score', marker='o', color='blue')\n",
    "    plt.plot(range(1, 8), test_f1_scores, label='Test F1 Score', marker='o', color='red')\n",
    "    plt.title(f'Comparación de F1 en {model_name}')\n",
    "    plt.xlabel('Número de partición')\n",
    "    plt.ylabel('F1 Score')\n",
    "    plt.legend()\n",
    "    plt.grid(True)\n",
    "    plt.ylim(0, 1)\n",
    "    plt.show()\n"
   ]
  },
  {
   "cell_type": "code",
   "execution_count": 8,
   "metadata": {},
   "outputs": [],
   "source": [
    "def plot_model_comparison(models_results, metric='accuracy'):\n",
    "    models = list(models_results.keys())\n",
    "    train_scores = []\n",
    "    test_scores = []\n",
    "    \n",
    "    for model in models:\n",
    "        train_metric = np.mean([entry[metric] for entry in models_results[model]['train']])\n",
    "        test_metric = np.mean([entry[metric] for entry in models_results[model]['test']])\n",
    "        \n",
    "        train_scores.append(train_metric)\n",
    "        test_scores.append(test_metric)\n",
    "    \n",
    "    x = np.arange(len(models))\n",
    "    width = 0.25  \n",
    "\n",
    "    fig, ax = plt.subplots(figsize=(10, 6))\n",
    "\n",
    "    ax.bar(x - width/2, train_scores, width, label='Train')\n",
    "    ax.bar(x + width/2, test_scores, width, label='Test')\n",
    "\n",
    "    ax.set_xlabel('Models')\n",
    "    ax.set_ylabel(metric.capitalize())\n",
    "    ax.set_title(f'{metric.capitalize()} by model')\n",
    "    ax.set_xticks(x)\n",
    "    ax.set_xticklabels(models, rotation=45)\n",
    "    ax.legend()\n",
    "\n",
    "    plt.tight_layout()\n",
    "    plt.show()\n",
    "\n"
   ]
  },
  {
   "cell_type": "markdown",
   "metadata": {},
   "source": [
    "### Regresión Lineal DONE"
   ]
  },
  {
   "cell_type": "markdown",
   "metadata": {},
   "source": [
    "##### Entrenamiento"
   ]
  },
  {
   "cell_type": "markdown",
   "metadata": {},
   "source": [
    "Como LinealRegression no permite hacer partial fit, usamos SGDRegressor con loss = squared error y así realiza lo mismo que el original, minimizar el error cuadrático"
   ]
  },
  {
   "cell_type": "code",
   "execution_count": 44,
   "metadata": {},
   "outputs": [],
   "source": [
    "model = SGDRegressor(loss='squared_error', random_state=42)\n",
    "\n",
    "for i in range(1, 8):\n",
    "    data_train = globals()[f'df_train_{i}']\n",
    "    X_train = data_train.drop(columns=['label']).values\n",
    "    y_train = data_train['label'].values\n",
    "    \n",
    "    model.partial_fit(X_train, y_train)\n"
   ]
  },
  {
   "cell_type": "code",
   "execution_count": 45,
   "metadata": {},
   "outputs": [
    {
     "data": {
      "text/plain": [
       "['../data/models\\\\LinearRegression.joblib']"
      ]
     },
     "execution_count": 45,
     "metadata": {},
     "output_type": "execute_result"
    }
   ],
   "source": [
    "dir = \"../data/models\"\n",
    "model_path = os.path.join(dir, \"LinearRegression.joblib\")\n",
    "joblib.dump(model, model_path)"
   ]
  },
  {
   "cell_type": "markdown",
   "metadata": {},
   "source": [
    "##### Predicción"
   ]
  },
  {
   "cell_type": "code",
   "execution_count": 9,
   "metadata": {},
   "outputs": [
    {
     "name": "stderr",
     "output_type": "stream",
     "text": [
      "c:\\Users\\48726\\AppData\\Local\\Programs\\Python\\Python311\\Lib\\site-packages\\sklearn\\base.py:376: InconsistentVersionWarning: Trying to unpickle estimator SGDRegressor from version 1.5.2 when using version 1.4.2. This might lead to breaking code or invalid results. Use at your own risk. For more info please refer to:\n",
      "https://scikit-learn.org/stable/model_persistence.html#security-maintainability-limitations\n",
      "  warnings.warn(\n"
     ]
    }
   ],
   "source": [
    "# Cargar modelo de LinearRegression\n",
    "model = joblib.load(\"../data/models/LinearRegression.joblib\")"
   ]
  },
  {
   "cell_type": "code",
   "execution_count": 10,
   "metadata": {},
   "outputs": [],
   "source": [
    "prediction(model, 'LinearRegression')"
   ]
  },
  {
   "cell_type": "code",
   "execution_count": 11,
   "metadata": {},
   "outputs": [
    {
     "data": {
      "image/png": "[encoded data removed]",
      "text/plain": [
       "<Figure size 1000x600 with 1 Axes>"
      ]
     },
     "metadata": {},
     "output_type": "display_data"
    }
   ],
   "source": [
    "plot_results('LinearRegression')"
   ]
  },
  {
   "cell_type": "markdown",
   "metadata": {},
   "source": [
    "### Regresión Polinomial DONE"
   ]
  },
  {
   "cell_type": "markdown",
   "metadata": {},
   "source": [
    "Tenemos un problema ya que la matriz generada por aumentar el grado de los datos es demasiado grande aunque sea simplemente de grado 2."
   ]
  },
  {
   "cell_type": "markdown",
   "metadata": {},
   "source": [
    "Debido al tamaño del dataframe no podemos utilizar SVC así que intentaré aplicar un PCA y ver con cuántas columnas me quedo"
   ]
  },
  {
   "cell_type": "code",
   "execution_count": 34,
   "metadata": {},
   "outputs": [
    {
     "data": {
      "image/png": "[encoded data removed]",
      "text/plain": [
       "<Figure size 800x600 with 1 Axes>"
      ]
     },
     "metadata": {},
     "output_type": "display_data"
    },
    {
     "name": "stdout",
     "output_type": "stream",
     "text": [
      "El número óptimo de componentes es 33\n"
     ]
    }
   ],
   "source": [
    "import numpy as np\n",
    "import matplotlib.pyplot as plt\n",
    "from sklearn.decomposition import IncrementalPCA\n",
    "from sklearn.preprocessing import StandardScaler\n",
    "\n",
    "pca = IncrementalPCA(n_components=53) \n",
    "scaler = StandardScaler()\n",
    "\n",
    "explained_variance_ratio = []  \n",
    "\n",
    "for i in range(1, 8):\n",
    "    df_part = globals()[f'df_train_{i}']\n",
    "    X_part = df_part.drop(columns=['label'])  \n",
    "    X_train_scaled = scaler.fit_transform(X_part) if i == 1 else scaler.transform(X_part)  # Escalar\n",
    "    \n",
    "    pca.partial_fit(X_train_scaled)\n",
    "    \n",
    "    explained_variance_ratio.append(pca.explained_variance_ratio_)\n",
    "\n",
    "total_explained_variance = np.cumsum(pca.explained_variance_ratio_)\n",
    "\n",
    "plt.figure(figsize=(8, 6))\n",
    "plt.plot(range(1, len(total_explained_variance) + 1), total_explained_variance, marker='o', color='b')\n",
    "plt.title('Varianza Explicada Acumulada por Componentes Principales')\n",
    "plt.xlabel('Número de Componentes Principales')\n",
    "plt.ylabel('Varianza Explicada Acumulada')\n",
    "plt.grid(True)\n",
    "plt.show()\n",
    "\n",
    "# Puedes elegir cuántos componentes usar basado en la varianza explicada acumulada\n",
    "# Por ejemplo, si deseas que se explique al menos el 95% de la varianza\n",
    "n_components_opt = np.argmax(total_explained_variance >= 0.95) + 1  # Primer componente que llega al 95%\n",
    "print(f\"El número óptimo de componentes es {n_components_opt}\")\n"
   ]
  },
  {
   "cell_type": "code",
   "execution_count": 35,
   "metadata": {},
   "outputs": [],
   "source": [
    "# Generar un dataframes pca\n",
    "from sklearn.preprocessing import StandardScaler\n",
    "from sklearn.decomposition import PCA\n",
    "\n",
    "scaler = StandardScaler()\n",
    "n_components = 33  \n",
    "\n",
    "pca = PCA(n_components=n_components)\n",
    "\n",
    "for i in range(1,8):\n",
    "    data_train = globals()[f'df_train_{i}']\n",
    "    X_train = data_train.drop(columns=['label']).values\n",
    "    y_train = data_train['label'].values    \n",
    "\n",
    "    data_test = globals()[f'df_test_{i}']\n",
    "    X_test = data_test.drop(columns=['label']).values\n",
    "    y_test = data_test['label'].values\n",
    "\n",
    "    \n",
    "    X_train_pca = pca.fit_transform(X_train)\n",
    "    X_test_pca = pca.transform(X_test)\n",
    "\n",
    "\n",
    "    # Lo guardo en un DataFrame para usarlo luego\n",
    "    data_train_pca = pd.DataFrame(data=X_train_pca, columns=[f'PC{i}' for i in range(1, n_components+1)])\n",
    "    data_train_pca['label'] = y_train\n",
    "    globals()[f'df_train_{i}_pca'] = data_train_pca\n",
    "\n",
    "    data_test_pca = pd.DataFrame(data=X_test_pca, columns=[f'PC{i}' for i in range(1, n_components+1)])\n",
    "    data_test_pca['label'] = y_test\n",
    "    globals()[f'df_test_{i}_pca'] = data_test_pca"
   ]
  },
  {
   "cell_type": "code",
   "execution_count": 36,
   "metadata": {},
   "outputs": [],
   "source": [
    "from sklearn.linear_model import SGDRegressor\n",
    "from sklearn.preprocessing import PolynomialFeatures, StandardScaler\n",
    "\n",
    "degree = 2   # ESTE DATO TENEMOS QUE AJUSTARLO (define el grado del polinomio)\n",
    "\n",
    "model = SGDRegressor(max_iter=1, tol=None, warm_start=True)\n",
    "\n",
    "poly = PolynomialFeatures(degree)\n",
    "scaler = StandardScaler()\n",
    "\n",
    "for i in range(1, 8):\n",
    "    data_train = globals()[f'df_train_{i}_pca']\n",
    "    X_train = data_train.drop(columns=['label']).values\n",
    "    y_train = data_train['label'].values\n",
    "\n",
    "    X_train_poly = poly.fit_transform(X_train)  \n",
    "    if i == 1:\n",
    "        X_train_scaled = scaler.fit_transform(X_train_poly)  \n",
    "    else:\n",
    "        X_train_scaled = scaler.transform(X_train_poly) \n",
    "        \n",
    "    model.partial_fit(X_train_scaled, y_train)\n"
   ]
  },
  {
   "cell_type": "code",
   "execution_count": 37,
   "metadata": {},
   "outputs": [
    {
     "data": {
      "text/plain": [
       "['../data/models\\\\PolinomialRegression.joblib']"
      ]
     },
     "execution_count": 37,
     "metadata": {},
     "output_type": "execute_result"
    }
   ],
   "source": [
    "dir = \"../data/models\"\n",
    "model_path = os.path.join(dir, \"PolinomialRegression.joblib\")\n",
    "joblib.dump(model, model_path)"
   ]
  },
  {
   "cell_type": "markdown",
   "metadata": {},
   "source": [
    "##### Predicción"
   ]
  },
  {
   "cell_type": "code",
   "execution_count": 38,
   "metadata": {},
   "outputs": [],
   "source": [
    "# Cargar modelo de LogisticRegression\n",
    "model = joblib.load(\"../data/models/PolinomialRegression.joblib\")"
   ]
  },
  {
   "cell_type": "code",
   "execution_count": 26,
   "metadata": {},
   "outputs": [],
   "source": [
    "# from sklearn.preprocessing import PolynomialFeatures, StandardScaler\n",
    "\n",
    "\n",
    "# poly = PolynomialFeatures(degree)\n",
    "# scaler = StandardScaler()\n",
    "\n",
    "\n",
    "# for i in range(1, 8):\n",
    "#     data_train = globals()[f'df_train_{i}_pca']\n",
    "#     X_train = data_train.drop(columns=['label']).values\n",
    "#     y_train = data_train['label'].values\n",
    "\n",
    "#     data_test = globals()[f'df_test_{i}_pca']\n",
    "#     X_test = data_test.drop(columns=['label']).values\n",
    "#     y_test = data_test['label'].values\n",
    "\n",
    "#     X_test_poly = poly.fit_transform(X_test)\n",
    "#     X_train_poly = poly.fit_transform(X_train)  \n",
    "#     if i == 1:\n",
    "#         X_train_scaled = scaler.fit_transform(X_train_poly)  \n",
    "#         X_test_scaled = scaler.fit_transform(X_test_poly)\n",
    "#     else:\n",
    "#         X_train_scaled = scaler.transform(X_train_poly) \n",
    "#         X_test_scaled = scaler.transform(X_test_poly)\n",
    "\n",
    "#     data_train_poly = pd.DataFrame(data=X_train_scaled)\n",
    "#     data_train_poly['label'] = y_train\n",
    "#     globals()[f'df_train_{i}_pca_poly'] = data_train_poly\n",
    "\n",
    "#     data_test_poly = pd.DataFrame(data=X_test_scaled)\n",
    "#     data_test_poly['label'] = y_test\n",
    "#     globals()[f'df_test_{i}_pca_poly'] = data_test_poly\n"
   ]
  },
  {
   "cell_type": "code",
   "execution_count": 40,
   "metadata": {},
   "outputs": [
    {
     "ename": "ValueError",
     "evalue": "X has 54 features, but SGDRegressor is expecting 595 features as input.",
     "output_type": "error",
     "traceback": [
      "\u001b[1;31m---------------------------------------------------------------------------\u001b[0m",
      "\u001b[1;31mValueError\u001b[0m                                Traceback (most recent call last)",
      "Cell \u001b[1;32mIn[40], line 1\u001b[0m\n\u001b[1;32m----> 1\u001b[0m \u001b[43mprediction\u001b[49m\u001b[43m(\u001b[49m\u001b[43mmodel\u001b[49m\u001b[43m,\u001b[49m\u001b[43m \u001b[49m\u001b[38;5;124;43m'\u001b[39;49m\u001b[38;5;124;43mPolinomialRegression\u001b[39;49m\u001b[38;5;124;43m'\u001b[39;49m\u001b[43m)\u001b[49m\n",
      "Cell \u001b[1;32mIn[6], line 22\u001b[0m, in \u001b[0;36mprediction\u001b[1;34m(model, model_name, pca)\u001b[0m\n\u001b[0;32m     19\u001b[0m X_test \u001b[38;5;241m=\u001b[39m data_test\u001b[38;5;241m.\u001b[39mdrop(columns\u001b[38;5;241m=\u001b[39m[\u001b[38;5;124m'\u001b[39m\u001b[38;5;124mlabel\u001b[39m\u001b[38;5;124m'\u001b[39m])\u001b[38;5;241m.\u001b[39mvalues\n\u001b[0;32m     20\u001b[0m y_test \u001b[38;5;241m=\u001b[39m data_test[\u001b[38;5;124m'\u001b[39m\u001b[38;5;124mlabel\u001b[39m\u001b[38;5;124m'\u001b[39m]\u001b[38;5;241m.\u001b[39mvalues\n\u001b[1;32m---> 22\u001b[0m train_partition_results \u001b[38;5;241m=\u001b[39m \u001b[43mevaluate_model\u001b[49m\u001b[43m(\u001b[49m\u001b[43mX_train\u001b[49m\u001b[43m,\u001b[49m\u001b[43m \u001b[49m\u001b[43my_train\u001b[49m\u001b[43m,\u001b[49m\u001b[43m \u001b[49m\u001b[43mmodel\u001b[49m\u001b[43m,\u001b[49m\u001b[43m \u001b[49m\u001b[43mmodel_name\u001b[49m\u001b[43m)\u001b[49m\n\u001b[0;32m     23\u001b[0m results_list[\u001b[38;5;124m'\u001b[39m\u001b[38;5;124mtrain\u001b[39m\u001b[38;5;124m'\u001b[39m]\u001b[38;5;241m.\u001b[39mappend(train_partition_results)\n\u001b[0;32m     25\u001b[0m test_partition_results \u001b[38;5;241m=\u001b[39m evaluate_model(X_test, y_test, model, model_name)\n",
      "Cell \u001b[1;32mIn[5], line 4\u001b[0m, in \u001b[0;36mevaluate_model\u001b[1;34m(X, y, model, model_name)\u001b[0m\n\u001b[0;32m      2\u001b[0m \u001b[38;5;28;01mdef\u001b[39;00m \u001b[38;5;21mevaluate_model\u001b[39m(X, y, model, model_name):\n\u001b[1;32m----> 4\u001b[0m     raw_predictions \u001b[38;5;241m=\u001b[39m \u001b[43mmodel\u001b[49m\u001b[38;5;241;43m.\u001b[39;49m\u001b[43mpredict\u001b[49m\u001b[43m(\u001b[49m\u001b[43mX\u001b[49m\u001b[43m)\u001b[49m\n\u001b[0;32m      5\u001b[0m     \u001b[38;5;28;01mif\u001b[39;00m model_name \u001b[38;5;241m==\u001b[39m \u001b[38;5;124m'\u001b[39m\u001b[38;5;124mLinearRegression\u001b[39m\u001b[38;5;124m'\u001b[39m \u001b[38;5;129;01mor\u001b[39;00m model_name \u001b[38;5;241m==\u001b[39m \u001b[38;5;124m'\u001b[39m\u001b[38;5;124mPolinomialRegression\u001b[39m\u001b[38;5;124m'\u001b[39m \u001b[38;5;129;01mor\u001b[39;00m model_name \u001b[38;5;241m==\u001b[39m \u001b[38;5;124m'\u001b[39m\u001b[38;5;124mnew_LinearRegression\u001b[39m\u001b[38;5;124m'\u001b[39m:\n\u001b[0;32m      6\u001b[0m         predictions \u001b[38;5;241m=\u001b[39m [\u001b[38;5;28mround\u001b[39m(x) \u001b[38;5;28;01mfor\u001b[39;00m x \u001b[38;5;129;01min\u001b[39;00m raw_predictions]\n",
      "File \u001b[1;32mc:\\Users\\48726\\AppData\\Local\\Programs\\Python\\Python311\\Lib\\site-packages\\sklearn\\linear_model\\_stochastic_gradient.py:1658\u001b[0m, in \u001b[0;36mBaseSGDRegressor.predict\u001b[1;34m(self, X)\u001b[0m\n\u001b[0;32m   1645\u001b[0m \u001b[38;5;28;01mdef\u001b[39;00m \u001b[38;5;21mpredict\u001b[39m(\u001b[38;5;28mself\u001b[39m, X):\n\u001b[0;32m   1646\u001b[0m \u001b[38;5;250m    \u001b[39m\u001b[38;5;124;03m\"\"\"Predict using the linear model.\u001b[39;00m\n\u001b[0;32m   1647\u001b[0m \n\u001b[0;32m   1648\u001b[0m \u001b[38;5;124;03m    Parameters\u001b[39;00m\n\u001b[1;32m   (...)\u001b[0m\n\u001b[0;32m   1656\u001b[0m \u001b[38;5;124;03m       Predicted target values per element in X.\u001b[39;00m\n\u001b[0;32m   1657\u001b[0m \u001b[38;5;124;03m    \"\"\"\u001b[39;00m\n\u001b[1;32m-> 1658\u001b[0m     \u001b[38;5;28;01mreturn\u001b[39;00m \u001b[38;5;28;43mself\u001b[39;49m\u001b[38;5;241;43m.\u001b[39;49m\u001b[43m_decision_function\u001b[49m\u001b[43m(\u001b[49m\u001b[43mX\u001b[49m\u001b[43m)\u001b[49m\n",
      "File \u001b[1;32mc:\\Users\\48726\\AppData\\Local\\Programs\\Python\\Python311\\Lib\\site-packages\\sklearn\\linear_model\\_stochastic_gradient.py:1640\u001b[0m, in \u001b[0;36mBaseSGDRegressor._decision_function\u001b[1;34m(self, X)\u001b[0m\n\u001b[0;32m   1627\u001b[0m \u001b[38;5;250m\u001b[39m\u001b[38;5;124;03m\"\"\"Predict using the linear model\u001b[39;00m\n\u001b[0;32m   1628\u001b[0m \n\u001b[0;32m   1629\u001b[0m \u001b[38;5;124;03mParameters\u001b[39;00m\n\u001b[1;32m   (...)\u001b[0m\n\u001b[0;32m   1636\u001b[0m \u001b[38;5;124;03m   Predicted target values per element in X.\u001b[39;00m\n\u001b[0;32m   1637\u001b[0m \u001b[38;5;124;03m\"\"\"\u001b[39;00m\n\u001b[0;32m   1638\u001b[0m check_is_fitted(\u001b[38;5;28mself\u001b[39m)\n\u001b[1;32m-> 1640\u001b[0m X \u001b[38;5;241m=\u001b[39m \u001b[38;5;28;43mself\u001b[39;49m\u001b[38;5;241;43m.\u001b[39;49m\u001b[43m_validate_data\u001b[49m\u001b[43m(\u001b[49m\u001b[43mX\u001b[49m\u001b[43m,\u001b[49m\u001b[43m \u001b[49m\u001b[43maccept_sparse\u001b[49m\u001b[38;5;241;43m=\u001b[39;49m\u001b[38;5;124;43m\"\u001b[39;49m\u001b[38;5;124;43mcsr\u001b[39;49m\u001b[38;5;124;43m\"\u001b[39;49m\u001b[43m,\u001b[49m\u001b[43m \u001b[49m\u001b[43mreset\u001b[49m\u001b[38;5;241;43m=\u001b[39;49m\u001b[38;5;28;43;01mFalse\u001b[39;49;00m\u001b[43m)\u001b[49m\n\u001b[0;32m   1642\u001b[0m scores \u001b[38;5;241m=\u001b[39m safe_sparse_dot(X, \u001b[38;5;28mself\u001b[39m\u001b[38;5;241m.\u001b[39mcoef_\u001b[38;5;241m.\u001b[39mT, dense_output\u001b[38;5;241m=\u001b[39m\u001b[38;5;28;01mTrue\u001b[39;00m) \u001b[38;5;241m+\u001b[39m \u001b[38;5;28mself\u001b[39m\u001b[38;5;241m.\u001b[39mintercept_\n\u001b[0;32m   1643\u001b[0m \u001b[38;5;28;01mreturn\u001b[39;00m scores\u001b[38;5;241m.\u001b[39mravel()\n",
      "File \u001b[1;32mc:\\Users\\48726\\AppData\\Local\\Programs\\Python\\Python311\\Lib\\site-packages\\sklearn\\base.py:654\u001b[0m, in \u001b[0;36mBaseEstimator._validate_data\u001b[1;34m(self, X, y, reset, validate_separately, cast_to_ndarray, **check_params)\u001b[0m\n\u001b[0;32m    651\u001b[0m     out \u001b[38;5;241m=\u001b[39m X, y\n\u001b[0;32m    653\u001b[0m \u001b[38;5;28;01mif\u001b[39;00m \u001b[38;5;129;01mnot\u001b[39;00m no_val_X \u001b[38;5;129;01mand\u001b[39;00m check_params\u001b[38;5;241m.\u001b[39mget(\u001b[38;5;124m\"\u001b[39m\u001b[38;5;124mensure_2d\u001b[39m\u001b[38;5;124m\"\u001b[39m, \u001b[38;5;28;01mTrue\u001b[39;00m):\n\u001b[1;32m--> 654\u001b[0m     \u001b[38;5;28;43mself\u001b[39;49m\u001b[38;5;241;43m.\u001b[39;49m\u001b[43m_check_n_features\u001b[49m\u001b[43m(\u001b[49m\u001b[43mX\u001b[49m\u001b[43m,\u001b[49m\u001b[43m \u001b[49m\u001b[43mreset\u001b[49m\u001b[38;5;241;43m=\u001b[39;49m\u001b[43mreset\u001b[49m\u001b[43m)\u001b[49m\n\u001b[0;32m    656\u001b[0m \u001b[38;5;28;01mreturn\u001b[39;00m out\n",
      "File \u001b[1;32mc:\\Users\\48726\\AppData\\Local\\Programs\\Python\\Python311\\Lib\\site-packages\\sklearn\\base.py:443\u001b[0m, in \u001b[0;36mBaseEstimator._check_n_features\u001b[1;34m(self, X, reset)\u001b[0m\n\u001b[0;32m    440\u001b[0m     \u001b[38;5;28;01mreturn\u001b[39;00m\n\u001b[0;32m    442\u001b[0m \u001b[38;5;28;01mif\u001b[39;00m n_features \u001b[38;5;241m!=\u001b[39m \u001b[38;5;28mself\u001b[39m\u001b[38;5;241m.\u001b[39mn_features_in_:\n\u001b[1;32m--> 443\u001b[0m     \u001b[38;5;28;01mraise\u001b[39;00m \u001b[38;5;167;01mValueError\u001b[39;00m(\n\u001b[0;32m    444\u001b[0m         \u001b[38;5;124mf\u001b[39m\u001b[38;5;124m\"\u001b[39m\u001b[38;5;124mX has \u001b[39m\u001b[38;5;132;01m{\u001b[39;00mn_features\u001b[38;5;132;01m}\u001b[39;00m\u001b[38;5;124m features, but \u001b[39m\u001b[38;5;132;01m{\u001b[39;00m\u001b[38;5;28mself\u001b[39m\u001b[38;5;241m.\u001b[39m\u001b[38;5;18m__class__\u001b[39m\u001b[38;5;241m.\u001b[39m\u001b[38;5;18m__name__\u001b[39m\u001b[38;5;132;01m}\u001b[39;00m\u001b[38;5;124m \u001b[39m\u001b[38;5;124m\"\u001b[39m\n\u001b[0;32m    445\u001b[0m         \u001b[38;5;124mf\u001b[39m\u001b[38;5;124m\"\u001b[39m\u001b[38;5;124mis expecting \u001b[39m\u001b[38;5;132;01m{\u001b[39;00m\u001b[38;5;28mself\u001b[39m\u001b[38;5;241m.\u001b[39mn_features_in_\u001b[38;5;132;01m}\u001b[39;00m\u001b[38;5;124m features as input.\u001b[39m\u001b[38;5;124m\"\u001b[39m\n\u001b[0;32m    446\u001b[0m     )\n",
      "\u001b[1;31mValueError\u001b[0m: X has 54 features, but SGDRegressor is expecting 595 features as input."
     ]
    }
   ],
   "source": [
    "prediction(model, 'PolinomialRegression')"
   ]
  },
  {
   "cell_type": "code",
   "execution_count": null,
   "metadata": {},
   "outputs": [
    {
     "data": {
      "image/png": "[encoded data removed]",
      "text/plain": [
       "<Figure size 1000x600 with 1 Axes>"
      ]
     },
     "metadata": {},
     "output_type": "display_data"
    }
   ],
   "source": [
    "plot_results('PolinomialRegression')"
   ]
  },
  {
   "cell_type": "markdown",
   "metadata": {},
   "source": [
    "### Regresión Logística: DONE"
   ]
  },
  {
   "cell_type": "markdown",
   "metadata": {},
   "source": [
    "##### Entrenamiento"
   ]
  },
  {
   "cell_type": "markdown",
   "metadata": {},
   "source": [
    "Como LinearRegression no permite un entrenamiento por partes, usamos SGDClasifier en su lugar con \"loss='log'\" para realizar una clasificación utilizando el algoritmo de gradiente descendente estocástico."
   ]
  },
  {
   "cell_type": "code",
   "execution_count": 24,
   "metadata": {},
   "outputs": [],
   "source": [
    "model = SGDClassifier(loss='log_loss', random_state=42)\n",
    "\n",
    "for i in range(1, 8):\n",
    "    data_train = globals()[f'df_train_{i}']\n",
    "    X_train = data_train.drop(columns=['label']).values\n",
    "    y_train = data_train['label'].values\n",
    "\n",
    "    model.partial_fit(X_train, y_train, classes=np.unique(y_train))\n"
   ]
  },
  {
   "cell_type": "code",
   "execution_count": 25,
   "metadata": {},
   "outputs": [
    {
     "data": {
      "text/plain": [
       "['../data/models\\\\LogisticRegression.joblib']"
      ]
     },
     "execution_count": 25,
     "metadata": {},
     "output_type": "execute_result"
    }
   ],
   "source": [
    "dir = \"../data/models\"\n",
    "model_path = os.path.join(dir, \"LogisticRegression.joblib\")\n",
    "joblib.dump(model, model_path)\n"
   ]
  },
  {
   "cell_type": "markdown",
   "metadata": {},
   "source": [
    "##### Predicción"
   ]
  },
  {
   "cell_type": "code",
   "execution_count": 41,
   "metadata": {},
   "outputs": [
    {
     "name": "stderr",
     "output_type": "stream",
     "text": [
      "c:\\Users\\48726\\AppData\\Local\\Programs\\Python\\Python311\\Lib\\site-packages\\sklearn\\base.py:376: InconsistentVersionWarning: Trying to unpickle estimator SGDClassifier from version 1.5.2 when using version 1.4.2. This might lead to breaking code or invalid results. Use at your own risk. For more info please refer to:\n",
      "https://scikit-learn.org/stable/model_persistence.html#security-maintainability-limitations\n",
      "  warnings.warn(\n"
     ]
    }
   ],
   "source": [
    "# Cargar modelo de LogisticRegression\n",
    "model = joblib.load(\"../data/models/LogisticRegression.joblib\")"
   ]
  },
  {
   "cell_type": "code",
   "execution_count": 42,
   "metadata": {},
   "outputs": [],
   "source": [
    "prediction(model, 'LogisticRegression')"
   ]
  },
  {
   "cell_type": "code",
   "execution_count": 43,
   "metadata": {},
   "outputs": [
    {
     "data": {
      "image/png": "[encoded data removed]",
      "text/plain": [
       "<Figure size 1000x600 with 1 Axes>"
      ]
     },
     "metadata": {},
     "output_type": "display_data"
    }
   ],
   "source": [
    "plot_results('LogisticRegression')"
   ]
  },
  {
   "cell_type": "markdown",
   "metadata": {},
   "source": [
    "### Árboles de decisión: NO SÉ SI ESTÁ BIEN HECHO"
   ]
  },
  {
   "cell_type": "markdown",
   "metadata": {},
   "source": [
    "Se recomienda hacer un PCA cuando tenemos alta dimensionalidad"
   ]
  },
  {
   "cell_type": "code",
   "execution_count": 104,
   "metadata": {},
   "outputs": [],
   "source": [
    "for i in range(1,8):\n",
    "    data_train = globals()[f'df_train_{i}']\n",
    "    X_train = data_train.drop(columns=['label']).values\n",
    "    y_train = data_train['label'].values    \n",
    "\n",
    "    data_test = globals()[f'df_test_{i}']\n",
    "    X_test = data_test.drop(columns=['label']).values\n",
    "    y_test = data_test['label'].values\n",
    "\n",
    "    # Aplicar PCA para reducir la dimensionalidad\n",
    "    n_components = 2  # DATO AJUSTABLE\n",
    "    pca = PCA(n_components=n_components)\n",
    "    X_train_pca = pca.fit_transform(X_train)\n",
    "    X_test_pca = pca.transform(X_test)\n",
    "\n",
    "    # Lo guardo en un DataFrame para usarlo luego\n",
    "    data_train_pca = pd.DataFrame(data=X_train_pca, columns=[f'PC{i}' for i in range(1, n_components+1)])\n",
    "    data_train_pca['label'] = y_train\n",
    "    globals()[f'df_train_{i}_pca'] = data_train_pca\n",
    "\n",
    "    data_test_pca = pd.DataFrame(data=X_test_pca, columns=[f'PC{i}' for i in range(1, n_components+1)])\n",
    "    data_test_pca['label'] = y_test\n",
    "    globals()[f'df_test_{i}_pca'] = data_test_pca"
   ]
  },
  {
   "cell_type": "markdown",
   "metadata": {},
   "source": [
    "##### Entrenamiento"
   ]
  },
  {
   "cell_type": "markdown",
   "metadata": {},
   "source": [
    "Los árboles de decisión no soportan partial_fit() así que optamos por generar un árbol para cada partición y luego aplicar un ensemble"
   ]
  },
  {
   "cell_type": "markdown",
   "metadata": {},
   "source": [
    "<i>\"Para la clasificación con pocas clases, min_samples_leaf=1 suele ser la mejor opción.\n",
    "\"</i>\n",
    "<br> <br><i>\"Podemos empezar con min_muestras_hoja=5 como valor inicial. Si el tamaño de la muestra varía mucho, se puede utilizar un número flotante como\n",
    "porcentaje en estos dos parámetros.\"</i>"
   ]
  },
  {
   "cell_type": "markdown",
   "metadata": {},
   "source": [
    "VotingClassifier -> hace una \"votación por mayoría\" de los árboles por separado para obtener la predicción final. \"soft\" indica que utiliza el promedio de probabilidades en lugar de la mayoría de votos"
   ]
  },
  {
   "cell_type": "code",
   "execution_count": 121,
   "metadata": {},
   "outputs": [],
   "source": [
    "models = []\n",
    "\n",
    "for i in range(1, 8):\n",
    "    data_frame = globals()[f'df_train_{i}']\n",
    "    X_batch = data_frame.drop(columns=['label']).values\n",
    "    y_batch = data_frame['label'].values\n",
    "\n",
    "    # Entrenar un modelo individual para cada partición !!!!!!\n",
    "    model = DecisionTreeClassifier(max_depth=3, min_samples_leaf=1)\n",
    "    model.fit(X_batch, y_batch)\n",
    "    models.append((f'model_{i}', model))\n",
    "\n",
    "# Hacer el ensemble\n",
    "ensemble_model = VotingClassifier(estimators=models, voting='soft')\n"
   ]
  },
  {
   "cell_type": "markdown",
   "metadata": {},
   "source": [
    "No sé para qué hago esto si me obliga luego a entrenarlo con todos los datos duh"
   ]
  },
  {
   "cell_type": "code",
   "execution_count": 122,
   "metadata": {},
   "outputs": [
    {
     "data": {
      "text/html": [
       "<style>#sk-container-id-2 {\n",
       "  /* Definition of color scheme common for light and dark mode */\n",
       "  --sklearn-color-text: black;\n",
       "  --sklearn-color-line: gray;\n",
       "  /* Definition of color scheme for unfitted estimators */\n",
       "  --sklearn-color-unfitted-level-0: #fff5e6;\n",
       "  --sklearn-color-unfitted-level-1: #f6e4d2;\n",
       "  --sklearn-color-unfitted-level-2: #ffe0b3;\n",
       "  --sklearn-color-unfitted-level-3: chocolate;\n",
       "  /* Definition of color scheme for fitted estimators */\n",
       "  --sklearn-color-fitted-level-0: #f0f8ff;\n",
       "  --sklearn-color-fitted-level-1: #d4ebff;\n",
       "  --sklearn-color-fitted-level-2: #b3dbfd;\n",
       "  --sklearn-color-fitted-level-3: cornflowerblue;\n",
       "\n",
       "  /* Specific color for light theme */\n",
       "  --sklearn-color-text-on-default-background: var(--sg-text-color, var(--theme-code-foreground, var(--jp-content-font-color1, black)));\n",
       "  --sklearn-color-background: var(--sg-background-color, var(--theme-background, var(--jp-layout-color0, white)));\n",
       "  --sklearn-color-border-box: var(--sg-text-color, var(--theme-code-foreground, var(--jp-content-font-color1, black)));\n",
       "  --sklearn-color-icon: #696969;\n",
       "\n",
       "  @media (prefers-color-scheme: dark) {\n",
       "    /* Redefinition of color scheme for dark theme */\n",
       "    --sklearn-color-text-on-default-background: var(--sg-text-color, var(--theme-code-foreground, var(--jp-content-font-color1, white)));\n",
       "    --sklearn-color-background: var(--sg-background-color, var(--theme-background, var(--jp-layout-color0, #111)));\n",
       "    --sklearn-color-border-box: var(--sg-text-color, var(--theme-code-foreground, var(--jp-content-font-color1, white)));\n",
       "    --sklearn-color-icon: #878787;\n",
       "  }\n",
       "}\n",
       "\n",
       "#sk-container-id-2 {\n",
       "  color: var(--sklearn-color-text);\n",
       "}\n",
       "\n",
       "#sk-container-id-2 pre {\n",
       "  padding: 0;\n",
       "}\n",
       "\n",
       "#sk-container-id-2 input.sk-hidden--visually {\n",
       "  border: 0;\n",
       "  clip: rect(1px 1px 1px 1px);\n",
       "  clip: rect(1px, 1px, 1px, 1px);\n",
       "  height: 1px;\n",
       "  margin: -1px;\n",
       "  overflow: hidden;\n",
       "  padding: 0;\n",
       "  position: absolute;\n",
       "  width: 1px;\n",
       "}\n",
       "\n",
       "#sk-container-id-2 div.sk-dashed-wrapped {\n",
       "  border: 1px dashed var(--sklearn-color-line);\n",
       "  margin: 0 0.4em 0.5em 0.4em;\n",
       "  box-sizing: border-box;\n",
       "  padding-bottom: 0.4em;\n",
       "  background-color: var(--sklearn-color-background);\n",
       "}\n",
       "\n",
       "#sk-container-id-2 div.sk-container {\n",
       "  /* jupyter's `normalize.less` sets `[hidden] { display: none; }`\n",
       "     but bootstrap.min.css set `[hidden] { display: none !important; }`\n",
       "     so we also need the `!important` here to be able to override the\n",
       "     default hidden behavior on the sphinx rendered scikit-learn.org.\n",
       "     See: https://github.com/scikit-learn/scikit-learn/issues/21755 */\n",
       "  display: inline-block !important;\n",
       "  position: relative;\n",
       "}\n",
       "\n",
       "#sk-container-id-2 div.sk-text-repr-fallback {\n",
       "  display: none;\n",
       "}\n",
       "\n",
       "div.sk-parallel-item,\n",
       "div.sk-serial,\n",
       "div.sk-item {\n",
       "  /* draw centered vertical line to link estimators */\n",
       "  background-image: linear-gradient(var(--sklearn-color-text-on-default-background), var(--sklearn-color-text-on-default-background));\n",
       "  background-size: 2px 100%;\n",
       "  background-repeat: no-repeat;\n",
       "  background-position: center center;\n",
       "}\n",
       "\n",
       "/* Parallel-specific style estimator block */\n",
       "\n",
       "#sk-container-id-2 div.sk-parallel-item::after {\n",
       "  content: \"\";\n",
       "  width: 100%;\n",
       "  border-bottom: 2px solid var(--sklearn-color-text-on-default-background);\n",
       "  flex-grow: 1;\n",
       "}\n",
       "\n",
       "#sk-container-id-2 div.sk-parallel {\n",
       "  display: flex;\n",
       "  align-items: stretch;\n",
       "  justify-content: center;\n",
       "  background-color: var(--sklearn-color-background);\n",
       "  position: relative;\n",
       "}\n",
       "\n",
       "#sk-container-id-2 div.sk-parallel-item {\n",
       "  display: flex;\n",
       "  flex-direction: column;\n",
       "}\n",
       "\n",
       "#sk-container-id-2 div.sk-parallel-item:first-child::after {\n",
       "  align-self: flex-end;\n",
       "  width: 50%;\n",
       "}\n",
       "\n",
       "#sk-container-id-2 div.sk-parallel-item:last-child::after {\n",
       "  align-self: flex-start;\n",
       "  width: 50%;\n",
       "}\n",
       "\n",
       "#sk-container-id-2 div.sk-parallel-item:only-child::after {\n",
       "  width: 0;\n",
       "}\n",
       "\n",
       "/* Serial-specific style estimator block */\n",
       "\n",
       "#sk-container-id-2 div.sk-serial {\n",
       "  display: flex;\n",
       "  flex-direction: column;\n",
       "  align-items: center;\n",
       "  background-color: var(--sklearn-color-background);\n",
       "  padding-right: 1em;\n",
       "  padding-left: 1em;\n",
       "}\n",
       "\n",
       "\n",
       "/* Toggleable style: style used for estimator/Pipeline/ColumnTransformer box that is\n",
       "clickable and can be expanded/collapsed.\n",
       "- Pipeline and ColumnTransformer use this feature and define the default style\n",
       "- Estimators will overwrite some part of the style using the `sk-estimator` class\n",
       "*/\n",
       "\n",
       "/* Pipeline and ColumnTransformer style (default) */\n",
       "\n",
       "#sk-container-id-2 div.sk-toggleable {\n",
       "  /* Default theme specific background. It is overwritten whether we have a\n",
       "  specific estimator or a Pipeline/ColumnTransformer */\n",
       "  background-color: var(--sklearn-color-background);\n",
       "}\n",
       "\n",
       "/* Toggleable label */\n",
       "#sk-container-id-2 label.sk-toggleable__label {\n",
       "  cursor: pointer;\n",
       "  display: block;\n",
       "  width: 100%;\n",
       "  margin-bottom: 0;\n",
       "  padding: 0.5em;\n",
       "  box-sizing: border-box;\n",
       "  text-align: center;\n",
       "}\n",
       "\n",
       "#sk-container-id-2 label.sk-toggleable__label-arrow:before {\n",
       "  /* Arrow on the left of the label */\n",
       "  content: \"▸\";\n",
       "  float: left;\n",
       "  margin-right: 0.25em;\n",
       "  color: var(--sklearn-color-icon);\n",
       "}\n",
       "\n",
       "#sk-container-id-2 label.sk-toggleable__label-arrow:hover:before {\n",
       "  color: var(--sklearn-color-text);\n",
       "}\n",
       "\n",
       "/* Toggleable content - dropdown */\n",
       "\n",
       "#sk-container-id-2 div.sk-toggleable__content {\n",
       "  max-height: 0;\n",
       "  max-width: 0;\n",
       "  overflow: hidden;\n",
       "  text-align: left;\n",
       "  /* unfitted */\n",
       "  background-color: var(--sklearn-color-unfitted-level-0);\n",
       "}\n",
       "\n",
       "#sk-container-id-2 div.sk-toggleable__content.fitted {\n",
       "  /* fitted */\n",
       "  background-color: var(--sklearn-color-fitted-level-0);\n",
       "}\n",
       "\n",
       "#sk-container-id-2 div.sk-toggleable__content pre {\n",
       "  margin: 0.2em;\n",
       "  border-radius: 0.25em;\n",
       "  color: var(--sklearn-color-text);\n",
       "  /* unfitted */\n",
       "  background-color: var(--sklearn-color-unfitted-level-0);\n",
       "}\n",
       "\n",
       "#sk-container-id-2 div.sk-toggleable__content.fitted pre {\n",
       "  /* unfitted */\n",
       "  background-color: var(--sklearn-color-fitted-level-0);\n",
       "}\n",
       "\n",
       "#sk-container-id-2 input.sk-toggleable__control:checked~div.sk-toggleable__content {\n",
       "  /* Expand drop-down */\n",
       "  max-height: 200px;\n",
       "  max-width: 100%;\n",
       "  overflow: auto;\n",
       "}\n",
       "\n",
       "#sk-container-id-2 input.sk-toggleable__control:checked~label.sk-toggleable__label-arrow:before {\n",
       "  content: \"▾\";\n",
       "}\n",
       "\n",
       "/* Pipeline/ColumnTransformer-specific style */\n",
       "\n",
       "#sk-container-id-2 div.sk-label input.sk-toggleable__control:checked~label.sk-toggleable__label {\n",
       "  color: var(--sklearn-color-text);\n",
       "  background-color: var(--sklearn-color-unfitted-level-2);\n",
       "}\n",
       "\n",
       "#sk-container-id-2 div.sk-label.fitted input.sk-toggleable__control:checked~label.sk-toggleable__label {\n",
       "  background-color: var(--sklearn-color-fitted-level-2);\n",
       "}\n",
       "\n",
       "/* Estimator-specific style */\n",
       "\n",
       "/* Colorize estimator box */\n",
       "#sk-container-id-2 div.sk-estimator input.sk-toggleable__control:checked~label.sk-toggleable__label {\n",
       "  /* unfitted */\n",
       "  background-color: var(--sklearn-color-unfitted-level-2);\n",
       "}\n",
       "\n",
       "#sk-container-id-2 div.sk-estimator.fitted input.sk-toggleable__control:checked~label.sk-toggleable__label {\n",
       "  /* fitted */\n",
       "  background-color: var(--sklearn-color-fitted-level-2);\n",
       "}\n",
       "\n",
       "#sk-container-id-2 div.sk-label label.sk-toggleable__label,\n",
       "#sk-container-id-2 div.sk-label label {\n",
       "  /* The background is the default theme color */\n",
       "  color: var(--sklearn-color-text-on-default-background);\n",
       "}\n",
       "\n",
       "/* On hover, darken the color of the background */\n",
       "#sk-container-id-2 div.sk-label:hover label.sk-toggleable__label {\n",
       "  color: var(--sklearn-color-text);\n",
       "  background-color: var(--sklearn-color-unfitted-level-2);\n",
       "}\n",
       "\n",
       "/* Label box, darken color on hover, fitted */\n",
       "#sk-container-id-2 div.sk-label.fitted:hover label.sk-toggleable__label.fitted {\n",
       "  color: var(--sklearn-color-text);\n",
       "  background-color: var(--sklearn-color-fitted-level-2);\n",
       "}\n",
       "\n",
       "/* Estimator label */\n",
       "\n",
       "#sk-container-id-2 div.sk-label label {\n",
       "  font-family: monospace;\n",
       "  font-weight: bold;\n",
       "  display: inline-block;\n",
       "  line-height: 1.2em;\n",
       "}\n",
       "\n",
       "#sk-container-id-2 div.sk-label-container {\n",
       "  text-align: center;\n",
       "}\n",
       "\n",
       "/* Estimator-specific */\n",
       "#sk-container-id-2 div.sk-estimator {\n",
       "  font-family: monospace;\n",
       "  border: 1px dotted var(--sklearn-color-border-box);\n",
       "  border-radius: 0.25em;\n",
       "  box-sizing: border-box;\n",
       "  margin-bottom: 0.5em;\n",
       "  /* unfitted */\n",
       "  background-color: var(--sklearn-color-unfitted-level-0);\n",
       "}\n",
       "\n",
       "#sk-container-id-2 div.sk-estimator.fitted {\n",
       "  /* fitted */\n",
       "  background-color: var(--sklearn-color-fitted-level-0);\n",
       "}\n",
       "\n",
       "/* on hover */\n",
       "#sk-container-id-2 div.sk-estimator:hover {\n",
       "  /* unfitted */\n",
       "  background-color: var(--sklearn-color-unfitted-level-2);\n",
       "}\n",
       "\n",
       "#sk-container-id-2 div.sk-estimator.fitted:hover {\n",
       "  /* fitted */\n",
       "  background-color: var(--sklearn-color-fitted-level-2);\n",
       "}\n",
       "\n",
       "/* Specification for estimator info (e.g. \"i\" and \"?\") */\n",
       "\n",
       "/* Common style for \"i\" and \"?\" */\n",
       "\n",
       ".sk-estimator-doc-link,\n",
       "a:link.sk-estimator-doc-link,\n",
       "a:visited.sk-estimator-doc-link {\n",
       "  float: right;\n",
       "  font-size: smaller;\n",
       "  line-height: 1em;\n",
       "  font-family: monospace;\n",
       "  background-color: var(--sklearn-color-background);\n",
       "  border-radius: 1em;\n",
       "  height: 1em;\n",
       "  width: 1em;\n",
       "  text-decoration: none !important;\n",
       "  margin-left: 1ex;\n",
       "  /* unfitted */\n",
       "  border: var(--sklearn-color-unfitted-level-1) 1pt solid;\n",
       "  color: var(--sklearn-color-unfitted-level-1);\n",
       "}\n",
       "\n",
       ".sk-estimator-doc-link.fitted,\n",
       "a:link.sk-estimator-doc-link.fitted,\n",
       "a:visited.sk-estimator-doc-link.fitted {\n",
       "  /* fitted */\n",
       "  border: var(--sklearn-color-fitted-level-1) 1pt solid;\n",
       "  color: var(--sklearn-color-fitted-level-1);\n",
       "}\n",
       "\n",
       "/* On hover */\n",
       "div.sk-estimator:hover .sk-estimator-doc-link:hover,\n",
       ".sk-estimator-doc-link:hover,\n",
       "div.sk-label-container:hover .sk-estimator-doc-link:hover,\n",
       ".sk-estimator-doc-link:hover {\n",
       "  /* unfitted */\n",
       "  background-color: var(--sklearn-color-unfitted-level-3);\n",
       "  color: var(--sklearn-color-background);\n",
       "  text-decoration: none;\n",
       "}\n",
       "\n",
       "div.sk-estimator.fitted:hover .sk-estimator-doc-link.fitted:hover,\n",
       ".sk-estimator-doc-link.fitted:hover,\n",
       "div.sk-label-container:hover .sk-estimator-doc-link.fitted:hover,\n",
       ".sk-estimator-doc-link.fitted:hover {\n",
       "  /* fitted */\n",
       "  background-color: var(--sklearn-color-fitted-level-3);\n",
       "  color: var(--sklearn-color-background);\n",
       "  text-decoration: none;\n",
       "}\n",
       "\n",
       "/* Span, style for the box shown on hovering the info icon */\n",
       ".sk-estimator-doc-link span {\n",
       "  display: none;\n",
       "  z-index: 9999;\n",
       "  position: relative;\n",
       "  font-weight: normal;\n",
       "  right: .2ex;\n",
       "  padding: .5ex;\n",
       "  margin: .5ex;\n",
       "  width: min-content;\n",
       "  min-width: 20ex;\n",
       "  max-width: 50ex;\n",
       "  color: var(--sklearn-color-text);\n",
       "  box-shadow: 2pt 2pt 4pt #999;\n",
       "  /* unfitted */\n",
       "  background: var(--sklearn-color-unfitted-level-0);\n",
       "  border: .5pt solid var(--sklearn-color-unfitted-level-3);\n",
       "}\n",
       "\n",
       ".sk-estimator-doc-link.fitted span {\n",
       "  /* fitted */\n",
       "  background: var(--sklearn-color-fitted-level-0);\n",
       "  border: var(--sklearn-color-fitted-level-3);\n",
       "}\n",
       "\n",
       ".sk-estimator-doc-link:hover span {\n",
       "  display: block;\n",
       "}\n",
       "\n",
       "/* \"?\"-specific style due to the `<a>` HTML tag */\n",
       "\n",
       "#sk-container-id-2 a.estimator_doc_link {\n",
       "  float: right;\n",
       "  font-size: 1rem;\n",
       "  line-height: 1em;\n",
       "  font-family: monospace;\n",
       "  background-color: var(--sklearn-color-background);\n",
       "  border-radius: 1rem;\n",
       "  height: 1rem;\n",
       "  width: 1rem;\n",
       "  text-decoration: none;\n",
       "  /* unfitted */\n",
       "  color: var(--sklearn-color-unfitted-level-1);\n",
       "  border: var(--sklearn-color-unfitted-level-1) 1pt solid;\n",
       "}\n",
       "\n",
       "#sk-container-id-2 a.estimator_doc_link.fitted {\n",
       "  /* fitted */\n",
       "  border: var(--sklearn-color-fitted-level-1) 1pt solid;\n",
       "  color: var(--sklearn-color-fitted-level-1);\n",
       "}\n",
       "\n",
       "/* On hover */\n",
       "#sk-container-id-2 a.estimator_doc_link:hover {\n",
       "  /* unfitted */\n",
       "  background-color: var(--sklearn-color-unfitted-level-3);\n",
       "  color: var(--sklearn-color-background);\n",
       "  text-decoration: none;\n",
       "}\n",
       "\n",
       "#sk-container-id-2 a.estimator_doc_link.fitted:hover {\n",
       "  /* fitted */\n",
       "  background-color: var(--sklearn-color-fitted-level-3);\n",
       "}\n",
       "</style><div id=\"sk-container-id-2\" class=\"sk-top-container\"><div class=\"sk-text-repr-fallback\"><pre>VotingClassifier(estimators=[(&#x27;model_1&#x27;, DecisionTreeClassifier(max_depth=3)),\n",
       "                             (&#x27;model_2&#x27;, DecisionTreeClassifier(max_depth=3)),\n",
       "                             (&#x27;model_3&#x27;, DecisionTreeClassifier(max_depth=3)),\n",
       "                             (&#x27;model_4&#x27;, DecisionTreeClassifier(max_depth=3)),\n",
       "                             (&#x27;model_5&#x27;, DecisionTreeClassifier(max_depth=3)),\n",
       "                             (&#x27;model_6&#x27;, DecisionTreeClassifier(max_depth=3)),\n",
       "                             (&#x27;model_7&#x27;, DecisionTreeClassifier(max_depth=3))],\n",
       "                 voting=&#x27;soft&#x27;)</pre><b>In a Jupyter environment, please rerun this cell to show the HTML representation or trust the notebook. <br />On GitHub, the HTML representation is unable to render, please try loading this page with nbviewer.org.</b></div><div class=\"sk-container\" hidden><div class=\"sk-item sk-dashed-wrapped\"><div class=\"sk-label-container\"><div class=\"sk-label fitted sk-toggleable\"><input class=\"sk-toggleable__control sk-hidden--visually\" id=\"sk-estimator-id-9\" type=\"checkbox\" ><label for=\"sk-estimator-id-9\" class=\"sk-toggleable__label fitted sk-toggleable__label-arrow fitted\">&nbsp;&nbsp;VotingClassifier<a class=\"sk-estimator-doc-link fitted\" rel=\"noreferrer\" target=\"_blank\" href=\"https://scikit-learn.org/1.5/modules/generated/sklearn.ensemble.VotingClassifier.html\">?<span>Documentation for VotingClassifier</span></a><span class=\"sk-estimator-doc-link fitted\">i<span>Fitted</span></span></label><div class=\"sk-toggleable__content fitted\"><pre>VotingClassifier(estimators=[(&#x27;model_1&#x27;, DecisionTreeClassifier(max_depth=3)),\n",
       "                             (&#x27;model_2&#x27;, DecisionTreeClassifier(max_depth=3)),\n",
       "                             (&#x27;model_3&#x27;, DecisionTreeClassifier(max_depth=3)),\n",
       "                             (&#x27;model_4&#x27;, DecisionTreeClassifier(max_depth=3)),\n",
       "                             (&#x27;model_5&#x27;, DecisionTreeClassifier(max_depth=3)),\n",
       "                             (&#x27;model_6&#x27;, DecisionTreeClassifier(max_depth=3)),\n",
       "                             (&#x27;model_7&#x27;, DecisionTreeClassifier(max_depth=3))],\n",
       "                 voting=&#x27;soft&#x27;)</pre></div> </div></div><div class=\"sk-parallel\"><div class=\"sk-parallel-item\"><div class=\"sk-item\"><div class=\"sk-label-container\"><div class=\"sk-label fitted sk-toggleable\"><label>model_1</label></div></div><div class=\"sk-serial\"><div class=\"sk-item\"><div class=\"sk-estimator fitted sk-toggleable\"><input class=\"sk-toggleable__control sk-hidden--visually\" id=\"sk-estimator-id-10\" type=\"checkbox\" ><label for=\"sk-estimator-id-10\" class=\"sk-toggleable__label fitted sk-toggleable__label-arrow fitted\">&nbsp;DecisionTreeClassifier<a class=\"sk-estimator-doc-link fitted\" rel=\"noreferrer\" target=\"_blank\" href=\"https://scikit-learn.org/1.5/modules/generated/sklearn.tree.DecisionTreeClassifier.html\">?<span>Documentation for DecisionTreeClassifier</span></a></label><div class=\"sk-toggleable__content fitted\"><pre>DecisionTreeClassifier(max_depth=3)</pre></div> </div></div></div></div></div><div class=\"sk-parallel-item\"><div class=\"sk-item\"><div class=\"sk-label-container\"><div class=\"sk-label fitted sk-toggleable\"><label>model_2</label></div></div><div class=\"sk-serial\"><div class=\"sk-item\"><div class=\"sk-estimator fitted sk-toggleable\"><input class=\"sk-toggleable__control sk-hidden--visually\" id=\"sk-estimator-id-11\" type=\"checkbox\" ><label for=\"sk-estimator-id-11\" class=\"sk-toggleable__label fitted sk-toggleable__label-arrow fitted\">&nbsp;DecisionTreeClassifier<a class=\"sk-estimator-doc-link fitted\" rel=\"noreferrer\" target=\"_blank\" href=\"https://scikit-learn.org/1.5/modules/generated/sklearn.tree.DecisionTreeClassifier.html\">?<span>Documentation for DecisionTreeClassifier</span></a></label><div class=\"sk-toggleable__content fitted\"><pre>DecisionTreeClassifier(max_depth=3)</pre></div> </div></div></div></div></div><div class=\"sk-parallel-item\"><div class=\"sk-item\"><div class=\"sk-label-container\"><div class=\"sk-label fitted sk-toggleable\"><label>model_3</label></div></div><div class=\"sk-serial\"><div class=\"sk-item\"><div class=\"sk-estimator fitted sk-toggleable\"><input class=\"sk-toggleable__control sk-hidden--visually\" id=\"sk-estimator-id-12\" type=\"checkbox\" ><label for=\"sk-estimator-id-12\" class=\"sk-toggleable__label fitted sk-toggleable__label-arrow fitted\">&nbsp;DecisionTreeClassifier<a class=\"sk-estimator-doc-link fitted\" rel=\"noreferrer\" target=\"_blank\" href=\"https://scikit-learn.org/1.5/modules/generated/sklearn.tree.DecisionTreeClassifier.html\">?<span>Documentation for DecisionTreeClassifier</span></a></label><div class=\"sk-toggleable__content fitted\"><pre>DecisionTreeClassifier(max_depth=3)</pre></div> </div></div></div></div></div><div class=\"sk-parallel-item\"><div class=\"sk-item\"><div class=\"sk-label-container\"><div class=\"sk-label fitted sk-toggleable\"><label>model_4</label></div></div><div class=\"sk-serial\"><div class=\"sk-item\"><div class=\"sk-estimator fitted sk-toggleable\"><input class=\"sk-toggleable__control sk-hidden--visually\" id=\"sk-estimator-id-13\" type=\"checkbox\" ><label for=\"sk-estimator-id-13\" class=\"sk-toggleable__label fitted sk-toggleable__label-arrow fitted\">&nbsp;DecisionTreeClassifier<a class=\"sk-estimator-doc-link fitted\" rel=\"noreferrer\" target=\"_blank\" href=\"https://scikit-learn.org/1.5/modules/generated/sklearn.tree.DecisionTreeClassifier.html\">?<span>Documentation for DecisionTreeClassifier</span></a></label><div class=\"sk-toggleable__content fitted\"><pre>DecisionTreeClassifier(max_depth=3)</pre></div> </div></div></div></div></div><div class=\"sk-parallel-item\"><div class=\"sk-item\"><div class=\"sk-label-container\"><div class=\"sk-label fitted sk-toggleable\"><label>model_5</label></div></div><div class=\"sk-serial\"><div class=\"sk-item\"><div class=\"sk-estimator fitted sk-toggleable\"><input class=\"sk-toggleable__control sk-hidden--visually\" id=\"sk-estimator-id-14\" type=\"checkbox\" ><label for=\"sk-estimator-id-14\" class=\"sk-toggleable__label fitted sk-toggleable__label-arrow fitted\">&nbsp;DecisionTreeClassifier<a class=\"sk-estimator-doc-link fitted\" rel=\"noreferrer\" target=\"_blank\" href=\"https://scikit-learn.org/1.5/modules/generated/sklearn.tree.DecisionTreeClassifier.html\">?<span>Documentation for DecisionTreeClassifier</span></a></label><div class=\"sk-toggleable__content fitted\"><pre>DecisionTreeClassifier(max_depth=3)</pre></div> </div></div></div></div></div><div class=\"sk-parallel-item\"><div class=\"sk-item\"><div class=\"sk-label-container\"><div class=\"sk-label fitted sk-toggleable\"><label>model_6</label></div></div><div class=\"sk-serial\"><div class=\"sk-item\"><div class=\"sk-estimator fitted sk-toggleable\"><input class=\"sk-toggleable__control sk-hidden--visually\" id=\"sk-estimator-id-15\" type=\"checkbox\" ><label for=\"sk-estimator-id-15\" class=\"sk-toggleable__label fitted sk-toggleable__label-arrow fitted\">&nbsp;DecisionTreeClassifier<a class=\"sk-estimator-doc-link fitted\" rel=\"noreferrer\" target=\"_blank\" href=\"https://scikit-learn.org/1.5/modules/generated/sklearn.tree.DecisionTreeClassifier.html\">?<span>Documentation for DecisionTreeClassifier</span></a></label><div class=\"sk-toggleable__content fitted\"><pre>DecisionTreeClassifier(max_depth=3)</pre></div> </div></div></div></div></div><div class=\"sk-parallel-item\"><div class=\"sk-item\"><div class=\"sk-label-container\"><div class=\"sk-label fitted sk-toggleable\"><label>model_7</label></div></div><div class=\"sk-serial\"><div class=\"sk-item\"><div class=\"sk-estimator fitted sk-toggleable\"><input class=\"sk-toggleable__control sk-hidden--visually\" id=\"sk-estimator-id-16\" type=\"checkbox\" ><label for=\"sk-estimator-id-16\" class=\"sk-toggleable__label fitted sk-toggleable__label-arrow fitted\">&nbsp;DecisionTreeClassifier<a class=\"sk-estimator-doc-link fitted\" rel=\"noreferrer\" target=\"_blank\" href=\"https://scikit-learn.org/1.5/modules/generated/sklearn.tree.DecisionTreeClassifier.html\">?<span>Documentation for DecisionTreeClassifier</span></a></label><div class=\"sk-toggleable__content fitted\"><pre>DecisionTreeClassifier(max_depth=3)</pre></div> </div></div></div></div></div></div></div></div></div>"
      ],
      "text/plain": [
       "VotingClassifier(estimators=[('model_1', DecisionTreeClassifier(max_depth=3)),\n",
       "                             ('model_2', DecisionTreeClassifier(max_depth=3)),\n",
       "                             ('model_3', DecisionTreeClassifier(max_depth=3)),\n",
       "                             ('model_4', DecisionTreeClassifier(max_depth=3)),\n",
       "                             ('model_5', DecisionTreeClassifier(max_depth=3)),\n",
       "                             ('model_6', DecisionTreeClassifier(max_depth=3)),\n",
       "                             ('model_7', DecisionTreeClassifier(max_depth=3))],\n",
       "                 voting='soft')"
      ]
     },
     "execution_count": 122,
     "metadata": {},
     "output_type": "execute_result"
    }
   ],
   "source": [
    "\n",
    "X_train_full = np.vstack([globals()[f'df_train_{i}'].drop(columns=['label']).values for i in range(1, 8)])\n",
    "y_train_full = np.hstack([globals()[f'df_train_{i}']['label'].values for i in range(1, 8)])\n",
    "\n",
    "# Ajustar el ensemble con los datos completos\n",
    "ensemble_model.fit(X_train_full, y_train_full)"
   ]
  },
  {
   "cell_type": "code",
   "execution_count": 124,
   "metadata": {},
   "outputs": [
    {
     "data": {
      "text/plain": [
       "['../data/models\\\\DecisionTree.joblib']"
      ]
     },
     "execution_count": 124,
     "metadata": {},
     "output_type": "execute_result"
    }
   ],
   "source": [
    "dir = \"../data/models\"\n",
    "model_path = os.path.join(dir, \"DecisionTree.joblib\")\n",
    "joblib.dump(ensemble_model, model_path)"
   ]
  },
  {
   "cell_type": "markdown",
   "metadata": {},
   "source": [
    "##### Predicción"
   ]
  },
  {
   "cell_type": "code",
   "execution_count": 125,
   "metadata": {},
   "outputs": [],
   "source": [
    "# Cargar modelo de LogisticRegression\n",
    "model = joblib.load(\"../data/models/DecisionTree.joblib\")"
   ]
  },
  {
   "cell_type": "code",
   "execution_count": 127,
   "metadata": {},
   "outputs": [],
   "source": [
    "prediction(model, 'DecisionTree')"
   ]
  },
  {
   "cell_type": "code",
   "execution_count": 120,
   "metadata": {},
   "outputs": [
    {
     "data": {
      "image/png": "[encoded data removed]",
      "text/plain": [
       "<Figure size 1000x600 with 1 Axes>"
      ]
     },
     "metadata": {},
     "output_type": "display_data"
    }
   ],
   "source": [
    "plot_results('DecisionTree')"
   ]
  },
  {
   "cell_type": "markdown",
   "metadata": {},
   "source": [
    "### Basado en instancias : KNN -> DONE? (solo con una partición pequeña)"
   ]
  },
  {
   "cell_type": "markdown",
   "metadata": {},
   "source": [
    "##### Entrenamiento"
   ]
  },
  {
   "cell_type": "markdown",
   "metadata": {},
   "source": [
    "He intentado con annoy (según la documentación, permite aproximar KNN con un enfoque eficiente en memoria) pero el kernel muere intentando entrenarlo"
   ]
  },
  {
   "cell_type": "markdown",
   "metadata": {},
   "source": [
    "Como no sirve nada, voy a coger una muestra pequeña representativa y voy a entrenar el modelo con ella"
   ]
  },
  {
   "cell_type": "code",
   "execution_count": 19,
   "metadata": {},
   "outputs": [
    {
     "name": "stderr",
     "output_type": "stream",
     "text": [
      "C:\\Users\\eleni\\AppData\\Local\\Temp\\ipykernel_3320\\2424558243.py:14: DeprecationWarning: DataFrameGroupBy.apply operated on the grouping columns. This behavior is deprecated, and in a future version of pandas the grouping columns will be excluded from the operation. Either pass `include_groups=False` to exclude the groupings or explicitly select the grouping columns after groupby to silence this warning.\n",
      "  sampled_df = df.groupby('label', as_index=False).apply(\n",
      "C:\\Users\\eleni\\AppData\\Local\\Temp\\ipykernel_3320\\2424558243.py:14: DeprecationWarning: DataFrameGroupBy.apply operated on the grouping columns. This behavior is deprecated, and in a future version of pandas the grouping columns will be excluded from the operation. Either pass `include_groups=False` to exclude the groupings or explicitly select the grouping columns after groupby to silence this warning.\n",
      "  sampled_df = df.groupby('label', as_index=False).apply(\n",
      "C:\\Users\\eleni\\AppData\\Local\\Temp\\ipykernel_3320\\2424558243.py:14: DeprecationWarning: DataFrameGroupBy.apply operated on the grouping columns. This behavior is deprecated, and in a future version of pandas the grouping columns will be excluded from the operation. Either pass `include_groups=False` to exclude the groupings or explicitly select the grouping columns after groupby to silence this warning.\n",
      "  sampled_df = df.groupby('label', as_index=False).apply(\n",
      "C:\\Users\\eleni\\AppData\\Local\\Temp\\ipykernel_3320\\2424558243.py:14: DeprecationWarning: DataFrameGroupBy.apply operated on the grouping columns. This behavior is deprecated, and in a future version of pandas the grouping columns will be excluded from the operation. Either pass `include_groups=False` to exclude the groupings or explicitly select the grouping columns after groupby to silence this warning.\n",
      "  sampled_df = df.groupby('label', as_index=False).apply(\n",
      "C:\\Users\\eleni\\AppData\\Local\\Temp\\ipykernel_3320\\2424558243.py:14: DeprecationWarning: DataFrameGroupBy.apply operated on the grouping columns. This behavior is deprecated, and in a future version of pandas the grouping columns will be excluded from the operation. Either pass `include_groups=False` to exclude the groupings or explicitly select the grouping columns after groupby to silence this warning.\n",
      "  sampled_df = df.groupby('label', as_index=False).apply(\n"
     ]
    },
    {
     "name": "stdout",
     "output_type": "stream",
     "text": [
      "Tamaño de la muestra final: (39182, 55)\n"
     ]
    },
    {
     "name": "stderr",
     "output_type": "stream",
     "text": [
      "C:\\Users\\eleni\\AppData\\Local\\Temp\\ipykernel_3320\\2424558243.py:14: DeprecationWarning: DataFrameGroupBy.apply operated on the grouping columns. This behavior is deprecated, and in a future version of pandas the grouping columns will be excluded from the operation. Either pass `include_groups=False` to exclude the groupings or explicitly select the grouping columns after groupby to silence this warning.\n",
      "  sampled_df = df.groupby('label', as_index=False).apply(\n",
      "C:\\Users\\eleni\\AppData\\Local\\Temp\\ipykernel_3320\\2424558243.py:14: DeprecationWarning: DataFrameGroupBy.apply operated on the grouping columns. This behavior is deprecated, and in a future version of pandas the grouping columns will be excluded from the operation. Either pass `include_groups=False` to exclude the groupings or explicitly select the grouping columns after groupby to silence this warning.\n",
      "  sampled_df = df.groupby('label', as_index=False).apply(\n"
     ]
    }
   ],
   "source": [
    "import pandas as pd\n",
    "\n",
    "# Definir el tamaño de la muestra (1% en este ejemplo)\n",
    "sample_fraction = 0.01  # Ajusta esto según tus necesidades\n",
    "\n",
    "# DataFrames particionados de tus datos, aquí simulados como lista\n",
    "partitions = [globals()[f'df_train_{i}'] for i in range(1, 8)]\n",
    "\n",
    "# Crear lista para almacenar las muestras\n",
    "sampled_data = []\n",
    "\n",
    "# Iterar sobre cada partición y tomar una muestra estratificada\n",
    "for df in partitions:\n",
    "    sampled_df = df.groupby('label', as_index=False).apply(\n",
    "        lambda x: x.sample(frac=sample_fraction, random_state=42)\n",
    "    ).reset_index(drop=True)  # Eliminar índice adicional\n",
    "    sampled_data.append(sampled_df)\n",
    "\n",
    "# Concatenar todas las muestras para tener un único DataFrame de muestra\n",
    "final_sample = pd.concat(sampled_data, ignore_index=True)\n",
    "\n",
    "# Confirmación de la muestra final y de que 'label' está presente\n",
    "print(\"Tamaño de la muestra final:\", final_sample.shape)\n"
   ]
  },
  {
   "cell_type": "code",
   "execution_count": 18,
   "metadata": {},
   "outputs": [
    {
     "name": "stdout",
     "output_type": "stream",
     "text": [
      "Index(['ID', 'Payment_6804', 'Infraction_CGP', 'Base_7744', 'Base_80863',\n",
      "       'Risk_1930', 'Infraction_SNZ', 'Base_02683', 'Infraction_QJJF',\n",
      "       'Base_76065', 'Risk_0322', 'Infraction_GGO', 'Base_39598', 'Base_6187',\n",
      "       'Base_85131', 'Risk_9995', 'Infraction_AYWV', 'Base_36384',\n",
      "       'Base_24406', 'Infraction_BSU', 'Infraction_ZYW', 'Base_1039',\n",
      "       'Base_0580', 'Expenditure_RGD', 'Base_69608', 'Base_6852', 'Base_22178',\n",
      "       'Infraction_ZTYG', 'Expenditure_UWVG', 'Base_3041', 'Payment_3207',\n",
      "       'Infraction_QKZN', 'Infraction_CZE', 'Base_66195', 'Risk_4553',\n",
      "       'Base_67585', 'Infraction_HFSI', 'Infraction_ETH', 'Base_2810',\n",
      "       'Risk_8902', 'Infraction_BGGU', 'Infraction_NMCB', 'Infraction_XEPQ',\n",
      "       'Infraction_ZMKI', 'Infraction_RKTA', 'Infraction_SIA',\n",
      "       'Infraction_QEY', 'Infraction_VHHP', 'Infraction_LIES',\n",
      "       'Infraction_QWWW', 'Infraction_YQXM', 'Infraction_QGR',\n",
      "       'Infraction_LSX', 'Expenditure_AHF_year', 'label'],\n",
      "      dtype='object')\n"
     ]
    }
   ],
   "source": [
    "print(final_sample.columns)\n"
   ]
  },
  {
   "cell_type": "code",
   "execution_count": 20,
   "metadata": {},
   "outputs": [
    {
     "data": {
      "text/html": [
       "<style>#sk-container-id-1 {\n",
       "  /* Definition of color scheme common for light and dark mode */\n",
       "  --sklearn-color-text: black;\n",
       "  --sklearn-color-line: gray;\n",
       "  /* Definition of color scheme for unfitted estimators */\n",
       "  --sklearn-color-unfitted-level-0: #fff5e6;\n",
       "  --sklearn-color-unfitted-level-1: #f6e4d2;\n",
       "  --sklearn-color-unfitted-level-2: #ffe0b3;\n",
       "  --sklearn-color-unfitted-level-3: chocolate;\n",
       "  /* Definition of color scheme for fitted estimators */\n",
       "  --sklearn-color-fitted-level-0: #f0f8ff;\n",
       "  --sklearn-color-fitted-level-1: #d4ebff;\n",
       "  --sklearn-color-fitted-level-2: #b3dbfd;\n",
       "  --sklearn-color-fitted-level-3: cornflowerblue;\n",
       "\n",
       "  /* Specific color for light theme */\n",
       "  --sklearn-color-text-on-default-background: var(--sg-text-color, var(--theme-code-foreground, var(--jp-content-font-color1, black)));\n",
       "  --sklearn-color-background: var(--sg-background-color, var(--theme-background, var(--jp-layout-color0, white)));\n",
       "  --sklearn-color-border-box: var(--sg-text-color, var(--theme-code-foreground, var(--jp-content-font-color1, black)));\n",
       "  --sklearn-color-icon: #696969;\n",
       "\n",
       "  @media (prefers-color-scheme: dark) {\n",
       "    /* Redefinition of color scheme for dark theme */\n",
       "    --sklearn-color-text-on-default-background: var(--sg-text-color, var(--theme-code-foreground, var(--jp-content-font-color1, white)));\n",
       "    --sklearn-color-background: var(--sg-background-color, var(--theme-background, var(--jp-layout-color0, #111)));\n",
       "    --sklearn-color-border-box: var(--sg-text-color, var(--theme-code-foreground, var(--jp-content-font-color1, white)));\n",
       "    --sklearn-color-icon: #878787;\n",
       "  }\n",
       "}\n",
       "\n",
       "#sk-container-id-1 {\n",
       "  color: var(--sklearn-color-text);\n",
       "}\n",
       "\n",
       "#sk-container-id-1 pre {\n",
       "  padding: 0;\n",
       "}\n",
       "\n",
       "#sk-container-id-1 input.sk-hidden--visually {\n",
       "  border: 0;\n",
       "  clip: rect(1px 1px 1px 1px);\n",
       "  clip: rect(1px, 1px, 1px, 1px);\n",
       "  height: 1px;\n",
       "  margin: -1px;\n",
       "  overflow: hidden;\n",
       "  padding: 0;\n",
       "  position: absolute;\n",
       "  width: 1px;\n",
       "}\n",
       "\n",
       "#sk-container-id-1 div.sk-dashed-wrapped {\n",
       "  border: 1px dashed var(--sklearn-color-line);\n",
       "  margin: 0 0.4em 0.5em 0.4em;\n",
       "  box-sizing: border-box;\n",
       "  padding-bottom: 0.4em;\n",
       "  background-color: var(--sklearn-color-background);\n",
       "}\n",
       "\n",
       "#sk-container-id-1 div.sk-container {\n",
       "  /* jupyter's `normalize.less` sets `[hidden] { display: none; }`\n",
       "     but bootstrap.min.css set `[hidden] { display: none !important; }`\n",
       "     so we also need the `!important` here to be able to override the\n",
       "     default hidden behavior on the sphinx rendered scikit-learn.org.\n",
       "     See: https://github.com/scikit-learn/scikit-learn/issues/21755 */\n",
       "  display: inline-block !important;\n",
       "  position: relative;\n",
       "}\n",
       "\n",
       "#sk-container-id-1 div.sk-text-repr-fallback {\n",
       "  display: none;\n",
       "}\n",
       "\n",
       "div.sk-parallel-item,\n",
       "div.sk-serial,\n",
       "div.sk-item {\n",
       "  /* draw centered vertical line to link estimators */\n",
       "  background-image: linear-gradient(var(--sklearn-color-text-on-default-background), var(--sklearn-color-text-on-default-background));\n",
       "  background-size: 2px 100%;\n",
       "  background-repeat: no-repeat;\n",
       "  background-position: center center;\n",
       "}\n",
       "\n",
       "/* Parallel-specific style estimator block */\n",
       "\n",
       "#sk-container-id-1 div.sk-parallel-item::after {\n",
       "  content: \"\";\n",
       "  width: 100%;\n",
       "  border-bottom: 2px solid var(--sklearn-color-text-on-default-background);\n",
       "  flex-grow: 1;\n",
       "}\n",
       "\n",
       "#sk-container-id-1 div.sk-parallel {\n",
       "  display: flex;\n",
       "  align-items: stretch;\n",
       "  justify-content: center;\n",
       "  background-color: var(--sklearn-color-background);\n",
       "  position: relative;\n",
       "}\n",
       "\n",
       "#sk-container-id-1 div.sk-parallel-item {\n",
       "  display: flex;\n",
       "  flex-direction: column;\n",
       "}\n",
       "\n",
       "#sk-container-id-1 div.sk-parallel-item:first-child::after {\n",
       "  align-self: flex-end;\n",
       "  width: 50%;\n",
       "}\n",
       "\n",
       "#sk-container-id-1 div.sk-parallel-item:last-child::after {\n",
       "  align-self: flex-start;\n",
       "  width: 50%;\n",
       "}\n",
       "\n",
       "#sk-container-id-1 div.sk-parallel-item:only-child::after {\n",
       "  width: 0;\n",
       "}\n",
       "\n",
       "/* Serial-specific style estimator block */\n",
       "\n",
       "#sk-container-id-1 div.sk-serial {\n",
       "  display: flex;\n",
       "  flex-direction: column;\n",
       "  align-items: center;\n",
       "  background-color: var(--sklearn-color-background);\n",
       "  padding-right: 1em;\n",
       "  padding-left: 1em;\n",
       "}\n",
       "\n",
       "\n",
       "/* Toggleable style: style used for estimator/Pipeline/ColumnTransformer box that is\n",
       "clickable and can be expanded/collapsed.\n",
       "- Pipeline and ColumnTransformer use this feature and define the default style\n",
       "- Estimators will overwrite some part of the style using the `sk-estimator` class\n",
       "*/\n",
       "\n",
       "/* Pipeline and ColumnTransformer style (default) */\n",
       "\n",
       "#sk-container-id-1 div.sk-toggleable {\n",
       "  /* Default theme specific background. It is overwritten whether we have a\n",
       "  specific estimator or a Pipeline/ColumnTransformer */\n",
       "  background-color: var(--sklearn-color-background);\n",
       "}\n",
       "\n",
       "/* Toggleable label */\n",
       "#sk-container-id-1 label.sk-toggleable__label {\n",
       "  cursor: pointer;\n",
       "  display: block;\n",
       "  width: 100%;\n",
       "  margin-bottom: 0;\n",
       "  padding: 0.5em;\n",
       "  box-sizing: border-box;\n",
       "  text-align: center;\n",
       "}\n",
       "\n",
       "#sk-container-id-1 label.sk-toggleable__label-arrow:before {\n",
       "  /* Arrow on the left of the label */\n",
       "  content: \"▸\";\n",
       "  float: left;\n",
       "  margin-right: 0.25em;\n",
       "  color: var(--sklearn-color-icon);\n",
       "}\n",
       "\n",
       "#sk-container-id-1 label.sk-toggleable__label-arrow:hover:before {\n",
       "  color: var(--sklearn-color-text);\n",
       "}\n",
       "\n",
       "/* Toggleable content - dropdown */\n",
       "\n",
       "#sk-container-id-1 div.sk-toggleable__content {\n",
       "  max-height: 0;\n",
       "  max-width: 0;\n",
       "  overflow: hidden;\n",
       "  text-align: left;\n",
       "  /* unfitted */\n",
       "  background-color: var(--sklearn-color-unfitted-level-0);\n",
       "}\n",
       "\n",
       "#sk-container-id-1 div.sk-toggleable__content.fitted {\n",
       "  /* fitted */\n",
       "  background-color: var(--sklearn-color-fitted-level-0);\n",
       "}\n",
       "\n",
       "#sk-container-id-1 div.sk-toggleable__content pre {\n",
       "  margin: 0.2em;\n",
       "  border-radius: 0.25em;\n",
       "  color: var(--sklearn-color-text);\n",
       "  /* unfitted */\n",
       "  background-color: var(--sklearn-color-unfitted-level-0);\n",
       "}\n",
       "\n",
       "#sk-container-id-1 div.sk-toggleable__content.fitted pre {\n",
       "  /* unfitted */\n",
       "  background-color: var(--sklearn-color-fitted-level-0);\n",
       "}\n",
       "\n",
       "#sk-container-id-1 input.sk-toggleable__control:checked~div.sk-toggleable__content {\n",
       "  /* Expand drop-down */\n",
       "  max-height: 200px;\n",
       "  max-width: 100%;\n",
       "  overflow: auto;\n",
       "}\n",
       "\n",
       "#sk-container-id-1 input.sk-toggleable__control:checked~label.sk-toggleable__label-arrow:before {\n",
       "  content: \"▾\";\n",
       "}\n",
       "\n",
       "/* Pipeline/ColumnTransformer-specific style */\n",
       "\n",
       "#sk-container-id-1 div.sk-label input.sk-toggleable__control:checked~label.sk-toggleable__label {\n",
       "  color: var(--sklearn-color-text);\n",
       "  background-color: var(--sklearn-color-unfitted-level-2);\n",
       "}\n",
       "\n",
       "#sk-container-id-1 div.sk-label.fitted input.sk-toggleable__control:checked~label.sk-toggleable__label {\n",
       "  background-color: var(--sklearn-color-fitted-level-2);\n",
       "}\n",
       "\n",
       "/* Estimator-specific style */\n",
       "\n",
       "/* Colorize estimator box */\n",
       "#sk-container-id-1 div.sk-estimator input.sk-toggleable__control:checked~label.sk-toggleable__label {\n",
       "  /* unfitted */\n",
       "  background-color: var(--sklearn-color-unfitted-level-2);\n",
       "}\n",
       "\n",
       "#sk-container-id-1 div.sk-estimator.fitted input.sk-toggleable__control:checked~label.sk-toggleable__label {\n",
       "  /* fitted */\n",
       "  background-color: var(--sklearn-color-fitted-level-2);\n",
       "}\n",
       "\n",
       "#sk-container-id-1 div.sk-label label.sk-toggleable__label,\n",
       "#sk-container-id-1 div.sk-label label {\n",
       "  /* The background is the default theme color */\n",
       "  color: var(--sklearn-color-text-on-default-background);\n",
       "}\n",
       "\n",
       "/* On hover, darken the color of the background */\n",
       "#sk-container-id-1 div.sk-label:hover label.sk-toggleable__label {\n",
       "  color: var(--sklearn-color-text);\n",
       "  background-color: var(--sklearn-color-unfitted-level-2);\n",
       "}\n",
       "\n",
       "/* Label box, darken color on hover, fitted */\n",
       "#sk-container-id-1 div.sk-label.fitted:hover label.sk-toggleable__label.fitted {\n",
       "  color: var(--sklearn-color-text);\n",
       "  background-color: var(--sklearn-color-fitted-level-2);\n",
       "}\n",
       "\n",
       "/* Estimator label */\n",
       "\n",
       "#sk-container-id-1 div.sk-label label {\n",
       "  font-family: monospace;\n",
       "  font-weight: bold;\n",
       "  display: inline-block;\n",
       "  line-height: 1.2em;\n",
       "}\n",
       "\n",
       "#sk-container-id-1 div.sk-label-container {\n",
       "  text-align: center;\n",
       "}\n",
       "\n",
       "/* Estimator-specific */\n",
       "#sk-container-id-1 div.sk-estimator {\n",
       "  font-family: monospace;\n",
       "  border: 1px dotted var(--sklearn-color-border-box);\n",
       "  border-radius: 0.25em;\n",
       "  box-sizing: border-box;\n",
       "  margin-bottom: 0.5em;\n",
       "  /* unfitted */\n",
       "  background-color: var(--sklearn-color-unfitted-level-0);\n",
       "}\n",
       "\n",
       "#sk-container-id-1 div.sk-estimator.fitted {\n",
       "  /* fitted */\n",
       "  background-color: var(--sklearn-color-fitted-level-0);\n",
       "}\n",
       "\n",
       "/* on hover */\n",
       "#sk-container-id-1 div.sk-estimator:hover {\n",
       "  /* unfitted */\n",
       "  background-color: var(--sklearn-color-unfitted-level-2);\n",
       "}\n",
       "\n",
       "#sk-container-id-1 div.sk-estimator.fitted:hover {\n",
       "  /* fitted */\n",
       "  background-color: var(--sklearn-color-fitted-level-2);\n",
       "}\n",
       "\n",
       "/* Specification for estimator info (e.g. \"i\" and \"?\") */\n",
       "\n",
       "/* Common style for \"i\" and \"?\" */\n",
       "\n",
       ".sk-estimator-doc-link,\n",
       "a:link.sk-estimator-doc-link,\n",
       "a:visited.sk-estimator-doc-link {\n",
       "  float: right;\n",
       "  font-size: smaller;\n",
       "  line-height: 1em;\n",
       "  font-family: monospace;\n",
       "  background-color: var(--sklearn-color-background);\n",
       "  border-radius: 1em;\n",
       "  height: 1em;\n",
       "  width: 1em;\n",
       "  text-decoration: none !important;\n",
       "  margin-left: 1ex;\n",
       "  /* unfitted */\n",
       "  border: var(--sklearn-color-unfitted-level-1) 1pt solid;\n",
       "  color: var(--sklearn-color-unfitted-level-1);\n",
       "}\n",
       "\n",
       ".sk-estimator-doc-link.fitted,\n",
       "a:link.sk-estimator-doc-link.fitted,\n",
       "a:visited.sk-estimator-doc-link.fitted {\n",
       "  /* fitted */\n",
       "  border: var(--sklearn-color-fitted-level-1) 1pt solid;\n",
       "  color: var(--sklearn-color-fitted-level-1);\n",
       "}\n",
       "\n",
       "/* On hover */\n",
       "div.sk-estimator:hover .sk-estimator-doc-link:hover,\n",
       ".sk-estimator-doc-link:hover,\n",
       "div.sk-label-container:hover .sk-estimator-doc-link:hover,\n",
       ".sk-estimator-doc-link:hover {\n",
       "  /* unfitted */\n",
       "  background-color: var(--sklearn-color-unfitted-level-3);\n",
       "  color: var(--sklearn-color-background);\n",
       "  text-decoration: none;\n",
       "}\n",
       "\n",
       "div.sk-estimator.fitted:hover .sk-estimator-doc-link.fitted:hover,\n",
       ".sk-estimator-doc-link.fitted:hover,\n",
       "div.sk-label-container:hover .sk-estimator-doc-link.fitted:hover,\n",
       ".sk-estimator-doc-link.fitted:hover {\n",
       "  /* fitted */\n",
       "  background-color: var(--sklearn-color-fitted-level-3);\n",
       "  color: var(--sklearn-color-background);\n",
       "  text-decoration: none;\n",
       "}\n",
       "\n",
       "/* Span, style for the box shown on hovering the info icon */\n",
       ".sk-estimator-doc-link span {\n",
       "  display: none;\n",
       "  z-index: 9999;\n",
       "  position: relative;\n",
       "  font-weight: normal;\n",
       "  right: .2ex;\n",
       "  padding: .5ex;\n",
       "  margin: .5ex;\n",
       "  width: min-content;\n",
       "  min-width: 20ex;\n",
       "  max-width: 50ex;\n",
       "  color: var(--sklearn-color-text);\n",
       "  box-shadow: 2pt 2pt 4pt #999;\n",
       "  /* unfitted */\n",
       "  background: var(--sklearn-color-unfitted-level-0);\n",
       "  border: .5pt solid var(--sklearn-color-unfitted-level-3);\n",
       "}\n",
       "\n",
       ".sk-estimator-doc-link.fitted span {\n",
       "  /* fitted */\n",
       "  background: var(--sklearn-color-fitted-level-0);\n",
       "  border: var(--sklearn-color-fitted-level-3);\n",
       "}\n",
       "\n",
       ".sk-estimator-doc-link:hover span {\n",
       "  display: block;\n",
       "}\n",
       "\n",
       "/* \"?\"-specific style due to the `<a>` HTML tag */\n",
       "\n",
       "#sk-container-id-1 a.estimator_doc_link {\n",
       "  float: right;\n",
       "  font-size: 1rem;\n",
       "  line-height: 1em;\n",
       "  font-family: monospace;\n",
       "  background-color: var(--sklearn-color-background);\n",
       "  border-radius: 1rem;\n",
       "  height: 1rem;\n",
       "  width: 1rem;\n",
       "  text-decoration: none;\n",
       "  /* unfitted */\n",
       "  color: var(--sklearn-color-unfitted-level-1);\n",
       "  border: var(--sklearn-color-unfitted-level-1) 1pt solid;\n",
       "}\n",
       "\n",
       "#sk-container-id-1 a.estimator_doc_link.fitted {\n",
       "  /* fitted */\n",
       "  border: var(--sklearn-color-fitted-level-1) 1pt solid;\n",
       "  color: var(--sklearn-color-fitted-level-1);\n",
       "}\n",
       "\n",
       "/* On hover */\n",
       "#sk-container-id-1 a.estimator_doc_link:hover {\n",
       "  /* unfitted */\n",
       "  background-color: var(--sklearn-color-unfitted-level-3);\n",
       "  color: var(--sklearn-color-background);\n",
       "  text-decoration: none;\n",
       "}\n",
       "\n",
       "#sk-container-id-1 a.estimator_doc_link.fitted:hover {\n",
       "  /* fitted */\n",
       "  background-color: var(--sklearn-color-fitted-level-3);\n",
       "}\n",
       "</style><div id=\"sk-container-id-1\" class=\"sk-top-container\"><div class=\"sk-text-repr-fallback\"><pre>KNeighborsClassifier()</pre><b>In a Jupyter environment, please rerun this cell to show the HTML representation or trust the notebook. <br />On GitHub, the HTML representation is unable to render, please try loading this page with nbviewer.org.</b></div><div class=\"sk-container\" hidden><div class=\"sk-item\"><div class=\"sk-estimator fitted sk-toggleable\"><input class=\"sk-toggleable__control sk-hidden--visually\" id=\"sk-estimator-id-1\" type=\"checkbox\" checked><label for=\"sk-estimator-id-1\" class=\"sk-toggleable__label fitted sk-toggleable__label-arrow fitted\">&nbsp;&nbsp;KNeighborsClassifier<a class=\"sk-estimator-doc-link fitted\" rel=\"noreferrer\" target=\"_blank\" href=\"https://scikit-learn.org/1.5/modules/generated/sklearn.neighbors.KNeighborsClassifier.html\">?<span>Documentation for KNeighborsClassifier</span></a><span class=\"sk-estimator-doc-link fitted\">i<span>Fitted</span></span></label><div class=\"sk-toggleable__content fitted\"><pre>KNeighborsClassifier()</pre></div> </div></div></div></div>"
      ],
      "text/plain": [
       "KNeighborsClassifier()"
      ]
     },
     "execution_count": 20,
     "metadata": {},
     "output_type": "execute_result"
    }
   ],
   "source": [
    "# Entrenar un modelo de KNN con final_sample\n",
    "from sklearn.neighbors import KNeighborsClassifier\n",
    "model = KNeighborsClassifier(n_neighbors=5)\n",
    "X = final_sample.drop(columns=['label']).values\n",
    "y = final_sample['label'].values\n",
    "model.fit(X, y)"
   ]
  },
  {
   "cell_type": "code",
   "execution_count": 22,
   "metadata": {},
   "outputs": [
    {
     "data": {
      "text/plain": [
       "['../data/models\\\\KNN.joblib']"
      ]
     },
     "execution_count": 22,
     "metadata": {},
     "output_type": "execute_result"
    }
   ],
   "source": [
    "dir = \"../data/models\"\n",
    "model_path = os.path.join(dir, \"KNN.joblib\")\n",
    "joblib.dump(model, model_path)\n"
   ]
  },
  {
   "cell_type": "markdown",
   "metadata": {},
   "source": [
    "##### Predicción"
   ]
  },
  {
   "cell_type": "code",
   "execution_count": 23,
   "metadata": {},
   "outputs": [],
   "source": [
    "model = joblib.load(\"../data/models/KNN.joblib\")"
   ]
  },
  {
   "cell_type": "code",
   "execution_count": 24,
   "metadata": {},
   "outputs": [],
   "source": [
    "prediction(model, 'KNN')"
   ]
  },
  {
   "cell_type": "code",
   "execution_count": 25,
   "metadata": {},
   "outputs": [
    {
     "data": {
      "image/png": "[encoded data removed]",
      "text/plain": [
       "<Figure size 1000x600 with 1 Axes>"
      ]
     },
     "metadata": {},
     "output_type": "display_data"
    }
   ],
   "source": [
    "plot_results('KNN')"
   ]
  },
  {
   "cell_type": "markdown",
   "metadata": {},
   "source": [
    "### Máquinas de soporte vectorial : SVC"
   ]
  },
  {
   "cell_type": "markdown",
   "metadata": {},
   "source": [
    "Son sensibles a la escala de datos, por suerte, los datos han sido escalados en el preproceso"
   ]
  },
  {
   "cell_type": "markdown",
   "metadata": {},
   "source": [
    "Existen varios kernel para el SVC: \"\n",
    "- linear: para usar un kernel lineal.\n",
    "- poly: para usar un kernel polinomial.\n",
    "- rbf: para usar un kernel de función de base radial.\n",
    "- sigmoid: para usar un kernel sigmoidal.\n",
    "- precomputed: para proporcionar una matriz de kernel precomputada.\"\n",
    "<br><br>Como SVC no tiene partial_fit(), vamos a intentar usar SGDClassifier con loss=\"hinge\" para simular un SVM lineal"
   ]
  },
  {
   "cell_type": "code",
   "execution_count": 26,
   "metadata": {},
   "outputs": [],
   "source": [
    "from sklearn.linear_model import SGDClassifier\n",
    "from sklearn.preprocessing import StandardScaler\n",
    "import numpy as np\n",
    "\n",
    "model = SGDClassifier(loss='hinge', max_iter=1000, tol=1e-3)\n",
    "\n",
    "scaler = StandardScaler()\n",
    "\n",
    "for i in range (1, 8):\n",
    "    \n",
    "    df_part = globals()[f'df_train_{i}'] \n",
    "    X_part = df_part.drop(columns=['label'])  \n",
    "    y_part = df_part['label']\n",
    "    X_train_scaled = scaler.fit_transform(X_part) if i == 1 else scaler.transform(X_part)\n",
    "    \n",
    "    model.partial_fit(X_train_scaled, y_part, classes=np.unique(y_part))\n"
   ]
  },
  {
   "cell_type": "code",
   "execution_count": 27,
   "metadata": {},
   "outputs": [
    {
     "data": {
      "text/plain": [
       "['../data/models\\\\SVM_linearSGD.joblib']"
      ]
     },
     "execution_count": 27,
     "metadata": {},
     "output_type": "execute_result"
    }
   ],
   "source": [
    "dir = \"../data/models\"\n",
    "model_path = os.path.join(dir, \"SVM_linearSGD.joblib\")\n",
    "joblib.dump(model, model_path)\n"
   ]
  },
  {
   "cell_type": "markdown",
   "metadata": {},
   "source": [
    "Hemos intentado hacer un PCA previo a la ejecución de SVC pero este modelo necesita toda la información así que hemos optado por probar entrenarlo solo con una partición"
   ]
  },
  {
   "cell_type": "code",
   "execution_count": null,
   "metadata": {},
   "outputs": [],
   "source": [
    "from sklearn.decomposition import PCA\n",
    "from sklearn.svm import SVC\n",
    "from sklearn.preprocessing import StandardScaler\n",
    "import pandas as pd\n",
    "\n",
    "X_combined = []\n",
    "y_combined = []\n",
    "\n",
    "scaler = StandardScaler()\n",
    "pca = PCA(n_components=33)\n",
    "\n",
    "for i in range(1, 8):\n",
    "    df = globals()[f'df_train_{i}']\n",
    "    \n",
    "    X = df.drop('label', axis=1)  \n",
    "    y = df['label']  \n",
    "    \n",
    "    X_train_scaled = scaler.fit_transform(X)  \n",
    "    \n",
    "    X_pca = pca.fit_transform(X_train_scaled) \n",
    "    \n",
    "    X_combined.append(pd.DataFrame(X_pca)) \n",
    "    y_combined.append(y)\n",
    "\n",
    "X_combined = pd.concat(X_combined, axis=0, ignore_index=True)\n",
    "y_combined = pd.concat(y_combined, axis=0, ignore_index=True)\n",
    "\n",
    "svc = SVC(kernel='linear', random_state=42, verbose=True)\n",
    "svc.fit(X_combined, y_combined)\n"
   ]
  },
  {
   "cell_type": "markdown",
   "metadata": {},
   "source": [
    "### Redes neuronales "
   ]
  },
  {
   "cell_type": "code",
   "execution_count": null,
   "metadata": {},
   "outputs": [],
   "source": [
    "from sklearn.neural_network import MLPClassifier\n",
    "\n",
    "# Modelo de Red Neuronal\n",
    "nn_model = MLPClassifier(hidden_layer_sizes=(64, 32), max_iter=1000, random_state=42)\n",
    "\n",
    "# Evaluamos y guardamos el resultado\n",
    "results_dict['NeuralNetwork'] = evaluate_model(X_train, X_test, y_train, y_test, nn_model, 'NeuralNetwork')\n"
   ]
  },
  {
   "cell_type": "markdown",
   "metadata": {},
   "source": [
    "## Comparación de resultados"
   ]
  },
  {
   "cell_type": "code",
   "execution_count": null,
   "metadata": {},
   "outputs": [
    {
     "data": {
      "image/png": "[encoded data removed]",
      "text/plain": [
       "<Figure size 1000x600 with 1 Axes>"
      ]
     },
     "metadata": {},
     "output_type": "display_data"
    }
   ],
   "source": [
    "plot_model_comparison(models_results, metric='f1_score')"
   ]
  },
  {
   "cell_type": "markdown",
   "metadata": {},
   "source": [
    "## Ajuste de hiperparámetros"
   ]
  },
  {
   "cell_type": "markdown",
   "metadata": {},
   "source": [
    "### OPTUNA con división a los modelos"
   ]
  },
  {
   "cell_type": "code",
   "execution_count": 24,
   "metadata": {},
   "outputs": [],
   "source": [
    "import optuna\n",
    "from sklearn.linear_model import SGDRegressor, LogisticRegression\n",
    "from sklearn.tree import DecisionTreeClassifier\n",
    "from sklearn.neighbors import KNeighborsClassifier\n",
    "from sklearn.svm import SVC\n",
    "from sklearn.metrics import mean_squared_error, f1_score, accuracy_score\n",
    "\n",
    "# dictionarios de hiperparametros para cada modelo\n",
    "param_grids = {\n",
    "    'SGDRegressor': {\n",
    "        'alpha': lambda trial: trial.suggest_loguniform('alpha', 1e-4, 1e-1),\n",
    "        'eta0': lambda trial: trial.suggest_loguniform('eta0', 1e-3, 1.0),\n",
    "        'penalty': lambda trial: trial.suggest_categorical('penalty', ['l2', 'l1', 'elasticnet'])\n",
    "    },\n",
    "    'SGDRegressorPolynomial': {\n",
    "        'alpha': lambda trial: trial.suggest_loguniform('alpha', 1e-4, 1e-1),\n",
    "        'eta0': lambda trial: trial.suggest_loguniform('eta0', 1e-3, 1.0),\n",
    "        'penalty': lambda trial: trial.suggest_categorical('penalty', ['l2', 'l1', 'elasticnet']),\n",
    "        'degree': lambda trial: trial.suggest_int('degree', 2, 5)  # Stopień wielomianu\n",
    "    },\n",
    "    'LogisticRegression': {\n",
    "        'C': lambda trial: trial.suggest_loguniform('C', 0.01, 10),\n",
    "        'penalty': lambda trial: trial.suggest_categorical('penalty', ['l2', 'l1']),\n",
    "        'solver': lambda trial: trial.suggest_categorical('solver', ['liblinear', 'saga'])\n",
    "    },\n",
    "    'DecisionTreeClassifier': {\n",
    "        'max_depth': lambda trial: trial.suggest_int('max_depth', 3, 20),\n",
    "        'min_samples_split': lambda trial: trial.suggest_int('min_samples_split', 2, 10),\n",
    "        'min_samples_leaf': lambda trial: trial.suggest_int('min_samples_leaf', 1, 10)\n",
    "    },\n",
    "    'KNeighborsClassifier': {\n",
    "        'n_neighbors': lambda trial: trial.suggest_int('n_neighbors', 1, 20),\n",
    "        'weights': lambda trial: trial.suggest_categorical('weights', ['uniform', 'distance']),\n",
    "        'metric': lambda trial: trial.suggest_categorical('metric', ['euclidean', 'manhattan'])\n",
    "    },\n",
    "    'SVC': {\n",
    "        'C': lambda trial: trial.suggest_loguniform('C', 0.1, 10),\n",
    "        'kernel': lambda trial: trial.suggest_categorical('kernel', ['linear', 'poly', 'rbf']),\n",
    "        'gamma': lambda trial: trial.suggest_loguniform('gamma', 1e-4, 1e-1)\n",
    "    }\n",
    "}\n"
   ]
  },
  {
   "cell_type": "code",
   "execution_count": 29,
   "metadata": {},
   "outputs": [],
   "source": [
    "\n",
    "from sklearn.pipeline import Pipeline\n",
    "from sklearn.preprocessing import PolynomialFeatures\n",
    "\n",
    "def objective(trial, model_name='SGDRegressor'):\n",
    "    # elige el modelo y los hiperparametros\n",
    "    params = {param: fn(trial) for param, fn in param_grids[model_name].items()}\n",
    "    \n",
    "    if model_name == 'SGDRegressor':\n",
    "        model = SGDRegressor(**params, random_state=42)\n",
    "    elif model_name == 'SGDRegressorPolynomial':\n",
    "        degree = params.pop('degree')  # Usuwamy 'degree' dla wielomianowego modelu\n",
    "        model = Pipeline([\n",
    "            ('poly', PolynomialFeatures(degree=degree)),  # Dodanie transformacji cech wielomianowych\n",
    "            ('regressor', SGDRegressor(**params, random_state=42))\n",
    "        ])    \n",
    "    elif model_name == 'LogisticRegression':\n",
    "        model = LogisticRegression(**params, random_state=42)\n",
    "    elif model_name == 'DecisionTreeClassifier':\n",
    "        model = DecisionTreeClassifier(**params, random_state=42)\n",
    "    elif model_name == 'KNeighborsClassifier':\n",
    "        model = KNeighborsClassifier(**params)\n",
    "    elif model_name == 'SVC':\n",
    "        model = SVC(**params, random_state=42)\n",
    "    else:\n",
    "        raise ValueError(\"Unknown model\")\n",
    "\n",
    "    # Evaluar el modelo\n",
    "    total_score = 0\n",
    "    for i in range(1, 8):\n",
    "        data_train = globals()[f'df_train_{i}']\n",
    "        X_train = data_train.drop(columns=['label']).values\n",
    "        y_train = data_train['label'].values\n",
    "        \n",
    "        if model_name in ['SGDRegressor', 'SGDRegressorPolynomial', 'LogisticRegression']:\n",
    "            model.fit(X_train, y_train)\n",
    "            y_pred = model.predict(X_train)\n",
    "            if model_name == 'SGDRegressor' or model_name == 'SGDRegressorPolynomial':\n",
    "                score = mean_squared_error(y_train, y_pred)\n",
    "            else:\n",
    "                score = f1_score(y_train, y_pred, average='binary')\n",
    "        else:\n",
    "            model.fit(X_train, y_train)\n",
    "            y_pred = model.predict(X_train)\n",
    "            score = f1_score(y_train, y_pred, average='binary')\n",
    "        \n",
    "        total_score += score\n",
    "        \n",
    "    return total_score / 7  # Promedio de los resultados"
   ]
  },
  {
   "cell_type": "markdown",
   "metadata": {},
   "source": [
    "#### Regresión Lineal"
   ]
  },
  {
   "cell_type": "code",
   "execution_count": 16,
   "metadata": {},
   "outputs": [
    {
     "name": "stderr",
     "output_type": "stream",
     "text": [
      "[I 2024-11-10 22:41:53,005] A new study created in memory with name: no-name-30267b8c-3529-4ea4-9146-d55fc4d3df04\n",
      "C:\\Users\\48726\\AppData\\Local\\Temp\\ipykernel_9912\\2595821963.py:11: FutureWarning: suggest_loguniform has been deprecated in v3.0.0. This feature will be removed in v6.0.0. See https://github.com/optuna/optuna/releases/tag/v3.0.0. Use suggest_float(..., log=True) instead.\n",
      "  'alpha': lambda trial: trial.suggest_loguniform('alpha', 1e-4, 1e-1),\n",
      "C:\\Users\\48726\\AppData\\Local\\Temp\\ipykernel_9912\\2595821963.py:12: FutureWarning: suggest_loguniform has been deprecated in v3.0.0. This feature will be removed in v6.0.0. See https://github.com/optuna/optuna/releases/tag/v3.0.0. Use suggest_float(..., log=True) instead.\n",
      "  'eta0': lambda trial: trial.suggest_loguniform('eta0', 1e-3, 1.0),\n",
      "[I 2024-11-10 22:42:01,492] Trial 0 finished with value: 0.11880340509380409 and parameters: {'alpha': 0.0006862529899558914, 'eta0': 0.0647874316584021, 'penalty': 'elasticnet'}. Best is trial 0 with value: 0.11880340509380409.\n",
      "C:\\Users\\48726\\AppData\\Local\\Temp\\ipykernel_9912\\2595821963.py:11: FutureWarning: suggest_loguniform has been deprecated in v3.0.0. This feature will be removed in v6.0.0. See https://github.com/optuna/optuna/releases/tag/v3.0.0. Use suggest_float(..., log=True) instead.\n",
      "  'alpha': lambda trial: trial.suggest_loguniform('alpha', 1e-4, 1e-1),\n",
      "C:\\Users\\48726\\AppData\\Local\\Temp\\ipykernel_9912\\2595821963.py:12: FutureWarning: suggest_loguniform has been deprecated in v3.0.0. This feature will be removed in v6.0.0. See https://github.com/optuna/optuna/releases/tag/v3.0.0. Use suggest_float(..., log=True) instead.\n",
      "  'eta0': lambda trial: trial.suggest_loguniform('eta0', 1e-3, 1.0),\n",
      "[I 2024-11-10 22:42:06,583] Trial 1 finished with value: 0.2786311931420902 and parameters: {'alpha': 0.01776304277502779, 'eta0': 0.09244806906713704, 'penalty': 'l2'}. Best is trial 0 with value: 0.11880340509380409.\n",
      "C:\\Users\\48726\\AppData\\Local\\Temp\\ipykernel_9912\\2595821963.py:11: FutureWarning: suggest_loguniform has been deprecated in v3.0.0. This feature will be removed in v6.0.0. See https://github.com/optuna/optuna/releases/tag/v3.0.0. Use suggest_float(..., log=True) instead.\n",
      "  'alpha': lambda trial: trial.suggest_loguniform('alpha', 1e-4, 1e-1),\n",
      "C:\\Users\\48726\\AppData\\Local\\Temp\\ipykernel_9912\\2595821963.py:12: FutureWarning: suggest_loguniform has been deprecated in v3.0.0. This feature will be removed in v6.0.0. See https://github.com/optuna/optuna/releases/tag/v3.0.0. Use suggest_float(..., log=True) instead.\n",
      "  'eta0': lambda trial: trial.suggest_loguniform('eta0', 1e-3, 1.0),\n",
      "[I 2024-11-10 22:42:12,737] Trial 2 finished with value: 20787035941154.023 and parameters: {'alpha': 0.0006993065949386912, 'eta0': 0.10744169928401198, 'penalty': 'l1'}. Best is trial 0 with value: 0.11880340509380409.\n",
      "C:\\Users\\48726\\AppData\\Local\\Temp\\ipykernel_9912\\2595821963.py:11: FutureWarning: suggest_loguniform has been deprecated in v3.0.0. This feature will be removed in v6.0.0. See https://github.com/optuna/optuna/releases/tag/v3.0.0. Use suggest_float(..., log=True) instead.\n",
      "  'alpha': lambda trial: trial.suggest_loguniform('alpha', 1e-4, 1e-1),\n",
      "C:\\Users\\48726\\AppData\\Local\\Temp\\ipykernel_9912\\2595821963.py:12: FutureWarning: suggest_loguniform has been deprecated in v3.0.0. This feature will be removed in v6.0.0. See https://github.com/optuna/optuna/releases/tag/v3.0.0. Use suggest_float(..., log=True) instead.\n",
      "  'eta0': lambda trial: trial.suggest_loguniform('eta0', 1e-3, 1.0),\n",
      "[I 2024-11-10 22:42:17,894] Trial 3 finished with value: 0.11410727243258587 and parameters: {'alpha': 0.08728222151301784, 'eta0': 0.013201426535986875, 'penalty': 'l2'}. Best is trial 3 with value: 0.11410727243258587.\n",
      "C:\\Users\\48726\\AppData\\Local\\Temp\\ipykernel_9912\\2595821963.py:11: FutureWarning: suggest_loguniform has been deprecated in v3.0.0. This feature will be removed in v6.0.0. See https://github.com/optuna/optuna/releases/tag/v3.0.0. Use suggest_float(..., log=True) instead.\n",
      "  'alpha': lambda trial: trial.suggest_loguniform('alpha', 1e-4, 1e-1),\n",
      "C:\\Users\\48726\\AppData\\Local\\Temp\\ipykernel_9912\\2595821963.py:12: FutureWarning: suggest_loguniform has been deprecated in v3.0.0. This feature will be removed in v6.0.0. See https://github.com/optuna/optuna/releases/tag/v3.0.0. Use suggest_float(..., log=True) instead.\n",
      "  'eta0': lambda trial: trial.suggest_loguniform('eta0', 1e-3, 1.0),\n",
      "[I 2024-11-10 22:42:23,327] Trial 4 finished with value: 1300949377702771.2 and parameters: {'alpha': 0.0002813081307552956, 'eta0': 0.15364387157071469, 'penalty': 'l2'}. Best is trial 3 with value: 0.11410727243258587.\n",
      "C:\\Users\\48726\\AppData\\Local\\Temp\\ipykernel_9912\\2595821963.py:11: FutureWarning: suggest_loguniform has been deprecated in v3.0.0. This feature will be removed in v6.0.0. See https://github.com/optuna/optuna/releases/tag/v3.0.0. Use suggest_float(..., log=True) instead.\n",
      "  'alpha': lambda trial: trial.suggest_loguniform('alpha', 1e-4, 1e-1),\n",
      "C:\\Users\\48726\\AppData\\Local\\Temp\\ipykernel_9912\\2595821963.py:12: FutureWarning: suggest_loguniform has been deprecated in v3.0.0. This feature will be removed in v6.0.0. See https://github.com/optuna/optuna/releases/tag/v3.0.0. Use suggest_float(..., log=True) instead.\n",
      "  'eta0': lambda trial: trial.suggest_loguniform('eta0', 1e-3, 1.0),\n",
      "[I 2024-11-10 22:42:29,533] Trial 5 finished with value: 1.0191809430098988e+16 and parameters: {'alpha': 0.0029782791069532964, 'eta0': 0.22367895524606354, 'penalty': 'l1'}. Best is trial 3 with value: 0.11410727243258587.\n",
      "C:\\Users\\48726\\AppData\\Local\\Temp\\ipykernel_9912\\2595821963.py:11: FutureWarning: suggest_loguniform has been deprecated in v3.0.0. This feature will be removed in v6.0.0. See https://github.com/optuna/optuna/releases/tag/v3.0.0. Use suggest_float(..., log=True) instead.\n",
      "  'alpha': lambda trial: trial.suggest_loguniform('alpha', 1e-4, 1e-1),\n",
      "C:\\Users\\48726\\AppData\\Local\\Temp\\ipykernel_9912\\2595821963.py:12: FutureWarning: suggest_loguniform has been deprecated in v3.0.0. This feature will be removed in v6.0.0. See https://github.com/optuna/optuna/releases/tag/v3.0.0. Use suggest_float(..., log=True) instead.\n",
      "  'eta0': lambda trial: trial.suggest_loguniform('eta0', 1e-3, 1.0),\n",
      "[I 2024-11-10 22:42:34,597] Trial 6 finished with value: 0.11371432812740925 and parameters: {'alpha': 0.01279703220090081, 'eta0': 0.01356039049019464, 'penalty': 'l2'}. Best is trial 6 with value: 0.11371432812740925.\n",
      "C:\\Users\\48726\\AppData\\Local\\Temp\\ipykernel_9912\\2595821963.py:11: FutureWarning: suggest_loguniform has been deprecated in v3.0.0. This feature will be removed in v6.0.0. See https://github.com/optuna/optuna/releases/tag/v3.0.0. Use suggest_float(..., log=True) instead.\n",
      "  'alpha': lambda trial: trial.suggest_loguniform('alpha', 1e-4, 1e-1),\n",
      "C:\\Users\\48726\\AppData\\Local\\Temp\\ipykernel_9912\\2595821963.py:12: FutureWarning: suggest_loguniform has been deprecated in v3.0.0. This feature will be removed in v6.0.0. See https://github.com/optuna/optuna/releases/tag/v3.0.0. Use suggest_float(..., log=True) instead.\n",
      "  'eta0': lambda trial: trial.suggest_loguniform('eta0', 1e-3, 1.0),\n",
      "[I 2024-11-10 22:42:40,873] Trial 7 finished with value: 1.2149384790060876e+16 and parameters: {'alpha': 0.0025739366924100162, 'eta0': 0.21307624430165076, 'penalty': 'l1'}. Best is trial 6 with value: 0.11371432812740925.\n",
      "C:\\Users\\48726\\AppData\\Local\\Temp\\ipykernel_9912\\2595821963.py:11: FutureWarning: suggest_loguniform has been deprecated in v3.0.0. This feature will be removed in v6.0.0. See https://github.com/optuna/optuna/releases/tag/v3.0.0. Use suggest_float(..., log=True) instead.\n",
      "  'alpha': lambda trial: trial.suggest_loguniform('alpha', 1e-4, 1e-1),\n",
      "C:\\Users\\48726\\AppData\\Local\\Temp\\ipykernel_9912\\2595821963.py:12: FutureWarning: suggest_loguniform has been deprecated in v3.0.0. This feature will be removed in v6.0.0. See https://github.com/optuna/optuna/releases/tag/v3.0.0. Use suggest_float(..., log=True) instead.\n",
      "  'eta0': lambda trial: trial.suggest_loguniform('eta0', 1e-3, 1.0),\n",
      "[I 2024-11-10 22:42:48,595] Trial 8 finished with value: 0.12572380573286462 and parameters: {'alpha': 0.04880839501481898, 'eta0': 0.10141152141538493, 'penalty': 'l1'}. Best is trial 6 with value: 0.11371432812740925.\n",
      "C:\\Users\\48726\\AppData\\Local\\Temp\\ipykernel_9912\\2595821963.py:11: FutureWarning: suggest_loguniform has been deprecated in v3.0.0. This feature will be removed in v6.0.0. See https://github.com/optuna/optuna/releases/tag/v3.0.0. Use suggest_float(..., log=True) instead.\n",
      "  'alpha': lambda trial: trial.suggest_loguniform('alpha', 1e-4, 1e-1),\n",
      "C:\\Users\\48726\\AppData\\Local\\Temp\\ipykernel_9912\\2595821963.py:12: FutureWarning: suggest_loguniform has been deprecated in v3.0.0. This feature will be removed in v6.0.0. See https://github.com/optuna/optuna/releases/tag/v3.0.0. Use suggest_float(..., log=True) instead.\n",
      "  'eta0': lambda trial: trial.suggest_loguniform('eta0', 1e-3, 1.0),\n",
      "[I 2024-11-10 22:42:54,853] Trial 9 finished with value: 0.1129549661656386 and parameters: {'alpha': 0.019804384357314523, 'eta0': 0.0018092618165200514, 'penalty': 'elasticnet'}. Best is trial 9 with value: 0.1129549661656386.\n",
      "C:\\Users\\48726\\AppData\\Local\\Temp\\ipykernel_9912\\2595821963.py:11: FutureWarning: suggest_loguniform has been deprecated in v3.0.0. This feature will be removed in v6.0.0. See https://github.com/optuna/optuna/releases/tag/v3.0.0. Use suggest_float(..., log=True) instead.\n",
      "  'alpha': lambda trial: trial.suggest_loguniform('alpha', 1e-4, 1e-1),\n",
      "C:\\Users\\48726\\AppData\\Local\\Temp\\ipykernel_9912\\2595821963.py:12: FutureWarning: suggest_loguniform has been deprecated in v3.0.0. This feature will be removed in v6.0.0. See https://github.com/optuna/optuna/releases/tag/v3.0.0. Use suggest_float(..., log=True) instead.\n",
      "  'eta0': lambda trial: trial.suggest_loguniform('eta0', 1e-3, 1.0),\n",
      "[I 2024-11-10 22:43:01,085] Trial 10 finished with value: 0.11260585061474773 and parameters: {'alpha': 0.012750276334032355, 'eta0': 0.0012679382651744266, 'penalty': 'elasticnet'}. Best is trial 10 with value: 0.11260585061474773.\n",
      "C:\\Users\\48726\\AppData\\Local\\Temp\\ipykernel_9912\\2595821963.py:11: FutureWarning: suggest_loguniform has been deprecated in v3.0.0. This feature will be removed in v6.0.0. See https://github.com/optuna/optuna/releases/tag/v3.0.0. Use suggest_float(..., log=True) instead.\n",
      "  'alpha': lambda trial: trial.suggest_loguniform('alpha', 1e-4, 1e-1),\n",
      "C:\\Users\\48726\\AppData\\Local\\Temp\\ipykernel_9912\\2595821963.py:12: FutureWarning: suggest_loguniform has been deprecated in v3.0.0. This feature will be removed in v6.0.0. See https://github.com/optuna/optuna/releases/tag/v3.0.0. Use suggest_float(..., log=True) instead.\n",
      "  'eta0': lambda trial: trial.suggest_loguniform('eta0', 1e-3, 1.0),\n",
      "[I 2024-11-10 22:43:06,933] Trial 11 finished with value: 0.11259349395206367 and parameters: {'alpha': 0.0120922114429159, 'eta0': 0.0014042959386591153, 'penalty': 'elasticnet'}. Best is trial 11 with value: 0.11259349395206367.\n",
      "C:\\Users\\48726\\AppData\\Local\\Temp\\ipykernel_9912\\2595821963.py:11: FutureWarning: suggest_loguniform has been deprecated in v3.0.0. This feature will be removed in v6.0.0. See https://github.com/optuna/optuna/releases/tag/v3.0.0. Use suggest_float(..., log=True) instead.\n",
      "  'alpha': lambda trial: trial.suggest_loguniform('alpha', 1e-4, 1e-1),\n",
      "C:\\Users\\48726\\AppData\\Local\\Temp\\ipykernel_9912\\2595821963.py:12: FutureWarning: suggest_loguniform has been deprecated in v3.0.0. This feature will be removed in v6.0.0. See https://github.com/optuna/optuna/releases/tag/v3.0.0. Use suggest_float(..., log=True) instead.\n",
      "  'eta0': lambda trial: trial.suggest_loguniform('eta0', 1e-3, 1.0),\n",
      "[I 2024-11-10 22:43:12,422] Trial 12 finished with value: 0.11239809383767117 and parameters: {'alpha': 0.006715190822105996, 'eta0': 0.0010687943082028737, 'penalty': 'elasticnet'}. Best is trial 12 with value: 0.11239809383767117.\n",
      "C:\\Users\\48726\\AppData\\Local\\Temp\\ipykernel_9912\\2595821963.py:11: FutureWarning: suggest_loguniform has been deprecated in v3.0.0. This feature will be removed in v6.0.0. See https://github.com/optuna/optuna/releases/tag/v3.0.0. Use suggest_float(..., log=True) instead.\n",
      "  'alpha': lambda trial: trial.suggest_loguniform('alpha', 1e-4, 1e-1),\n",
      "C:\\Users\\48726\\AppData\\Local\\Temp\\ipykernel_9912\\2595821963.py:12: FutureWarning: suggest_loguniform has been deprecated in v3.0.0. This feature will be removed in v6.0.0. See https://github.com/optuna/optuna/releases/tag/v3.0.0. Use suggest_float(..., log=True) instead.\n",
      "  'eta0': lambda trial: trial.suggest_loguniform('eta0', 1e-3, 1.0),\n",
      "[I 2024-11-10 22:43:18,324] Trial 13 finished with value: 0.11267258717167657 and parameters: {'alpha': 0.005598393981211608, 'eta0': 0.003948965670959695, 'penalty': 'elasticnet'}. Best is trial 12 with value: 0.11239809383767117.\n",
      "C:\\Users\\48726\\AppData\\Local\\Temp\\ipykernel_9912\\2595821963.py:11: FutureWarning: suggest_loguniform has been deprecated in v3.0.0. This feature will be removed in v6.0.0. See https://github.com/optuna/optuna/releases/tag/v3.0.0. Use suggest_float(..., log=True) instead.\n",
      "  'alpha': lambda trial: trial.suggest_loguniform('alpha', 1e-4, 1e-1),\n",
      "C:\\Users\\48726\\AppData\\Local\\Temp\\ipykernel_9912\\2595821963.py:12: FutureWarning: suggest_loguniform has been deprecated in v3.0.0. This feature will be removed in v6.0.0. See https://github.com/optuna/optuna/releases/tag/v3.0.0. Use suggest_float(..., log=True) instead.\n",
      "  'eta0': lambda trial: trial.suggest_loguniform('eta0', 1e-3, 1.0),\n",
      "[I 2024-11-10 22:43:24,044] Trial 14 finished with value: 0.11272142296389605 and parameters: {'alpha': 0.0059211494932256085, 'eta0': 0.004386376394677177, 'penalty': 'elasticnet'}. Best is trial 12 with value: 0.11239809383767117.\n",
      "C:\\Users\\48726\\AppData\\Local\\Temp\\ipykernel_9912\\2595821963.py:11: FutureWarning: suggest_loguniform has been deprecated in v3.0.0. This feature will be removed in v6.0.0. See https://github.com/optuna/optuna/releases/tag/v3.0.0. Use suggest_float(..., log=True) instead.\n",
      "  'alpha': lambda trial: trial.suggest_loguniform('alpha', 1e-4, 1e-1),\n",
      "C:\\Users\\48726\\AppData\\Local\\Temp\\ipykernel_9912\\2595821963.py:12: FutureWarning: suggest_loguniform has been deprecated in v3.0.0. This feature will be removed in v6.0.0. See https://github.com/optuna/optuna/releases/tag/v3.0.0. Use suggest_float(..., log=True) instead.\n",
      "  'eta0': lambda trial: trial.suggest_loguniform('eta0', 1e-3, 1.0),\n",
      "[I 2024-11-10 22:43:29,125] Trial 15 finished with value: 0.11224822240725098 and parameters: {'alpha': 0.0011543254857205485, 'eta0': 0.0010704775350450365, 'penalty': 'elasticnet'}. Best is trial 15 with value: 0.11224822240725098.\n",
      "C:\\Users\\48726\\AppData\\Local\\Temp\\ipykernel_9912\\2595821963.py:11: FutureWarning: suggest_loguniform has been deprecated in v3.0.0. This feature will be removed in v6.0.0. See https://github.com/optuna/optuna/releases/tag/v3.0.0. Use suggest_float(..., log=True) instead.\n",
      "  'alpha': lambda trial: trial.suggest_loguniform('alpha', 1e-4, 1e-1),\n",
      "C:\\Users\\48726\\AppData\\Local\\Temp\\ipykernel_9912\\2595821963.py:12: FutureWarning: suggest_loguniform has been deprecated in v3.0.0. This feature will be removed in v6.0.0. See https://github.com/optuna/optuna/releases/tag/v3.0.0. Use suggest_float(..., log=True) instead.\n",
      "  'eta0': lambda trial: trial.suggest_loguniform('eta0', 1e-3, 1.0),\n",
      "[I 2024-11-10 22:43:35,402] Trial 16 finished with value: 3.808691953236382e+23 and parameters: {'alpha': 0.000931889970110111, 'eta0': 0.8798886579840042, 'penalty': 'elasticnet'}. Best is trial 15 with value: 0.11224822240725098.\n",
      "C:\\Users\\48726\\AppData\\Local\\Temp\\ipykernel_9912\\2595821963.py:11: FutureWarning: suggest_loguniform has been deprecated in v3.0.0. This feature will be removed in v6.0.0. See https://github.com/optuna/optuna/releases/tag/v3.0.0. Use suggest_float(..., log=True) instead.\n",
      "  'alpha': lambda trial: trial.suggest_loguniform('alpha', 1e-4, 1e-1),\n",
      "C:\\Users\\48726\\AppData\\Local\\Temp\\ipykernel_9912\\2595821963.py:12: FutureWarning: suggest_loguniform has been deprecated in v3.0.0. This feature will be removed in v6.0.0. See https://github.com/optuna/optuna/releases/tag/v3.0.0. Use suggest_float(..., log=True) instead.\n",
      "  'eta0': lambda trial: trial.suggest_loguniform('eta0', 1e-3, 1.0),\n",
      "[I 2024-11-10 22:43:40,652] Trial 17 finished with value: 0.11244571590235637 and parameters: {'alpha': 0.001451301707464656, 'eta0': 0.0035643530247762394, 'penalty': 'elasticnet'}. Best is trial 15 with value: 0.11224822240725098.\n",
      "C:\\Users\\48726\\AppData\\Local\\Temp\\ipykernel_9912\\2595821963.py:11: FutureWarning: suggest_loguniform has been deprecated in v3.0.0. This feature will be removed in v6.0.0. See https://github.com/optuna/optuna/releases/tag/v3.0.0. Use suggest_float(..., log=True) instead.\n",
      "  'alpha': lambda trial: trial.suggest_loguniform('alpha', 1e-4, 1e-1),\n",
      "C:\\Users\\48726\\AppData\\Local\\Temp\\ipykernel_9912\\2595821963.py:12: FutureWarning: suggest_loguniform has been deprecated in v3.0.0. This feature will be removed in v6.0.0. See https://github.com/optuna/optuna/releases/tag/v3.0.0. Use suggest_float(..., log=True) instead.\n",
      "  'eta0': lambda trial: trial.suggest_loguniform('eta0', 1e-3, 1.0),\n",
      "[I 2024-11-10 22:43:46,175] Trial 18 finished with value: 0.11303351240475319 and parameters: {'alpha': 0.00010558687577700154, 'eta0': 0.009939479382198349, 'penalty': 'elasticnet'}. Best is trial 15 with value: 0.11224822240725098.\n",
      "C:\\Users\\48726\\AppData\\Local\\Temp\\ipykernel_9912\\2595821963.py:11: FutureWarning: suggest_loguniform has been deprecated in v3.0.0. This feature will be removed in v6.0.0. See https://github.com/optuna/optuna/releases/tag/v3.0.0. Use suggest_float(..., log=True) instead.\n",
      "  'alpha': lambda trial: trial.suggest_loguniform('alpha', 1e-4, 1e-1),\n",
      "C:\\Users\\48726\\AppData\\Local\\Temp\\ipykernel_9912\\2595821963.py:12: FutureWarning: suggest_loguniform has been deprecated in v3.0.0. This feature will be removed in v6.0.0. See https://github.com/optuna/optuna/releases/tag/v3.0.0. Use suggest_float(..., log=True) instead.\n",
      "  'eta0': lambda trial: trial.suggest_loguniform('eta0', 1e-3, 1.0),\n",
      "[I 2024-11-10 22:43:52,205] Trial 19 finished with value: 0.11492067597524268 and parameters: {'alpha': 0.0015847399374539278, 'eta0': 0.034715805266826695, 'penalty': 'elasticnet'}. Best is trial 15 with value: 0.11224822240725098.\n",
      "C:\\Users\\48726\\AppData\\Local\\Temp\\ipykernel_9912\\2595821963.py:11: FutureWarning: suggest_loguniform has been deprecated in v3.0.0. This feature will be removed in v6.0.0. See https://github.com/optuna/optuna/releases/tag/v3.0.0. Use suggest_float(..., log=True) instead.\n",
      "  'alpha': lambda trial: trial.suggest_loguniform('alpha', 1e-4, 1e-1),\n",
      "C:\\Users\\48726\\AppData\\Local\\Temp\\ipykernel_9912\\2595821963.py:12: FutureWarning: suggest_loguniform has been deprecated in v3.0.0. This feature will be removed in v6.0.0. See https://github.com/optuna/optuna/releases/tag/v3.0.0. Use suggest_float(..., log=True) instead.\n",
      "  'eta0': lambda trial: trial.suggest_loguniform('eta0', 1e-3, 1.0),\n",
      "[I 2024-11-10 22:43:57,415] Trial 20 finished with value: 0.112282983026178 and parameters: {'alpha': 0.00032538860504280104, 'eta0': 0.0024525117310821667, 'penalty': 'elasticnet'}. Best is trial 15 with value: 0.11224822240725098.\n",
      "C:\\Users\\48726\\AppData\\Local\\Temp\\ipykernel_9912\\2595821963.py:11: FutureWarning: suggest_loguniform has been deprecated in v3.0.0. This feature will be removed in v6.0.0. See https://github.com/optuna/optuna/releases/tag/v3.0.0. Use suggest_float(..., log=True) instead.\n",
      "  'alpha': lambda trial: trial.suggest_loguniform('alpha', 1e-4, 1e-1),\n",
      "C:\\Users\\48726\\AppData\\Local\\Temp\\ipykernel_9912\\2595821963.py:12: FutureWarning: suggest_loguniform has been deprecated in v3.0.0. This feature will be removed in v6.0.0. See https://github.com/optuna/optuna/releases/tag/v3.0.0. Use suggest_float(..., log=True) instead.\n",
      "  'eta0': lambda trial: trial.suggest_loguniform('eta0', 1e-3, 1.0),\n",
      "[I 2024-11-10 22:44:02,511] Trial 21 finished with value: 0.11221473627422897 and parameters: {'alpha': 0.00024447229269529533, 'eta0': 0.001028610977043748, 'penalty': 'elasticnet'}. Best is trial 21 with value: 0.11221473627422897.\n",
      "C:\\Users\\48726\\AppData\\Local\\Temp\\ipykernel_9912\\2595821963.py:11: FutureWarning: suggest_loguniform has been deprecated in v3.0.0. This feature will be removed in v6.0.0. See https://github.com/optuna/optuna/releases/tag/v3.0.0. Use suggest_float(..., log=True) instead.\n",
      "  'alpha': lambda trial: trial.suggest_loguniform('alpha', 1e-4, 1e-1),\n",
      "C:\\Users\\48726\\AppData\\Local\\Temp\\ipykernel_9912\\2595821963.py:12: FutureWarning: suggest_loguniform has been deprecated in v3.0.0. This feature will be removed in v6.0.0. See https://github.com/optuna/optuna/releases/tag/v3.0.0. Use suggest_float(..., log=True) instead.\n",
      "  'eta0': lambda trial: trial.suggest_loguniform('eta0', 1e-3, 1.0),\n",
      "[I 2024-11-10 22:44:08,392] Trial 22 finished with value: 0.11228509654946321 and parameters: {'alpha': 0.0002658479653185151, 'eta0': 0.0025098694590626478, 'penalty': 'elasticnet'}. Best is trial 21 with value: 0.11221473627422897.\n",
      "C:\\Users\\48726\\AppData\\Local\\Temp\\ipykernel_9912\\2595821963.py:11: FutureWarning: suggest_loguniform has been deprecated in v3.0.0. This feature will be removed in v6.0.0. See https://github.com/optuna/optuna/releases/tag/v3.0.0. Use suggest_float(..., log=True) instead.\n",
      "  'alpha': lambda trial: trial.suggest_loguniform('alpha', 1e-4, 1e-1),\n",
      "C:\\Users\\48726\\AppData\\Local\\Temp\\ipykernel_9912\\2595821963.py:12: FutureWarning: suggest_loguniform has been deprecated in v3.0.0. This feature will be removed in v6.0.0. See https://github.com/optuna/optuna/releases/tag/v3.0.0. Use suggest_float(..., log=True) instead.\n",
      "  'eta0': lambda trial: trial.suggest_loguniform('eta0', 1e-3, 1.0),\n",
      "[I 2024-11-10 22:44:13,607] Trial 23 finished with value: 0.11267516128384177 and parameters: {'alpha': 0.00029076359578218333, 'eta0': 0.006657315009449055, 'penalty': 'elasticnet'}. Best is trial 21 with value: 0.11221473627422897.\n",
      "C:\\Users\\48726\\AppData\\Local\\Temp\\ipykernel_9912\\2595821963.py:11: FutureWarning: suggest_loguniform has been deprecated in v3.0.0. This feature will be removed in v6.0.0. See https://github.com/optuna/optuna/releases/tag/v3.0.0. Use suggest_float(..., log=True) instead.\n",
      "  'alpha': lambda trial: trial.suggest_loguniform('alpha', 1e-4, 1e-1),\n",
      "C:\\Users\\48726\\AppData\\Local\\Temp\\ipykernel_9912\\2595821963.py:12: FutureWarning: suggest_loguniform has been deprecated in v3.0.0. This feature will be removed in v6.0.0. See https://github.com/optuna/optuna/releases/tag/v3.0.0. Use suggest_float(..., log=True) instead.\n",
      "  'eta0': lambda trial: trial.suggest_loguniform('eta0', 1e-3, 1.0),\n",
      "[I 2024-11-10 22:44:18,847] Trial 24 finished with value: 0.1122540969329863 and parameters: {'alpha': 0.00010711450181430892, 'eta0': 0.0021144654592619434, 'penalty': 'elasticnet'}. Best is trial 21 with value: 0.11221473627422897.\n",
      "C:\\Users\\48726\\AppData\\Local\\Temp\\ipykernel_9912\\2595821963.py:11: FutureWarning: suggest_loguniform has been deprecated in v3.0.0. This feature will be removed in v6.0.0. See https://github.com/optuna/optuna/releases/tag/v3.0.0. Use suggest_float(..., log=True) instead.\n",
      "  'alpha': lambda trial: trial.suggest_loguniform('alpha', 1e-4, 1e-1),\n",
      "C:\\Users\\48726\\AppData\\Local\\Temp\\ipykernel_9912\\2595821963.py:12: FutureWarning: suggest_loguniform has been deprecated in v3.0.0. This feature will be removed in v6.0.0. See https://github.com/optuna/optuna/releases/tag/v3.0.0. Use suggest_float(..., log=True) instead.\n",
      "  'eta0': lambda trial: trial.suggest_loguniform('eta0', 1e-3, 1.0),\n",
      "[I 2024-11-10 22:44:24,130] Trial 25 finished with value: 0.11221225172384228 and parameters: {'alpha': 0.00013117324584237315, 'eta0': 0.0010886262850832657, 'penalty': 'elasticnet'}. Best is trial 25 with value: 0.11221225172384228.\n",
      "C:\\Users\\48726\\AppData\\Local\\Temp\\ipykernel_9912\\2595821963.py:11: FutureWarning: suggest_loguniform has been deprecated in v3.0.0. This feature will be removed in v6.0.0. See https://github.com/optuna/optuna/releases/tag/v3.0.0. Use suggest_float(..., log=True) instead.\n",
      "  'alpha': lambda trial: trial.suggest_loguniform('alpha', 1e-4, 1e-1),\n",
      "C:\\Users\\48726\\AppData\\Local\\Temp\\ipykernel_9912\\2595821963.py:12: FutureWarning: suggest_loguniform has been deprecated in v3.0.0. This feature will be removed in v6.0.0. See https://github.com/optuna/optuna/releases/tag/v3.0.0. Use suggest_float(..., log=True) instead.\n",
      "  'eta0': lambda trial: trial.suggest_loguniform('eta0', 1e-3, 1.0),\n",
      "[I 2024-11-10 22:44:29,452] Trial 26 finished with value: 0.11221260449892892 and parameters: {'alpha': 0.0001586927087682285, 'eta0': 0.0010685742802924588, 'penalty': 'elasticnet'}. Best is trial 25 with value: 0.11221225172384228.\n",
      "C:\\Users\\48726\\AppData\\Local\\Temp\\ipykernel_9912\\2595821963.py:11: FutureWarning: suggest_loguniform has been deprecated in v3.0.0. This feature will be removed in v6.0.0. See https://github.com/optuna/optuna/releases/tag/v3.0.0. Use suggest_float(..., log=True) instead.\n",
      "  'alpha': lambda trial: trial.suggest_loguniform('alpha', 1e-4, 1e-1),\n",
      "C:\\Users\\48726\\AppData\\Local\\Temp\\ipykernel_9912\\2595821963.py:12: FutureWarning: suggest_loguniform has been deprecated in v3.0.0. This feature will be removed in v6.0.0. See https://github.com/optuna/optuna/releases/tag/v3.0.0. Use suggest_float(..., log=True) instead.\n",
      "  'eta0': lambda trial: trial.suggest_loguniform('eta0', 1e-3, 1.0),\n",
      "[I 2024-11-10 22:44:34,560] Trial 27 finished with value: 0.11268031621207307 and parameters: {'alpha': 0.0001399661684647066, 'eta0': 0.006420111083135601, 'penalty': 'elasticnet'}. Best is trial 25 with value: 0.11221225172384228.\n",
      "C:\\Users\\48726\\AppData\\Local\\Temp\\ipykernel_9912\\2595821963.py:11: FutureWarning: suggest_loguniform has been deprecated in v3.0.0. This feature will be removed in v6.0.0. See https://github.com/optuna/optuna/releases/tag/v3.0.0. Use suggest_float(..., log=True) instead.\n",
      "  'alpha': lambda trial: trial.suggest_loguniform('alpha', 1e-4, 1e-1),\n",
      "C:\\Users\\48726\\AppData\\Local\\Temp\\ipykernel_9912\\2595821963.py:12: FutureWarning: suggest_loguniform has been deprecated in v3.0.0. This feature will be removed in v6.0.0. See https://github.com/optuna/optuna/releases/tag/v3.0.0. Use suggest_float(..., log=True) instead.\n",
      "  'eta0': lambda trial: trial.suggest_loguniform('eta0', 1e-3, 1.0),\n",
      "[I 2024-11-10 22:44:39,846] Trial 28 finished with value: 0.11224353519760756 and parameters: {'alpha': 0.00017684252710022073, 'eta0': 0.001002879617884329, 'penalty': 'l1'}. Best is trial 25 with value: 0.11221225172384228.\n",
      "C:\\Users\\48726\\AppData\\Local\\Temp\\ipykernel_9912\\2595821963.py:11: FutureWarning: suggest_loguniform has been deprecated in v3.0.0. This feature will be removed in v6.0.0. See https://github.com/optuna/optuna/releases/tag/v3.0.0. Use suggest_float(..., log=True) instead.\n",
      "  'alpha': lambda trial: trial.suggest_loguniform('alpha', 1e-4, 1e-1),\n",
      "C:\\Users\\48726\\AppData\\Local\\Temp\\ipykernel_9912\\2595821963.py:12: FutureWarning: suggest_loguniform has been deprecated in v3.0.0. This feature will be removed in v6.0.0. See https://github.com/optuna/optuna/releases/tag/v3.0.0. Use suggest_float(..., log=True) instead.\n",
      "  'eta0': lambda trial: trial.suggest_loguniform('eta0', 1e-3, 1.0),\n",
      "[I 2024-11-10 22:44:44,805] Trial 29 finished with value: 0.11674990565341468 and parameters: {'alpha': 0.0004971273806270161, 'eta0': 0.02750359603168136, 'penalty': 'l2'}. Best is trial 25 with value: 0.11221225172384228.\n",
      "C:\\Users\\48726\\AppData\\Local\\Temp\\ipykernel_9912\\2595821963.py:11: FutureWarning: suggest_loguniform has been deprecated in v3.0.0. This feature will be removed in v6.0.0. See https://github.com/optuna/optuna/releases/tag/v3.0.0. Use suggest_float(..., log=True) instead.\n",
      "  'alpha': lambda trial: trial.suggest_loguniform('alpha', 1e-4, 1e-1),\n",
      "C:\\Users\\48726\\AppData\\Local\\Temp\\ipykernel_9912\\2595821963.py:12: FutureWarning: suggest_loguniform has been deprecated in v3.0.0. This feature will be removed in v6.0.0. See https://github.com/optuna/optuna/releases/tag/v3.0.0. Use suggest_float(..., log=True) instead.\n",
      "  'eta0': lambda trial: trial.suggest_loguniform('eta0', 1e-3, 1.0),\n",
      "[I 2024-11-10 22:44:50,262] Trial 30 finished with value: 0.11224934858750013 and parameters: {'alpha': 0.0005092956032592186, 'eta0': 0.0018483414243362713, 'penalty': 'elasticnet'}. Best is trial 25 with value: 0.11221225172384228.\n",
      "C:\\Users\\48726\\AppData\\Local\\Temp\\ipykernel_9912\\2595821963.py:11: FutureWarning: suggest_loguniform has been deprecated in v3.0.0. This feature will be removed in v6.0.0. See https://github.com/optuna/optuna/releases/tag/v3.0.0. Use suggest_float(..., log=True) instead.\n",
      "  'alpha': lambda trial: trial.suggest_loguniform('alpha', 1e-4, 1e-1),\n",
      "C:\\Users\\48726\\AppData\\Local\\Temp\\ipykernel_9912\\2595821963.py:12: FutureWarning: suggest_loguniform has been deprecated in v3.0.0. This feature will be removed in v6.0.0. See https://github.com/optuna/optuna/releases/tag/v3.0.0. Use suggest_float(..., log=True) instead.\n",
      "  'eta0': lambda trial: trial.suggest_loguniform('eta0', 1e-3, 1.0),\n",
      "[I 2024-11-10 22:44:55,978] Trial 31 finished with value: 0.11224675314785923 and parameters: {'alpha': 0.00018393027998180598, 'eta0': 0.0010884021818189725, 'penalty': 'l1'}. Best is trial 25 with value: 0.11221225172384228.\n",
      "C:\\Users\\48726\\AppData\\Local\\Temp\\ipykernel_9912\\2595821963.py:11: FutureWarning: suggest_loguniform has been deprecated in v3.0.0. This feature will be removed in v6.0.0. See https://github.com/optuna/optuna/releases/tag/v3.0.0. Use suggest_float(..., log=True) instead.\n",
      "  'alpha': lambda trial: trial.suggest_loguniform('alpha', 1e-4, 1e-1),\n",
      "C:\\Users\\48726\\AppData\\Local\\Temp\\ipykernel_9912\\2595821963.py:12: FutureWarning: suggest_loguniform has been deprecated in v3.0.0. This feature will be removed in v6.0.0. See https://github.com/optuna/optuna/releases/tag/v3.0.0. Use suggest_float(..., log=True) instead.\n",
      "  'eta0': lambda trial: trial.suggest_loguniform('eta0', 1e-3, 1.0),\n",
      "[I 2024-11-10 22:45:01,293] Trial 32 finished with value: 0.11249511180152448 and parameters: {'alpha': 0.0004422434439271235, 'eta0': 0.0030789349053889797, 'penalty': 'l1'}. Best is trial 25 with value: 0.11221225172384228.\n",
      "C:\\Users\\48726\\AppData\\Local\\Temp\\ipykernel_9912\\2595821963.py:11: FutureWarning: suggest_loguniform has been deprecated in v3.0.0. This feature will be removed in v6.0.0. See https://github.com/optuna/optuna/releases/tag/v3.0.0. Use suggest_float(..., log=True) instead.\n",
      "  'alpha': lambda trial: trial.suggest_loguniform('alpha', 1e-4, 1e-1),\n",
      "C:\\Users\\48726\\AppData\\Local\\Temp\\ipykernel_9912\\2595821963.py:12: FutureWarning: suggest_loguniform has been deprecated in v3.0.0. This feature will be removed in v6.0.0. See https://github.com/optuna/optuna/releases/tag/v3.0.0. Use suggest_float(..., log=True) instead.\n",
      "  'eta0': lambda trial: trial.suggest_loguniform('eta0', 1e-3, 1.0),\n",
      "[I 2024-11-10 22:45:06,668] Trial 33 finished with value: 0.1122658310085138 and parameters: {'alpha': 0.00018196870053496266, 'eta0': 0.0016634248132120575, 'penalty': 'l1'}. Best is trial 25 with value: 0.11221225172384228.\n",
      "C:\\Users\\48726\\AppData\\Local\\Temp\\ipykernel_9912\\2595821963.py:11: FutureWarning: suggest_loguniform has been deprecated in v3.0.0. This feature will be removed in v6.0.0. See https://github.com/optuna/optuna/releases/tag/v3.0.0. Use suggest_float(..., log=True) instead.\n",
      "  'alpha': lambda trial: trial.suggest_loguniform('alpha', 1e-4, 1e-1),\n",
      "C:\\Users\\48726\\AppData\\Local\\Temp\\ipykernel_9912\\2595821963.py:12: FutureWarning: suggest_loguniform has been deprecated in v3.0.0. This feature will be removed in v6.0.0. See https://github.com/optuna/optuna/releases/tag/v3.0.0. Use suggest_float(..., log=True) instead.\n",
      "  'eta0': lambda trial: trial.suggest_loguniform('eta0', 1e-3, 1.0),\n",
      "[I 2024-11-10 22:45:13,110] Trial 34 finished with value: 0.11257747956694909 and parameters: {'alpha': 0.0001661169114575243, 'eta0': 0.005522493802821249, 'penalty': 'l1'}. Best is trial 25 with value: 0.11221225172384228.\n",
      "C:\\Users\\48726\\AppData\\Local\\Temp\\ipykernel_9912\\2595821963.py:11: FutureWarning: suggest_loguniform has been deprecated in v3.0.0. This feature will be removed in v6.0.0. See https://github.com/optuna/optuna/releases/tag/v3.0.0. Use suggest_float(..., log=True) instead.\n",
      "  'alpha': lambda trial: trial.suggest_loguniform('alpha', 1e-4, 1e-1),\n",
      "C:\\Users\\48726\\AppData\\Local\\Temp\\ipykernel_9912\\2595821963.py:12: FutureWarning: suggest_loguniform has been deprecated in v3.0.0. This feature will be removed in v6.0.0. See https://github.com/optuna/optuna/releases/tag/v3.0.0. Use suggest_float(..., log=True) instead.\n",
      "  'eta0': lambda trial: trial.suggest_loguniform('eta0', 1e-3, 1.0),\n",
      "[I 2024-11-10 22:45:18,714] Trial 35 finished with value: 0.11229594683069556 and parameters: {'alpha': 0.0002170505756523236, 'eta0': 0.0026578906776487613, 'penalty': 'l2'}. Best is trial 25 with value: 0.11221225172384228.\n",
      "C:\\Users\\48726\\AppData\\Local\\Temp\\ipykernel_9912\\2595821963.py:11: FutureWarning: suggest_loguniform has been deprecated in v3.0.0. This feature will be removed in v6.0.0. See https://github.com/optuna/optuna/releases/tag/v3.0.0. Use suggest_float(..., log=True) instead.\n",
      "  'alpha': lambda trial: trial.suggest_loguniform('alpha', 1e-4, 1e-1),\n",
      "C:\\Users\\48726\\AppData\\Local\\Temp\\ipykernel_9912\\2595821963.py:12: FutureWarning: suggest_loguniform has been deprecated in v3.0.0. This feature will be removed in v6.0.0. See https://github.com/optuna/optuna/releases/tag/v3.0.0. Use suggest_float(..., log=True) instead.\n",
      "  'eta0': lambda trial: trial.suggest_loguniform('eta0', 1e-3, 1.0),\n",
      "[I 2024-11-10 22:52:21,246] Trial 36 finished with value: 0.11234589203295366 and parameters: {'alpha': 0.00041179239854234877, 'eta0': 0.0016064413343254453, 'penalty': 'l1'}. Best is trial 25 with value: 0.11221225172384228.\n",
      "C:\\Users\\48726\\AppData\\Local\\Temp\\ipykernel_9912\\2595821963.py:11: FutureWarning: suggest_loguniform has been deprecated in v3.0.0. This feature will be removed in v6.0.0. See https://github.com/optuna/optuna/releases/tag/v3.0.0. Use suggest_float(..., log=True) instead.\n",
      "  'alpha': lambda trial: trial.suggest_loguniform('alpha', 1e-4, 1e-1),\n",
      "C:\\Users\\48726\\AppData\\Local\\Temp\\ipykernel_9912\\2595821963.py:12: FutureWarning: suggest_loguniform has been deprecated in v3.0.0. This feature will be removed in v6.0.0. See https://github.com/optuna/optuna/releases/tag/v3.0.0. Use suggest_float(..., log=True) instead.\n",
      "  'eta0': lambda trial: trial.suggest_loguniform('eta0', 1e-3, 1.0),\n",
      "[I 2024-11-10 22:52:29,425] Trial 37 finished with value: 2.6482861856809793e+22 and parameters: {'alpha': 0.0007518209686624169, 'eta0': 0.5802927532382094, 'penalty': 'l2'}. Best is trial 25 with value: 0.11221225172384228.\n",
      "C:\\Users\\48726\\AppData\\Local\\Temp\\ipykernel_9912\\2595821963.py:11: FutureWarning: suggest_loguniform has been deprecated in v3.0.0. This feature will be removed in v6.0.0. See https://github.com/optuna/optuna/releases/tag/v3.0.0. Use suggest_float(..., log=True) instead.\n",
      "  'alpha': lambda trial: trial.suggest_loguniform('alpha', 1e-4, 1e-1),\n",
      "C:\\Users\\48726\\AppData\\Local\\Temp\\ipykernel_9912\\2595821963.py:12: FutureWarning: suggest_loguniform has been deprecated in v3.0.0. This feature will be removed in v6.0.0. See https://github.com/optuna/optuna/releases/tag/v3.0.0. Use suggest_float(..., log=True) instead.\n",
      "  'eta0': lambda trial: trial.suggest_loguniform('eta0', 1e-3, 1.0),\n",
      "[I 2024-11-10 22:52:35,933] Trial 38 finished with value: 0.11223323585372515 and parameters: {'alpha': 0.0001328137528079962, 'eta0': 0.0010176684710817572, 'penalty': 'l1'}. Best is trial 25 with value: 0.11221225172384228.\n",
      "C:\\Users\\48726\\AppData\\Local\\Temp\\ipykernel_9912\\2595821963.py:11: FutureWarning: suggest_loguniform has been deprecated in v3.0.0. This feature will be removed in v6.0.0. See https://github.com/optuna/optuna/releases/tag/v3.0.0. Use suggest_float(..., log=True) instead.\n",
      "  'alpha': lambda trial: trial.suggest_loguniform('alpha', 1e-4, 1e-1),\n",
      "C:\\Users\\48726\\AppData\\Local\\Temp\\ipykernel_9912\\2595821963.py:12: FutureWarning: suggest_loguniform has been deprecated in v3.0.0. This feature will be removed in v6.0.0. See https://github.com/optuna/optuna/releases/tag/v3.0.0. Use suggest_float(..., log=True) instead.\n",
      "  'eta0': lambda trial: trial.suggest_loguniform('eta0', 1e-3, 1.0),\n",
      "[I 2024-11-10 22:52:44,095] Trial 39 finished with value: 0.11295949847803044 and parameters: {'alpha': 0.00010412190416837369, 'eta0': 0.010303868083059074, 'penalty': 'l1'}. Best is trial 25 with value: 0.11221225172384228.\n",
      "C:\\Users\\48726\\AppData\\Local\\Temp\\ipykernel_9912\\2595821963.py:11: FutureWarning: suggest_loguniform has been deprecated in v3.0.0. This feature will be removed in v6.0.0. See https://github.com/optuna/optuna/releases/tag/v3.0.0. Use suggest_float(..., log=True) instead.\n",
      "  'alpha': lambda trial: trial.suggest_loguniform('alpha', 1e-4, 1e-1),\n",
      "C:\\Users\\48726\\AppData\\Local\\Temp\\ipykernel_9912\\2595821963.py:12: FutureWarning: suggest_loguniform has been deprecated in v3.0.0. This feature will be removed in v6.0.0. See https://github.com/optuna/optuna/releases/tag/v3.0.0. Use suggest_float(..., log=True) instead.\n",
      "  'eta0': lambda trial: trial.suggest_loguniform('eta0', 1e-3, 1.0),\n",
      "[I 2024-11-10 22:52:54,404] Trial 40 finished with value: 0.20668513586152368 and parameters: {'alpha': 0.00012867885049839016, 'eta0': 0.054110530750118346, 'penalty': 'elasticnet'}. Best is trial 25 with value: 0.11221225172384228.\n",
      "C:\\Users\\48726\\AppData\\Local\\Temp\\ipykernel_9912\\2595821963.py:11: FutureWarning: suggest_loguniform has been deprecated in v3.0.0. This feature will be removed in v6.0.0. See https://github.com/optuna/optuna/releases/tag/v3.0.0. Use suggest_float(..., log=True) instead.\n",
      "  'alpha': lambda trial: trial.suggest_loguniform('alpha', 1e-4, 1e-1),\n",
      "C:\\Users\\48726\\AppData\\Local\\Temp\\ipykernel_9912\\2595821963.py:12: FutureWarning: suggest_loguniform has been deprecated in v3.0.0. This feature will be removed in v6.0.0. See https://github.com/optuna/optuna/releases/tag/v3.0.0. Use suggest_float(..., log=True) instead.\n",
      "  'eta0': lambda trial: trial.suggest_loguniform('eta0', 1e-3, 1.0),\n",
      "[I 2024-11-10 22:53:01,036] Trial 41 finished with value: 0.11226024264745756 and parameters: {'alpha': 0.00023727963685266787, 'eta0': 0.0010572673100305017, 'penalty': 'l1'}. Best is trial 25 with value: 0.11221225172384228.\n",
      "C:\\Users\\48726\\AppData\\Local\\Temp\\ipykernel_9912\\2595821963.py:11: FutureWarning: suggest_loguniform has been deprecated in v3.0.0. This feature will be removed in v6.0.0. See https://github.com/optuna/optuna/releases/tag/v3.0.0. Use suggest_float(..., log=True) instead.\n",
      "  'alpha': lambda trial: trial.suggest_loguniform('alpha', 1e-4, 1e-1),\n",
      "C:\\Users\\48726\\AppData\\Local\\Temp\\ipykernel_9912\\2595821963.py:12: FutureWarning: suggest_loguniform has been deprecated in v3.0.0. This feature will be removed in v6.0.0. See https://github.com/optuna/optuna/releases/tag/v3.0.0. Use suggest_float(..., log=True) instead.\n",
      "  'eta0': lambda trial: trial.suggest_loguniform('eta0', 1e-3, 1.0),\n",
      "[I 2024-11-10 22:53:08,091] Trial 42 finished with value: 0.11225783580028084 and parameters: {'alpha': 0.00016249542204533165, 'eta0': 0.001626894313315516, 'penalty': 'l1'}. Best is trial 25 with value: 0.11221225172384228.\n",
      "C:\\Users\\48726\\AppData\\Local\\Temp\\ipykernel_9912\\2595821963.py:11: FutureWarning: suggest_loguniform has been deprecated in v3.0.0. This feature will be removed in v6.0.0. See https://github.com/optuna/optuna/releases/tag/v3.0.0. Use suggest_float(..., log=True) instead.\n",
      "  'alpha': lambda trial: trial.suggest_loguniform('alpha', 1e-4, 1e-1),\n",
      "C:\\Users\\48726\\AppData\\Local\\Temp\\ipykernel_9912\\2595821963.py:12: FutureWarning: suggest_loguniform has been deprecated in v3.0.0. This feature will be removed in v6.0.0. See https://github.com/optuna/optuna/releases/tag/v3.0.0. Use suggest_float(..., log=True) instead.\n",
      "  'eta0': lambda trial: trial.suggest_loguniform('eta0', 1e-3, 1.0),\n",
      "[I 2024-11-10 22:53:15,338] Trial 43 finished with value: 0.11237742891477394 and parameters: {'alpha': 0.0005936862292187651, 'eta0': 0.001498563711387533, 'penalty': 'l1'}. Best is trial 25 with value: 0.11221225172384228.\n",
      "C:\\Users\\48726\\AppData\\Local\\Temp\\ipykernel_9912\\2595821963.py:11: FutureWarning: suggest_loguniform has been deprecated in v3.0.0. This feature will be removed in v6.0.0. See https://github.com/optuna/optuna/releases/tag/v3.0.0. Use suggest_float(..., log=True) instead.\n",
      "  'alpha': lambda trial: trial.suggest_loguniform('alpha', 1e-4, 1e-1),\n",
      "C:\\Users\\48726\\AppData\\Local\\Temp\\ipykernel_9912\\2595821963.py:12: FutureWarning: suggest_loguniform has been deprecated in v3.0.0. This feature will be removed in v6.0.0. See https://github.com/optuna/optuna/releases/tag/v3.0.0. Use suggest_float(..., log=True) instead.\n",
      "  'eta0': lambda trial: trial.suggest_loguniform('eta0', 1e-3, 1.0),\n",
      "[I 2024-11-10 22:53:23,245] Trial 44 finished with value: 0.11236416733992091 and parameters: {'alpha': 0.0003464074965105507, 'eta0': 0.0021623459333970285, 'penalty': 'l1'}. Best is trial 25 with value: 0.11221225172384228.\n",
      "C:\\Users\\48726\\AppData\\Local\\Temp\\ipykernel_9912\\2595821963.py:11: FutureWarning: suggest_loguniform has been deprecated in v3.0.0. This feature will be removed in v6.0.0. See https://github.com/optuna/optuna/releases/tag/v3.0.0. Use suggest_float(..., log=True) instead.\n",
      "  'alpha': lambda trial: trial.suggest_loguniform('alpha', 1e-4, 1e-1),\n",
      "C:\\Users\\48726\\AppData\\Local\\Temp\\ipykernel_9912\\2595821963.py:12: FutureWarning: suggest_loguniform has been deprecated in v3.0.0. This feature will be removed in v6.0.0. See https://github.com/optuna/optuna/releases/tag/v3.0.0. Use suggest_float(..., log=True) instead.\n",
      "  'eta0': lambda trial: trial.suggest_loguniform('eta0', 1e-3, 1.0),\n",
      "[I 2024-11-10 22:53:30,515] Trial 45 finished with value: 0.11226058123272377 and parameters: {'alpha': 0.00024072438815180694, 'eta0': 0.0010392856096533606, 'penalty': 'l1'}. Best is trial 25 with value: 0.11221225172384228.\n",
      "C:\\Users\\48726\\AppData\\Local\\Temp\\ipykernel_9912\\2595821963.py:11: FutureWarning: suggest_loguniform has been deprecated in v3.0.0. This feature will be removed in v6.0.0. See https://github.com/optuna/optuna/releases/tag/v3.0.0. Use suggest_float(..., log=True) instead.\n",
      "  'alpha': lambda trial: trial.suggest_loguniform('alpha', 1e-4, 1e-1),\n",
      "C:\\Users\\48726\\AppData\\Local\\Temp\\ipykernel_9912\\2595821963.py:12: FutureWarning: suggest_loguniform has been deprecated in v3.0.0. This feature will be removed in v6.0.0. See https://github.com/optuna/optuna/releases/tag/v3.0.0. Use suggest_float(..., log=True) instead.\n",
      "  'eta0': lambda trial: trial.suggest_loguniform('eta0', 1e-3, 1.0),\n",
      "[I 2024-11-10 22:53:36,026] Trial 46 finished with value: 0.11233365465737434 and parameters: {'alpha': 0.00014250253297626653, 'eta0': 0.003089720986265258, 'penalty': 'l2'}. Best is trial 25 with value: 0.11221225172384228.\n",
      "C:\\Users\\48726\\AppData\\Local\\Temp\\ipykernel_9912\\2595821963.py:11: FutureWarning: suggest_loguniform has been deprecated in v3.0.0. This feature will be removed in v6.0.0. See https://github.com/optuna/optuna/releases/tag/v3.0.0. Use suggest_float(..., log=True) instead.\n",
      "  'alpha': lambda trial: trial.suggest_loguniform('alpha', 1e-4, 1e-1),\n",
      "C:\\Users\\48726\\AppData\\Local\\Temp\\ipykernel_9912\\2595821963.py:12: FutureWarning: suggest_loguniform has been deprecated in v3.0.0. This feature will be removed in v6.0.0. See https://github.com/optuna/optuna/releases/tag/v3.0.0. Use suggest_float(..., log=True) instead.\n",
      "  'eta0': lambda trial: trial.suggest_loguniform('eta0', 1e-3, 1.0),\n",
      "[I 2024-11-10 22:53:43,018] Trial 47 finished with value: 0.11222492839262717 and parameters: {'alpha': 0.00020971828769516756, 'eta0': 0.001531322071374473, 'penalty': 'elasticnet'}. Best is trial 25 with value: 0.11221225172384228.\n",
      "C:\\Users\\48726\\AppData\\Local\\Temp\\ipykernel_9912\\2595821963.py:11: FutureWarning: suggest_loguniform has been deprecated in v3.0.0. This feature will be removed in v6.0.0. See https://github.com/optuna/optuna/releases/tag/v3.0.0. Use suggest_float(..., log=True) instead.\n",
      "  'alpha': lambda trial: trial.suggest_loguniform('alpha', 1e-4, 1e-1),\n",
      "C:\\Users\\48726\\AppData\\Local\\Temp\\ipykernel_9912\\2595821963.py:12: FutureWarning: suggest_loguniform has been deprecated in v3.0.0. This feature will be removed in v6.0.0. See https://github.com/optuna/optuna/releases/tag/v3.0.0. Use suggest_float(..., log=True) instead.\n",
      "  'eta0': lambda trial: trial.suggest_loguniform('eta0', 1e-3, 1.0),\n",
      "[I 2024-11-10 22:53:49,939] Trial 48 finished with value: 0.11251591239497157 and parameters: {'alpha': 0.00037571463402280683, 'eta0': 0.005063761046410768, 'penalty': 'elasticnet'}. Best is trial 25 with value: 0.11221225172384228.\n",
      "C:\\Users\\48726\\AppData\\Local\\Temp\\ipykernel_9912\\2595821963.py:11: FutureWarning: suggest_loguniform has been deprecated in v3.0.0. This feature will be removed in v6.0.0. See https://github.com/optuna/optuna/releases/tag/v3.0.0. Use suggest_float(..., log=True) instead.\n",
      "  'alpha': lambda trial: trial.suggest_loguniform('alpha', 1e-4, 1e-1),\n",
      "C:\\Users\\48726\\AppData\\Local\\Temp\\ipykernel_9912\\2595821963.py:12: FutureWarning: suggest_loguniform has been deprecated in v3.0.0. This feature will be removed in v6.0.0. See https://github.com/optuna/optuna/releases/tag/v3.0.0. Use suggest_float(..., log=True) instead.\n",
      "  'eta0': lambda trial: trial.suggest_loguniform('eta0', 1e-3, 1.0),\n",
      "[I 2024-11-10 22:53:57,186] Trial 49 finished with value: 0.11394473674801235 and parameters: {'alpha': 0.047506197603152035, 'eta0': 0.0015119128458995202, 'penalty': 'elasticnet'}. Best is trial 25 with value: 0.11221225172384228.\n"
     ]
    },
    {
     "name": "stdout",
     "output_type": "stream",
     "text": [
      "Los mejores hiperparametros para el modelo SGDRegressor : {'alpha': 0.00013117324584237315, 'eta0': 0.0010886262850832657, 'penalty': 'elasticnet'}\n"
     ]
    }
   ],
   "source": [
    "model_name = 'SGDRegressor'\n",
    "\n",
    "study = optuna.create_study(direction='minimize')\n",
    "study.optimize(lambda trial: objective(trial, model_name), n_trials=50)\n",
    "\n",
    "print(\"Los mejores hiperparametros para el modelo\", model_name, \":\", study.best_params)"
   ]
  },
  {
   "cell_type": "markdown",
   "metadata": {},
   "source": [
    "Los mejores hiperparametros para el modelo SGDRegressor : {'alpha': 0.00013117324584237315, 'eta0': 0.0010886262850832657, 'penalty': 'elasticnet'}"
   ]
  },
  {
   "cell_type": "code",
   "execution_count": 17,
   "metadata": {},
   "outputs": [
    {
     "name": "stderr",
     "output_type": "stream",
     "text": [
      "[I 2024-11-10 22:53:57,209] A new study created in memory with name: no-name-5d59708f-b4cf-4391-9701-6f7658040585\n",
      "C:\\Users\\48726\\AppData\\Local\\Temp\\ipykernel_9912\\2595821963.py:11: FutureWarning: suggest_loguniform has been deprecated in v3.0.0. This feature will be removed in v6.0.0. See https://github.com/optuna/optuna/releases/tag/v3.0.0. Use suggest_float(..., log=True) instead.\n",
      "  'alpha': lambda trial: trial.suggest_loguniform('alpha', 1e-4, 1e-1),\n",
      "C:\\Users\\48726\\AppData\\Local\\Temp\\ipykernel_9912\\2595821963.py:12: FutureWarning: suggest_loguniform has been deprecated in v3.0.0. This feature will be removed in v6.0.0. See https://github.com/optuna/optuna/releases/tag/v3.0.0. Use suggest_float(..., log=True) instead.\n",
      "  'eta0': lambda trial: trial.suggest_loguniform('eta0', 1e-3, 1.0),\n",
      "[I 2024-11-10 22:54:03,777] Trial 0 finished with value: 0.1148124502536516 and parameters: {'alpha': 0.01119894038517761, 'eta0': 0.005789315914226681, 'penalty': 'l1'}. Best is trial 0 with value: 0.1148124502536516.\n",
      "C:\\Users\\48726\\AppData\\Local\\Temp\\ipykernel_9912\\2595821963.py:11: FutureWarning: suggest_loguniform has been deprecated in v3.0.0. This feature will be removed in v6.0.0. See https://github.com/optuna/optuna/releases/tag/v3.0.0. Use suggest_float(..., log=True) instead.\n",
      "  'alpha': lambda trial: trial.suggest_loguniform('alpha', 1e-4, 1e-1),\n",
      "C:\\Users\\48726\\AppData\\Local\\Temp\\ipykernel_9912\\2595821963.py:12: FutureWarning: suggest_loguniform has been deprecated in v3.0.0. This feature will be removed in v6.0.0. See https://github.com/optuna/optuna/releases/tag/v3.0.0. Use suggest_float(..., log=True) instead.\n",
      "  'eta0': lambda trial: trial.suggest_loguniform('eta0', 1e-3, 1.0),\n",
      "[I 2024-11-10 22:54:12,134] Trial 1 finished with value: 4.2236776755119066e+21 and parameters: {'alpha': 0.0004583279520836261, 'eta0': 0.5091276036644555, 'penalty': 'elasticnet'}. Best is trial 0 with value: 0.1148124502536516.\n",
      "C:\\Users\\48726\\AppData\\Local\\Temp\\ipykernel_9912\\2595821963.py:11: FutureWarning: suggest_loguniform has been deprecated in v3.0.0. This feature will be removed in v6.0.0. See https://github.com/optuna/optuna/releases/tag/v3.0.0. Use suggest_float(..., log=True) instead.\n",
      "  'alpha': lambda trial: trial.suggest_loguniform('alpha', 1e-4, 1e-1),\n",
      "C:\\Users\\48726\\AppData\\Local\\Temp\\ipykernel_9912\\2595821963.py:12: FutureWarning: suggest_loguniform has been deprecated in v3.0.0. This feature will be removed in v6.0.0. See https://github.com/optuna/optuna/releases/tag/v3.0.0. Use suggest_float(..., log=True) instead.\n",
      "  'eta0': lambda trial: trial.suggest_loguniform('eta0', 1e-3, 1.0),\n",
      "[I 2024-11-10 22:54:22,691] Trial 2 finished with value: 0.11325034062292831 and parameters: {'alpha': 0.0001041696323160859, 'eta0': 0.014036744916695815, 'penalty': 'l1'}. Best is trial 2 with value: 0.11325034062292831.\n",
      "C:\\Users\\48726\\AppData\\Local\\Temp\\ipykernel_9912\\2595821963.py:11: FutureWarning: suggest_loguniform has been deprecated in v3.0.0. This feature will be removed in v6.0.0. See https://github.com/optuna/optuna/releases/tag/v3.0.0. Use suggest_float(..., log=True) instead.\n",
      "  'alpha': lambda trial: trial.suggest_loguniform('alpha', 1e-4, 1e-1),\n",
      "C:\\Users\\48726\\AppData\\Local\\Temp\\ipykernel_9912\\2595821963.py:12: FutureWarning: suggest_loguniform has been deprecated in v3.0.0. This feature will be removed in v6.0.0. See https://github.com/optuna/optuna/releases/tag/v3.0.0. Use suggest_float(..., log=True) instead.\n",
      "  'eta0': lambda trial: trial.suggest_loguniform('eta0', 1e-3, 1.0),\n",
      "[I 2024-11-10 22:54:34,722] Trial 3 finished with value: 0.11857399371771375 and parameters: {'alpha': 0.09566765643248615, 'eta0': 0.08142942220224866, 'penalty': 'elasticnet'}. Best is trial 2 with value: 0.11325034062292831.\n",
      "C:\\Users\\48726\\AppData\\Local\\Temp\\ipykernel_9912\\2595821963.py:11: FutureWarning: suggest_loguniform has been deprecated in v3.0.0. This feature will be removed in v6.0.0. See https://github.com/optuna/optuna/releases/tag/v3.0.0. Use suggest_float(..., log=True) instead.\n",
      "  'alpha': lambda trial: trial.suggest_loguniform('alpha', 1e-4, 1e-1),\n",
      "C:\\Users\\48726\\AppData\\Local\\Temp\\ipykernel_9912\\2595821963.py:12: FutureWarning: suggest_loguniform has been deprecated in v3.0.0. This feature will be removed in v6.0.0. See https://github.com/optuna/optuna/releases/tag/v3.0.0. Use suggest_float(..., log=True) instead.\n",
      "  'eta0': lambda trial: trial.suggest_loguniform('eta0', 1e-3, 1.0),\n",
      "[I 2024-11-10 22:54:42,735] Trial 4 finished with value: 0.1132975736933031 and parameters: {'alpha': 0.0015699569492465938, 'eta0': 0.01120076972904352, 'penalty': 'l2'}. Best is trial 2 with value: 0.11325034062292831.\n",
      "C:\\Users\\48726\\AppData\\Local\\Temp\\ipykernel_9912\\2595821963.py:11: FutureWarning: suggest_loguniform has been deprecated in v3.0.0. This feature will be removed in v6.0.0. See https://github.com/optuna/optuna/releases/tag/v3.0.0. Use suggest_float(..., log=True) instead.\n",
      "  'alpha': lambda trial: trial.suggest_loguniform('alpha', 1e-4, 1e-1),\n",
      "C:\\Users\\48726\\AppData\\Local\\Temp\\ipykernel_9912\\2595821963.py:12: FutureWarning: suggest_loguniform has been deprecated in v3.0.0. This feature will be removed in v6.0.0. See https://github.com/optuna/optuna/releases/tag/v3.0.0. Use suggest_float(..., log=True) instead.\n",
      "  'eta0': lambda trial: trial.suggest_loguniform('eta0', 1e-3, 1.0),\n",
      "[I 2024-11-10 22:54:50,844] Trial 5 finished with value: 0.11255370892977182 and parameters: {'alpha': 0.019487103920277672, 'eta0': 0.003459380020070862, 'penalty': 'l2'}. Best is trial 5 with value: 0.11255370892977182.\n",
      "C:\\Users\\48726\\AppData\\Local\\Temp\\ipykernel_9912\\2595821963.py:11: FutureWarning: suggest_loguniform has been deprecated in v3.0.0. This feature will be removed in v6.0.0. See https://github.com/optuna/optuna/releases/tag/v3.0.0. Use suggest_float(..., log=True) instead.\n",
      "  'alpha': lambda trial: trial.suggest_loguniform('alpha', 1e-4, 1e-1),\n",
      "C:\\Users\\48726\\AppData\\Local\\Temp\\ipykernel_9912\\2595821963.py:12: FutureWarning: suggest_loguniform has been deprecated in v3.0.0. This feature will be removed in v6.0.0. See https://github.com/optuna/optuna/releases/tag/v3.0.0. Use suggest_float(..., log=True) instead.\n",
      "  'eta0': lambda trial: trial.suggest_loguniform('eta0', 1e-3, 1.0),\n",
      "[I 2024-11-10 22:55:02,017] Trial 6 finished with value: 0.11504055439483851 and parameters: {'alpha': 0.01939487377789823, 'eta0': 0.03221560234599998, 'penalty': 'elasticnet'}. Best is trial 5 with value: 0.11255370892977182.\n",
      "C:\\Users\\48726\\AppData\\Local\\Temp\\ipykernel_9912\\2595821963.py:11: FutureWarning: suggest_loguniform has been deprecated in v3.0.0. This feature will be removed in v6.0.0. See https://github.com/optuna/optuna/releases/tag/v3.0.0. Use suggest_float(..., log=True) instead.\n",
      "  'alpha': lambda trial: trial.suggest_loguniform('alpha', 1e-4, 1e-1),\n",
      "C:\\Users\\48726\\AppData\\Local\\Temp\\ipykernel_9912\\2595821963.py:12: FutureWarning: suggest_loguniform has been deprecated in v3.0.0. This feature will be removed in v6.0.0. See https://github.com/optuna/optuna/releases/tag/v3.0.0. Use suggest_float(..., log=True) instead.\n",
      "  'eta0': lambda trial: trial.suggest_loguniform('eta0', 1e-3, 1.0),\n",
      "[I 2024-11-10 22:55:10,206] Trial 7 finished with value: 0.11339626730881056 and parameters: {'alpha': 0.00019484213165225808, 'eta0': 0.012287962346861971, 'penalty': 'l2'}. Best is trial 5 with value: 0.11255370892977182.\n",
      "C:\\Users\\48726\\AppData\\Local\\Temp\\ipykernel_9912\\2595821963.py:11: FutureWarning: suggest_loguniform has been deprecated in v3.0.0. This feature will be removed in v6.0.0. See https://github.com/optuna/optuna/releases/tag/v3.0.0. Use suggest_float(..., log=True) instead.\n",
      "  'alpha': lambda trial: trial.suggest_loguniform('alpha', 1e-4, 1e-1),\n",
      "C:\\Users\\48726\\AppData\\Local\\Temp\\ipykernel_9912\\2595821963.py:12: FutureWarning: suggest_loguniform has been deprecated in v3.0.0. This feature will be removed in v6.0.0. See https://github.com/optuna/optuna/releases/tag/v3.0.0. Use suggest_float(..., log=True) instead.\n",
      "  'eta0': lambda trial: trial.suggest_loguniform('eta0', 1e-3, 1.0),\n",
      "[I 2024-11-10 22:55:18,442] Trial 8 finished with value: 2.5327892391523312e+17 and parameters: {'alpha': 0.0002285859914507252, 'eta0': 0.32707291507907665, 'penalty': 'l2'}. Best is trial 5 with value: 0.11255370892977182.\n",
      "C:\\Users\\48726\\AppData\\Local\\Temp\\ipykernel_9912\\2595821963.py:11: FutureWarning: suggest_loguniform has been deprecated in v3.0.0. This feature will be removed in v6.0.0. See https://github.com/optuna/optuna/releases/tag/v3.0.0. Use suggest_float(..., log=True) instead.\n",
      "  'alpha': lambda trial: trial.suggest_loguniform('alpha', 1e-4, 1e-1),\n",
      "C:\\Users\\48726\\AppData\\Local\\Temp\\ipykernel_9912\\2595821963.py:12: FutureWarning: suggest_loguniform has been deprecated in v3.0.0. This feature will be removed in v6.0.0. See https://github.com/optuna/optuna/releases/tag/v3.0.0. Use suggest_float(..., log=True) instead.\n",
      "  'eta0': lambda trial: trial.suggest_loguniform('eta0', 1e-3, 1.0),\n",
      "[I 2024-11-10 22:55:28,752] Trial 9 finished with value: 0.1129918655990881 and parameters: {'alpha': 0.0034756241676830594, 'eta0': 0.001215405871173621, 'penalty': 'l1'}. Best is trial 5 with value: 0.11255370892977182.\n",
      "C:\\Users\\48726\\AppData\\Local\\Temp\\ipykernel_9912\\2595821963.py:11: FutureWarning: suggest_loguniform has been deprecated in v3.0.0. This feature will be removed in v6.0.0. See https://github.com/optuna/optuna/releases/tag/v3.0.0. Use suggest_float(..., log=True) instead.\n",
      "  'alpha': lambda trial: trial.suggest_loguniform('alpha', 1e-4, 1e-1),\n",
      "C:\\Users\\48726\\AppData\\Local\\Temp\\ipykernel_9912\\2595821963.py:12: FutureWarning: suggest_loguniform has been deprecated in v3.0.0. This feature will be removed in v6.0.0. See https://github.com/optuna/optuna/releases/tag/v3.0.0. Use suggest_float(..., log=True) instead.\n",
      "  'eta0': lambda trial: trial.suggest_loguniform('eta0', 1e-3, 1.0),\n",
      "[I 2024-11-10 22:55:36,843] Trial 10 finished with value: 0.1126539224130906 and parameters: {'alpha': 0.08453681997823895, 'eta0': 0.001030463101575697, 'penalty': 'l2'}. Best is trial 5 with value: 0.11255370892977182.\n",
      "C:\\Users\\48726\\AppData\\Local\\Temp\\ipykernel_9912\\2595821963.py:11: FutureWarning: suggest_loguniform has been deprecated in v3.0.0. This feature will be removed in v6.0.0. See https://github.com/optuna/optuna/releases/tag/v3.0.0. Use suggest_float(..., log=True) instead.\n",
      "  'alpha': lambda trial: trial.suggest_loguniform('alpha', 1e-4, 1e-1),\n",
      "C:\\Users\\48726\\AppData\\Local\\Temp\\ipykernel_9912\\2595821963.py:12: FutureWarning: suggest_loguniform has been deprecated in v3.0.0. This feature will be removed in v6.0.0. See https://github.com/optuna/optuna/releases/tag/v3.0.0. Use suggest_float(..., log=True) instead.\n",
      "  'eta0': lambda trial: trial.suggest_loguniform('eta0', 1e-3, 1.0),\n",
      "[I 2024-11-10 22:55:44,868] Trial 11 finished with value: 0.11271450113957229 and parameters: {'alpha': 0.09209686302226959, 'eta0': 0.0011682357523909994, 'penalty': 'l2'}. Best is trial 5 with value: 0.11255370892977182.\n",
      "C:\\Users\\48726\\AppData\\Local\\Temp\\ipykernel_9912\\2595821963.py:11: FutureWarning: suggest_loguniform has been deprecated in v3.0.0. This feature will be removed in v6.0.0. See https://github.com/optuna/optuna/releases/tag/v3.0.0. Use suggest_float(..., log=True) instead.\n",
      "  'alpha': lambda trial: trial.suggest_loguniform('alpha', 1e-4, 1e-1),\n",
      "C:\\Users\\48726\\AppData\\Local\\Temp\\ipykernel_9912\\2595821963.py:12: FutureWarning: suggest_loguniform has been deprecated in v3.0.0. This feature will be removed in v6.0.0. See https://github.com/optuna/optuna/releases/tag/v3.0.0. Use suggest_float(..., log=True) instead.\n",
      "  'eta0': lambda trial: trial.suggest_loguniform('eta0', 1e-3, 1.0),\n",
      "[I 2024-11-10 22:55:52,900] Trial 12 finished with value: 0.1125343593577627 and parameters: {'alpha': 0.025418297526027932, 'eta0': 0.003017265652266027, 'penalty': 'l2'}. Best is trial 12 with value: 0.1125343593577627.\n",
      "C:\\Users\\48726\\AppData\\Local\\Temp\\ipykernel_9912\\2595821963.py:11: FutureWarning: suggest_loguniform has been deprecated in v3.0.0. This feature will be removed in v6.0.0. See https://github.com/optuna/optuna/releases/tag/v3.0.0. Use suggest_float(..., log=True) instead.\n",
      "  'alpha': lambda trial: trial.suggest_loguniform('alpha', 1e-4, 1e-1),\n",
      "C:\\Users\\48726\\AppData\\Local\\Temp\\ipykernel_9912\\2595821963.py:12: FutureWarning: suggest_loguniform has been deprecated in v3.0.0. This feature will be removed in v6.0.0. See https://github.com/optuna/optuna/releases/tag/v3.0.0. Use suggest_float(..., log=True) instead.\n",
      "  'eta0': lambda trial: trial.suggest_loguniform('eta0', 1e-3, 1.0),\n",
      "[I 2024-11-10 22:56:01,254] Trial 13 finished with value: 0.1128107179853955 and parameters: {'alpha': 0.019744352708390468, 'eta0': 0.005519799180375388, 'penalty': 'l2'}. Best is trial 12 with value: 0.1125343593577627.\n",
      "C:\\Users\\48726\\AppData\\Local\\Temp\\ipykernel_9912\\2595821963.py:11: FutureWarning: suggest_loguniform has been deprecated in v3.0.0. This feature will be removed in v6.0.0. See https://github.com/optuna/optuna/releases/tag/v3.0.0. Use suggest_float(..., log=True) instead.\n",
      "  'alpha': lambda trial: trial.suggest_loguniform('alpha', 1e-4, 1e-1),\n",
      "C:\\Users\\48726\\AppData\\Local\\Temp\\ipykernel_9912\\2595821963.py:12: FutureWarning: suggest_loguniform has been deprecated in v3.0.0. This feature will be removed in v6.0.0. See https://github.com/optuna/optuna/releases/tag/v3.0.0. Use suggest_float(..., log=True) instead.\n",
      "  'eta0': lambda trial: trial.suggest_loguniform('eta0', 1e-3, 1.0),\n",
      "[I 2024-11-10 22:56:09,440] Trial 14 finished with value: 0.11246100979908205 and parameters: {'alpha': 0.00614778899384274, 'eta0': 0.003563853530436899, 'penalty': 'l2'}. Best is trial 14 with value: 0.11246100979908205.\n",
      "C:\\Users\\48726\\AppData\\Local\\Temp\\ipykernel_9912\\2595821963.py:11: FutureWarning: suggest_loguniform has been deprecated in v3.0.0. This feature will be removed in v6.0.0. See https://github.com/optuna/optuna/releases/tag/v3.0.0. Use suggest_float(..., log=True) instead.\n",
      "  'alpha': lambda trial: trial.suggest_loguniform('alpha', 1e-4, 1e-1),\n",
      "C:\\Users\\48726\\AppData\\Local\\Temp\\ipykernel_9912\\2595821963.py:12: FutureWarning: suggest_loguniform has been deprecated in v3.0.0. This feature will be removed in v6.0.0. See https://github.com/optuna/optuna/releases/tag/v3.0.0. Use suggest_float(..., log=True) instead.\n",
      "  'eta0': lambda trial: trial.suggest_loguniform('eta0', 1e-3, 1.0),\n",
      "[I 2024-11-10 22:56:17,416] Trial 15 finished with value: 0.11239849116638777 and parameters: {'alpha': 0.004986503234214238, 'eta0': 0.003118443519983034, 'penalty': 'l2'}. Best is trial 15 with value: 0.11239849116638777.\n",
      "C:\\Users\\48726\\AppData\\Local\\Temp\\ipykernel_9912\\2595821963.py:11: FutureWarning: suggest_loguniform has been deprecated in v3.0.0. This feature will be removed in v6.0.0. See https://github.com/optuna/optuna/releases/tag/v3.0.0. Use suggest_float(..., log=True) instead.\n",
      "  'alpha': lambda trial: trial.suggest_loguniform('alpha', 1e-4, 1e-1),\n",
      "C:\\Users\\48726\\AppData\\Local\\Temp\\ipykernel_9912\\2595821963.py:12: FutureWarning: suggest_loguniform has been deprecated in v3.0.0. This feature will be removed in v6.0.0. See https://github.com/optuna/optuna/releases/tag/v3.0.0. Use suggest_float(..., log=True) instead.\n",
      "  'eta0': lambda trial: trial.suggest_loguniform('eta0', 1e-3, 1.0),\n",
      "[I 2024-11-10 22:56:25,644] Trial 16 finished with value: 0.47646911945838494 and parameters: {'alpha': 0.0034529208969650096, 'eta0': 0.06940557732766152, 'penalty': 'l2'}. Best is trial 15 with value: 0.11239849116638777.\n",
      "C:\\Users\\48726\\AppData\\Local\\Temp\\ipykernel_9912\\2595821963.py:11: FutureWarning: suggest_loguniform has been deprecated in v3.0.0. This feature will be removed in v6.0.0. See https://github.com/optuna/optuna/releases/tag/v3.0.0. Use suggest_float(..., log=True) instead.\n",
      "  'alpha': lambda trial: trial.suggest_loguniform('alpha', 1e-4, 1e-1),\n",
      "C:\\Users\\48726\\AppData\\Local\\Temp\\ipykernel_9912\\2595821963.py:12: FutureWarning: suggest_loguniform has been deprecated in v3.0.0. This feature will be removed in v6.0.0. See https://github.com/optuna/optuna/releases/tag/v3.0.0. Use suggest_float(..., log=True) instead.\n",
      "  'eta0': lambda trial: trial.suggest_loguniform('eta0', 1e-3, 1.0),\n",
      "[I 2024-11-10 22:56:33,797] Trial 17 finished with value: 0.11229955789375393 and parameters: {'alpha': 0.0012865958786452342, 'eta0': 0.0025499588615485336, 'penalty': 'l2'}. Best is trial 17 with value: 0.11229955789375393.\n",
      "C:\\Users\\48726\\AppData\\Local\\Temp\\ipykernel_9912\\2595821963.py:11: FutureWarning: suggest_loguniform has been deprecated in v3.0.0. This feature will be removed in v6.0.0. See https://github.com/optuna/optuna/releases/tag/v3.0.0. Use suggest_float(..., log=True) instead.\n",
      "  'alpha': lambda trial: trial.suggest_loguniform('alpha', 1e-4, 1e-1),\n",
      "C:\\Users\\48726\\AppData\\Local\\Temp\\ipykernel_9912\\2595821963.py:12: FutureWarning: suggest_loguniform has been deprecated in v3.0.0. This feature will be removed in v6.0.0. See https://github.com/optuna/optuna/releases/tag/v3.0.0. Use suggest_float(..., log=True) instead.\n",
      "  'eta0': lambda trial: trial.suggest_loguniform('eta0', 1e-3, 1.0),\n",
      "[I 2024-11-10 22:56:44,494] Trial 18 finished with value: 0.11453976287018575 and parameters: {'alpha': 0.0010204780911772468, 'eta0': 0.029384293147410184, 'penalty': 'elasticnet'}. Best is trial 17 with value: 0.11229955789375393.\n",
      "C:\\Users\\48726\\AppData\\Local\\Temp\\ipykernel_9912\\2595821963.py:11: FutureWarning: suggest_loguniform has been deprecated in v3.0.0. This feature will be removed in v6.0.0. See https://github.com/optuna/optuna/releases/tag/v3.0.0. Use suggest_float(..., log=True) instead.\n",
      "  'alpha': lambda trial: trial.suggest_loguniform('alpha', 1e-4, 1e-1),\n",
      "C:\\Users\\48726\\AppData\\Local\\Temp\\ipykernel_9912\\2595821963.py:12: FutureWarning: suggest_loguniform has been deprecated in v3.0.0. This feature will be removed in v6.0.0. See https://github.com/optuna/optuna/releases/tag/v3.0.0. Use suggest_float(..., log=True) instead.\n",
      "  'eta0': lambda trial: trial.suggest_loguniform('eta0', 1e-3, 1.0),\n",
      "[I 2024-11-10 22:56:51,646] Trial 19 finished with value: 0.11251493408514805 and parameters: {'alpha': 0.000981394595412204, 'eta0': 0.00238175523979817, 'penalty': 'l1'}. Best is trial 17 with value: 0.11229955789375393.\n",
      "C:\\Users\\48726\\AppData\\Local\\Temp\\ipykernel_9912\\2595821963.py:11: FutureWarning: suggest_loguniform has been deprecated in v3.0.0. This feature will be removed in v6.0.0. See https://github.com/optuna/optuna/releases/tag/v3.0.0. Use suggest_float(..., log=True) instead.\n",
      "  'alpha': lambda trial: trial.suggest_loguniform('alpha', 1e-4, 1e-1),\n",
      "C:\\Users\\48726\\AppData\\Local\\Temp\\ipykernel_9912\\2595821963.py:12: FutureWarning: suggest_loguniform has been deprecated in v3.0.0. This feature will be removed in v6.0.0. See https://github.com/optuna/optuna/releases/tag/v3.0.0. Use suggest_float(..., log=True) instead.\n",
      "  'eta0': lambda trial: trial.suggest_loguniform('eta0', 1e-3, 1.0),\n",
      "[I 2024-11-10 22:56:57,294] Trial 20 finished with value: 0.1206225481109683 and parameters: {'alpha': 0.001642359100711388, 'eta0': 0.03206824074671663, 'penalty': 'l2'}. Best is trial 17 with value: 0.11229955789375393.\n",
      "C:\\Users\\48726\\AppData\\Local\\Temp\\ipykernel_9912\\2595821963.py:11: FutureWarning: suggest_loguniform has been deprecated in v3.0.0. This feature will be removed in v6.0.0. See https://github.com/optuna/optuna/releases/tag/v3.0.0. Use suggest_float(..., log=True) instead.\n",
      "  'alpha': lambda trial: trial.suggest_loguniform('alpha', 1e-4, 1e-1),\n",
      "C:\\Users\\48726\\AppData\\Local\\Temp\\ipykernel_9912\\2595821963.py:12: FutureWarning: suggest_loguniform has been deprecated in v3.0.0. This feature will be removed in v6.0.0. See https://github.com/optuna/optuna/releases/tag/v3.0.0. Use suggest_float(..., log=True) instead.\n",
      "  'eta0': lambda trial: trial.suggest_loguniform('eta0', 1e-3, 1.0),\n",
      "[I 2024-11-10 22:57:03,488] Trial 21 finished with value: 0.11230179779303108 and parameters: {'alpha': 0.00608070649585761, 'eta0': 0.0020204387588369788, 'penalty': 'l2'}. Best is trial 17 with value: 0.11229955789375393.\n",
      "C:\\Users\\48726\\AppData\\Local\\Temp\\ipykernel_9912\\2595821963.py:11: FutureWarning: suggest_loguniform has been deprecated in v3.0.0. This feature will be removed in v6.0.0. See https://github.com/optuna/optuna/releases/tag/v3.0.0. Use suggest_float(..., log=True) instead.\n",
      "  'alpha': lambda trial: trial.suggest_loguniform('alpha', 1e-4, 1e-1),\n",
      "C:\\Users\\48726\\AppData\\Local\\Temp\\ipykernel_9912\\2595821963.py:12: FutureWarning: suggest_loguniform has been deprecated in v3.0.0. This feature will be removed in v6.0.0. See https://github.com/optuna/optuna/releases/tag/v3.0.0. Use suggest_float(..., log=True) instead.\n",
      "  'eta0': lambda trial: trial.suggest_loguniform('eta0', 1e-3, 1.0),\n",
      "[I 2024-11-10 22:57:10,912] Trial 22 finished with value: 0.11228056807087043 and parameters: {'alpha': 0.0060913454793032895, 'eta0': 0.001762390971819971, 'penalty': 'l2'}. Best is trial 22 with value: 0.11228056807087043.\n",
      "C:\\Users\\48726\\AppData\\Local\\Temp\\ipykernel_9912\\2595821963.py:11: FutureWarning: suggest_loguniform has been deprecated in v3.0.0. This feature will be removed in v6.0.0. See https://github.com/optuna/optuna/releases/tag/v3.0.0. Use suggest_float(..., log=True) instead.\n",
      "  'alpha': lambda trial: trial.suggest_loguniform('alpha', 1e-4, 1e-1),\n",
      "C:\\Users\\48726\\AppData\\Local\\Temp\\ipykernel_9912\\2595821963.py:12: FutureWarning: suggest_loguniform has been deprecated in v3.0.0. This feature will be removed in v6.0.0. See https://github.com/optuna/optuna/releases/tag/v3.0.0. Use suggest_float(..., log=True) instead.\n",
      "  'eta0': lambda trial: trial.suggest_loguniform('eta0', 1e-3, 1.0),\n",
      "[I 2024-11-10 22:57:19,810] Trial 23 finished with value: 0.11223847598167723 and parameters: {'alpha': 0.0017793181696766926, 'eta0': 0.0016245972440006454, 'penalty': 'l2'}. Best is trial 23 with value: 0.11223847598167723.\n",
      "C:\\Users\\48726\\AppData\\Local\\Temp\\ipykernel_9912\\2595821963.py:11: FutureWarning: suggest_loguniform has been deprecated in v3.0.0. This feature will be removed in v6.0.0. See https://github.com/optuna/optuna/releases/tag/v3.0.0. Use suggest_float(..., log=True) instead.\n",
      "  'alpha': lambda trial: trial.suggest_loguniform('alpha', 1e-4, 1e-1),\n",
      "C:\\Users\\48726\\AppData\\Local\\Temp\\ipykernel_9912\\2595821963.py:12: FutureWarning: suggest_loguniform has been deprecated in v3.0.0. This feature will be removed in v6.0.0. See https://github.com/optuna/optuna/releases/tag/v3.0.0. Use suggest_float(..., log=True) instead.\n",
      "  'eta0': lambda trial: trial.suggest_loguniform('eta0', 1e-3, 1.0),\n",
      "[I 2024-11-10 22:57:28,510] Trial 24 finished with value: 0.1127824896696993 and parameters: {'alpha': 0.0005833434821226044, 'eta0': 0.0069424359217412955, 'penalty': 'l2'}. Best is trial 23 with value: 0.11223847598167723.\n",
      "C:\\Users\\48726\\AppData\\Local\\Temp\\ipykernel_9912\\2595821963.py:11: FutureWarning: suggest_loguniform has been deprecated in v3.0.0. This feature will be removed in v6.0.0. See https://github.com/optuna/optuna/releases/tag/v3.0.0. Use suggest_float(..., log=True) instead.\n",
      "  'alpha': lambda trial: trial.suggest_loguniform('alpha', 1e-4, 1e-1),\n",
      "C:\\Users\\48726\\AppData\\Local\\Temp\\ipykernel_9912\\2595821963.py:12: FutureWarning: suggest_loguniform has been deprecated in v3.0.0. This feature will be removed in v6.0.0. See https://github.com/optuna/optuna/releases/tag/v3.0.0. Use suggest_float(..., log=True) instead.\n",
      "  'eta0': lambda trial: trial.suggest_loguniform('eta0', 1e-3, 1.0),\n",
      "[I 2024-11-10 22:57:36,561] Trial 25 finished with value: 0.1122494986144521 and parameters: {'alpha': 0.0019794377247451043, 'eta0': 0.0017857069372161386, 'penalty': 'l2'}. Best is trial 23 with value: 0.11223847598167723.\n",
      "C:\\Users\\48726\\AppData\\Local\\Temp\\ipykernel_9912\\2595821963.py:11: FutureWarning: suggest_loguniform has been deprecated in v3.0.0. This feature will be removed in v6.0.0. See https://github.com/optuna/optuna/releases/tag/v3.0.0. Use suggest_float(..., log=True) instead.\n",
      "  'alpha': lambda trial: trial.suggest_loguniform('alpha', 1e-4, 1e-1),\n",
      "C:\\Users\\48726\\AppData\\Local\\Temp\\ipykernel_9912\\2595821963.py:12: FutureWarning: suggest_loguniform has been deprecated in v3.0.0. This feature will be removed in v6.0.0. See https://github.com/optuna/optuna/releases/tag/v3.0.0. Use suggest_float(..., log=True) instead.\n",
      "  'eta0': lambda trial: trial.suggest_loguniform('eta0', 1e-3, 1.0),\n",
      "[I 2024-11-10 22:57:44,676] Trial 26 finished with value: 0.11224760311095028 and parameters: {'alpha': 0.002193602778421568, 'eta0': 0.0017259243290901035, 'penalty': 'l2'}. Best is trial 23 with value: 0.11223847598167723.\n",
      "C:\\Users\\48726\\AppData\\Local\\Temp\\ipykernel_9912\\2595821963.py:11: FutureWarning: suggest_loguniform has been deprecated in v3.0.0. This feature will be removed in v6.0.0. See https://github.com/optuna/optuna/releases/tag/v3.0.0. Use suggest_float(..., log=True) instead.\n",
      "  'alpha': lambda trial: trial.suggest_loguniform('alpha', 1e-4, 1e-1),\n",
      "C:\\Users\\48726\\AppData\\Local\\Temp\\ipykernel_9912\\2595821963.py:12: FutureWarning: suggest_loguniform has been deprecated in v3.0.0. This feature will be removed in v6.0.0. See https://github.com/optuna/optuna/releases/tag/v3.0.0. Use suggest_float(..., log=True) instead.\n",
      "  'eta0': lambda trial: trial.suggest_loguniform('eta0', 1e-3, 1.0),\n",
      "[I 2024-11-10 22:57:52,696] Trial 27 finished with value: 0.11224612361008156 and parameters: {'alpha': 0.0021592645485776166, 'eta0': 0.0017060104827825964, 'penalty': 'l2'}. Best is trial 23 with value: 0.11223847598167723.\n",
      "C:\\Users\\48726\\AppData\\Local\\Temp\\ipykernel_9912\\2595821963.py:11: FutureWarning: suggest_loguniform has been deprecated in v3.0.0. This feature will be removed in v6.0.0. See https://github.com/optuna/optuna/releases/tag/v3.0.0. Use suggest_float(..., log=True) instead.\n",
      "  'alpha': lambda trial: trial.suggest_loguniform('alpha', 1e-4, 1e-1),\n",
      "C:\\Users\\48726\\AppData\\Local\\Temp\\ipykernel_9912\\2595821963.py:12: FutureWarning: suggest_loguniform has been deprecated in v3.0.0. This feature will be removed in v6.0.0. See https://github.com/optuna/optuna/releases/tag/v3.0.0. Use suggest_float(..., log=True) instead.\n",
      "  'eta0': lambda trial: trial.suggest_loguniform('eta0', 1e-3, 1.0),\n",
      "[I 2024-11-10 22:58:02,939] Trial 28 finished with value: 0.11232898584631568 and parameters: {'alpha': 0.0005442424737149325, 'eta0': 0.0010267076918455823, 'penalty': 'l1'}. Best is trial 23 with value: 0.11223847598167723.\n",
      "C:\\Users\\48726\\AppData\\Local\\Temp\\ipykernel_9912\\2595821963.py:11: FutureWarning: suggest_loguniform has been deprecated in v3.0.0. This feature will be removed in v6.0.0. See https://github.com/optuna/optuna/releases/tag/v3.0.0. Use suggest_float(..., log=True) instead.\n",
      "  'alpha': lambda trial: trial.suggest_loguniform('alpha', 1e-4, 1e-1),\n",
      "C:\\Users\\48726\\AppData\\Local\\Temp\\ipykernel_9912\\2595821963.py:12: FutureWarning: suggest_loguniform has been deprecated in v3.0.0. This feature will be removed in v6.0.0. See https://github.com/optuna/optuna/releases/tag/v3.0.0. Use suggest_float(..., log=True) instead.\n",
      "  'eta0': lambda trial: trial.suggest_loguniform('eta0', 1e-3, 1.0),\n",
      "[I 2024-11-10 22:58:13,578] Trial 29 finished with value: 0.11323188132434049 and parameters: {'alpha': 0.010690031471484628, 'eta0': 0.008576094116008381, 'penalty': 'elasticnet'}. Best is trial 23 with value: 0.11223847598167723.\n",
      "C:\\Users\\48726\\AppData\\Local\\Temp\\ipykernel_9912\\2595821963.py:11: FutureWarning: suggest_loguniform has been deprecated in v3.0.0. This feature will be removed in v6.0.0. See https://github.com/optuna/optuna/releases/tag/v3.0.0. Use suggest_float(..., log=True) instead.\n",
      "  'alpha': lambda trial: trial.suggest_loguniform('alpha', 1e-4, 1e-1),\n",
      "C:\\Users\\48726\\AppData\\Local\\Temp\\ipykernel_9912\\2595821963.py:12: FutureWarning: suggest_loguniform has been deprecated in v3.0.0. This feature will be removed in v6.0.0. See https://github.com/optuna/optuna/releases/tag/v3.0.0. Use suggest_float(..., log=True) instead.\n",
      "  'eta0': lambda trial: trial.suggest_loguniform('eta0', 1e-3, 1.0),\n",
      "[I 2024-11-10 22:58:24,012] Trial 30 finished with value: 0.11308947437135942 and parameters: {'alpha': 0.0027886361075660777, 'eta0': 0.0044519098361022755, 'penalty': 'l1'}. Best is trial 23 with value: 0.11223847598167723.\n",
      "C:\\Users\\48726\\AppData\\Local\\Temp\\ipykernel_9912\\2595821963.py:11: FutureWarning: suggest_loguniform has been deprecated in v3.0.0. This feature will be removed in v6.0.0. See https://github.com/optuna/optuna/releases/tag/v3.0.0. Use suggest_float(..., log=True) instead.\n",
      "  'alpha': lambda trial: trial.suggest_loguniform('alpha', 1e-4, 1e-1),\n",
      "C:\\Users\\48726\\AppData\\Local\\Temp\\ipykernel_9912\\2595821963.py:12: FutureWarning: suggest_loguniform has been deprecated in v3.0.0. This feature will be removed in v6.0.0. See https://github.com/optuna/optuna/releases/tag/v3.0.0. Use suggest_float(..., log=True) instead.\n",
      "  'eta0': lambda trial: trial.suggest_loguniform('eta0', 1e-3, 1.0),\n",
      "[I 2024-11-10 22:58:32,114] Trial 31 finished with value: 0.11224060426490252 and parameters: {'alpha': 0.0019624604580539273, 'eta0': 0.0016373885145558483, 'penalty': 'l2'}. Best is trial 23 with value: 0.11223847598167723.\n",
      "C:\\Users\\48726\\AppData\\Local\\Temp\\ipykernel_9912\\2595821963.py:11: FutureWarning: suggest_loguniform has been deprecated in v3.0.0. This feature will be removed in v6.0.0. See https://github.com/optuna/optuna/releases/tag/v3.0.0. Use suggest_float(..., log=True) instead.\n",
      "  'alpha': lambda trial: trial.suggest_loguniform('alpha', 1e-4, 1e-1),\n",
      "C:\\Users\\48726\\AppData\\Local\\Temp\\ipykernel_9912\\2595821963.py:12: FutureWarning: suggest_loguniform has been deprecated in v3.0.0. This feature will be removed in v6.0.0. See https://github.com/optuna/optuna/releases/tag/v3.0.0. Use suggest_float(..., log=True) instead.\n",
      "  'eta0': lambda trial: trial.suggest_loguniform('eta0', 1e-3, 1.0),\n",
      "[I 2024-11-10 22:58:40,601] Trial 32 finished with value: 0.11223112915290166 and parameters: {'alpha': 0.0008867369077412053, 'eta0': 0.0016178637555583054, 'penalty': 'l2'}. Best is trial 32 with value: 0.11223112915290166.\n",
      "C:\\Users\\48726\\AppData\\Local\\Temp\\ipykernel_9912\\2595821963.py:11: FutureWarning: suggest_loguniform has been deprecated in v3.0.0. This feature will be removed in v6.0.0. See https://github.com/optuna/optuna/releases/tag/v3.0.0. Use suggest_float(..., log=True) instead.\n",
      "  'alpha': lambda trial: trial.suggest_loguniform('alpha', 1e-4, 1e-1),\n",
      "C:\\Users\\48726\\AppData\\Local\\Temp\\ipykernel_9912\\2595821963.py:12: FutureWarning: suggest_loguniform has been deprecated in v3.0.0. This feature will be removed in v6.0.0. See https://github.com/optuna/optuna/releases/tag/v3.0.0. Use suggest_float(..., log=True) instead.\n",
      "  'eta0': lambda trial: trial.suggest_loguniform('eta0', 1e-3, 1.0),\n",
      "[I 2024-11-10 22:58:48,428] Trial 33 finished with value: 0.11222558286494268 and parameters: {'alpha': 0.0007548347095249045, 'eta0': 0.0015194018856607215, 'penalty': 'l2'}. Best is trial 33 with value: 0.11222558286494268.\n",
      "C:\\Users\\48726\\AppData\\Local\\Temp\\ipykernel_9912\\2595821963.py:11: FutureWarning: suggest_loguniform has been deprecated in v3.0.0. This feature will be removed in v6.0.0. See https://github.com/optuna/optuna/releases/tag/v3.0.0. Use suggest_float(..., log=True) instead.\n",
      "  'alpha': lambda trial: trial.suggest_loguniform('alpha', 1e-4, 1e-1),\n",
      "C:\\Users\\48726\\AppData\\Local\\Temp\\ipykernel_9912\\2595821963.py:12: FutureWarning: suggest_loguniform has been deprecated in v3.0.0. This feature will be removed in v6.0.0. See https://github.com/optuna/optuna/releases/tag/v3.0.0. Use suggest_float(..., log=True) instead.\n",
      "  'eta0': lambda trial: trial.suggest_loguniform('eta0', 1e-3, 1.0),\n",
      "[I 2024-11-10 22:58:54,604] Trial 34 finished with value: 4.5886437024788144e+23 and parameters: {'alpha': 0.00036219230941540725, 'eta0': 0.9267473164998079, 'penalty': 'l2'}. Best is trial 33 with value: 0.11222558286494268.\n",
      "C:\\Users\\48726\\AppData\\Local\\Temp\\ipykernel_9912\\2595821963.py:11: FutureWarning: suggest_loguniform has been deprecated in v3.0.0. This feature will be removed in v6.0.0. See https://github.com/optuna/optuna/releases/tag/v3.0.0. Use suggest_float(..., log=True) instead.\n",
      "  'alpha': lambda trial: trial.suggest_loguniform('alpha', 1e-4, 1e-1),\n",
      "C:\\Users\\48726\\AppData\\Local\\Temp\\ipykernel_9912\\2595821963.py:12: FutureWarning: suggest_loguniform has been deprecated in v3.0.0. This feature will be removed in v6.0.0. See https://github.com/optuna/optuna/releases/tag/v3.0.0. Use suggest_float(..., log=True) instead.\n",
      "  'eta0': lambda trial: trial.suggest_loguniform('eta0', 1e-3, 1.0),\n",
      "[I 2024-11-10 22:59:01,874] Trial 35 finished with value: 0.11256162724035046 and parameters: {'alpha': 0.0007945344356731181, 'eta0': 0.005349793489708102, 'penalty': 'elasticnet'}. Best is trial 33 with value: 0.11222558286494268.\n",
      "C:\\Users\\48726\\AppData\\Local\\Temp\\ipykernel_9912\\2595821963.py:11: FutureWarning: suggest_loguniform has been deprecated in v3.0.0. This feature will be removed in v6.0.0. See https://github.com/optuna/optuna/releases/tag/v3.0.0. Use suggest_float(..., log=True) instead.\n",
      "  'alpha': lambda trial: trial.suggest_loguniform('alpha', 1e-4, 1e-1),\n",
      "C:\\Users\\48726\\AppData\\Local\\Temp\\ipykernel_9912\\2595821963.py:12: FutureWarning: suggest_loguniform has been deprecated in v3.0.0. This feature will be removed in v6.0.0. See https://github.com/optuna/optuna/releases/tag/v3.0.0. Use suggest_float(..., log=True) instead.\n",
      "  'eta0': lambda trial: trial.suggest_loguniform('eta0', 1e-3, 1.0),\n",
      "[I 2024-11-10 22:59:07,705] Trial 36 finished with value: 0.11502652747480499 and parameters: {'alpha': 0.0002970064771267131, 'eta0': 0.02291168512844298, 'penalty': 'l2'}. Best is trial 33 with value: 0.11222558286494268.\n",
      "C:\\Users\\48726\\AppData\\Local\\Temp\\ipykernel_9912\\2595821963.py:11: FutureWarning: suggest_loguniform has been deprecated in v3.0.0. This feature will be removed in v6.0.0. See https://github.com/optuna/optuna/releases/tag/v3.0.0. Use suggest_float(..., log=True) instead.\n",
      "  'alpha': lambda trial: trial.suggest_loguniform('alpha', 1e-4, 1e-1),\n",
      "C:\\Users\\48726\\AppData\\Local\\Temp\\ipykernel_9912\\2595821963.py:12: FutureWarning: suggest_loguniform has been deprecated in v3.0.0. This feature will be removed in v6.0.0. See https://github.com/optuna/optuna/releases/tag/v3.0.0. Use suggest_float(..., log=True) instead.\n",
      "  'eta0': lambda trial: trial.suggest_loguniform('eta0', 1e-3, 1.0),\n",
      "[I 2024-11-10 22:59:13,759] Trial 37 finished with value: 90.1085927635207 and parameters: {'alpha': 0.0006896925759336369, 'eta0': 0.09292260939161952, 'penalty': 'l2'}. Best is trial 33 with value: 0.11222558286494268.\n",
      "C:\\Users\\48726\\AppData\\Local\\Temp\\ipykernel_9912\\2595821963.py:11: FutureWarning: suggest_loguniform has been deprecated in v3.0.0. This feature will be removed in v6.0.0. See https://github.com/optuna/optuna/releases/tag/v3.0.0. Use suggest_float(..., log=True) instead.\n",
      "  'alpha': lambda trial: trial.suggest_loguniform('alpha', 1e-4, 1e-1),\n",
      "C:\\Users\\48726\\AppData\\Local\\Temp\\ipykernel_9912\\2595821963.py:12: FutureWarning: suggest_loguniform has been deprecated in v3.0.0. This feature will be removed in v6.0.0. See https://github.com/optuna/optuna/releases/tag/v3.0.0. Use suggest_float(..., log=True) instead.\n",
      "  'eta0': lambda trial: trial.suggest_loguniform('eta0', 1e-3, 1.0),\n",
      "[I 2024-11-10 22:59:23,277] Trial 38 finished with value: 0.11246606174335183 and parameters: {'alpha': 0.00010278353260634573, 'eta0': 0.0045302423168458285, 'penalty': 'l1'}. Best is trial 33 with value: 0.11222558286494268.\n",
      "C:\\Users\\48726\\AppData\\Local\\Temp\\ipykernel_9912\\2595821963.py:11: FutureWarning: suggest_loguniform has been deprecated in v3.0.0. This feature will be removed in v6.0.0. See https://github.com/optuna/optuna/releases/tag/v3.0.0. Use suggest_float(..., log=True) instead.\n",
      "  'alpha': lambda trial: trial.suggest_loguniform('alpha', 1e-4, 1e-1),\n",
      "C:\\Users\\48726\\AppData\\Local\\Temp\\ipykernel_9912\\2595821963.py:12: FutureWarning: suggest_loguniform has been deprecated in v3.0.0. This feature will be removed in v6.0.0. See https://github.com/optuna/optuna/releases/tag/v3.0.0. Use suggest_float(..., log=True) instead.\n",
      "  'eta0': lambda trial: trial.suggest_loguniform('eta0', 1e-3, 1.0),\n",
      "[I 2024-11-10 22:59:31,946] Trial 39 finished with value: 0.1122671607044076 and parameters: {'alpha': 0.0011880207167508376, 'eta0': 0.0015523143771381982, 'penalty': 'elasticnet'}. Best is trial 33 with value: 0.11222558286494268.\n",
      "C:\\Users\\48726\\AppData\\Local\\Temp\\ipykernel_9912\\2595821963.py:11: FutureWarning: suggest_loguniform has been deprecated in v3.0.0. This feature will be removed in v6.0.0. See https://github.com/optuna/optuna/releases/tag/v3.0.0. Use suggest_float(..., log=True) instead.\n",
      "  'alpha': lambda trial: trial.suggest_loguniform('alpha', 1e-4, 1e-1),\n",
      "C:\\Users\\48726\\AppData\\Local\\Temp\\ipykernel_9912\\2595821963.py:12: FutureWarning: suggest_loguniform has been deprecated in v3.0.0. This feature will be removed in v6.0.0. See https://github.com/optuna/optuna/releases/tag/v3.0.0. Use suggest_float(..., log=True) instead.\n",
      "  'eta0': lambda trial: trial.suggest_loguniform('eta0', 1e-3, 1.0),\n",
      "[I 2024-11-10 22:59:37,508] Trial 40 finished with value: 0.11408277603992675 and parameters: {'alpha': 0.00017694082416281237, 'eta0': 0.018092010477165424, 'penalty': 'l2'}. Best is trial 33 with value: 0.11222558286494268.\n",
      "C:\\Users\\48726\\AppData\\Local\\Temp\\ipykernel_9912\\2595821963.py:11: FutureWarning: suggest_loguniform has been deprecated in v3.0.0. This feature will be removed in v6.0.0. See https://github.com/optuna/optuna/releases/tag/v3.0.0. Use suggest_float(..., log=True) instead.\n",
      "  'alpha': lambda trial: trial.suggest_loguniform('alpha', 1e-4, 1e-1),\n",
      "C:\\Users\\48726\\AppData\\Local\\Temp\\ipykernel_9912\\2595821963.py:12: FutureWarning: suggest_loguniform has been deprecated in v3.0.0. This feature will be removed in v6.0.0. See https://github.com/optuna/optuna/releases/tag/v3.0.0. Use suggest_float(..., log=True) instead.\n",
      "  'eta0': lambda trial: trial.suggest_loguniform('eta0', 1e-3, 1.0),\n",
      "[I 2024-11-10 22:59:43,573] Trial 41 finished with value: 0.112233342804662 and parameters: {'alpha': 0.0023607403142664484, 'eta0': 0.0014384817843289207, 'penalty': 'l2'}. Best is trial 33 with value: 0.11222558286494268.\n",
      "C:\\Users\\48726\\AppData\\Local\\Temp\\ipykernel_9912\\2595821963.py:11: FutureWarning: suggest_loguniform has been deprecated in v3.0.0. This feature will be removed in v6.0.0. See https://github.com/optuna/optuna/releases/tag/v3.0.0. Use suggest_float(..., log=True) instead.\n",
      "  'alpha': lambda trial: trial.suggest_loguniform('alpha', 1e-4, 1e-1),\n",
      "C:\\Users\\48726\\AppData\\Local\\Temp\\ipykernel_9912\\2595821963.py:12: FutureWarning: suggest_loguniform has been deprecated in v3.0.0. This feature will be removed in v6.0.0. See https://github.com/optuna/optuna/releases/tag/v3.0.0. Use suggest_float(..., log=True) instead.\n",
      "  'eta0': lambda trial: trial.suggest_loguniform('eta0', 1e-3, 1.0),\n",
      "[I 2024-11-10 22:59:50,655] Trial 42 finished with value: 0.11221716610521541 and parameters: {'alpha': 0.00040837604470370705, 'eta0': 0.0013577567661031311, 'penalty': 'l2'}. Best is trial 42 with value: 0.11221716610521541.\n",
      "C:\\Users\\48726\\AppData\\Local\\Temp\\ipykernel_9912\\2595821963.py:11: FutureWarning: suggest_loguniform has been deprecated in v3.0.0. This feature will be removed in v6.0.0. See https://github.com/optuna/optuna/releases/tag/v3.0.0. Use suggest_float(..., log=True) instead.\n",
      "  'alpha': lambda trial: trial.suggest_loguniform('alpha', 1e-4, 1e-1),\n",
      "C:\\Users\\48726\\AppData\\Local\\Temp\\ipykernel_9912\\2595821963.py:12: FutureWarning: suggest_loguniform has been deprecated in v3.0.0. This feature will be removed in v6.0.0. See https://github.com/optuna/optuna/releases/tag/v3.0.0. Use suggest_float(..., log=True) instead.\n",
      "  'eta0': lambda trial: trial.suggest_loguniform('eta0', 1e-3, 1.0),\n",
      "[I 2024-11-10 22:59:58,544] Trial 43 finished with value: 0.11221415830964031 and parameters: {'alpha': 0.0004679610761789401, 'eta0': 0.001230621223274219, 'penalty': 'l2'}. Best is trial 43 with value: 0.11221415830964031.\n",
      "C:\\Users\\48726\\AppData\\Local\\Temp\\ipykernel_9912\\2595821963.py:11: FutureWarning: suggest_loguniform has been deprecated in v3.0.0. This feature will be removed in v6.0.0. See https://github.com/optuna/optuna/releases/tag/v3.0.0. Use suggest_float(..., log=True) instead.\n",
      "  'alpha': lambda trial: trial.suggest_loguniform('alpha', 1e-4, 1e-1),\n",
      "C:\\Users\\48726\\AppData\\Local\\Temp\\ipykernel_9912\\2595821963.py:12: FutureWarning: suggest_loguniform has been deprecated in v3.0.0. This feature will be removed in v6.0.0. See https://github.com/optuna/optuna/releases/tag/v3.0.0. Use suggest_float(..., log=True) instead.\n",
      "  'eta0': lambda trial: trial.suggest_loguniform('eta0', 1e-3, 1.0),\n",
      "[I 2024-11-10 23:00:03,873] Trial 44 finished with value: 0.11221096295171924 and parameters: {'alpha': 0.00037259304655958545, 'eta0': 0.0010264558176525619, 'penalty': 'l2'}. Best is trial 44 with value: 0.11221096295171924.\n",
      "C:\\Users\\48726\\AppData\\Local\\Temp\\ipykernel_9912\\2595821963.py:11: FutureWarning: suggest_loguniform has been deprecated in v3.0.0. This feature will be removed in v6.0.0. See https://github.com/optuna/optuna/releases/tag/v3.0.0. Use suggest_float(..., log=True) instead.\n",
      "  'alpha': lambda trial: trial.suggest_loguniform('alpha', 1e-4, 1e-1),\n",
      "C:\\Users\\48726\\AppData\\Local\\Temp\\ipykernel_9912\\2595821963.py:12: FutureWarning: suggest_loguniform has been deprecated in v3.0.0. This feature will be removed in v6.0.0. See https://github.com/optuna/optuna/releases/tag/v3.0.0. Use suggest_float(..., log=True) instead.\n",
      "  'eta0': lambda trial: trial.suggest_loguniform('eta0', 1e-3, 1.0),\n",
      "[I 2024-11-10 23:00:10,129] Trial 45 finished with value: 0.11221107945776079 and parameters: {'alpha': 0.00037564569869223105, 'eta0': 0.0010479333728556643, 'penalty': 'l2'}. Best is trial 44 with value: 0.11221096295171924.\n",
      "C:\\Users\\48726\\AppData\\Local\\Temp\\ipykernel_9912\\2595821963.py:11: FutureWarning: suggest_loguniform has been deprecated in v3.0.0. This feature will be removed in v6.0.0. See https://github.com/optuna/optuna/releases/tag/v3.0.0. Use suggest_float(..., log=True) instead.\n",
      "  'alpha': lambda trial: trial.suggest_loguniform('alpha', 1e-4, 1e-1),\n",
      "C:\\Users\\48726\\AppData\\Local\\Temp\\ipykernel_9912\\2595821963.py:12: FutureWarning: suggest_loguniform has been deprecated in v3.0.0. This feature will be removed in v6.0.0. See https://github.com/optuna/optuna/releases/tag/v3.0.0. Use suggest_float(..., log=True) instead.\n",
      "  'eta0': lambda trial: trial.suggest_loguniform('eta0', 1e-3, 1.0),\n",
      "[I 2024-11-10 23:00:17,073] Trial 46 finished with value: 0.11220992382688748 and parameters: {'alpha': 0.00015605526634289983, 'eta0': 0.0010042978265616925, 'penalty': 'l2'}. Best is trial 46 with value: 0.11220992382688748.\n",
      "C:\\Users\\48726\\AppData\\Local\\Temp\\ipykernel_9912\\2595821963.py:11: FutureWarning: suggest_loguniform has been deprecated in v3.0.0. This feature will be removed in v6.0.0. See https://github.com/optuna/optuna/releases/tag/v3.0.0. Use suggest_float(..., log=True) instead.\n",
      "  'alpha': lambda trial: trial.suggest_loguniform('alpha', 1e-4, 1e-1),\n",
      "C:\\Users\\48726\\AppData\\Local\\Temp\\ipykernel_9912\\2595821963.py:12: FutureWarning: suggest_loguniform has been deprecated in v3.0.0. This feature will be removed in v6.0.0. See https://github.com/optuna/optuna/releases/tag/v3.0.0. Use suggest_float(..., log=True) instead.\n",
      "  'eta0': lambda trial: trial.suggest_loguniform('eta0', 1e-3, 1.0),\n",
      "[I 2024-11-10 23:00:25,321] Trial 47 finished with value: 0.11220989620792514 and parameters: {'alpha': 0.00014852155938485184, 'eta0': 0.0010138927567066804, 'penalty': 'l2'}. Best is trial 47 with value: 0.11220989620792514.\n",
      "C:\\Users\\48726\\AppData\\Local\\Temp\\ipykernel_9912\\2595821963.py:11: FutureWarning: suggest_loguniform has been deprecated in v3.0.0. This feature will be removed in v6.0.0. See https://github.com/optuna/optuna/releases/tag/v3.0.0. Use suggest_float(..., log=True) instead.\n",
      "  'alpha': lambda trial: trial.suggest_loguniform('alpha', 1e-4, 1e-1),\n",
      "C:\\Users\\48726\\AppData\\Local\\Temp\\ipykernel_9912\\2595821963.py:12: FutureWarning: suggest_loguniform has been deprecated in v3.0.0. This feature will be removed in v6.0.0. See https://github.com/optuna/optuna/releases/tag/v3.0.0. Use suggest_float(..., log=True) instead.\n",
      "  'eta0': lambda trial: trial.suggest_loguniform('eta0', 1e-3, 1.0),\n",
      "[I 2024-11-10 23:00:33,843] Trial 48 finished with value: 0.11220988284819446 and parameters: {'alpha': 0.00014247020809473639, 'eta0': 0.0010230487211997194, 'penalty': 'l2'}. Best is trial 48 with value: 0.11220988284819446.\n",
      "C:\\Users\\48726\\AppData\\Local\\Temp\\ipykernel_9912\\2595821963.py:11: FutureWarning: suggest_loguniform has been deprecated in v3.0.0. This feature will be removed in v6.0.0. See https://github.com/optuna/optuna/releases/tag/v3.0.0. Use suggest_float(..., log=True) instead.\n",
      "  'alpha': lambda trial: trial.suggest_loguniform('alpha', 1e-4, 1e-1),\n",
      "C:\\Users\\48726\\AppData\\Local\\Temp\\ipykernel_9912\\2595821963.py:12: FutureWarning: suggest_loguniform has been deprecated in v3.0.0. This feature will be removed in v6.0.0. See https://github.com/optuna/optuna/releases/tag/v3.0.0. Use suggest_float(..., log=True) instead.\n",
      "  'eta0': lambda trial: trial.suggest_loguniform('eta0', 1e-3, 1.0),\n",
      "[I 2024-11-10 23:00:42,336] Trial 49 finished with value: 0.11220986630828086 and parameters: {'alpha': 0.00014127241522329069, 'eta0': 0.0010165838773616698, 'penalty': 'l2'}. Best is trial 49 with value: 0.11220986630828086.\n"
     ]
    },
    {
     "name": "stdout",
     "output_type": "stream",
     "text": [
      "Los mejores hiperparametros para el modelo SGDRegressor : {'alpha': 0.00014127241522329069, 'eta0': 0.0010165838773616698, 'penalty': 'l2'}\n"
     ]
    }
   ],
   "source": [
    "study = optuna.create_study(direction='minimize' if model_name == 'SGDRegressor' else 'maximize')\n",
    "study.optimize(lambda trial: objective(trial, model_name), n_trials=50)\n",
    "\n",
    "print(\"Los mejores hiperparametros para el modelo\", model_name, \":\", study.best_params)\n"
   ]
  },
  {
   "cell_type": "markdown",
   "metadata": {},
   "source": [
    "Los mejores hiperparametros para el modelo SGDRegressor : {'alpha': 0.00014127241522329069, 'eta0': 0.0010165838773616698, 'penalty': 'l2'}"
   ]
  },
  {
   "cell_type": "markdown",
   "metadata": {},
   "source": [
    "#### Regresión Polynomial"
   ]
  },
  {
   "cell_type": "code",
   "execution_count": 30,
   "metadata": {},
   "outputs": [
    {
     "name": "stderr",
     "output_type": "stream",
     "text": [
      "[I 2024-11-10 23:13:40,470] A new study created in memory with name: no-name-6f91e731-85d5-471b-9b11-1623093ca045\n",
      "C:\\Users\\48726\\AppData\\Local\\Temp\\ipykernel_9912\\416101142.py:16: FutureWarning: suggest_loguniform has been deprecated in v3.0.0. This feature will be removed in v6.0.0. See https://github.com/optuna/optuna/releases/tag/v3.0.0. Use suggest_float(..., log=True) instead.\n",
      "  'alpha': lambda trial: trial.suggest_loguniform('alpha', 1e-4, 1e-1),\n",
      "C:\\Users\\48726\\AppData\\Local\\Temp\\ipykernel_9912\\416101142.py:17: FutureWarning: suggest_loguniform has been deprecated in v3.0.0. This feature will be removed in v6.0.0. See https://github.com/optuna/optuna/releases/tag/v3.0.0. Use suggest_float(..., log=True) instead.\n",
      "  'eta0': lambda trial: trial.suggest_loguniform('eta0', 1e-3, 1.0),\n",
      "[W 2024-11-10 23:13:41,658] Trial 0 failed with parameters: {'alpha': 0.03802049362464376, 'eta0': 0.005151768106451124, 'penalty': 'l2', 'degree': 3} because of the following error: MemoryError((589300, 29260), dtype('float64')).\n",
      "Traceback (most recent call last):\n",
      "  File \"c:\\Users\\48726\\AppData\\Local\\Programs\\Python\\Python311\\Lib\\site-packages\\optuna\\study\\_optimize.py\", line 197, in _run_trial\n",
      "    value_or_values = func(trial)\n",
      "                      ^^^^^^^^^^^\n",
      "  File \"C:\\Users\\48726\\AppData\\Local\\Temp\\ipykernel_9912\\4021614718.py\", line 4, in <lambda>\n",
      "    study.optimize(lambda trial: objective(trial, model_name), n_trials=50)\n",
      "                                 ^^^^^^^^^^^^^^^^^^^^^^^^^^^^\n",
      "  File \"C:\\Users\\48726\\AppData\\Local\\Temp\\ipykernel_9912\\1909381297.py\", line 35, in objective\n",
      "    model.fit(X_train, y_train)\n",
      "  File \"c:\\Users\\48726\\AppData\\Local\\Programs\\Python\\Python311\\Lib\\site-packages\\sklearn\\base.py\", line 1474, in wrapper\n",
      "    return fit_method(estimator, *args, **kwargs)\n",
      "           ^^^^^^^^^^^^^^^^^^^^^^^^^^^^^^^^^^^^^^\n",
      "  File \"c:\\Users\\48726\\AppData\\Local\\Programs\\Python\\Python311\\Lib\\site-packages\\sklearn\\pipeline.py\", line 471, in fit\n",
      "    Xt = self._fit(X, y, routed_params)\n",
      "         ^^^^^^^^^^^^^^^^^^^^^^^^^^^^^^\n",
      "  File \"c:\\Users\\48726\\AppData\\Local\\Programs\\Python\\Python311\\Lib\\site-packages\\sklearn\\pipeline.py\", line 408, in _fit\n",
      "    X, fitted_transformer = fit_transform_one_cached(\n",
      "                            ^^^^^^^^^^^^^^^^^^^^^^^^^\n",
      "  File \"c:\\Users\\48726\\AppData\\Local\\Programs\\Python\\Python311\\Lib\\site-packages\\joblib\\memory.py\", line 312, in __call__\n",
      "    return self.func(*args, **kwargs)\n",
      "           ^^^^^^^^^^^^^^^^^^^^^^^^^^\n",
      "  File \"c:\\Users\\48726\\AppData\\Local\\Programs\\Python\\Python311\\Lib\\site-packages\\sklearn\\pipeline.py\", line 1303, in _fit_transform_one\n",
      "    res = transformer.fit_transform(X, y, **params.get(\"fit_transform\", {}))\n",
      "          ^^^^^^^^^^^^^^^^^^^^^^^^^^^^^^^^^^^^^^^^^^^^^^^^^^^^^^^^^^^^^^^^^^\n",
      "  File \"c:\\Users\\48726\\AppData\\Local\\Programs\\Python\\Python311\\Lib\\site-packages\\sklearn\\utils\\_set_output.py\", line 295, in wrapped\n",
      "    data_to_wrap = f(self, X, *args, **kwargs)\n",
      "                   ^^^^^^^^^^^^^^^^^^^^^^^^^^^\n",
      "  File \"c:\\Users\\48726\\AppData\\Local\\Programs\\Python\\Python311\\Lib\\site-packages\\sklearn\\base.py\", line 1101, in fit_transform\n",
      "    return self.fit(X, y, **fit_params).transform(X)\n",
      "           ^^^^^^^^^^^^^^^^^^^^^^^^^^^^^^^^^^^^^^^^^\n",
      "  File \"c:\\Users\\48726\\AppData\\Local\\Programs\\Python\\Python311\\Lib\\site-packages\\sklearn\\utils\\_set_output.py\", line 295, in wrapped\n",
      "    data_to_wrap = f(self, X, *args, **kwargs)\n",
      "                   ^^^^^^^^^^^^^^^^^^^^^^^^^^^\n",
      "  File \"c:\\Users\\48726\\AppData\\Local\\Programs\\Python\\Python311\\Lib\\site-packages\\sklearn\\preprocessing\\_polynomial.py\", line 507, in transform\n",
      "    XP = np.empty(\n",
      "         ^^^^^^^^^\n",
      "numpy.core._exceptions._ArrayMemoryError: Unable to allocate 128. GiB for an array with shape (589300, 29260) and data type float64\n",
      "[W 2024-11-10 23:13:41,746] Trial 0 failed with value None.\n"
     ]
    },
    {
     "ename": "MemoryError",
     "evalue": "Unable to allocate 128. GiB for an array with shape (589300, 29260) and data type float64",
     "output_type": "error",
     "traceback": [
      "\u001b[1;31m---------------------------------------------------------------------------\u001b[0m",
      "\u001b[1;31mMemoryError\u001b[0m                               Traceback (most recent call last)",
      "Cell \u001b[1;32mIn[30], line 4\u001b[0m\n\u001b[0;32m      1\u001b[0m model_name \u001b[38;5;241m=\u001b[39m \u001b[38;5;124m'\u001b[39m\u001b[38;5;124mSGDRegressorPolynomial\u001b[39m\u001b[38;5;124m'\u001b[39m\n\u001b[0;32m      3\u001b[0m study \u001b[38;5;241m=\u001b[39m optuna\u001b[38;5;241m.\u001b[39mcreate_study(direction\u001b[38;5;241m=\u001b[39m\u001b[38;5;124m'\u001b[39m\u001b[38;5;124mminimize\u001b[39m\u001b[38;5;124m'\u001b[39m)\n\u001b[1;32m----> 4\u001b[0m \u001b[43mstudy\u001b[49m\u001b[38;5;241;43m.\u001b[39;49m\u001b[43moptimize\u001b[49m\u001b[43m(\u001b[49m\u001b[38;5;28;43;01mlambda\u001b[39;49;00m\u001b[43m \u001b[49m\u001b[43mtrial\u001b[49m\u001b[43m:\u001b[49m\u001b[43m \u001b[49m\u001b[43mobjective\u001b[49m\u001b[43m(\u001b[49m\u001b[43mtrial\u001b[49m\u001b[43m,\u001b[49m\u001b[43m \u001b[49m\u001b[43mmodel_name\u001b[49m\u001b[43m)\u001b[49m\u001b[43m,\u001b[49m\u001b[43m \u001b[49m\u001b[43mn_trials\u001b[49m\u001b[38;5;241;43m=\u001b[39;49m\u001b[38;5;241;43m50\u001b[39;49m\u001b[43m)\u001b[49m\n\u001b[0;32m      6\u001b[0m \u001b[38;5;28mprint\u001b[39m(\u001b[38;5;124m\"\u001b[39m\u001b[38;5;124mLos mejores hiperparametros para el modelo\u001b[39m\u001b[38;5;124m\"\u001b[39m, model_name, \u001b[38;5;124m\"\u001b[39m\u001b[38;5;124m:\u001b[39m\u001b[38;5;124m\"\u001b[39m, study\u001b[38;5;241m.\u001b[39mbest_params)\n",
      "File \u001b[1;32mc:\\Users\\48726\\AppData\\Local\\Programs\\Python\\Python311\\Lib\\site-packages\\optuna\\study\\study.py:475\u001b[0m, in \u001b[0;36mStudy.optimize\u001b[1;34m(self, func, n_trials, timeout, n_jobs, catch, callbacks, gc_after_trial, show_progress_bar)\u001b[0m\n\u001b[0;32m    373\u001b[0m \u001b[38;5;28;01mdef\u001b[39;00m \u001b[38;5;21moptimize\u001b[39m(\n\u001b[0;32m    374\u001b[0m     \u001b[38;5;28mself\u001b[39m,\n\u001b[0;32m    375\u001b[0m     func: ObjectiveFuncType,\n\u001b[1;32m   (...)\u001b[0m\n\u001b[0;32m    382\u001b[0m     show_progress_bar: \u001b[38;5;28mbool\u001b[39m \u001b[38;5;241m=\u001b[39m \u001b[38;5;28;01mFalse\u001b[39;00m,\n\u001b[0;32m    383\u001b[0m ) \u001b[38;5;241m-\u001b[39m\u001b[38;5;241m>\u001b[39m \u001b[38;5;28;01mNone\u001b[39;00m:\n\u001b[0;32m    384\u001b[0m \u001b[38;5;250m    \u001b[39m\u001b[38;5;124;03m\"\"\"Optimize an objective function.\u001b[39;00m\n\u001b[0;32m    385\u001b[0m \n\u001b[0;32m    386\u001b[0m \u001b[38;5;124;03m    Optimization is done by choosing a suitable set of hyperparameter values from a given\u001b[39;00m\n\u001b[1;32m   (...)\u001b[0m\n\u001b[0;32m    473\u001b[0m \u001b[38;5;124;03m            If nested invocation of this method occurs.\u001b[39;00m\n\u001b[0;32m    474\u001b[0m \u001b[38;5;124;03m    \"\"\"\u001b[39;00m\n\u001b[1;32m--> 475\u001b[0m     \u001b[43m_optimize\u001b[49m\u001b[43m(\u001b[49m\n\u001b[0;32m    476\u001b[0m \u001b[43m        \u001b[49m\u001b[43mstudy\u001b[49m\u001b[38;5;241;43m=\u001b[39;49m\u001b[38;5;28;43mself\u001b[39;49m\u001b[43m,\u001b[49m\n\u001b[0;32m    477\u001b[0m \u001b[43m        \u001b[49m\u001b[43mfunc\u001b[49m\u001b[38;5;241;43m=\u001b[39;49m\u001b[43mfunc\u001b[49m\u001b[43m,\u001b[49m\n\u001b[0;32m    478\u001b[0m \u001b[43m        \u001b[49m\u001b[43mn_trials\u001b[49m\u001b[38;5;241;43m=\u001b[39;49m\u001b[43mn_trials\u001b[49m\u001b[43m,\u001b[49m\n\u001b[0;32m    479\u001b[0m \u001b[43m        \u001b[49m\u001b[43mtimeout\u001b[49m\u001b[38;5;241;43m=\u001b[39;49m\u001b[43mtimeout\u001b[49m\u001b[43m,\u001b[49m\n\u001b[0;32m    480\u001b[0m \u001b[43m        \u001b[49m\u001b[43mn_jobs\u001b[49m\u001b[38;5;241;43m=\u001b[39;49m\u001b[43mn_jobs\u001b[49m\u001b[43m,\u001b[49m\n\u001b[0;32m    481\u001b[0m \u001b[43m        \u001b[49m\u001b[43mcatch\u001b[49m\u001b[38;5;241;43m=\u001b[39;49m\u001b[38;5;28;43mtuple\u001b[39;49m\u001b[43m(\u001b[49m\u001b[43mcatch\u001b[49m\u001b[43m)\u001b[49m\u001b[43m \u001b[49m\u001b[38;5;28;43;01mif\u001b[39;49;00m\u001b[43m \u001b[49m\u001b[38;5;28;43misinstance\u001b[39;49m\u001b[43m(\u001b[49m\u001b[43mcatch\u001b[49m\u001b[43m,\u001b[49m\u001b[43m \u001b[49m\u001b[43mIterable\u001b[49m\u001b[43m)\u001b[49m\u001b[43m \u001b[49m\u001b[38;5;28;43;01melse\u001b[39;49;00m\u001b[43m \u001b[49m\u001b[43m(\u001b[49m\u001b[43mcatch\u001b[49m\u001b[43m,\u001b[49m\u001b[43m)\u001b[49m\u001b[43m,\u001b[49m\n\u001b[0;32m    482\u001b[0m \u001b[43m        \u001b[49m\u001b[43mcallbacks\u001b[49m\u001b[38;5;241;43m=\u001b[39;49m\u001b[43mcallbacks\u001b[49m\u001b[43m,\u001b[49m\n\u001b[0;32m    483\u001b[0m \u001b[43m        \u001b[49m\u001b[43mgc_after_trial\u001b[49m\u001b[38;5;241;43m=\u001b[39;49m\u001b[43mgc_after_trial\u001b[49m\u001b[43m,\u001b[49m\n\u001b[0;32m    484\u001b[0m \u001b[43m        \u001b[49m\u001b[43mshow_progress_bar\u001b[49m\u001b[38;5;241;43m=\u001b[39;49m\u001b[43mshow_progress_bar\u001b[49m\u001b[43m,\u001b[49m\n\u001b[0;32m    485\u001b[0m \u001b[43m    \u001b[49m\u001b[43m)\u001b[49m\n",
      "File \u001b[1;32mc:\\Users\\48726\\AppData\\Local\\Programs\\Python\\Python311\\Lib\\site-packages\\optuna\\study\\_optimize.py:63\u001b[0m, in \u001b[0;36m_optimize\u001b[1;34m(study, func, n_trials, timeout, n_jobs, catch, callbacks, gc_after_trial, show_progress_bar)\u001b[0m\n\u001b[0;32m     61\u001b[0m \u001b[38;5;28;01mtry\u001b[39;00m:\n\u001b[0;32m     62\u001b[0m     \u001b[38;5;28;01mif\u001b[39;00m n_jobs \u001b[38;5;241m==\u001b[39m \u001b[38;5;241m1\u001b[39m:\n\u001b[1;32m---> 63\u001b[0m         \u001b[43m_optimize_sequential\u001b[49m\u001b[43m(\u001b[49m\n\u001b[0;32m     64\u001b[0m \u001b[43m            \u001b[49m\u001b[43mstudy\u001b[49m\u001b[43m,\u001b[49m\n\u001b[0;32m     65\u001b[0m \u001b[43m            \u001b[49m\u001b[43mfunc\u001b[49m\u001b[43m,\u001b[49m\n\u001b[0;32m     66\u001b[0m \u001b[43m            \u001b[49m\u001b[43mn_trials\u001b[49m\u001b[43m,\u001b[49m\n\u001b[0;32m     67\u001b[0m \u001b[43m            \u001b[49m\u001b[43mtimeout\u001b[49m\u001b[43m,\u001b[49m\n\u001b[0;32m     68\u001b[0m \u001b[43m            \u001b[49m\u001b[43mcatch\u001b[49m\u001b[43m,\u001b[49m\n\u001b[0;32m     69\u001b[0m \u001b[43m            \u001b[49m\u001b[43mcallbacks\u001b[49m\u001b[43m,\u001b[49m\n\u001b[0;32m     70\u001b[0m \u001b[43m            \u001b[49m\u001b[43mgc_after_trial\u001b[49m\u001b[43m,\u001b[49m\n\u001b[0;32m     71\u001b[0m \u001b[43m            \u001b[49m\u001b[43mreseed_sampler_rng\u001b[49m\u001b[38;5;241;43m=\u001b[39;49m\u001b[38;5;28;43;01mFalse\u001b[39;49;00m\u001b[43m,\u001b[49m\n\u001b[0;32m     72\u001b[0m \u001b[43m            \u001b[49m\u001b[43mtime_start\u001b[49m\u001b[38;5;241;43m=\u001b[39;49m\u001b[38;5;28;43;01mNone\u001b[39;49;00m\u001b[43m,\u001b[49m\n\u001b[0;32m     73\u001b[0m \u001b[43m            \u001b[49m\u001b[43mprogress_bar\u001b[49m\u001b[38;5;241;43m=\u001b[39;49m\u001b[43mprogress_bar\u001b[49m\u001b[43m,\u001b[49m\n\u001b[0;32m     74\u001b[0m \u001b[43m        \u001b[49m\u001b[43m)\u001b[49m\n\u001b[0;32m     75\u001b[0m     \u001b[38;5;28;01melse\u001b[39;00m:\n\u001b[0;32m     76\u001b[0m         \u001b[38;5;28;01mif\u001b[39;00m n_jobs \u001b[38;5;241m==\u001b[39m \u001b[38;5;241m-\u001b[39m\u001b[38;5;241m1\u001b[39m:\n",
      "File \u001b[1;32mc:\\Users\\48726\\AppData\\Local\\Programs\\Python\\Python311\\Lib\\site-packages\\optuna\\study\\_optimize.py:160\u001b[0m, in \u001b[0;36m_optimize_sequential\u001b[1;34m(study, func, n_trials, timeout, catch, callbacks, gc_after_trial, reseed_sampler_rng, time_start, progress_bar)\u001b[0m\n\u001b[0;32m    157\u001b[0m         \u001b[38;5;28;01mbreak\u001b[39;00m\n\u001b[0;32m    159\u001b[0m \u001b[38;5;28;01mtry\u001b[39;00m:\n\u001b[1;32m--> 160\u001b[0m     frozen_trial \u001b[38;5;241m=\u001b[39m \u001b[43m_run_trial\u001b[49m\u001b[43m(\u001b[49m\u001b[43mstudy\u001b[49m\u001b[43m,\u001b[49m\u001b[43m \u001b[49m\u001b[43mfunc\u001b[49m\u001b[43m,\u001b[49m\u001b[43m \u001b[49m\u001b[43mcatch\u001b[49m\u001b[43m)\u001b[49m\n\u001b[0;32m    161\u001b[0m \u001b[38;5;28;01mfinally\u001b[39;00m:\n\u001b[0;32m    162\u001b[0m     \u001b[38;5;66;03m# The following line mitigates memory problems that can be occurred in some\u001b[39;00m\n\u001b[0;32m    163\u001b[0m     \u001b[38;5;66;03m# environments (e.g., services that use computing containers such as GitHub Actions).\u001b[39;00m\n\u001b[0;32m    164\u001b[0m     \u001b[38;5;66;03m# Please refer to the following PR for further details:\u001b[39;00m\n\u001b[0;32m    165\u001b[0m     \u001b[38;5;66;03m# https://github.com/optuna/optuna/pull/325.\u001b[39;00m\n\u001b[0;32m    166\u001b[0m     \u001b[38;5;28;01mif\u001b[39;00m gc_after_trial:\n",
      "File \u001b[1;32mc:\\Users\\48726\\AppData\\Local\\Programs\\Python\\Python311\\Lib\\site-packages\\optuna\\study\\_optimize.py:248\u001b[0m, in \u001b[0;36m_run_trial\u001b[1;34m(study, func, catch)\u001b[0m\n\u001b[0;32m    241\u001b[0m         \u001b[38;5;28;01massert\u001b[39;00m \u001b[38;5;28;01mFalse\u001b[39;00m, \u001b[38;5;124m\"\u001b[39m\u001b[38;5;124mShould not reach.\u001b[39m\u001b[38;5;124m\"\u001b[39m\n\u001b[0;32m    243\u001b[0m \u001b[38;5;28;01mif\u001b[39;00m (\n\u001b[0;32m    244\u001b[0m     frozen_trial\u001b[38;5;241m.\u001b[39mstate \u001b[38;5;241m==\u001b[39m TrialState\u001b[38;5;241m.\u001b[39mFAIL\n\u001b[0;32m    245\u001b[0m     \u001b[38;5;129;01mand\u001b[39;00m func_err \u001b[38;5;129;01mis\u001b[39;00m \u001b[38;5;129;01mnot\u001b[39;00m \u001b[38;5;28;01mNone\u001b[39;00m\n\u001b[0;32m    246\u001b[0m     \u001b[38;5;129;01mand\u001b[39;00m \u001b[38;5;129;01mnot\u001b[39;00m \u001b[38;5;28misinstance\u001b[39m(func_err, catch)\n\u001b[0;32m    247\u001b[0m ):\n\u001b[1;32m--> 248\u001b[0m     \u001b[38;5;28;01mraise\u001b[39;00m func_err\n\u001b[0;32m    249\u001b[0m \u001b[38;5;28;01mreturn\u001b[39;00m frozen_trial\n",
      "File \u001b[1;32mc:\\Users\\48726\\AppData\\Local\\Programs\\Python\\Python311\\Lib\\site-packages\\optuna\\study\\_optimize.py:197\u001b[0m, in \u001b[0;36m_run_trial\u001b[1;34m(study, func, catch)\u001b[0m\n\u001b[0;32m    195\u001b[0m \u001b[38;5;28;01mwith\u001b[39;00m get_heartbeat_thread(trial\u001b[38;5;241m.\u001b[39m_trial_id, study\u001b[38;5;241m.\u001b[39m_storage):\n\u001b[0;32m    196\u001b[0m     \u001b[38;5;28;01mtry\u001b[39;00m:\n\u001b[1;32m--> 197\u001b[0m         value_or_values \u001b[38;5;241m=\u001b[39m \u001b[43mfunc\u001b[49m\u001b[43m(\u001b[49m\u001b[43mtrial\u001b[49m\u001b[43m)\u001b[49m\n\u001b[0;32m    198\u001b[0m     \u001b[38;5;28;01mexcept\u001b[39;00m exceptions\u001b[38;5;241m.\u001b[39mTrialPruned \u001b[38;5;28;01mas\u001b[39;00m e:\n\u001b[0;32m    199\u001b[0m         \u001b[38;5;66;03m# TODO(mamu): Handle multi-objective cases.\u001b[39;00m\n\u001b[0;32m    200\u001b[0m         state \u001b[38;5;241m=\u001b[39m TrialState\u001b[38;5;241m.\u001b[39mPRUNED\n",
      "Cell \u001b[1;32mIn[30], line 4\u001b[0m, in \u001b[0;36m<lambda>\u001b[1;34m(trial)\u001b[0m\n\u001b[0;32m      1\u001b[0m model_name \u001b[38;5;241m=\u001b[39m \u001b[38;5;124m'\u001b[39m\u001b[38;5;124mSGDRegressorPolynomial\u001b[39m\u001b[38;5;124m'\u001b[39m\n\u001b[0;32m      3\u001b[0m study \u001b[38;5;241m=\u001b[39m optuna\u001b[38;5;241m.\u001b[39mcreate_study(direction\u001b[38;5;241m=\u001b[39m\u001b[38;5;124m'\u001b[39m\u001b[38;5;124mminimize\u001b[39m\u001b[38;5;124m'\u001b[39m)\n\u001b[1;32m----> 4\u001b[0m study\u001b[38;5;241m.\u001b[39moptimize(\u001b[38;5;28;01mlambda\u001b[39;00m trial: \u001b[43mobjective\u001b[49m\u001b[43m(\u001b[49m\u001b[43mtrial\u001b[49m\u001b[43m,\u001b[49m\u001b[43m \u001b[49m\u001b[43mmodel_name\u001b[49m\u001b[43m)\u001b[49m, n_trials\u001b[38;5;241m=\u001b[39m\u001b[38;5;241m50\u001b[39m)\n\u001b[0;32m      6\u001b[0m \u001b[38;5;28mprint\u001b[39m(\u001b[38;5;124m\"\u001b[39m\u001b[38;5;124mLos mejores hiperparametros para el modelo\u001b[39m\u001b[38;5;124m\"\u001b[39m, model_name, \u001b[38;5;124m\"\u001b[39m\u001b[38;5;124m:\u001b[39m\u001b[38;5;124m\"\u001b[39m, study\u001b[38;5;241m.\u001b[39mbest_params)\n",
      "Cell \u001b[1;32mIn[29], line 35\u001b[0m, in \u001b[0;36mobjective\u001b[1;34m(trial, model_name)\u001b[0m\n\u001b[0;32m     32\u001b[0m y_train \u001b[38;5;241m=\u001b[39m data_train[\u001b[38;5;124m'\u001b[39m\u001b[38;5;124mlabel\u001b[39m\u001b[38;5;124m'\u001b[39m]\u001b[38;5;241m.\u001b[39mvalues\n\u001b[0;32m     34\u001b[0m \u001b[38;5;28;01mif\u001b[39;00m model_name \u001b[38;5;129;01min\u001b[39;00m [\u001b[38;5;124m'\u001b[39m\u001b[38;5;124mSGDRegressor\u001b[39m\u001b[38;5;124m'\u001b[39m, \u001b[38;5;124m'\u001b[39m\u001b[38;5;124mSGDRegressorPolynomial\u001b[39m\u001b[38;5;124m'\u001b[39m, \u001b[38;5;124m'\u001b[39m\u001b[38;5;124mLogisticRegression\u001b[39m\u001b[38;5;124m'\u001b[39m]:\n\u001b[1;32m---> 35\u001b[0m     \u001b[43mmodel\u001b[49m\u001b[38;5;241;43m.\u001b[39;49m\u001b[43mfit\u001b[49m\u001b[43m(\u001b[49m\u001b[43mX_train\u001b[49m\u001b[43m,\u001b[49m\u001b[43m \u001b[49m\u001b[43my_train\u001b[49m\u001b[43m)\u001b[49m\n\u001b[0;32m     36\u001b[0m     y_pred \u001b[38;5;241m=\u001b[39m model\u001b[38;5;241m.\u001b[39mpredict(X_train)\n\u001b[0;32m     37\u001b[0m     \u001b[38;5;28;01mif\u001b[39;00m model_name \u001b[38;5;241m==\u001b[39m \u001b[38;5;124m'\u001b[39m\u001b[38;5;124mSGDRegressor\u001b[39m\u001b[38;5;124m'\u001b[39m \u001b[38;5;129;01mor\u001b[39;00m model_name \u001b[38;5;241m==\u001b[39m \u001b[38;5;124m'\u001b[39m\u001b[38;5;124mSGDRegressorPolynomial\u001b[39m\u001b[38;5;124m'\u001b[39m:\n",
      "File \u001b[1;32mc:\\Users\\48726\\AppData\\Local\\Programs\\Python\\Python311\\Lib\\site-packages\\sklearn\\base.py:1474\u001b[0m, in \u001b[0;36m_fit_context.<locals>.decorator.<locals>.wrapper\u001b[1;34m(estimator, *args, **kwargs)\u001b[0m\n\u001b[0;32m   1467\u001b[0m     estimator\u001b[38;5;241m.\u001b[39m_validate_params()\n\u001b[0;32m   1469\u001b[0m \u001b[38;5;28;01mwith\u001b[39;00m config_context(\n\u001b[0;32m   1470\u001b[0m     skip_parameter_validation\u001b[38;5;241m=\u001b[39m(\n\u001b[0;32m   1471\u001b[0m         prefer_skip_nested_validation \u001b[38;5;129;01mor\u001b[39;00m global_skip_validation\n\u001b[0;32m   1472\u001b[0m     )\n\u001b[0;32m   1473\u001b[0m ):\n\u001b[1;32m-> 1474\u001b[0m     \u001b[38;5;28;01mreturn\u001b[39;00m \u001b[43mfit_method\u001b[49m\u001b[43m(\u001b[49m\u001b[43mestimator\u001b[49m\u001b[43m,\u001b[49m\u001b[43m \u001b[49m\u001b[38;5;241;43m*\u001b[39;49m\u001b[43margs\u001b[49m\u001b[43m,\u001b[49m\u001b[43m \u001b[49m\u001b[38;5;241;43m*\u001b[39;49m\u001b[38;5;241;43m*\u001b[39;49m\u001b[43mkwargs\u001b[49m\u001b[43m)\u001b[49m\n",
      "File \u001b[1;32mc:\\Users\\48726\\AppData\\Local\\Programs\\Python\\Python311\\Lib\\site-packages\\sklearn\\pipeline.py:471\u001b[0m, in \u001b[0;36mPipeline.fit\u001b[1;34m(self, X, y, **params)\u001b[0m\n\u001b[0;32m    428\u001b[0m \u001b[38;5;250m\u001b[39m\u001b[38;5;124;03m\"\"\"Fit the model.\u001b[39;00m\n\u001b[0;32m    429\u001b[0m \n\u001b[0;32m    430\u001b[0m \u001b[38;5;124;03mFit all the transformers one after the other and sequentially transform the\u001b[39;00m\n\u001b[1;32m   (...)\u001b[0m\n\u001b[0;32m    468\u001b[0m \u001b[38;5;124;03m    Pipeline with fitted steps.\u001b[39;00m\n\u001b[0;32m    469\u001b[0m \u001b[38;5;124;03m\"\"\"\u001b[39;00m\n\u001b[0;32m    470\u001b[0m routed_params \u001b[38;5;241m=\u001b[39m \u001b[38;5;28mself\u001b[39m\u001b[38;5;241m.\u001b[39m_check_method_params(method\u001b[38;5;241m=\u001b[39m\u001b[38;5;124m\"\u001b[39m\u001b[38;5;124mfit\u001b[39m\u001b[38;5;124m\"\u001b[39m, props\u001b[38;5;241m=\u001b[39mparams)\n\u001b[1;32m--> 471\u001b[0m Xt \u001b[38;5;241m=\u001b[39m \u001b[38;5;28;43mself\u001b[39;49m\u001b[38;5;241;43m.\u001b[39;49m\u001b[43m_fit\u001b[49m\u001b[43m(\u001b[49m\u001b[43mX\u001b[49m\u001b[43m,\u001b[49m\u001b[43m \u001b[49m\u001b[43my\u001b[49m\u001b[43m,\u001b[49m\u001b[43m \u001b[49m\u001b[43mrouted_params\u001b[49m\u001b[43m)\u001b[49m\n\u001b[0;32m    472\u001b[0m \u001b[38;5;28;01mwith\u001b[39;00m _print_elapsed_time(\u001b[38;5;124m\"\u001b[39m\u001b[38;5;124mPipeline\u001b[39m\u001b[38;5;124m\"\u001b[39m, \u001b[38;5;28mself\u001b[39m\u001b[38;5;241m.\u001b[39m_log_message(\u001b[38;5;28mlen\u001b[39m(\u001b[38;5;28mself\u001b[39m\u001b[38;5;241m.\u001b[39msteps) \u001b[38;5;241m-\u001b[39m \u001b[38;5;241m1\u001b[39m)):\n\u001b[0;32m    473\u001b[0m     \u001b[38;5;28;01mif\u001b[39;00m \u001b[38;5;28mself\u001b[39m\u001b[38;5;241m.\u001b[39m_final_estimator \u001b[38;5;241m!=\u001b[39m \u001b[38;5;124m\"\u001b[39m\u001b[38;5;124mpassthrough\u001b[39m\u001b[38;5;124m\"\u001b[39m:\n",
      "File \u001b[1;32mc:\\Users\\48726\\AppData\\Local\\Programs\\Python\\Python311\\Lib\\site-packages\\sklearn\\pipeline.py:408\u001b[0m, in \u001b[0;36mPipeline._fit\u001b[1;34m(self, X, y, routed_params)\u001b[0m\n\u001b[0;32m    406\u001b[0m     cloned_transformer \u001b[38;5;241m=\u001b[39m clone(transformer)\n\u001b[0;32m    407\u001b[0m \u001b[38;5;66;03m# Fit or load from cache the current transformer\u001b[39;00m\n\u001b[1;32m--> 408\u001b[0m X, fitted_transformer \u001b[38;5;241m=\u001b[39m \u001b[43mfit_transform_one_cached\u001b[49m\u001b[43m(\u001b[49m\n\u001b[0;32m    409\u001b[0m \u001b[43m    \u001b[49m\u001b[43mcloned_transformer\u001b[49m\u001b[43m,\u001b[49m\n\u001b[0;32m    410\u001b[0m \u001b[43m    \u001b[49m\u001b[43mX\u001b[49m\u001b[43m,\u001b[49m\n\u001b[0;32m    411\u001b[0m \u001b[43m    \u001b[49m\u001b[43my\u001b[49m\u001b[43m,\u001b[49m\n\u001b[0;32m    412\u001b[0m \u001b[43m    \u001b[49m\u001b[38;5;28;43;01mNone\u001b[39;49;00m\u001b[43m,\u001b[49m\n\u001b[0;32m    413\u001b[0m \u001b[43m    \u001b[49m\u001b[43mmessage_clsname\u001b[49m\u001b[38;5;241;43m=\u001b[39;49m\u001b[38;5;124;43m\"\u001b[39;49m\u001b[38;5;124;43mPipeline\u001b[39;49m\u001b[38;5;124;43m\"\u001b[39;49m\u001b[43m,\u001b[49m\n\u001b[0;32m    414\u001b[0m \u001b[43m    \u001b[49m\u001b[43mmessage\u001b[49m\u001b[38;5;241;43m=\u001b[39;49m\u001b[38;5;28;43mself\u001b[39;49m\u001b[38;5;241;43m.\u001b[39;49m\u001b[43m_log_message\u001b[49m\u001b[43m(\u001b[49m\u001b[43mstep_idx\u001b[49m\u001b[43m)\u001b[49m\u001b[43m,\u001b[49m\n\u001b[0;32m    415\u001b[0m \u001b[43m    \u001b[49m\u001b[43mparams\u001b[49m\u001b[38;5;241;43m=\u001b[39;49m\u001b[43mrouted_params\u001b[49m\u001b[43m[\u001b[49m\u001b[43mname\u001b[49m\u001b[43m]\u001b[49m\u001b[43m,\u001b[49m\n\u001b[0;32m    416\u001b[0m \u001b[43m\u001b[49m\u001b[43m)\u001b[49m\n\u001b[0;32m    417\u001b[0m \u001b[38;5;66;03m# Replace the transformer of the step with the fitted\u001b[39;00m\n\u001b[0;32m    418\u001b[0m \u001b[38;5;66;03m# transformer. This is necessary when loading the transformer\u001b[39;00m\n\u001b[0;32m    419\u001b[0m \u001b[38;5;66;03m# from the cache.\u001b[39;00m\n\u001b[0;32m    420\u001b[0m \u001b[38;5;28mself\u001b[39m\u001b[38;5;241m.\u001b[39msteps[step_idx] \u001b[38;5;241m=\u001b[39m (name, fitted_transformer)\n",
      "File \u001b[1;32mc:\\Users\\48726\\AppData\\Local\\Programs\\Python\\Python311\\Lib\\site-packages\\joblib\\memory.py:312\u001b[0m, in \u001b[0;36mNotMemorizedFunc.__call__\u001b[1;34m(self, *args, **kwargs)\u001b[0m\n\u001b[0;32m    311\u001b[0m \u001b[38;5;28;01mdef\u001b[39;00m \u001b[38;5;21m__call__\u001b[39m(\u001b[38;5;28mself\u001b[39m, \u001b[38;5;241m*\u001b[39margs, \u001b[38;5;241m*\u001b[39m\u001b[38;5;241m*\u001b[39mkwargs):\n\u001b[1;32m--> 312\u001b[0m     \u001b[38;5;28;01mreturn\u001b[39;00m \u001b[38;5;28;43mself\u001b[39;49m\u001b[38;5;241;43m.\u001b[39;49m\u001b[43mfunc\u001b[49m\u001b[43m(\u001b[49m\u001b[38;5;241;43m*\u001b[39;49m\u001b[43margs\u001b[49m\u001b[43m,\u001b[49m\u001b[43m \u001b[49m\u001b[38;5;241;43m*\u001b[39;49m\u001b[38;5;241;43m*\u001b[39;49m\u001b[43mkwargs\u001b[49m\u001b[43m)\u001b[49m\n",
      "File \u001b[1;32mc:\\Users\\48726\\AppData\\Local\\Programs\\Python\\Python311\\Lib\\site-packages\\sklearn\\pipeline.py:1303\u001b[0m, in \u001b[0;36m_fit_transform_one\u001b[1;34m(transformer, X, y, weight, message_clsname, message, params)\u001b[0m\n\u001b[0;32m   1301\u001b[0m \u001b[38;5;28;01mwith\u001b[39;00m _print_elapsed_time(message_clsname, message):\n\u001b[0;32m   1302\u001b[0m     \u001b[38;5;28;01mif\u001b[39;00m \u001b[38;5;28mhasattr\u001b[39m(transformer, \u001b[38;5;124m\"\u001b[39m\u001b[38;5;124mfit_transform\u001b[39m\u001b[38;5;124m\"\u001b[39m):\n\u001b[1;32m-> 1303\u001b[0m         res \u001b[38;5;241m=\u001b[39m \u001b[43mtransformer\u001b[49m\u001b[38;5;241;43m.\u001b[39;49m\u001b[43mfit_transform\u001b[49m\u001b[43m(\u001b[49m\u001b[43mX\u001b[49m\u001b[43m,\u001b[49m\u001b[43m \u001b[49m\u001b[43my\u001b[49m\u001b[43m,\u001b[49m\u001b[43m \u001b[49m\u001b[38;5;241;43m*\u001b[39;49m\u001b[38;5;241;43m*\u001b[39;49m\u001b[43mparams\u001b[49m\u001b[38;5;241;43m.\u001b[39;49m\u001b[43mget\u001b[49m\u001b[43m(\u001b[49m\u001b[38;5;124;43m\"\u001b[39;49m\u001b[38;5;124;43mfit_transform\u001b[39;49m\u001b[38;5;124;43m\"\u001b[39;49m\u001b[43m,\u001b[49m\u001b[43m \u001b[49m\u001b[43m{\u001b[49m\u001b[43m}\u001b[49m\u001b[43m)\u001b[49m\u001b[43m)\u001b[49m\n\u001b[0;32m   1304\u001b[0m     \u001b[38;5;28;01melse\u001b[39;00m:\n\u001b[0;32m   1305\u001b[0m         res \u001b[38;5;241m=\u001b[39m transformer\u001b[38;5;241m.\u001b[39mfit(X, y, \u001b[38;5;241m*\u001b[39m\u001b[38;5;241m*\u001b[39mparams\u001b[38;5;241m.\u001b[39mget(\u001b[38;5;124m\"\u001b[39m\u001b[38;5;124mfit\u001b[39m\u001b[38;5;124m\"\u001b[39m, {}))\u001b[38;5;241m.\u001b[39mtransform(\n\u001b[0;32m   1306\u001b[0m             X, \u001b[38;5;241m*\u001b[39m\u001b[38;5;241m*\u001b[39mparams\u001b[38;5;241m.\u001b[39mget(\u001b[38;5;124m\"\u001b[39m\u001b[38;5;124mtransform\u001b[39m\u001b[38;5;124m\"\u001b[39m, {})\n\u001b[0;32m   1307\u001b[0m         )\n",
      "File \u001b[1;32mc:\\Users\\48726\\AppData\\Local\\Programs\\Python\\Python311\\Lib\\site-packages\\sklearn\\utils\\_set_output.py:295\u001b[0m, in \u001b[0;36m_wrap_method_output.<locals>.wrapped\u001b[1;34m(self, X, *args, **kwargs)\u001b[0m\n\u001b[0;32m    293\u001b[0m \u001b[38;5;129m@wraps\u001b[39m(f)\n\u001b[0;32m    294\u001b[0m \u001b[38;5;28;01mdef\u001b[39;00m \u001b[38;5;21mwrapped\u001b[39m(\u001b[38;5;28mself\u001b[39m, X, \u001b[38;5;241m*\u001b[39margs, \u001b[38;5;241m*\u001b[39m\u001b[38;5;241m*\u001b[39mkwargs):\n\u001b[1;32m--> 295\u001b[0m     data_to_wrap \u001b[38;5;241m=\u001b[39m \u001b[43mf\u001b[49m\u001b[43m(\u001b[49m\u001b[38;5;28;43mself\u001b[39;49m\u001b[43m,\u001b[49m\u001b[43m \u001b[49m\u001b[43mX\u001b[49m\u001b[43m,\u001b[49m\u001b[43m \u001b[49m\u001b[38;5;241;43m*\u001b[39;49m\u001b[43margs\u001b[49m\u001b[43m,\u001b[49m\u001b[43m \u001b[49m\u001b[38;5;241;43m*\u001b[39;49m\u001b[38;5;241;43m*\u001b[39;49m\u001b[43mkwargs\u001b[49m\u001b[43m)\u001b[49m\n\u001b[0;32m    296\u001b[0m     \u001b[38;5;28;01mif\u001b[39;00m \u001b[38;5;28misinstance\u001b[39m(data_to_wrap, \u001b[38;5;28mtuple\u001b[39m):\n\u001b[0;32m    297\u001b[0m         \u001b[38;5;66;03m# only wrap the first output for cross decomposition\u001b[39;00m\n\u001b[0;32m    298\u001b[0m         return_tuple \u001b[38;5;241m=\u001b[39m (\n\u001b[0;32m    299\u001b[0m             _wrap_data_with_container(method, data_to_wrap[\u001b[38;5;241m0\u001b[39m], X, \u001b[38;5;28mself\u001b[39m),\n\u001b[0;32m    300\u001b[0m             \u001b[38;5;241m*\u001b[39mdata_to_wrap[\u001b[38;5;241m1\u001b[39m:],\n\u001b[0;32m    301\u001b[0m         )\n",
      "File \u001b[1;32mc:\\Users\\48726\\AppData\\Local\\Programs\\Python\\Python311\\Lib\\site-packages\\sklearn\\base.py:1101\u001b[0m, in \u001b[0;36mTransformerMixin.fit_transform\u001b[1;34m(self, X, y, **fit_params)\u001b[0m\n\u001b[0;32m   1098\u001b[0m     \u001b[38;5;28;01mreturn\u001b[39;00m \u001b[38;5;28mself\u001b[39m\u001b[38;5;241m.\u001b[39mfit(X, \u001b[38;5;241m*\u001b[39m\u001b[38;5;241m*\u001b[39mfit_params)\u001b[38;5;241m.\u001b[39mtransform(X)\n\u001b[0;32m   1099\u001b[0m \u001b[38;5;28;01melse\u001b[39;00m:\n\u001b[0;32m   1100\u001b[0m     \u001b[38;5;66;03m# fit method of arity 2 (supervised transformation)\u001b[39;00m\n\u001b[1;32m-> 1101\u001b[0m     \u001b[38;5;28;01mreturn\u001b[39;00m \u001b[38;5;28;43mself\u001b[39;49m\u001b[38;5;241;43m.\u001b[39;49m\u001b[43mfit\u001b[49m\u001b[43m(\u001b[49m\u001b[43mX\u001b[49m\u001b[43m,\u001b[49m\u001b[43m \u001b[49m\u001b[43my\u001b[49m\u001b[43m,\u001b[49m\u001b[43m \u001b[49m\u001b[38;5;241;43m*\u001b[39;49m\u001b[38;5;241;43m*\u001b[39;49m\u001b[43mfit_params\u001b[49m\u001b[43m)\u001b[49m\u001b[38;5;241;43m.\u001b[39;49m\u001b[43mtransform\u001b[49m\u001b[43m(\u001b[49m\u001b[43mX\u001b[49m\u001b[43m)\u001b[49m\n",
      "File \u001b[1;32mc:\\Users\\48726\\AppData\\Local\\Programs\\Python\\Python311\\Lib\\site-packages\\sklearn\\utils\\_set_output.py:295\u001b[0m, in \u001b[0;36m_wrap_method_output.<locals>.wrapped\u001b[1;34m(self, X, *args, **kwargs)\u001b[0m\n\u001b[0;32m    293\u001b[0m \u001b[38;5;129m@wraps\u001b[39m(f)\n\u001b[0;32m    294\u001b[0m \u001b[38;5;28;01mdef\u001b[39;00m \u001b[38;5;21mwrapped\u001b[39m(\u001b[38;5;28mself\u001b[39m, X, \u001b[38;5;241m*\u001b[39margs, \u001b[38;5;241m*\u001b[39m\u001b[38;5;241m*\u001b[39mkwargs):\n\u001b[1;32m--> 295\u001b[0m     data_to_wrap \u001b[38;5;241m=\u001b[39m \u001b[43mf\u001b[49m\u001b[43m(\u001b[49m\u001b[38;5;28;43mself\u001b[39;49m\u001b[43m,\u001b[49m\u001b[43m \u001b[49m\u001b[43mX\u001b[49m\u001b[43m,\u001b[49m\u001b[43m \u001b[49m\u001b[38;5;241;43m*\u001b[39;49m\u001b[43margs\u001b[49m\u001b[43m,\u001b[49m\u001b[43m \u001b[49m\u001b[38;5;241;43m*\u001b[39;49m\u001b[38;5;241;43m*\u001b[39;49m\u001b[43mkwargs\u001b[49m\u001b[43m)\u001b[49m\n\u001b[0;32m    296\u001b[0m     \u001b[38;5;28;01mif\u001b[39;00m \u001b[38;5;28misinstance\u001b[39m(data_to_wrap, \u001b[38;5;28mtuple\u001b[39m):\n\u001b[0;32m    297\u001b[0m         \u001b[38;5;66;03m# only wrap the first output for cross decomposition\u001b[39;00m\n\u001b[0;32m    298\u001b[0m         return_tuple \u001b[38;5;241m=\u001b[39m (\n\u001b[0;32m    299\u001b[0m             _wrap_data_with_container(method, data_to_wrap[\u001b[38;5;241m0\u001b[39m], X, \u001b[38;5;28mself\u001b[39m),\n\u001b[0;32m    300\u001b[0m             \u001b[38;5;241m*\u001b[39mdata_to_wrap[\u001b[38;5;241m1\u001b[39m:],\n\u001b[0;32m    301\u001b[0m         )\n",
      "File \u001b[1;32mc:\\Users\\48726\\AppData\\Local\\Programs\\Python\\Python311\\Lib\\site-packages\\sklearn\\preprocessing\\_polynomial.py:507\u001b[0m, in \u001b[0;36mPolynomialFeatures.transform\u001b[1;34m(self, X)\u001b[0m\n\u001b[0;32m    503\u001b[0m     XP \u001b[38;5;241m=\u001b[39m sparse\u001b[38;5;241m.\u001b[39mhstack(columns, dtype\u001b[38;5;241m=\u001b[39mX\u001b[38;5;241m.\u001b[39mdtype)\u001b[38;5;241m.\u001b[39mtocsc()\n\u001b[0;32m    504\u001b[0m \u001b[38;5;28;01melse\u001b[39;00m:\n\u001b[0;32m    505\u001b[0m     \u001b[38;5;66;03m# Do as if _min_degree = 0 and cut down array after the\u001b[39;00m\n\u001b[0;32m    506\u001b[0m     \u001b[38;5;66;03m# computation, i.e. use _n_out_full instead of n_output_features_.\u001b[39;00m\n\u001b[1;32m--> 507\u001b[0m     XP \u001b[38;5;241m=\u001b[39m np\u001b[38;5;241m.\u001b[39mempty(\n\u001b[0;32m    508\u001b[0m         shape\u001b[38;5;241m=\u001b[39m(n_samples, \u001b[38;5;28mself\u001b[39m\u001b[38;5;241m.\u001b[39m_n_out_full), dtype\u001b[38;5;241m=\u001b[39mX\u001b[38;5;241m.\u001b[39mdtype, order\u001b[38;5;241m=\u001b[39m\u001b[38;5;28mself\u001b[39m\u001b[38;5;241m.\u001b[39morder\n\u001b[0;32m    509\u001b[0m     )\n\u001b[0;32m    511\u001b[0m     \u001b[38;5;66;03m# What follows is a faster implementation of:\u001b[39;00m\n\u001b[0;32m    512\u001b[0m     \u001b[38;5;66;03m# for i, comb in enumerate(combinations):\u001b[39;00m\n\u001b[0;32m    513\u001b[0m     \u001b[38;5;66;03m#     XP[:, i] = X[:, comb].prod(1)\u001b[39;00m\n\u001b[1;32m   (...)\u001b[0m\n\u001b[0;32m    523\u001b[0m \n\u001b[0;32m    524\u001b[0m     \u001b[38;5;66;03m# degree 0 term\u001b[39;00m\n\u001b[0;32m    525\u001b[0m     \u001b[38;5;28;01mif\u001b[39;00m \u001b[38;5;28mself\u001b[39m\u001b[38;5;241m.\u001b[39minclude_bias:\n",
      "\u001b[1;31mMemoryError\u001b[0m: Unable to allocate 128. GiB for an array with shape (589300, 29260) and data type float64"
     ]
    }
   ],
   "source": [
    "model_name = 'SGDRegressorPolynomial'\n",
    "\n",
    "study = optuna.create_study(direction='minimize')\n",
    "study.optimize(lambda trial: objective(trial, model_name), n_trials=50)\n",
    "\n",
    "print(\"Los mejores hiperparametros para el modelo\", model_name, \":\", study.best_params)"
   ]
  },
  {
   "cell_type": "markdown",
   "metadata": {},
   "source": [
    "#### Regresión Logistica"
   ]
  },
  {
   "cell_type": "code",
   "execution_count": null,
   "metadata": {},
   "outputs": [
    {
     "name": "stderr",
     "output_type": "stream",
     "text": [
      "[I 2024-11-10 23:30:20,834] A new study created in memory with name: no-name-18443fc9-baeb-420c-821a-ae2022c6b2a4\n",
      "C:\\Users\\48726\\AppData\\Local\\Temp\\ipykernel_9912\\416101142.py:22: FutureWarning: suggest_loguniform has been deprecated in v3.0.0. This feature will be removed in v6.0.0. See https://github.com/optuna/optuna/releases/tag/v3.0.0. Use suggest_float(..., log=True) instead.\n",
      "  'C': lambda trial: trial.suggest_loguniform('C', 0.01, 10),\n",
      "c:\\Users\\48726\\AppData\\Local\\Programs\\Python\\Python311\\Lib\\site-packages\\sklearn\\linear_model\\_sag.py:350: ConvergenceWarning: The max_iter was reached which means the coef_ did not converge\n",
      "  warnings.warn(\n",
      "c:\\Users\\48726\\AppData\\Local\\Programs\\Python\\Python311\\Lib\\site-packages\\sklearn\\linear_model\\_sag.py:350: ConvergenceWarning: The max_iter was reached which means the coef_ did not converge\n",
      "  warnings.warn(\n",
      "c:\\Users\\48726\\AppData\\Local\\Programs\\Python\\Python311\\Lib\\site-packages\\sklearn\\linear_model\\_sag.py:350: ConvergenceWarning: The max_iter was reached which means the coef_ did not converge\n",
      "  warnings.warn(\n",
      "c:\\Users\\48726\\AppData\\Local\\Programs\\Python\\Python311\\Lib\\site-packages\\sklearn\\linear_model\\_sag.py:350: ConvergenceWarning: The max_iter was reached which means the coef_ did not converge\n",
      "  warnings.warn(\n",
      "c:\\Users\\48726\\AppData\\Local\\Programs\\Python\\Python311\\Lib\\site-packages\\sklearn\\linear_model\\_sag.py:350: ConvergenceWarning: The max_iter was reached which means the coef_ did not converge\n",
      "  warnings.warn(\n",
      "c:\\Users\\48726\\AppData\\Local\\Programs\\Python\\Python311\\Lib\\site-packages\\sklearn\\linear_model\\_sag.py:350: ConvergenceWarning: The max_iter was reached which means the coef_ did not converge\n",
      "  warnings.warn(\n",
      "c:\\Users\\48726\\AppData\\Local\\Programs\\Python\\Python311\\Lib\\site-packages\\sklearn\\linear_model\\_sag.py:350: ConvergenceWarning: The max_iter was reached which means the coef_ did not converge\n",
      "  warnings.warn(\n",
      "[I 2024-11-10 23:45:21,725] Trial 0 finished with value: 0.8613583614977957 and parameters: {'C': 1.4436197371427362, 'penalty': 'l1', 'solver': 'saga'}. Best is trial 0 with value: 0.8613583614977957.\n",
      "C:\\Users\\48726\\AppData\\Local\\Temp\\ipykernel_9912\\416101142.py:22: FutureWarning: suggest_loguniform has been deprecated in v3.0.0. This feature will be removed in v6.0.0. See https://github.com/optuna/optuna/releases/tag/v3.0.0. Use suggest_float(..., log=True) instead.\n",
      "  'C': lambda trial: trial.suggest_loguniform('C', 0.01, 10),\n",
      "[I 2024-11-11 00:01:13,614] Trial 1 finished with value: 0.8612239080499096 and parameters: {'C': 0.023956569557544726, 'penalty': 'l1', 'solver': 'liblinear'}. Best is trial 0 with value: 0.8613583614977957.\n",
      "C:\\Users\\48726\\AppData\\Local\\Temp\\ipykernel_9912\\416101142.py:22: FutureWarning: suggest_loguniform has been deprecated in v3.0.0. This feature will be removed in v6.0.0. See https://github.com/optuna/optuna/releases/tag/v3.0.0. Use suggest_float(..., log=True) instead.\n",
      "  'C': lambda trial: trial.suggest_loguniform('C', 0.01, 10),\n",
      "c:\\Users\\48726\\AppData\\Local\\Programs\\Python\\Python311\\Lib\\site-packages\\sklearn\\linear_model\\_sag.py:350: ConvergenceWarning: The max_iter was reached which means the coef_ did not converge\n",
      "  warnings.warn(\n",
      "c:\\Users\\48726\\AppData\\Local\\Programs\\Python\\Python311\\Lib\\site-packages\\sklearn\\linear_model\\_sag.py:350: ConvergenceWarning: The max_iter was reached which means the coef_ did not converge\n",
      "  warnings.warn(\n",
      "c:\\Users\\48726\\AppData\\Local\\Programs\\Python\\Python311\\Lib\\site-packages\\sklearn\\linear_model\\_sag.py:350: ConvergenceWarning: The max_iter was reached which means the coef_ did not converge\n",
      "  warnings.warn(\n",
      "c:\\Users\\48726\\AppData\\Local\\Programs\\Python\\Python311\\Lib\\site-packages\\sklearn\\linear_model\\_sag.py:350: ConvergenceWarning: The max_iter was reached which means the coef_ did not converge\n",
      "  warnings.warn(\n",
      "c:\\Users\\48726\\AppData\\Local\\Programs\\Python\\Python311\\Lib\\site-packages\\sklearn\\linear_model\\_sag.py:350: ConvergenceWarning: The max_iter was reached which means the coef_ did not converge\n",
      "  warnings.warn(\n",
      "c:\\Users\\48726\\AppData\\Local\\Programs\\Python\\Python311\\Lib\\site-packages\\sklearn\\linear_model\\_sag.py:350: ConvergenceWarning: The max_iter was reached which means the coef_ did not converge\n",
      "  warnings.warn(\n",
      "c:\\Users\\48726\\AppData\\Local\\Programs\\Python\\Python311\\Lib\\site-packages\\sklearn\\linear_model\\_sag.py:350: ConvergenceWarning: The max_iter was reached which means the coef_ did not converge\n",
      "  warnings.warn(\n",
      "[I 2024-11-11 00:23:23,733] Trial 2 finished with value: 0.8612926718342255 and parameters: {'C': 0.06930499733254213, 'penalty': 'l1', 'solver': 'saga'}. Best is trial 0 with value: 0.8613583614977957.\n",
      "C:\\Users\\48726\\AppData\\Local\\Temp\\ipykernel_9912\\416101142.py:22: FutureWarning: suggest_loguniform has been deprecated in v3.0.0. This feature will be removed in v6.0.0. See https://github.com/optuna/optuna/releases/tag/v3.0.0. Use suggest_float(..., log=True) instead.\n",
      "  'C': lambda trial: trial.suggest_loguniform('C', 0.01, 10),\n",
      "c:\\Users\\48726\\AppData\\Local\\Programs\\Python\\Python311\\Lib\\site-packages\\sklearn\\linear_model\\_sag.py:350: ConvergenceWarning: The max_iter was reached which means the coef_ did not converge\n",
      "  warnings.warn(\n",
      "c:\\Users\\48726\\AppData\\Local\\Programs\\Python\\Python311\\Lib\\site-packages\\sklearn\\linear_model\\_sag.py:350: ConvergenceWarning: The max_iter was reached which means the coef_ did not converge\n",
      "  warnings.warn(\n",
      "c:\\Users\\48726\\AppData\\Local\\Programs\\Python\\Python311\\Lib\\site-packages\\sklearn\\linear_model\\_sag.py:350: ConvergenceWarning: The max_iter was reached which means the coef_ did not converge\n",
      "  warnings.warn(\n",
      "c:\\Users\\48726\\AppData\\Local\\Programs\\Python\\Python311\\Lib\\site-packages\\sklearn\\linear_model\\_sag.py:350: ConvergenceWarning: The max_iter was reached which means the coef_ did not converge\n",
      "  warnings.warn(\n",
      "c:\\Users\\48726\\AppData\\Local\\Programs\\Python\\Python311\\Lib\\site-packages\\sklearn\\linear_model\\_sag.py:350: ConvergenceWarning: The max_iter was reached which means the coef_ did not converge\n",
      "  warnings.warn(\n",
      "c:\\Users\\48726\\AppData\\Local\\Programs\\Python\\Python311\\Lib\\site-packages\\sklearn\\linear_model\\_sag.py:350: ConvergenceWarning: The max_iter was reached which means the coef_ did not converge\n",
      "  warnings.warn(\n",
      "c:\\Users\\48726\\AppData\\Local\\Programs\\Python\\Python311\\Lib\\site-packages\\sklearn\\linear_model\\_sag.py:350: ConvergenceWarning: The max_iter was reached which means the coef_ did not converge\n",
      "  warnings.warn(\n",
      "[I 2024-11-11 00:38:44,857] Trial 3 finished with value: 0.861357663271755 and parameters: {'C': 4.2285273043023315, 'penalty': 'l1', 'solver': 'saga'}. Best is trial 0 with value: 0.8613583614977957.\n",
      "C:\\Users\\48726\\AppData\\Local\\Temp\\ipykernel_9912\\416101142.py:22: FutureWarning: suggest_loguniform has been deprecated in v3.0.0. This feature will be removed in v6.0.0. See https://github.com/optuna/optuna/releases/tag/v3.0.0. Use suggest_float(..., log=True) instead.\n",
      "  'C': lambda trial: trial.suggest_loguniform('C', 0.01, 10),\n",
      "c:\\Users\\48726\\AppData\\Local\\Programs\\Python\\Python311\\Lib\\site-packages\\sklearn\\linear_model\\_sag.py:350: ConvergenceWarning: The max_iter was reached which means the coef_ did not converge\n",
      "  warnings.warn(\n",
      "c:\\Users\\48726\\AppData\\Local\\Programs\\Python\\Python311\\Lib\\site-packages\\sklearn\\linear_model\\_sag.py:350: ConvergenceWarning: The max_iter was reached which means the coef_ did not converge\n",
      "  warnings.warn(\n",
      "c:\\Users\\48726\\AppData\\Local\\Programs\\Python\\Python311\\Lib\\site-packages\\sklearn\\linear_model\\_sag.py:350: ConvergenceWarning: The max_iter was reached which means the coef_ did not converge\n",
      "  warnings.warn(\n",
      "c:\\Users\\48726\\AppData\\Local\\Programs\\Python\\Python311\\Lib\\site-packages\\sklearn\\linear_model\\_sag.py:350: ConvergenceWarning: The max_iter was reached which means the coef_ did not converge\n",
      "  warnings.warn(\n",
      "c:\\Users\\48726\\AppData\\Local\\Programs\\Python\\Python311\\Lib\\site-packages\\sklearn\\linear_model\\_sag.py:350: ConvergenceWarning: The max_iter was reached which means the coef_ did not converge\n",
      "  warnings.warn(\n",
      "c:\\Users\\48726\\AppData\\Local\\Programs\\Python\\Python311\\Lib\\site-packages\\sklearn\\linear_model\\_sag.py:350: ConvergenceWarning: The max_iter was reached which means the coef_ did not converge\n",
      "  warnings.warn(\n",
      "c:\\Users\\48726\\AppData\\Local\\Programs\\Python\\Python311\\Lib\\site-packages\\sklearn\\linear_model\\_sag.py:350: ConvergenceWarning: The max_iter was reached which means the coef_ did not converge\n",
      "  warnings.warn(\n",
      "[I 2024-11-11 00:52:08,325] Trial 4 finished with value: 0.8613589629132126 and parameters: {'C': 1.2356673695582625, 'penalty': 'l2', 'solver': 'saga'}. Best is trial 4 with value: 0.8613589629132126.\n",
      "C:\\Users\\48726\\AppData\\Local\\Temp\\ipykernel_9912\\416101142.py:22: FutureWarning: suggest_loguniform has been deprecated in v3.0.0. This feature will be removed in v6.0.0. See https://github.com/optuna/optuna/releases/tag/v3.0.0. Use suggest_float(..., log=True) instead.\n",
      "  'C': lambda trial: trial.suggest_loguniform('C', 0.01, 10),\n",
      "[I 2024-11-11 00:55:35,590] Trial 5 finished with value: 0.8613501177327151 and parameters: {'C': 2.1652444956030537, 'penalty': 'l2', 'solver': 'liblinear'}. Best is trial 4 with value: 0.8613589629132126.\n",
      "C:\\Users\\48726\\AppData\\Local\\Temp\\ipykernel_9912\\416101142.py:22: FutureWarning: suggest_loguniform has been deprecated in v3.0.0. This feature will be removed in v6.0.0. See https://github.com/optuna/optuna/releases/tag/v3.0.0. Use suggest_float(..., log=True) instead.\n",
      "  'C': lambda trial: trial.suggest_loguniform('C', 0.01, 10),\n",
      "[I 2024-11-11 01:09:03,696] Trial 6 finished with value: 0.8613182538314029 and parameters: {'C': 0.13525587678656764, 'penalty': 'l1', 'solver': 'liblinear'}. Best is trial 4 with value: 0.8613589629132126.\n",
      "C:\\Users\\48726\\AppData\\Local\\Temp\\ipykernel_9912\\416101142.py:22: FutureWarning: suggest_loguniform has been deprecated in v3.0.0. This feature will be removed in v6.0.0. See https://github.com/optuna/optuna/releases/tag/v3.0.0. Use suggest_float(..., log=True) instead.\n",
      "  'C': lambda trial: trial.suggest_loguniform('C', 0.01, 10),\n",
      "[I 2024-11-11 01:23:41,921] Trial 7 finished with value: 0.8613213530906833 and parameters: {'C': 0.09539354501380848, 'penalty': 'l1', 'solver': 'liblinear'}. Best is trial 4 with value: 0.8613589629132126.\n",
      "C:\\Users\\48726\\AppData\\Local\\Temp\\ipykernel_9912\\416101142.py:22: FutureWarning: suggest_loguniform has been deprecated in v3.0.0. This feature will be removed in v6.0.0. See https://github.com/optuna/optuna/releases/tag/v3.0.0. Use suggest_float(..., log=True) instead.\n",
      "  'C': lambda trial: trial.suggest_loguniform('C', 0.01, 10),\n",
      "c:\\Users\\48726\\AppData\\Local\\Programs\\Python\\Python311\\Lib\\site-packages\\sklearn\\linear_model\\_sag.py:350: ConvergenceWarning: The max_iter was reached which means the coef_ did not converge\n",
      "  warnings.warn(\n",
      "c:\\Users\\48726\\AppData\\Local\\Programs\\Python\\Python311\\Lib\\site-packages\\sklearn\\linear_model\\_sag.py:350: ConvergenceWarning: The max_iter was reached which means the coef_ did not converge\n",
      "  warnings.warn(\n",
      "c:\\Users\\48726\\AppData\\Local\\Programs\\Python\\Python311\\Lib\\site-packages\\sklearn\\linear_model\\_sag.py:350: ConvergenceWarning: The max_iter was reached which means the coef_ did not converge\n",
      "  warnings.warn(\n",
      "c:\\Users\\48726\\AppData\\Local\\Programs\\Python\\Python311\\Lib\\site-packages\\sklearn\\linear_model\\_sag.py:350: ConvergenceWarning: The max_iter was reached which means the coef_ did not converge\n",
      "  warnings.warn(\n",
      "c:\\Users\\48726\\AppData\\Local\\Programs\\Python\\Python311\\Lib\\site-packages\\sklearn\\linear_model\\_sag.py:350: ConvergenceWarning: The max_iter was reached which means the coef_ did not converge\n",
      "  warnings.warn(\n",
      "c:\\Users\\48726\\AppData\\Local\\Programs\\Python\\Python311\\Lib\\site-packages\\sklearn\\linear_model\\_sag.py:350: ConvergenceWarning: The max_iter was reached which means the coef_ did not converge\n",
      "  warnings.warn(\n",
      "c:\\Users\\48726\\AppData\\Local\\Programs\\Python\\Python311\\Lib\\site-packages\\sklearn\\linear_model\\_sag.py:350: ConvergenceWarning: The max_iter was reached which means the coef_ did not converge\n",
      "  warnings.warn(\n",
      "[I 2024-11-11 01:32:56,375] Trial 8 finished with value: 0.8613438946145094 and parameters: {'C': 0.625171834342399, 'penalty': 'l1', 'solver': 'saga'}. Best is trial 4 with value: 0.8613589629132126.\n",
      "C:\\Users\\48726\\AppData\\Local\\Temp\\ipykernel_9912\\416101142.py:22: FutureWarning: suggest_loguniform has been deprecated in v3.0.0. This feature will be removed in v6.0.0. See https://github.com/optuna/optuna/releases/tag/v3.0.0. Use suggest_float(..., log=True) instead.\n",
      "  'C': lambda trial: trial.suggest_loguniform('C', 0.01, 10),\n",
      "[I 2024-11-11 01:50:35,205] Trial 9 finished with value: 0.8613393469961856 and parameters: {'C': 0.7915562663146958, 'penalty': 'l1', 'solver': 'liblinear'}. Best is trial 4 with value: 0.8613589629132126.\n",
      "C:\\Users\\48726\\AppData\\Local\\Temp\\ipykernel_9912\\416101142.py:22: FutureWarning: suggest_loguniform has been deprecated in v3.0.0. This feature will be removed in v6.0.0. See https://github.com/optuna/optuna/releases/tag/v3.0.0. Use suggest_float(..., log=True) instead.\n",
      "  'C': lambda trial: trial.suggest_loguniform('C', 0.01, 10),\n",
      "c:\\Users\\48726\\AppData\\Local\\Programs\\Python\\Python311\\Lib\\site-packages\\sklearn\\linear_model\\_sag.py:350: ConvergenceWarning: The max_iter was reached which means the coef_ did not converge\n",
      "  warnings.warn(\n",
      "c:\\Users\\48726\\AppData\\Local\\Programs\\Python\\Python311\\Lib\\site-packages\\sklearn\\linear_model\\_sag.py:350: ConvergenceWarning: The max_iter was reached which means the coef_ did not converge\n",
      "  warnings.warn(\n",
      "c:\\Users\\48726\\AppData\\Local\\Programs\\Python\\Python311\\Lib\\site-packages\\sklearn\\linear_model\\_sag.py:350: ConvergenceWarning: The max_iter was reached which means the coef_ did not converge\n",
      "  warnings.warn(\n",
      "c:\\Users\\48726\\AppData\\Local\\Programs\\Python\\Python311\\Lib\\site-packages\\sklearn\\linear_model\\_sag.py:350: ConvergenceWarning: The max_iter was reached which means the coef_ did not converge\n",
      "  warnings.warn(\n",
      "c:\\Users\\48726\\AppData\\Local\\Programs\\Python\\Python311\\Lib\\site-packages\\sklearn\\linear_model\\_sag.py:350: ConvergenceWarning: The max_iter was reached which means the coef_ did not converge\n",
      "  warnings.warn(\n",
      "c:\\Users\\48726\\AppData\\Local\\Programs\\Python\\Python311\\Lib\\site-packages\\sklearn\\linear_model\\_sag.py:350: ConvergenceWarning: The max_iter was reached which means the coef_ did not converge\n",
      "  warnings.warn(\n",
      "c:\\Users\\48726\\AppData\\Local\\Programs\\Python\\Python311\\Lib\\site-packages\\sklearn\\linear_model\\_sag.py:350: ConvergenceWarning: The max_iter was reached which means the coef_ did not converge\n",
      "  warnings.warn(\n",
      "[I 2024-11-11 11:02:20,520] Trial 10 finished with value: 0.8613615164343115 and parameters: {'C': 9.144501588851943, 'penalty': 'l2', 'solver': 'saga'}. Best is trial 10 with value: 0.8613615164343115.\n",
      "C:\\Users\\48726\\AppData\\Local\\Temp\\ipykernel_9912\\416101142.py:22: FutureWarning: suggest_loguniform has been deprecated in v3.0.0. This feature will be removed in v6.0.0. See https://github.com/optuna/optuna/releases/tag/v3.0.0. Use suggest_float(..., log=True) instead.\n",
      "  'C': lambda trial: trial.suggest_loguniform('C', 0.01, 10),\n"
     ]
    }
   ],
   "source": [
    "model_name = 'LogisticRegression'\n",
    "\n",
    "study = optuna.create_study(direction='maximize')\n",
    "study.optimize(lambda trial: objective(trial, model_name), n_trials=50)\n",
    "\n",
    "print(\"Los mejores hiperparametros para el modelo\", model_name, \":\", study.best_params)"
   ]
  },
  {
   "cell_type": "markdown",
   "metadata": {},
   "source": [
    "Como la ejecutación de este codigo dura demaciado (despues de casi 700 minutos solo se han realizado 10 de 50 pruebas), lo pauso. OPTUNA nos da infroamción: \n",
    "\n",
    "\"Trial 10 finished with value: 0.8613615164343115 and parameters: **{'C': 9.144501588851943, 'penalty': 'l2', 'solver': 'saga'}**. *Best is trial 10 with value: 0.8613615164343115.*\"\n",
    "\n",
    "Y como no tenemos mas tiempo, vamos a usar los hiperparametros de trial 10."
   ]
  },
  {
   "cell_type": "markdown",
   "metadata": {},
   "source": [
    "#### Decission Trees"
   ]
  },
  {
   "cell_type": "code",
   "execution_count": null,
   "metadata": {},
   "outputs": [],
   "source": [
    "model_name = 'DecisionTreeClassifier'\n",
    "\n",
    "study = optuna.create_study(direction='maximize')\n",
    "study.optimize(lambda trial: objective(trial, model_name), n_trials=50)\n",
    "\n",
    "print(\"Los mejores hiperparametros para el modelo\", model_name, \":\", study.best_params)"
   ]
  },
  {
   "cell_type": "markdown",
   "metadata": {},
   "source": [
    "#### KNN"
   ]
  },
  {
   "cell_type": "code",
   "execution_count": null,
   "metadata": {},
   "outputs": [],
   "source": [
    "model_name = 'KNeighborsClassifier'\n",
    "\n",
    "study = optuna.create_study(direction='maximize')\n",
    "study.optimize(lambda trial: objective(trial, model_name), n_trials=50)\n",
    "\n",
    "print(\"Los mejores hiperparametros para el modelo\", model_name, \":\", study.best_params)"
   ]
  },
  {
   "cell_type": "markdown",
   "metadata": {},
   "source": [
    "#### SVC"
   ]
  },
  {
   "cell_type": "code",
   "execution_count": null,
   "metadata": {},
   "outputs": [],
   "source": [
    "model_name = 'SVC'\n",
    "\n",
    "study = optuna.create_study(direction='maximize')\n",
    "study.optimize(lambda trial: objective(trial, model_name), n_trials=50)\n",
    "\n",
    "print(\"Los mejores hiperparametros para el modelo\", model_name, \":\", study.best_params)"
   ]
  },
  {
   "cell_type": "markdown",
   "metadata": {},
   "source": [
    "#### Redes Neuronales"
   ]
  },
  {
   "cell_type": "code",
   "execution_count": null,
   "metadata": {},
   "outputs": [],
   "source": [
    "model_name = ''\n",
    "\n",
    "study = optuna.create_study(direction='maximize')\n",
    "study.optimize(lambda trial: objective(trial, model_name), n_trials=50)\n",
    "\n",
    "print(\"Los mejores hiperparametros para el modelo\", model_name, \":\", study.best_params)"
   ]
  },
  {
   "cell_type": "markdown",
   "metadata": {},
   "source": [
    "## Nuevos resultados"
   ]
  },
  {
   "cell_type": "markdown",
   "metadata": {},
   "source": [
    "### Regresión Lineal DONE"
   ]
  },
  {
   "cell_type": "markdown",
   "metadata": {},
   "source": [
    "##### Entrenamiento"
   ]
  },
  {
   "cell_type": "markdown",
   "metadata": {},
   "source": [
    "Como LinealRegression no permite hacer partial fit, usamos SGDRegressor con loss = squared error y así realiza lo mismo que el original, minimizar el error cuadrático"
   ]
  },
  {
   "cell_type": "code",
   "execution_count": 19,
   "metadata": {},
   "outputs": [],
   "source": [
    "model = SGDRegressor(loss='squared_error', random_state=42, alpha=0.00013117324584237315, eta0=0.0010886262850832657, penalty='elasticnet')\n",
    "\n",
    "for i in range(1, 8):\n",
    "    data_train = globals()[f'df_train_{i}']\n",
    "    X_train = data_train.drop(columns=['label']).values\n",
    "    y_train = data_train['label'].values\n",
    "    \n",
    "    model.partial_fit(X_train, y_train)\n"
   ]
  },
  {
   "cell_type": "code",
   "execution_count": 20,
   "metadata": {},
   "outputs": [
    {
     "data": {
      "text/plain": [
       "['../data/models\\\\new_LinearRegression.joblib']"
      ]
     },
     "execution_count": 20,
     "metadata": {},
     "output_type": "execute_result"
    }
   ],
   "source": [
    "dir = \"../data/models\"\n",
    "model_path = os.path.join(dir, \"new_LinearRegression.joblib\")\n",
    "joblib.dump(model, model_path)"
   ]
  },
  {
   "cell_type": "markdown",
   "metadata": {},
   "source": [
    "##### Predicción"
   ]
  },
  {
   "cell_type": "code",
   "execution_count": 21,
   "metadata": {},
   "outputs": [],
   "source": [
    "# Cargar modelo de LinearRegression\n",
    "model = joblib.load(\"../data/models/new_LinearRegression.joblib\")"
   ]
  },
  {
   "cell_type": "code",
   "execution_count": 22,
   "metadata": {},
   "outputs": [],
   "source": [
    "prediction(model, 'LinearRegression')"
   ]
  },
  {
   "cell_type": "code",
   "execution_count": 23,
   "metadata": {},
   "outputs": [
    {
     "data": {
      "image/png": "[encoded data removed]",
      "text/plain": [
       "<Figure size 1000x600 with 1 Axes>"
      ]
     },
     "metadata": {},
     "output_type": "display_data"
    }
   ],
   "source": [
    "plot_results('LinearRegression')"
   ]
  },
  {
   "cell_type": "markdown",
   "metadata": {},
   "source": [
    "### Regresión Polinomial"
   ]
  },
  {
   "cell_type": "markdown",
   "metadata": {},
   "source": [
    "Tenemos un problema ya que la matriz generada por aumentar el grado de los datos es demasiado grande aunque sea simplemente de grado 2."
   ]
  },
  {
   "cell_type": "markdown",
   "metadata": {},
   "source": [
    "Debido al tamaño del dataframe no podemos utilizar SVC así que intentaré aplicar un PCA y ver con cuántas columnas me quedo"
   ]
  },
  {
   "cell_type": "code",
   "execution_count": null,
   "metadata": {},
   "outputs": [
    {
     "data": {
      "image/png": "[encoded data removed]",
      "text/plain": [
       "<Figure size 800x600 with 1 Axes>"
      ]
     },
     "metadata": {},
     "output_type": "display_data"
    },
    {
     "name": "stdout",
     "output_type": "stream",
     "text": [
      "El número óptimo de componentes es 33\n"
     ]
    }
   ],
   "source": [
    "import numpy as np\n",
    "import matplotlib.pyplot as plt\n",
    "from sklearn.decomposition import IncrementalPCA\n",
    "from sklearn.preprocessing import StandardScaler\n",
    "\n",
    "pca = IncrementalPCA(n_components=53) \n",
    "scaler = StandardScaler()\n",
    "\n",
    "explained_variance_ratio = []  \n",
    "\n",
    "for i in range(1, 8):\n",
    "    df_part = globals()[f'df_train_{i}']\n",
    "    X_part = df_part.drop(columns=['label'])  \n",
    "    X_train_scaled = scaler.fit_transform(X_part) if i == 1 else scaler.transform(X_part)  # Escalar\n",
    "    \n",
    "    pca.partial_fit(X_train_scaled)\n",
    "    \n",
    "    explained_variance_ratio.append(pca.explained_variance_ratio_)\n",
    "\n",
    "total_explained_variance = np.cumsum(pca.explained_variance_ratio_)\n",
    "\n",
    "plt.figure(figsize=(8, 6))\n",
    "plt.plot(range(1, len(total_explained_variance) + 1), total_explained_variance, marker='o', color='b')\n",
    "plt.title('Varianza Explicada Acumulada por Componentes Principales')\n",
    "plt.xlabel('Número de Componentes Principales')\n",
    "plt.ylabel('Varianza Explicada Acumulada')\n",
    "plt.grid(True)\n",
    "plt.show()\n",
    "\n",
    "# Puedes elegir cuántos componentes usar basado en la varianza explicada acumulada\n",
    "# Por ejemplo, si deseas que se explique al menos el 95% de la varianza\n",
    "n_components_opt = np.argmax(total_explained_variance >= 0.95) + 1  # Primer componente que llega al 95%\n",
    "print(f\"El número óptimo de componentes es {n_components_opt}\")\n"
   ]
  },
  {
   "cell_type": "code",
   "execution_count": null,
   "metadata": {},
   "outputs": [],
   "source": [
    "# Generar un dataframes pca\n",
    "from sklearn.preprocessing import StandardScaler\n",
    "from sklearn.decomposition import PCA\n",
    "\n",
    "scaler = StandardScaler()\n",
    "n_components = 33  \n",
    "\n",
    "pca = PCA(n_components=n_components)\n",
    "\n",
    "for i in range(1,8):\n",
    "    data_train = globals()[f'df_train_{i}']\n",
    "    X_train = data_train.drop(columns=['label']).values\n",
    "    y_train = data_train['label'].values    \n",
    "\n",
    "    data_test = globals()[f'df_test_{i}']\n",
    "    X_test = data_test.drop(columns=['label']).values\n",
    "    y_test = data_test['label'].values\n",
    "\n",
    "    \n",
    "    X_train_pca = pca.fit_transform(X_train)\n",
    "    X_test_pca = pca.transform(X_test)\n",
    "\n",
    "\n",
    "    # Lo guardo en un DataFrame para usarlo luego\n",
    "    data_train_pca = pd.DataFrame(data=X_train_pca, columns=[f'PC{i}' for i in range(1, n_components+1)])\n",
    "    data_train_pca['label'] = y_train\n",
    "    globals()[f'df_train_{i}_pca'] = data_train_pca\n",
    "\n",
    "    data_test_pca = pd.DataFrame(data=X_test_pca, columns=[f'PC{i}' for i in range(1, n_components+1)])\n",
    "    data_test_pca['label'] = y_test\n",
    "    globals()[f'df_test_{i}_pca'] = data_test_pca"
   ]
  },
  {
   "cell_type": "code",
   "execution_count": null,
   "metadata": {},
   "outputs": [],
   "source": [
    "from sklearn.linear_model import SGDRegressor\n",
    "from sklearn.preprocessing import PolynomialFeatures, StandardScaler\n",
    "\n",
    "degree = 2   # ESTE DATO TENEMOS QUE AJUSTARLO (define el grado del polinomio)\n",
    "\n",
    "model = SGDRegressor(max_iter=1, tol=None, warm_start=True)\n",
    "\n",
    "poly = PolynomialFeatures(degree)\n",
    "scaler = StandardScaler()\n",
    "\n",
    "for i in range(1, 8):\n",
    "    data_train = globals()[f'df_train_{i}_pca']\n",
    "    X_train = data_train.drop(columns=['label']).values\n",
    "    y_train = data_train['label'].values\n",
    "\n",
    "    X_train_poly = poly.fit_transform(X_train)  \n",
    "    if i == 1:\n",
    "        X_train_scaled = scaler.fit_transform(X_train_poly)  \n",
    "    else:\n",
    "        X_train_scaled = scaler.transform(X_train_poly) \n",
    "        \n",
    "    model.partial_fit(X_train_scaled, y_train)\n"
   ]
  },
  {
   "cell_type": "code",
   "execution_count": null,
   "metadata": {},
   "outputs": [
    {
     "data": {
      "text/plain": [
       "['../data/models\\\\PolinomialRegression.joblib']"
      ]
     },
     "metadata": {},
     "output_type": "display_data"
    }
   ],
   "source": [
    "dir = \"../data/models\"\n",
    "model_path = os.path.join(dir, \"PolinomialRegression.joblib\")\n",
    "joblib.dump(model, model_path)"
   ]
  },
  {
   "cell_type": "markdown",
   "metadata": {},
   "source": [
    "##### Predicción"
   ]
  },
  {
   "cell_type": "code",
   "execution_count": null,
   "metadata": {},
   "outputs": [],
   "source": [
    "# Cargar modelo de LogisticRegression\n",
    "model = joblib.load(\"../data/models/PolinomialRegression.joblib\")"
   ]
  },
  {
   "cell_type": "code",
   "execution_count": null,
   "metadata": {},
   "outputs": [],
   "source": [
    "# from sklearn.preprocessing import PolynomialFeatures, StandardScaler\n",
    "\n",
    "\n",
    "# poly = PolynomialFeatures(degree)\n",
    "# scaler = StandardScaler()\n",
    "\n",
    "\n",
    "# for i in range(1, 8):\n",
    "#     data_train = globals()[f'df_train_{i}_pca']\n",
    "#     X_train = data_train.drop(columns=['label']).values\n",
    "#     y_train = data_train['label'].values\n",
    "\n",
    "#     data_test = globals()[f'df_test_{i}_pca']\n",
    "#     X_test = data_test.drop(columns=['label']).values\n",
    "#     y_test = data_test['label'].values\n",
    "\n",
    "#     X_test_poly = poly.fit_transform(X_test)\n",
    "#     X_train_poly = poly.fit_transform(X_train)  \n",
    "#     if i == 1:\n",
    "#         X_train_scaled = scaler.fit_transform(X_train_poly)  \n",
    "#         X_test_scaled = scaler.fit_transform(X_test_poly)\n",
    "#     else:\n",
    "#         X_train_scaled = scaler.transform(X_train_poly) \n",
    "#         X_test_scaled = scaler.transform(X_test_poly)\n",
    "\n",
    "#     data_train_poly = pd.DataFrame(data=X_train_scaled)\n",
    "#     data_train_poly['label'] = y_train\n",
    "#     globals()[f'df_train_{i}_pca_poly'] = data_train_poly\n",
    "\n",
    "#     data_test_poly = pd.DataFrame(data=X_test_scaled)\n",
    "#     data_test_poly['label'] = y_test\n",
    "#     globals()[f'df_test_{i}_pca_poly'] = data_test_poly\n"
   ]
  },
  {
   "cell_type": "code",
   "execution_count": null,
   "metadata": {},
   "outputs": [],
   "source": [
    "prediction(model, 'PolinomialRegression')"
   ]
  },
  {
   "cell_type": "code",
   "execution_count": null,
   "metadata": {},
   "outputs": [
    {
     "data": {
      "image/png": "[encoded data removed]",
      "text/plain": [
       "<Figure size 1000x600 with 1 Axes>"
      ]
     },
     "metadata": {},
     "output_type": "display_data"
    }
   ],
   "source": [
    "plot_results('PolinomialRegression')"
   ]
  },
  {
   "cell_type": "markdown",
   "metadata": {},
   "source": [
    "### Regresión Logística: DONE"
   ]
  },
  {
   "cell_type": "markdown",
   "metadata": {},
   "source": [
    "##### Entrenamiento"
   ]
  },
  {
   "cell_type": "markdown",
   "metadata": {},
   "source": [
    "Como LinearRegression no permite un entrenamiento por partes, usamos SGDClasifier en su lugar con \"loss='log'\" para realizar una clasificación utilizando el algoritmo de gradiente descendente estocástico."
   ]
  },
  {
   "cell_type": "code",
   "execution_count": null,
   "metadata": {},
   "outputs": [],
   "source": [
    "model = SGDClassifier(loss='log_loss', random_state=42)\n",
    "\n",
    "for i in range(1, 8):\n",
    "    data_train = globals()[f'df_train_{i}']\n",
    "    X_train = data_train.drop(columns=['label']).values\n",
    "    y_train = data_train['label'].values\n",
    "\n",
    "    model.partial_fit(X_train, y_train, classes=np.unique(y_train))\n"
   ]
  },
  {
   "cell_type": "code",
   "execution_count": null,
   "metadata": {},
   "outputs": [
    {
     "data": {
      "text/plain": [
       "['../data/models\\\\LogisticRegression.joblib']"
      ]
     },
     "metadata": {},
     "output_type": "display_data"
    }
   ],
   "source": [
    "dir = \"../data/models\"\n",
    "model_path = os.path.join(dir, \"LogisticRegression.joblib\")\n",
    "joblib.dump(model, model_path)\n"
   ]
  },
  {
   "cell_type": "markdown",
   "metadata": {},
   "source": [
    "##### Predicción"
   ]
  },
  {
   "cell_type": "code",
   "execution_count": null,
   "metadata": {},
   "outputs": [],
   "source": [
    "# Cargar modelo de LogisticRegression\n",
    "model = joblib.load(\"../data/models/LogisticRegression.joblib\")"
   ]
  },
  {
   "cell_type": "code",
   "execution_count": null,
   "metadata": {},
   "outputs": [],
   "source": [
    "prediction(model, 'LogisticRegression')"
   ]
  },
  {
   "cell_type": "code",
   "execution_count": null,
   "metadata": {},
   "outputs": [
    {
     "data": {
      "image/png": "[encoded data removed]",
      "text/plain": [
       "<Figure size 1000x600 with 1 Axes>"
      ]
     },
     "metadata": {},
     "output_type": "display_data"
    }
   ],
   "source": [
    "plot_results('LogisticRegression')"
   ]
  },
  {
   "cell_type": "markdown",
   "metadata": {},
   "source": [
    "### Árboles de decisión"
   ]
  },
  {
   "cell_type": "markdown",
   "metadata": {},
   "source": [
    "Se recomienda hacer un PCA cuando tenemos alta dimensionalidad"
   ]
  },
  {
   "cell_type": "code",
   "execution_count": null,
   "metadata": {},
   "outputs": [],
   "source": [
    "for i in range(1,8):\n",
    "    data_train = globals()[f'df_train_{i}']\n",
    "    X_train = data_train.drop(columns=['label']).values\n",
    "    y_train = data_train['label'].values    \n",
    "\n",
    "    data_test = globals()[f'df_test_{i}']\n",
    "    X_test = data_test.drop(columns=['label']).values\n",
    "    y_test = data_test['label'].values\n",
    "\n",
    "    # Aplicar PCA para reducir la dimensionalidad\n",
    "    n_components = 2  # DATO AJUSTABLE\n",
    "    pca = PCA(n_components=n_components)\n",
    "    X_train_pca = pca.fit_transform(X_train)\n",
    "    X_test_pca = pca.transform(X_test)\n",
    "\n",
    "    # Lo guardo en un DataFrame para usarlo luego\n",
    "    data_train_pca = pd.DataFrame(data=X_train_pca, columns=[f'PC{i}' for i in range(1, n_components+1)])\n",
    "    data_train_pca['label'] = y_train\n",
    "    globals()[f'df_train_{i}_pca'] = data_train_pca\n",
    "\n",
    "    data_test_pca = pd.DataFrame(data=X_test_pca, columns=[f'PC{i}' for i in range(1, n_components+1)])\n",
    "    data_test_pca['label'] = y_test\n",
    "    globals()[f'df_test_{i}_pca'] = data_test_pca"
   ]
  },
  {
   "cell_type": "markdown",
   "metadata": {},
   "source": [
    "##### Entrenamiento"
   ]
  },
  {
   "cell_type": "markdown",
   "metadata": {},
   "source": [
    "Los árboles de decisión no soportan partial_fit() así que optamos por generar un árbol para cada partición y luego aplicar un ensemble"
   ]
  },
  {
   "cell_type": "markdown",
   "metadata": {},
   "source": [
    "<i>\"Para la clasificación con pocas clases, min_samples_leaf=1 suele ser la mejor opción.\n",
    "\"</i>\n",
    "<br> <br><i>\"Podemos empezar con min_muestras_hoja=5 como valor inicial. Si el tamaño de la muestra varía mucho, se puede utilizar un número flotante como\n",
    "porcentaje en estos dos parámetros.\"</i>"
   ]
  },
  {
   "cell_type": "markdown",
   "metadata": {},
   "source": [
    "VotingClassifier -> hace una \"votación por mayoría\" de los árboles por separado para obtener la predicción final. \"soft\" indica que utiliza el promedio de probabilidades en lugar de la mayoría de votos"
   ]
  },
  {
   "cell_type": "code",
   "execution_count": null,
   "metadata": {},
   "outputs": [],
   "source": [
    "models = []\n",
    "\n",
    "for i in range(1, 8):\n",
    "    data_frame = globals()[f'df_train_{i}']\n",
    "    X_batch = data_frame.drop(columns=['label']).values\n",
    "    y_batch = data_frame['label'].values\n",
    "\n",
    "    # Entrenar un modelo individual para cada partición !!!!!!\n",
    "    model = DecisionTreeClassifier(max_depth=3, min_samples_leaf=1)\n",
    "    model.fit(X_batch, y_batch)\n",
    "    models.append((f'model_{i}', model))\n",
    "\n",
    "# Hacer el ensemble\n",
    "ensemble_model = VotingClassifier(estimators=models, voting='soft')\n"
   ]
  },
  {
   "cell_type": "markdown",
   "metadata": {},
   "source": [
    "No sé para qué hago esto si me obliga luego a entrenarlo con todos los datos duh"
   ]
  },
  {
   "cell_type": "code",
   "execution_count": null,
   "metadata": {},
   "outputs": [
    {
     "data": {
      "text/html": [
       "<style>#sk-container-id-2 {\n",
       "  /* Definition of color scheme common for light and dark mode */\n",
       "  --sklearn-color-text: black;\n",
       "  --sklearn-color-line: gray;\n",
       "  /* Definition of color scheme for unfitted estimators */\n",
       "  --sklearn-color-unfitted-level-0: #fff5e6;\n",
       "  --sklearn-color-unfitted-level-1: #f6e4d2;\n",
       "  --sklearn-color-unfitted-level-2: #ffe0b3;\n",
       "  --sklearn-color-unfitted-level-3: chocolate;\n",
       "  /* Definition of color scheme for fitted estimators */\n",
       "  --sklearn-color-fitted-level-0: #f0f8ff;\n",
       "  --sklearn-color-fitted-level-1: #d4ebff;\n",
       "  --sklearn-color-fitted-level-2: #b3dbfd;\n",
       "  --sklearn-color-fitted-level-3: cornflowerblue;\n",
       "\n",
       "  /* Specific color for light theme */\n",
       "  --sklearn-color-text-on-default-background: var(--sg-text-color, var(--theme-code-foreground, var(--jp-content-font-color1, black)));\n",
       "  --sklearn-color-background: var(--sg-background-color, var(--theme-background, var(--jp-layout-color0, white)));\n",
       "  --sklearn-color-border-box: var(--sg-text-color, var(--theme-code-foreground, var(--jp-content-font-color1, black)));\n",
       "  --sklearn-color-icon: #696969;\n",
       "\n",
       "  @media (prefers-color-scheme: dark) {\n",
       "    /* Redefinition of color scheme for dark theme */\n",
       "    --sklearn-color-text-on-default-background: var(--sg-text-color, var(--theme-code-foreground, var(--jp-content-font-color1, white)));\n",
       "    --sklearn-color-background: var(--sg-background-color, var(--theme-background, var(--jp-layout-color0, #111)));\n",
       "    --sklearn-color-border-box: var(--sg-text-color, var(--theme-code-foreground, var(--jp-content-font-color1, white)));\n",
       "    --sklearn-color-icon: #878787;\n",
       "  }\n",
       "}\n",
       "\n",
       "#sk-container-id-2 {\n",
       "  color: var(--sklearn-color-text);\n",
       "}\n",
       "\n",
       "#sk-container-id-2 pre {\n",
       "  padding: 0;\n",
       "}\n",
       "\n",
       "#sk-container-id-2 input.sk-hidden--visually {\n",
       "  border: 0;\n",
       "  clip: rect(1px 1px 1px 1px);\n",
       "  clip: rect(1px, 1px, 1px, 1px);\n",
       "  height: 1px;\n",
       "  margin: -1px;\n",
       "  overflow: hidden;\n",
       "  padding: 0;\n",
       "  position: absolute;\n",
       "  width: 1px;\n",
       "}\n",
       "\n",
       "#sk-container-id-2 div.sk-dashed-wrapped {\n",
       "  border: 1px dashed var(--sklearn-color-line);\n",
       "  margin: 0 0.4em 0.5em 0.4em;\n",
       "  box-sizing: border-box;\n",
       "  padding-bottom: 0.4em;\n",
       "  background-color: var(--sklearn-color-background);\n",
       "}\n",
       "\n",
       "#sk-container-id-2 div.sk-container {\n",
       "  /* jupyter's `normalize.less` sets `[hidden] { display: none; }`\n",
       "     but bootstrap.min.css set `[hidden] { display: none !important; }`\n",
       "     so we also need the `!important` here to be able to override the\n",
       "     default hidden behavior on the sphinx rendered scikit-learn.org.\n",
       "     See: https://github.com/scikit-learn/scikit-learn/issues/21755 */\n",
       "  display: inline-block !important;\n",
       "  position: relative;\n",
       "}\n",
       "\n",
       "#sk-container-id-2 div.sk-text-repr-fallback {\n",
       "  display: none;\n",
       "}\n",
       "\n",
       "div.sk-parallel-item,\n",
       "div.sk-serial,\n",
       "div.sk-item {\n",
       "  /* draw centered vertical line to link estimators */\n",
       "  background-image: linear-gradient(var(--sklearn-color-text-on-default-background), var(--sklearn-color-text-on-default-background));\n",
       "  background-size: 2px 100%;\n",
       "  background-repeat: no-repeat;\n",
       "  background-position: center center;\n",
       "}\n",
       "\n",
       "/* Parallel-specific style estimator block */\n",
       "\n",
       "#sk-container-id-2 div.sk-parallel-item::after {\n",
       "  content: \"\";\n",
       "  width: 100%;\n",
       "  border-bottom: 2px solid var(--sklearn-color-text-on-default-background);\n",
       "  flex-grow: 1;\n",
       "}\n",
       "\n",
       "#sk-container-id-2 div.sk-parallel {\n",
       "  display: flex;\n",
       "  align-items: stretch;\n",
       "  justify-content: center;\n",
       "  background-color: var(--sklearn-color-background);\n",
       "  position: relative;\n",
       "}\n",
       "\n",
       "#sk-container-id-2 div.sk-parallel-item {\n",
       "  display: flex;\n",
       "  flex-direction: column;\n",
       "}\n",
       "\n",
       "#sk-container-id-2 div.sk-parallel-item:first-child::after {\n",
       "  align-self: flex-end;\n",
       "  width: 50%;\n",
       "}\n",
       "\n",
       "#sk-container-id-2 div.sk-parallel-item:last-child::after {\n",
       "  align-self: flex-start;\n",
       "  width: 50%;\n",
       "}\n",
       "\n",
       "#sk-container-id-2 div.sk-parallel-item:only-child::after {\n",
       "  width: 0;\n",
       "}\n",
       "\n",
       "/* Serial-specific style estimator block */\n",
       "\n",
       "#sk-container-id-2 div.sk-serial {\n",
       "  display: flex;\n",
       "  flex-direction: column;\n",
       "  align-items: center;\n",
       "  background-color: var(--sklearn-color-background);\n",
       "  padding-right: 1em;\n",
       "  padding-left: 1em;\n",
       "}\n",
       "\n",
       "\n",
       "/* Toggleable style: style used for estimator/Pipeline/ColumnTransformer box that is\n",
       "clickable and can be expanded/collapsed.\n",
       "- Pipeline and ColumnTransformer use this feature and define the default style\n",
       "- Estimators will overwrite some part of the style using the `sk-estimator` class\n",
       "*/\n",
       "\n",
       "/* Pipeline and ColumnTransformer style (default) */\n",
       "\n",
       "#sk-container-id-2 div.sk-toggleable {\n",
       "  /* Default theme specific background. It is overwritten whether we have a\n",
       "  specific estimator or a Pipeline/ColumnTransformer */\n",
       "  background-color: var(--sklearn-color-background);\n",
       "}\n",
       "\n",
       "/* Toggleable label */\n",
       "#sk-container-id-2 label.sk-toggleable__label {\n",
       "  cursor: pointer;\n",
       "  display: block;\n",
       "  width: 100%;\n",
       "  margin-bottom: 0;\n",
       "  padding: 0.5em;\n",
       "  box-sizing: border-box;\n",
       "  text-align: center;\n",
       "}\n",
       "\n",
       "#sk-container-id-2 label.sk-toggleable__label-arrow:before {\n",
       "  /* Arrow on the left of the label */\n",
       "  content: \"▸\";\n",
       "  float: left;\n",
       "  margin-right: 0.25em;\n",
       "  color: var(--sklearn-color-icon);\n",
       "}\n",
       "\n",
       "#sk-container-id-2 label.sk-toggleable__label-arrow:hover:before {\n",
       "  color: var(--sklearn-color-text);\n",
       "}\n",
       "\n",
       "/* Toggleable content - dropdown */\n",
       "\n",
       "#sk-container-id-2 div.sk-toggleable__content {\n",
       "  max-height: 0;\n",
       "  max-width: 0;\n",
       "  overflow: hidden;\n",
       "  text-align: left;\n",
       "  /* unfitted */\n",
       "  background-color: var(--sklearn-color-unfitted-level-0);\n",
       "}\n",
       "\n",
       "#sk-container-id-2 div.sk-toggleable__content.fitted {\n",
       "  /* fitted */\n",
       "  background-color: var(--sklearn-color-fitted-level-0);\n",
       "}\n",
       "\n",
       "#sk-container-id-2 div.sk-toggleable__content pre {\n",
       "  margin: 0.2em;\n",
       "  border-radius: 0.25em;\n",
       "  color: var(--sklearn-color-text);\n",
       "  /* unfitted */\n",
       "  background-color: var(--sklearn-color-unfitted-level-0);\n",
       "}\n",
       "\n",
       "#sk-container-id-2 div.sk-toggleable__content.fitted pre {\n",
       "  /* unfitted */\n",
       "  background-color: var(--sklearn-color-fitted-level-0);\n",
       "}\n",
       "\n",
       "#sk-container-id-2 input.sk-toggleable__control:checked~div.sk-toggleable__content {\n",
       "  /* Expand drop-down */\n",
       "  max-height: 200px;\n",
       "  max-width: 100%;\n",
       "  overflow: auto;\n",
       "}\n",
       "\n",
       "#sk-container-id-2 input.sk-toggleable__control:checked~label.sk-toggleable__label-arrow:before {\n",
       "  content: \"▾\";\n",
       "}\n",
       "\n",
       "/* Pipeline/ColumnTransformer-specific style */\n",
       "\n",
       "#sk-container-id-2 div.sk-label input.sk-toggleable__control:checked~label.sk-toggleable__label {\n",
       "  color: var(--sklearn-color-text);\n",
       "  background-color: var(--sklearn-color-unfitted-level-2);\n",
       "}\n",
       "\n",
       "#sk-container-id-2 div.sk-label.fitted input.sk-toggleable__control:checked~label.sk-toggleable__label {\n",
       "  background-color: var(--sklearn-color-fitted-level-2);\n",
       "}\n",
       "\n",
       "/* Estimator-specific style */\n",
       "\n",
       "/* Colorize estimator box */\n",
       "#sk-container-id-2 div.sk-estimator input.sk-toggleable__control:checked~label.sk-toggleable__label {\n",
       "  /* unfitted */\n",
       "  background-color: var(--sklearn-color-unfitted-level-2);\n",
       "}\n",
       "\n",
       "#sk-container-id-2 div.sk-estimator.fitted input.sk-toggleable__control:checked~label.sk-toggleable__label {\n",
       "  /* fitted */\n",
       "  background-color: var(--sklearn-color-fitted-level-2);\n",
       "}\n",
       "\n",
       "#sk-container-id-2 div.sk-label label.sk-toggleable__label,\n",
       "#sk-container-id-2 div.sk-label label {\n",
       "  /* The background is the default theme color */\n",
       "  color: var(--sklearn-color-text-on-default-background);\n",
       "}\n",
       "\n",
       "/* On hover, darken the color of the background */\n",
       "#sk-container-id-2 div.sk-label:hover label.sk-toggleable__label {\n",
       "  color: var(--sklearn-color-text);\n",
       "  background-color: var(--sklearn-color-unfitted-level-2);\n",
       "}\n",
       "\n",
       "/* Label box, darken color on hover, fitted */\n",
       "#sk-container-id-2 div.sk-label.fitted:hover label.sk-toggleable__label.fitted {\n",
       "  color: var(--sklearn-color-text);\n",
       "  background-color: var(--sklearn-color-fitted-level-2);\n",
       "}\n",
       "\n",
       "/* Estimator label */\n",
       "\n",
       "#sk-container-id-2 div.sk-label label {\n",
       "  font-family: monospace;\n",
       "  font-weight: bold;\n",
       "  display: inline-block;\n",
       "  line-height: 1.2em;\n",
       "}\n",
       "\n",
       "#sk-container-id-2 div.sk-label-container {\n",
       "  text-align: center;\n",
       "}\n",
       "\n",
       "/* Estimator-specific */\n",
       "#sk-container-id-2 div.sk-estimator {\n",
       "  font-family: monospace;\n",
       "  border: 1px dotted var(--sklearn-color-border-box);\n",
       "  border-radius: 0.25em;\n",
       "  box-sizing: border-box;\n",
       "  margin-bottom: 0.5em;\n",
       "  /* unfitted */\n",
       "  background-color: var(--sklearn-color-unfitted-level-0);\n",
       "}\n",
       "\n",
       "#sk-container-id-2 div.sk-estimator.fitted {\n",
       "  /* fitted */\n",
       "  background-color: var(--sklearn-color-fitted-level-0);\n",
       "}\n",
       "\n",
       "/* on hover */\n",
       "#sk-container-id-2 div.sk-estimator:hover {\n",
       "  /* unfitted */\n",
       "  background-color: var(--sklearn-color-unfitted-level-2);\n",
       "}\n",
       "\n",
       "#sk-container-id-2 div.sk-estimator.fitted:hover {\n",
       "  /* fitted */\n",
       "  background-color: var(--sklearn-color-fitted-level-2);\n",
       "}\n",
       "\n",
       "/* Specification for estimator info (e.g. \"i\" and \"?\") */\n",
       "\n",
       "/* Common style for \"i\" and \"?\" */\n",
       "\n",
       ".sk-estimator-doc-link,\n",
       "a:link.sk-estimator-doc-link,\n",
       "a:visited.sk-estimator-doc-link {\n",
       "  float: right;\n",
       "  font-size: smaller;\n",
       "  line-height: 1em;\n",
       "  font-family: monospace;\n",
       "  background-color: var(--sklearn-color-background);\n",
       "  border-radius: 1em;\n",
       "  height: 1em;\n",
       "  width: 1em;\n",
       "  text-decoration: none !important;\n",
       "  margin-left: 1ex;\n",
       "  /* unfitted */\n",
       "  border: var(--sklearn-color-unfitted-level-1) 1pt solid;\n",
       "  color: var(--sklearn-color-unfitted-level-1);\n",
       "}\n",
       "\n",
       ".sk-estimator-doc-link.fitted,\n",
       "a:link.sk-estimator-doc-link.fitted,\n",
       "a:visited.sk-estimator-doc-link.fitted {\n",
       "  /* fitted */\n",
       "  border: var(--sklearn-color-fitted-level-1) 1pt solid;\n",
       "  color: var(--sklearn-color-fitted-level-1);\n",
       "}\n",
       "\n",
       "/* On hover */\n",
       "div.sk-estimator:hover .sk-estimator-doc-link:hover,\n",
       ".sk-estimator-doc-link:hover,\n",
       "div.sk-label-container:hover .sk-estimator-doc-link:hover,\n",
       ".sk-estimator-doc-link:hover {\n",
       "  /* unfitted */\n",
       "  background-color: var(--sklearn-color-unfitted-level-3);\n",
       "  color: var(--sklearn-color-background);\n",
       "  text-decoration: none;\n",
       "}\n",
       "\n",
       "div.sk-estimator.fitted:hover .sk-estimator-doc-link.fitted:hover,\n",
       ".sk-estimator-doc-link.fitted:hover,\n",
       "div.sk-label-container:hover .sk-estimator-doc-link.fitted:hover,\n",
       ".sk-estimator-doc-link.fitted:hover {\n",
       "  /* fitted */\n",
       "  background-color: var(--sklearn-color-fitted-level-3);\n",
       "  color: var(--sklearn-color-background);\n",
       "  text-decoration: none;\n",
       "}\n",
       "\n",
       "/* Span, style for the box shown on hovering the info icon */\n",
       ".sk-estimator-doc-link span {\n",
       "  display: none;\n",
       "  z-index: 9999;\n",
       "  position: relative;\n",
       "  font-weight: normal;\n",
       "  right: .2ex;\n",
       "  padding: .5ex;\n",
       "  margin: .5ex;\n",
       "  width: min-content;\n",
       "  min-width: 20ex;\n",
       "  max-width: 50ex;\n",
       "  color: var(--sklearn-color-text);\n",
       "  box-shadow: 2pt 2pt 4pt #999;\n",
       "  /* unfitted */\n",
       "  background: var(--sklearn-color-unfitted-level-0);\n",
       "  border: .5pt solid var(--sklearn-color-unfitted-level-3);\n",
       "}\n",
       "\n",
       ".sk-estimator-doc-link.fitted span {\n",
       "  /* fitted */\n",
       "  background: var(--sklearn-color-fitted-level-0);\n",
       "  border: var(--sklearn-color-fitted-level-3);\n",
       "}\n",
       "\n",
       ".sk-estimator-doc-link:hover span {\n",
       "  display: block;\n",
       "}\n",
       "\n",
       "/* \"?\"-specific style due to the `<a>` HTML tag */\n",
       "\n",
       "#sk-container-id-2 a.estimator_doc_link {\n",
       "  float: right;\n",
       "  font-size: 1rem;\n",
       "  line-height: 1em;\n",
       "  font-family: monospace;\n",
       "  background-color: var(--sklearn-color-background);\n",
       "  border-radius: 1rem;\n",
       "  height: 1rem;\n",
       "  width: 1rem;\n",
       "  text-decoration: none;\n",
       "  /* unfitted */\n",
       "  color: var(--sklearn-color-unfitted-level-1);\n",
       "  border: var(--sklearn-color-unfitted-level-1) 1pt solid;\n",
       "}\n",
       "\n",
       "#sk-container-id-2 a.estimator_doc_link.fitted {\n",
       "  /* fitted */\n",
       "  border: var(--sklearn-color-fitted-level-1) 1pt solid;\n",
       "  color: var(--sklearn-color-fitted-level-1);\n",
       "}\n",
       "\n",
       "/* On hover */\n",
       "#sk-container-id-2 a.estimator_doc_link:hover {\n",
       "  /* unfitted */\n",
       "  background-color: var(--sklearn-color-unfitted-level-3);\n",
       "  color: var(--sklearn-color-background);\n",
       "  text-decoration: none;\n",
       "}\n",
       "\n",
       "#sk-container-id-2 a.estimator_doc_link.fitted:hover {\n",
       "  /* fitted */\n",
       "  background-color: var(--sklearn-color-fitted-level-3);\n",
       "}\n",
       "</style><div id=\"sk-container-id-2\" class=\"sk-top-container\"><div class=\"sk-text-repr-fallback\"><pre>VotingClassifier(estimators=[(&#x27;model_1&#x27;, DecisionTreeClassifier(max_depth=3)),\n",
       "                             (&#x27;model_2&#x27;, DecisionTreeClassifier(max_depth=3)),\n",
       "                             (&#x27;model_3&#x27;, DecisionTreeClassifier(max_depth=3)),\n",
       "                             (&#x27;model_4&#x27;, DecisionTreeClassifier(max_depth=3)),\n",
       "                             (&#x27;model_5&#x27;, DecisionTreeClassifier(max_depth=3)),\n",
       "                             (&#x27;model_6&#x27;, DecisionTreeClassifier(max_depth=3)),\n",
       "                             (&#x27;model_7&#x27;, DecisionTreeClassifier(max_depth=3))],\n",
       "                 voting=&#x27;soft&#x27;)</pre><b>In a Jupyter environment, please rerun this cell to show the HTML representation or trust the notebook. <br />On GitHub, the HTML representation is unable to render, please try loading this page with nbviewer.org.</b></div><div class=\"sk-container\" hidden><div class=\"sk-item sk-dashed-wrapped\"><div class=\"sk-label-container\"><div class=\"sk-label fitted sk-toggleable\"><input class=\"sk-toggleable__control sk-hidden--visually\" id=\"sk-estimator-id-9\" type=\"checkbox\" ><label for=\"sk-estimator-id-9\" class=\"sk-toggleable__label fitted sk-toggleable__label-arrow fitted\">&nbsp;&nbsp;VotingClassifier<a class=\"sk-estimator-doc-link fitted\" rel=\"noreferrer\" target=\"_blank\" href=\"https://scikit-learn.org/1.5/modules/generated/sklearn.ensemble.VotingClassifier.html\">?<span>Documentation for VotingClassifier</span></a><span class=\"sk-estimator-doc-link fitted\">i<span>Fitted</span></span></label><div class=\"sk-toggleable__content fitted\"><pre>VotingClassifier(estimators=[(&#x27;model_1&#x27;, DecisionTreeClassifier(max_depth=3)),\n",
       "                             (&#x27;model_2&#x27;, DecisionTreeClassifier(max_depth=3)),\n",
       "                             (&#x27;model_3&#x27;, DecisionTreeClassifier(max_depth=3)),\n",
       "                             (&#x27;model_4&#x27;, DecisionTreeClassifier(max_depth=3)),\n",
       "                             (&#x27;model_5&#x27;, DecisionTreeClassifier(max_depth=3)),\n",
       "                             (&#x27;model_6&#x27;, DecisionTreeClassifier(max_depth=3)),\n",
       "                             (&#x27;model_7&#x27;, DecisionTreeClassifier(max_depth=3))],\n",
       "                 voting=&#x27;soft&#x27;)</pre></div> </div></div><div class=\"sk-parallel\"><div class=\"sk-parallel-item\"><div class=\"sk-item\"><div class=\"sk-label-container\"><div class=\"sk-label fitted sk-toggleable\"><label>model_1</label></div></div><div class=\"sk-serial\"><div class=\"sk-item\"><div class=\"sk-estimator fitted sk-toggleable\"><input class=\"sk-toggleable__control sk-hidden--visually\" id=\"sk-estimator-id-10\" type=\"checkbox\" ><label for=\"sk-estimator-id-10\" class=\"sk-toggleable__label fitted sk-toggleable__label-arrow fitted\">&nbsp;DecisionTreeClassifier<a class=\"sk-estimator-doc-link fitted\" rel=\"noreferrer\" target=\"_blank\" href=\"https://scikit-learn.org/1.5/modules/generated/sklearn.tree.DecisionTreeClassifier.html\">?<span>Documentation for DecisionTreeClassifier</span></a></label><div class=\"sk-toggleable__content fitted\"><pre>DecisionTreeClassifier(max_depth=3)</pre></div> </div></div></div></div></div><div class=\"sk-parallel-item\"><div class=\"sk-item\"><div class=\"sk-label-container\"><div class=\"sk-label fitted sk-toggleable\"><label>model_2</label></div></div><div class=\"sk-serial\"><div class=\"sk-item\"><div class=\"sk-estimator fitted sk-toggleable\"><input class=\"sk-toggleable__control sk-hidden--visually\" id=\"sk-estimator-id-11\" type=\"checkbox\" ><label for=\"sk-estimator-id-11\" class=\"sk-toggleable__label fitted sk-toggleable__label-arrow fitted\">&nbsp;DecisionTreeClassifier<a class=\"sk-estimator-doc-link fitted\" rel=\"noreferrer\" target=\"_blank\" href=\"https://scikit-learn.org/1.5/modules/generated/sklearn.tree.DecisionTreeClassifier.html\">?<span>Documentation for DecisionTreeClassifier</span></a></label><div class=\"sk-toggleable__content fitted\"><pre>DecisionTreeClassifier(max_depth=3)</pre></div> </div></div></div></div></div><div class=\"sk-parallel-item\"><div class=\"sk-item\"><div class=\"sk-label-container\"><div class=\"sk-label fitted sk-toggleable\"><label>model_3</label></div></div><div class=\"sk-serial\"><div class=\"sk-item\"><div class=\"sk-estimator fitted sk-toggleable\"><input class=\"sk-toggleable__control sk-hidden--visually\" id=\"sk-estimator-id-12\" type=\"checkbox\" ><label for=\"sk-estimator-id-12\" class=\"sk-toggleable__label fitted sk-toggleable__label-arrow fitted\">&nbsp;DecisionTreeClassifier<a class=\"sk-estimator-doc-link fitted\" rel=\"noreferrer\" target=\"_blank\" href=\"https://scikit-learn.org/1.5/modules/generated/sklearn.tree.DecisionTreeClassifier.html\">?<span>Documentation for DecisionTreeClassifier</span></a></label><div class=\"sk-toggleable__content fitted\"><pre>DecisionTreeClassifier(max_depth=3)</pre></div> </div></div></div></div></div><div class=\"sk-parallel-item\"><div class=\"sk-item\"><div class=\"sk-label-container\"><div class=\"sk-label fitted sk-toggleable\"><label>model_4</label></div></div><div class=\"sk-serial\"><div class=\"sk-item\"><div class=\"sk-estimator fitted sk-toggleable\"><input class=\"sk-toggleable__control sk-hidden--visually\" id=\"sk-estimator-id-13\" type=\"checkbox\" ><label for=\"sk-estimator-id-13\" class=\"sk-toggleable__label fitted sk-toggleable__label-arrow fitted\">&nbsp;DecisionTreeClassifier<a class=\"sk-estimator-doc-link fitted\" rel=\"noreferrer\" target=\"_blank\" href=\"https://scikit-learn.org/1.5/modules/generated/sklearn.tree.DecisionTreeClassifier.html\">?<span>Documentation for DecisionTreeClassifier</span></a></label><div class=\"sk-toggleable__content fitted\"><pre>DecisionTreeClassifier(max_depth=3)</pre></div> </div></div></div></div></div><div class=\"sk-parallel-item\"><div class=\"sk-item\"><div class=\"sk-label-container\"><div class=\"sk-label fitted sk-toggleable\"><label>model_5</label></div></div><div class=\"sk-serial\"><div class=\"sk-item\"><div class=\"sk-estimator fitted sk-toggleable\"><input class=\"sk-toggleable__control sk-hidden--visually\" id=\"sk-estimator-id-14\" type=\"checkbox\" ><label for=\"sk-estimator-id-14\" class=\"sk-toggleable__label fitted sk-toggleable__label-arrow fitted\">&nbsp;DecisionTreeClassifier<a class=\"sk-estimator-doc-link fitted\" rel=\"noreferrer\" target=\"_blank\" href=\"https://scikit-learn.org/1.5/modules/generated/sklearn.tree.DecisionTreeClassifier.html\">?<span>Documentation for DecisionTreeClassifier</span></a></label><div class=\"sk-toggleable__content fitted\"><pre>DecisionTreeClassifier(max_depth=3)</pre></div> </div></div></div></div></div><div class=\"sk-parallel-item\"><div class=\"sk-item\"><div class=\"sk-label-container\"><div class=\"sk-label fitted sk-toggleable\"><label>model_6</label></div></div><div class=\"sk-serial\"><div class=\"sk-item\"><div class=\"sk-estimator fitted sk-toggleable\"><input class=\"sk-toggleable__control sk-hidden--visually\" id=\"sk-estimator-id-15\" type=\"checkbox\" ><label for=\"sk-estimator-id-15\" class=\"sk-toggleable__label fitted sk-toggleable__label-arrow fitted\">&nbsp;DecisionTreeClassifier<a class=\"sk-estimator-doc-link fitted\" rel=\"noreferrer\" target=\"_blank\" href=\"https://scikit-learn.org/1.5/modules/generated/sklearn.tree.DecisionTreeClassifier.html\">?<span>Documentation for DecisionTreeClassifier</span></a></label><div class=\"sk-toggleable__content fitted\"><pre>DecisionTreeClassifier(max_depth=3)</pre></div> </div></div></div></div></div><div class=\"sk-parallel-item\"><div class=\"sk-item\"><div class=\"sk-label-container\"><div class=\"sk-label fitted sk-toggleable\"><label>model_7</label></div></div><div class=\"sk-serial\"><div class=\"sk-item\"><div class=\"sk-estimator fitted sk-toggleable\"><input class=\"sk-toggleable__control sk-hidden--visually\" id=\"sk-estimator-id-16\" type=\"checkbox\" ><label for=\"sk-estimator-id-16\" class=\"sk-toggleable__label fitted sk-toggleable__label-arrow fitted\">&nbsp;DecisionTreeClassifier<a class=\"sk-estimator-doc-link fitted\" rel=\"noreferrer\" target=\"_blank\" href=\"https://scikit-learn.org/1.5/modules/generated/sklearn.tree.DecisionTreeClassifier.html\">?<span>Documentation for DecisionTreeClassifier</span></a></label><div class=\"sk-toggleable__content fitted\"><pre>DecisionTreeClassifier(max_depth=3)</pre></div> </div></div></div></div></div></div></div></div></div>"
      ],
      "text/plain": [
       "VotingClassifier(estimators=[('model_1', DecisionTreeClassifier(max_depth=3)),\n",
       "                             ('model_2', DecisionTreeClassifier(max_depth=3)),\n",
       "                             ('model_3', DecisionTreeClassifier(max_depth=3)),\n",
       "                             ('model_4', DecisionTreeClassifier(max_depth=3)),\n",
       "                             ('model_5', DecisionTreeClassifier(max_depth=3)),\n",
       "                             ('model_6', DecisionTreeClassifier(max_depth=3)),\n",
       "                             ('model_7', DecisionTreeClassifier(max_depth=3))],\n",
       "                 voting='soft')"
      ]
     },
     "metadata": {},
     "output_type": "display_data"
    }
   ],
   "source": [
    "\n",
    "X_train_full = np.vstack([globals()[f'df_train_{i}'].drop(columns=['label']).values for i in range(1, 8)])\n",
    "y_train_full = np.hstack([globals()[f'df_train_{i}']['label'].values for i in range(1, 8)])\n",
    "\n",
    "# Ajustar el ensemble con los datos completos\n",
    "ensemble_model.fit(X_train_full, y_train_full)"
   ]
  },
  {
   "cell_type": "code",
   "execution_count": null,
   "metadata": {},
   "outputs": [
    {
     "data": {
      "text/plain": [
       "['../data/models\\\\DecisionTree.joblib']"
      ]
     },
     "metadata": {},
     "output_type": "display_data"
    }
   ],
   "source": [
    "dir = \"../data/models\"\n",
    "model_path = os.path.join(dir, \"DecisionTree.joblib\")\n",
    "joblib.dump(ensemble_model, model_path)"
   ]
  },
  {
   "cell_type": "markdown",
   "metadata": {},
   "source": [
    "##### Predicción"
   ]
  },
  {
   "cell_type": "code",
   "execution_count": null,
   "metadata": {},
   "outputs": [],
   "source": [
    "# Cargar modelo de LogisticRegression\n",
    "model = joblib.load(\"../data/models/DecisionTree.joblib\")"
   ]
  },
  {
   "cell_type": "code",
   "execution_count": null,
   "metadata": {},
   "outputs": [],
   "source": [
    "prediction(model, 'DecisionTree')"
   ]
  },
  {
   "cell_type": "code",
   "execution_count": null,
   "metadata": {},
   "outputs": [
    {
     "data": {
      "image/png": "[encoded data removed]",
      "text/plain": [
       "<Figure size 1000x600 with 1 Axes>"
      ]
     },
     "metadata": {},
     "output_type": "display_data"
    }
   ],
   "source": [
    "plot_results('DecisionTree')"
   ]
  },
  {
   "cell_type": "markdown",
   "metadata": {},
   "source": [
    "### Basado en instancias : KNN -> DONE? (solo con una partición pequeña)"
   ]
  },
  {
   "cell_type": "markdown",
   "metadata": {},
   "source": [
    "##### Entrenamiento"
   ]
  },
  {
   "cell_type": "markdown",
   "metadata": {},
   "source": [
    "He intentado con annoy (según la documentación, permite aproximar KNN con un enfoque eficiente en memoria) pero el kernel muere intentando entrenarlo"
   ]
  },
  {
   "cell_type": "markdown",
   "metadata": {},
   "source": [
    "Como no sirve nada, voy a coger una muestra pequeña representativa y voy a entrenar el modelo con ella"
   ]
  },
  {
   "cell_type": "code",
   "execution_count": null,
   "metadata": {},
   "outputs": [
    {
     "name": "stderr",
     "output_type": "stream",
     "text": [
      "C:\\Users\\eleni\\AppData\\Local\\Temp\\ipykernel_3320\\2424558243.py:14: DeprecationWarning: DataFrameGroupBy.apply operated on the grouping columns. This behavior is deprecated, and in a future version of pandas the grouping columns will be excluded from the operation. Either pass `include_groups=False` to exclude the groupings or explicitly select the grouping columns after groupby to silence this warning.\n",
      "  sampled_df = df.groupby('label', as_index=False).apply(\n",
      "C:\\Users\\eleni\\AppData\\Local\\Temp\\ipykernel_3320\\2424558243.py:14: DeprecationWarning: DataFrameGroupBy.apply operated on the grouping columns. This behavior is deprecated, and in a future version of pandas the grouping columns will be excluded from the operation. Either pass `include_groups=False` to exclude the groupings or explicitly select the grouping columns after groupby to silence this warning.\n",
      "  sampled_df = df.groupby('label', as_index=False).apply(\n",
      "C:\\Users\\eleni\\AppData\\Local\\Temp\\ipykernel_3320\\2424558243.py:14: DeprecationWarning: DataFrameGroupBy.apply operated on the grouping columns. This behavior is deprecated, and in a future version of pandas the grouping columns will be excluded from the operation. Either pass `include_groups=False` to exclude the groupings or explicitly select the grouping columns after groupby to silence this warning.\n",
      "  sampled_df = df.groupby('label', as_index=False).apply(\n",
      "C:\\Users\\eleni\\AppData\\Local\\Temp\\ipykernel_3320\\2424558243.py:14: DeprecationWarning: DataFrameGroupBy.apply operated on the grouping columns. This behavior is deprecated, and in a future version of pandas the grouping columns will be excluded from the operation. Either pass `include_groups=False` to exclude the groupings or explicitly select the grouping columns after groupby to silence this warning.\n",
      "  sampled_df = df.groupby('label', as_index=False).apply(\n",
      "C:\\Users\\eleni\\AppData\\Local\\Temp\\ipykernel_3320\\2424558243.py:14: DeprecationWarning: DataFrameGroupBy.apply operated on the grouping columns. This behavior is deprecated, and in a future version of pandas the grouping columns will be excluded from the operation. Either pass `include_groups=False` to exclude the groupings or explicitly select the grouping columns after groupby to silence this warning.\n",
      "  sampled_df = df.groupby('label', as_index=False).apply(\n"
     ]
    },
    {
     "name": "stdout",
     "output_type": "stream",
     "text": [
      "Tamaño de la muestra final: (39182, 55)\n"
     ]
    },
    {
     "name": "stderr",
     "output_type": "stream",
     "text": [
      "C:\\Users\\eleni\\AppData\\Local\\Temp\\ipykernel_3320\\2424558243.py:14: DeprecationWarning: DataFrameGroupBy.apply operated on the grouping columns. This behavior is deprecated, and in a future version of pandas the grouping columns will be excluded from the operation. Either pass `include_groups=False` to exclude the groupings or explicitly select the grouping columns after groupby to silence this warning.\n",
      "  sampled_df = df.groupby('label', as_index=False).apply(\n",
      "C:\\Users\\eleni\\AppData\\Local\\Temp\\ipykernel_3320\\2424558243.py:14: DeprecationWarning: DataFrameGroupBy.apply operated on the grouping columns. This behavior is deprecated, and in a future version of pandas the grouping columns will be excluded from the operation. Either pass `include_groups=False` to exclude the groupings or explicitly select the grouping columns after groupby to silence this warning.\n",
      "  sampled_df = df.groupby('label', as_index=False).apply(\n"
     ]
    }
   ],
   "source": [
    "import pandas as pd\n",
    "\n",
    "# Definir el tamaño de la muestra (1% en este ejemplo)\n",
    "sample_fraction = 0.01  # Ajusta esto según tus necesidades\n",
    "\n",
    "# DataFrames particionados de tus datos, aquí simulados como lista\n",
    "partitions = [globals()[f'df_train_{i}'] for i in range(1, 8)]\n",
    "\n",
    "# Crear lista para almacenar las muestras\n",
    "sampled_data = []\n",
    "\n",
    "# Iterar sobre cada partición y tomar una muestra estratificada\n",
    "for df in partitions:\n",
    "    sampled_df = df.groupby('label', as_index=False).apply(\n",
    "        lambda x: x.sample(frac=sample_fraction, random_state=42)\n",
    "    ).reset_index(drop=True)  # Eliminar índice adicional\n",
    "    sampled_data.append(sampled_df)\n",
    "\n",
    "# Concatenar todas las muestras para tener un único DataFrame de muestra\n",
    "final_sample = pd.concat(sampled_data, ignore_index=True)\n",
    "\n",
    "# Confirmación de la muestra final y de que 'label' está presente\n",
    "print(\"Tamaño de la muestra final:\", final_sample.shape)\n"
   ]
  },
  {
   "cell_type": "code",
   "execution_count": null,
   "metadata": {},
   "outputs": [
    {
     "name": "stdout",
     "output_type": "stream",
     "text": [
      "Index(['ID', 'Payment_6804', 'Infraction_CGP', 'Base_7744', 'Base_80863',\n",
      "       'Risk_1930', 'Infraction_SNZ', 'Base_02683', 'Infraction_QJJF',\n",
      "       'Base_76065', 'Risk_0322', 'Infraction_GGO', 'Base_39598', 'Base_6187',\n",
      "       'Base_85131', 'Risk_9995', 'Infraction_AYWV', 'Base_36384',\n",
      "       'Base_24406', 'Infraction_BSU', 'Infraction_ZYW', 'Base_1039',\n",
      "       'Base_0580', 'Expenditure_RGD', 'Base_69608', 'Base_6852', 'Base_22178',\n",
      "       'Infraction_ZTYG', 'Expenditure_UWVG', 'Base_3041', 'Payment_3207',\n",
      "       'Infraction_QKZN', 'Infraction_CZE', 'Base_66195', 'Risk_4553',\n",
      "       'Base_67585', 'Infraction_HFSI', 'Infraction_ETH', 'Base_2810',\n",
      "       'Risk_8902', 'Infraction_BGGU', 'Infraction_NMCB', 'Infraction_XEPQ',\n",
      "       'Infraction_ZMKI', 'Infraction_RKTA', 'Infraction_SIA',\n",
      "       'Infraction_QEY', 'Infraction_VHHP', 'Infraction_LIES',\n",
      "       'Infraction_QWWW', 'Infraction_YQXM', 'Infraction_QGR',\n",
      "       'Infraction_LSX', 'Expenditure_AHF_year', 'label'],\n",
      "      dtype='object')\n"
     ]
    }
   ],
   "source": [
    "print(final_sample.columns)\n"
   ]
  },
  {
   "cell_type": "code",
   "execution_count": null,
   "metadata": {},
   "outputs": [
    {
     "data": {
      "text/html": [
       "<style>#sk-container-id-1 {\n",
       "  /* Definition of color scheme common for light and dark mode */\n",
       "  --sklearn-color-text: black;\n",
       "  --sklearn-color-line: gray;\n",
       "  /* Definition of color scheme for unfitted estimators */\n",
       "  --sklearn-color-unfitted-level-0: #fff5e6;\n",
       "  --sklearn-color-unfitted-level-1: #f6e4d2;\n",
       "  --sklearn-color-unfitted-level-2: #ffe0b3;\n",
       "  --sklearn-color-unfitted-level-3: chocolate;\n",
       "  /* Definition of color scheme for fitted estimators */\n",
       "  --sklearn-color-fitted-level-0: #f0f8ff;\n",
       "  --sklearn-color-fitted-level-1: #d4ebff;\n",
       "  --sklearn-color-fitted-level-2: #b3dbfd;\n",
       "  --sklearn-color-fitted-level-3: cornflowerblue;\n",
       "\n",
       "  /* Specific color for light theme */\n",
       "  --sklearn-color-text-on-default-background: var(--sg-text-color, var(--theme-code-foreground, var(--jp-content-font-color1, black)));\n",
       "  --sklearn-color-background: var(--sg-background-color, var(--theme-background, var(--jp-layout-color0, white)));\n",
       "  --sklearn-color-border-box: var(--sg-text-color, var(--theme-code-foreground, var(--jp-content-font-color1, black)));\n",
       "  --sklearn-color-icon: #696969;\n",
       "\n",
       "  @media (prefers-color-scheme: dark) {\n",
       "    /* Redefinition of color scheme for dark theme */\n",
       "    --sklearn-color-text-on-default-background: var(--sg-text-color, var(--theme-code-foreground, var(--jp-content-font-color1, white)));\n",
       "    --sklearn-color-background: var(--sg-background-color, var(--theme-background, var(--jp-layout-color0, #111)));\n",
       "    --sklearn-color-border-box: var(--sg-text-color, var(--theme-code-foreground, var(--jp-content-font-color1, white)));\n",
       "    --sklearn-color-icon: #878787;\n",
       "  }\n",
       "}\n",
       "\n",
       "#sk-container-id-1 {\n",
       "  color: var(--sklearn-color-text);\n",
       "}\n",
       "\n",
       "#sk-container-id-1 pre {\n",
       "  padding: 0;\n",
       "}\n",
       "\n",
       "#sk-container-id-1 input.sk-hidden--visually {\n",
       "  border: 0;\n",
       "  clip: rect(1px 1px 1px 1px);\n",
       "  clip: rect(1px, 1px, 1px, 1px);\n",
       "  height: 1px;\n",
       "  margin: -1px;\n",
       "  overflow: hidden;\n",
       "  padding: 0;\n",
       "  position: absolute;\n",
       "  width: 1px;\n",
       "}\n",
       "\n",
       "#sk-container-id-1 div.sk-dashed-wrapped {\n",
       "  border: 1px dashed var(--sklearn-color-line);\n",
       "  margin: 0 0.4em 0.5em 0.4em;\n",
       "  box-sizing: border-box;\n",
       "  padding-bottom: 0.4em;\n",
       "  background-color: var(--sklearn-color-background);\n",
       "}\n",
       "\n",
       "#sk-container-id-1 div.sk-container {\n",
       "  /* jupyter's `normalize.less` sets `[hidden] { display: none; }`\n",
       "     but bootstrap.min.css set `[hidden] { display: none !important; }`\n",
       "     so we also need the `!important` here to be able to override the\n",
       "     default hidden behavior on the sphinx rendered scikit-learn.org.\n",
       "     See: https://github.com/scikit-learn/scikit-learn/issues/21755 */\n",
       "  display: inline-block !important;\n",
       "  position: relative;\n",
       "}\n",
       "\n",
       "#sk-container-id-1 div.sk-text-repr-fallback {\n",
       "  display: none;\n",
       "}\n",
       "\n",
       "div.sk-parallel-item,\n",
       "div.sk-serial,\n",
       "div.sk-item {\n",
       "  /* draw centered vertical line to link estimators */\n",
       "  background-image: linear-gradient(var(--sklearn-color-text-on-default-background), var(--sklearn-color-text-on-default-background));\n",
       "  background-size: 2px 100%;\n",
       "  background-repeat: no-repeat;\n",
       "  background-position: center center;\n",
       "}\n",
       "\n",
       "/* Parallel-specific style estimator block */\n",
       "\n",
       "#sk-container-id-1 div.sk-parallel-item::after {\n",
       "  content: \"\";\n",
       "  width: 100%;\n",
       "  border-bottom: 2px solid var(--sklearn-color-text-on-default-background);\n",
       "  flex-grow: 1;\n",
       "}\n",
       "\n",
       "#sk-container-id-1 div.sk-parallel {\n",
       "  display: flex;\n",
       "  align-items: stretch;\n",
       "  justify-content: center;\n",
       "  background-color: var(--sklearn-color-background);\n",
       "  position: relative;\n",
       "}\n",
       "\n",
       "#sk-container-id-1 div.sk-parallel-item {\n",
       "  display: flex;\n",
       "  flex-direction: column;\n",
       "}\n",
       "\n",
       "#sk-container-id-1 div.sk-parallel-item:first-child::after {\n",
       "  align-self: flex-end;\n",
       "  width: 50%;\n",
       "}\n",
       "\n",
       "#sk-container-id-1 div.sk-parallel-item:last-child::after {\n",
       "  align-self: flex-start;\n",
       "  width: 50%;\n",
       "}\n",
       "\n",
       "#sk-container-id-1 div.sk-parallel-item:only-child::after {\n",
       "  width: 0;\n",
       "}\n",
       "\n",
       "/* Serial-specific style estimator block */\n",
       "\n",
       "#sk-container-id-1 div.sk-serial {\n",
       "  display: flex;\n",
       "  flex-direction: column;\n",
       "  align-items: center;\n",
       "  background-color: var(--sklearn-color-background);\n",
       "  padding-right: 1em;\n",
       "  padding-left: 1em;\n",
       "}\n",
       "\n",
       "\n",
       "/* Toggleable style: style used for estimator/Pipeline/ColumnTransformer box that is\n",
       "clickable and can be expanded/collapsed.\n",
       "- Pipeline and ColumnTransformer use this feature and define the default style\n",
       "- Estimators will overwrite some part of the style using the `sk-estimator` class\n",
       "*/\n",
       "\n",
       "/* Pipeline and ColumnTransformer style (default) */\n",
       "\n",
       "#sk-container-id-1 div.sk-toggleable {\n",
       "  /* Default theme specific background. It is overwritten whether we have a\n",
       "  specific estimator or a Pipeline/ColumnTransformer */\n",
       "  background-color: var(--sklearn-color-background);\n",
       "}\n",
       "\n",
       "/* Toggleable label */\n",
       "#sk-container-id-1 label.sk-toggleable__label {\n",
       "  cursor: pointer;\n",
       "  display: block;\n",
       "  width: 100%;\n",
       "  margin-bottom: 0;\n",
       "  padding: 0.5em;\n",
       "  box-sizing: border-box;\n",
       "  text-align: center;\n",
       "}\n",
       "\n",
       "#sk-container-id-1 label.sk-toggleable__label-arrow:before {\n",
       "  /* Arrow on the left of the label */\n",
       "  content: \"▸\";\n",
       "  float: left;\n",
       "  margin-right: 0.25em;\n",
       "  color: var(--sklearn-color-icon);\n",
       "}\n",
       "\n",
       "#sk-container-id-1 label.sk-toggleable__label-arrow:hover:before {\n",
       "  color: var(--sklearn-color-text);\n",
       "}\n",
       "\n",
       "/* Toggleable content - dropdown */\n",
       "\n",
       "#sk-container-id-1 div.sk-toggleable__content {\n",
       "  max-height: 0;\n",
       "  max-width: 0;\n",
       "  overflow: hidden;\n",
       "  text-align: left;\n",
       "  /* unfitted */\n",
       "  background-color: var(--sklearn-color-unfitted-level-0);\n",
       "}\n",
       "\n",
       "#sk-container-id-1 div.sk-toggleable__content.fitted {\n",
       "  /* fitted */\n",
       "  background-color: var(--sklearn-color-fitted-level-0);\n",
       "}\n",
       "\n",
       "#sk-container-id-1 div.sk-toggleable__content pre {\n",
       "  margin: 0.2em;\n",
       "  border-radius: 0.25em;\n",
       "  color: var(--sklearn-color-text);\n",
       "  /* unfitted */\n",
       "  background-color: var(--sklearn-color-unfitted-level-0);\n",
       "}\n",
       "\n",
       "#sk-container-id-1 div.sk-toggleable__content.fitted pre {\n",
       "  /* unfitted */\n",
       "  background-color: var(--sklearn-color-fitted-level-0);\n",
       "}\n",
       "\n",
       "#sk-container-id-1 input.sk-toggleable__control:checked~div.sk-toggleable__content {\n",
       "  /* Expand drop-down */\n",
       "  max-height: 200px;\n",
       "  max-width: 100%;\n",
       "  overflow: auto;\n",
       "}\n",
       "\n",
       "#sk-container-id-1 input.sk-toggleable__control:checked~label.sk-toggleable__label-arrow:before {\n",
       "  content: \"▾\";\n",
       "}\n",
       "\n",
       "/* Pipeline/ColumnTransformer-specific style */\n",
       "\n",
       "#sk-container-id-1 div.sk-label input.sk-toggleable__control:checked~label.sk-toggleable__label {\n",
       "  color: var(--sklearn-color-text);\n",
       "  background-color: var(--sklearn-color-unfitted-level-2);\n",
       "}\n",
       "\n",
       "#sk-container-id-1 div.sk-label.fitted input.sk-toggleable__control:checked~label.sk-toggleable__label {\n",
       "  background-color: var(--sklearn-color-fitted-level-2);\n",
       "}\n",
       "\n",
       "/* Estimator-specific style */\n",
       "\n",
       "/* Colorize estimator box */\n",
       "#sk-container-id-1 div.sk-estimator input.sk-toggleable__control:checked~label.sk-toggleable__label {\n",
       "  /* unfitted */\n",
       "  background-color: var(--sklearn-color-unfitted-level-2);\n",
       "}\n",
       "\n",
       "#sk-container-id-1 div.sk-estimator.fitted input.sk-toggleable__control:checked~label.sk-toggleable__label {\n",
       "  /* fitted */\n",
       "  background-color: var(--sklearn-color-fitted-level-2);\n",
       "}\n",
       "\n",
       "#sk-container-id-1 div.sk-label label.sk-toggleable__label,\n",
       "#sk-container-id-1 div.sk-label label {\n",
       "  /* The background is the default theme color */\n",
       "  color: var(--sklearn-color-text-on-default-background);\n",
       "}\n",
       "\n",
       "/* On hover, darken the color of the background */\n",
       "#sk-container-id-1 div.sk-label:hover label.sk-toggleable__label {\n",
       "  color: var(--sklearn-color-text);\n",
       "  background-color: var(--sklearn-color-unfitted-level-2);\n",
       "}\n",
       "\n",
       "/* Label box, darken color on hover, fitted */\n",
       "#sk-container-id-1 div.sk-label.fitted:hover label.sk-toggleable__label.fitted {\n",
       "  color: var(--sklearn-color-text);\n",
       "  background-color: var(--sklearn-color-fitted-level-2);\n",
       "}\n",
       "\n",
       "/* Estimator label */\n",
       "\n",
       "#sk-container-id-1 div.sk-label label {\n",
       "  font-family: monospace;\n",
       "  font-weight: bold;\n",
       "  display: inline-block;\n",
       "  line-height: 1.2em;\n",
       "}\n",
       "\n",
       "#sk-container-id-1 div.sk-label-container {\n",
       "  text-align: center;\n",
       "}\n",
       "\n",
       "/* Estimator-specific */\n",
       "#sk-container-id-1 div.sk-estimator {\n",
       "  font-family: monospace;\n",
       "  border: 1px dotted var(--sklearn-color-border-box);\n",
       "  border-radius: 0.25em;\n",
       "  box-sizing: border-box;\n",
       "  margin-bottom: 0.5em;\n",
       "  /* unfitted */\n",
       "  background-color: var(--sklearn-color-unfitted-level-0);\n",
       "}\n",
       "\n",
       "#sk-container-id-1 div.sk-estimator.fitted {\n",
       "  /* fitted */\n",
       "  background-color: var(--sklearn-color-fitted-level-0);\n",
       "}\n",
       "\n",
       "/* on hover */\n",
       "#sk-container-id-1 div.sk-estimator:hover {\n",
       "  /* unfitted */\n",
       "  background-color: var(--sklearn-color-unfitted-level-2);\n",
       "}\n",
       "\n",
       "#sk-container-id-1 div.sk-estimator.fitted:hover {\n",
       "  /* fitted */\n",
       "  background-color: var(--sklearn-color-fitted-level-2);\n",
       "}\n",
       "\n",
       "/* Specification for estimator info (e.g. \"i\" and \"?\") */\n",
       "\n",
       "/* Common style for \"i\" and \"?\" */\n",
       "\n",
       ".sk-estimator-doc-link,\n",
       "a:link.sk-estimator-doc-link,\n",
       "a:visited.sk-estimator-doc-link {\n",
       "  float: right;\n",
       "  font-size: smaller;\n",
       "  line-height: 1em;\n",
       "  font-family: monospace;\n",
       "  background-color: var(--sklearn-color-background);\n",
       "  border-radius: 1em;\n",
       "  height: 1em;\n",
       "  width: 1em;\n",
       "  text-decoration: none !important;\n",
       "  margin-left: 1ex;\n",
       "  /* unfitted */\n",
       "  border: var(--sklearn-color-unfitted-level-1) 1pt solid;\n",
       "  color: var(--sklearn-color-unfitted-level-1);\n",
       "}\n",
       "\n",
       ".sk-estimator-doc-link.fitted,\n",
       "a:link.sk-estimator-doc-link.fitted,\n",
       "a:visited.sk-estimator-doc-link.fitted {\n",
       "  /* fitted */\n",
       "  border: var(--sklearn-color-fitted-level-1) 1pt solid;\n",
       "  color: var(--sklearn-color-fitted-level-1);\n",
       "}\n",
       "\n",
       "/* On hover */\n",
       "div.sk-estimator:hover .sk-estimator-doc-link:hover,\n",
       ".sk-estimator-doc-link:hover,\n",
       "div.sk-label-container:hover .sk-estimator-doc-link:hover,\n",
       ".sk-estimator-doc-link:hover {\n",
       "  /* unfitted */\n",
       "  background-color: var(--sklearn-color-unfitted-level-3);\n",
       "  color: var(--sklearn-color-background);\n",
       "  text-decoration: none;\n",
       "}\n",
       "\n",
       "div.sk-estimator.fitted:hover .sk-estimator-doc-link.fitted:hover,\n",
       ".sk-estimator-doc-link.fitted:hover,\n",
       "div.sk-label-container:hover .sk-estimator-doc-link.fitted:hover,\n",
       ".sk-estimator-doc-link.fitted:hover {\n",
       "  /* fitted */\n",
       "  background-color: var(--sklearn-color-fitted-level-3);\n",
       "  color: var(--sklearn-color-background);\n",
       "  text-decoration: none;\n",
       "}\n",
       "\n",
       "/* Span, style for the box shown on hovering the info icon */\n",
       ".sk-estimator-doc-link span {\n",
       "  display: none;\n",
       "  z-index: 9999;\n",
       "  position: relative;\n",
       "  font-weight: normal;\n",
       "  right: .2ex;\n",
       "  padding: .5ex;\n",
       "  margin: .5ex;\n",
       "  width: min-content;\n",
       "  min-width: 20ex;\n",
       "  max-width: 50ex;\n",
       "  color: var(--sklearn-color-text);\n",
       "  box-shadow: 2pt 2pt 4pt #999;\n",
       "  /* unfitted */\n",
       "  background: var(--sklearn-color-unfitted-level-0);\n",
       "  border: .5pt solid var(--sklearn-color-unfitted-level-3);\n",
       "}\n",
       "\n",
       ".sk-estimator-doc-link.fitted span {\n",
       "  /* fitted */\n",
       "  background: var(--sklearn-color-fitted-level-0);\n",
       "  border: var(--sklearn-color-fitted-level-3);\n",
       "}\n",
       "\n",
       ".sk-estimator-doc-link:hover span {\n",
       "  display: block;\n",
       "}\n",
       "\n",
       "/* \"?\"-specific style due to the `<a>` HTML tag */\n",
       "\n",
       "#sk-container-id-1 a.estimator_doc_link {\n",
       "  float: right;\n",
       "  font-size: 1rem;\n",
       "  line-height: 1em;\n",
       "  font-family: monospace;\n",
       "  background-color: var(--sklearn-color-background);\n",
       "  border-radius: 1rem;\n",
       "  height: 1rem;\n",
       "  width: 1rem;\n",
       "  text-decoration: none;\n",
       "  /* unfitted */\n",
       "  color: var(--sklearn-color-unfitted-level-1);\n",
       "  border: var(--sklearn-color-unfitted-level-1) 1pt solid;\n",
       "}\n",
       "\n",
       "#sk-container-id-1 a.estimator_doc_link.fitted {\n",
       "  /* fitted */\n",
       "  border: var(--sklearn-color-fitted-level-1) 1pt solid;\n",
       "  color: var(--sklearn-color-fitted-level-1);\n",
       "}\n",
       "\n",
       "/* On hover */\n",
       "#sk-container-id-1 a.estimator_doc_link:hover {\n",
       "  /* unfitted */\n",
       "  background-color: var(--sklearn-color-unfitted-level-3);\n",
       "  color: var(--sklearn-color-background);\n",
       "  text-decoration: none;\n",
       "}\n",
       "\n",
       "#sk-container-id-1 a.estimator_doc_link.fitted:hover {\n",
       "  /* fitted */\n",
       "  background-color: var(--sklearn-color-fitted-level-3);\n",
       "}\n",
       "</style><div id=\"sk-container-id-1\" class=\"sk-top-container\"><div class=\"sk-text-repr-fallback\"><pre>KNeighborsClassifier()</pre><b>In a Jupyter environment, please rerun this cell to show the HTML representation or trust the notebook. <br />On GitHub, the HTML representation is unable to render, please try loading this page with nbviewer.org.</b></div><div class=\"sk-container\" hidden><div class=\"sk-item\"><div class=\"sk-estimator fitted sk-toggleable\"><input class=\"sk-toggleable__control sk-hidden--visually\" id=\"sk-estimator-id-1\" type=\"checkbox\" checked><label for=\"sk-estimator-id-1\" class=\"sk-toggleable__label fitted sk-toggleable__label-arrow fitted\">&nbsp;&nbsp;KNeighborsClassifier<a class=\"sk-estimator-doc-link fitted\" rel=\"noreferrer\" target=\"_blank\" href=\"https://scikit-learn.org/1.5/modules/generated/sklearn.neighbors.KNeighborsClassifier.html\">?<span>Documentation for KNeighborsClassifier</span></a><span class=\"sk-estimator-doc-link fitted\">i<span>Fitted</span></span></label><div class=\"sk-toggleable__content fitted\"><pre>KNeighborsClassifier()</pre></div> </div></div></div></div>"
      ],
      "text/plain": [
       "KNeighborsClassifier()"
      ]
     },
     "metadata": {},
     "output_type": "display_data"
    }
   ],
   "source": [
    "# Entrenar un modelo de KNN con final_sample\n",
    "from sklearn.neighbors import KNeighborsClassifier\n",
    "model = KNeighborsClassifier(n_neighbors=5)\n",
    "X = final_sample.drop(columns=['label']).values\n",
    "y = final_sample['label'].values\n",
    "model.fit(X, y)"
   ]
  },
  {
   "cell_type": "code",
   "execution_count": null,
   "metadata": {},
   "outputs": [
    {
     "data": {
      "text/plain": [
       "['../data/models\\\\KNN.joblib']"
      ]
     },
     "metadata": {},
     "output_type": "display_data"
    }
   ],
   "source": [
    "dir = \"../data/models\"\n",
    "model_path = os.path.join(dir, \"KNN.joblib\")\n",
    "joblib.dump(model, model_path)\n"
   ]
  },
  {
   "cell_type": "markdown",
   "metadata": {},
   "source": [
    "##### Predicción"
   ]
  },
  {
   "cell_type": "code",
   "execution_count": null,
   "metadata": {},
   "outputs": [],
   "source": [
    "model = joblib.load(\"../data/models/KNN.joblib\")"
   ]
  },
  {
   "cell_type": "code",
   "execution_count": null,
   "metadata": {},
   "outputs": [],
   "source": [
    "prediction(model, 'KNN')"
   ]
  },
  {
   "cell_type": "code",
   "execution_count": null,
   "metadata": {},
   "outputs": [
    {
     "data": {
      "image/png": "[encoded data removed]",
      "text/plain": [
       "<Figure size 1000x600 with 1 Axes>"
      ]
     },
     "metadata": {},
     "output_type": "display_data"
    }
   ],
   "source": [
    "plot_results('KNN')"
   ]
  },
  {
   "cell_type": "markdown",
   "metadata": {},
   "source": []
  },
  {
   "cell_type": "markdown",
   "metadata": {},
   "source": [
    "### next"
   ]
  },
  {
   "cell_type": "markdown",
   "metadata": {},
   "source": [
    "### next"
   ]
  },
  {
   "cell_type": "markdown",
   "metadata": {},
   "source": []
  }
 ],
 "metadata": {
  "kernelspec": {
   "display_name": "Python 3",
   "language": "python",
   "name": "python3"
  },
  "language_info": {
   "codemirror_mode": {
    "name": "ipython",
    "version": 3
   },
   "file_extension": ".py",
   "mimetype": "text/x-python",
   "name": "python",
   "nbconvert_exporter": "python",
   "pygments_lexer": "ipython3",
   "version": "3.11.8"
  }
 },
 "nbformat": 4,
 "nbformat_minor": 2
}
