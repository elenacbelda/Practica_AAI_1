{
 "cells": [
  {
   "cell_type": "markdown",
   "metadata": {},
   "source": [
    "# Entrenamiento"
   ]
  },
  {
   "cell_type": "code",
   "execution_count": 4,
   "metadata": {},
   "outputs": [],
   "source": [
    "import numpy as np \n",
    "import pandas as pd\n",
    "import joblib\n",
    "import os"
   ]
  },
  {
   "cell_type": "code",
   "execution_count": 19,
   "metadata": {},
   "outputs": [],
   "source": [
    "models_results = {}"
   ]
  },
  {
   "cell_type": "markdown",
   "metadata": {},
   "source": [
    "### Cargado de datos"
   ]
  },
  {
   "cell_type": "code",
   "execution_count": 23,
   "metadata": {},
   "outputs": [
    {
     "name": "stdout",
     "output_type": "stream",
     "text": [
      "Archivo ../data/dataFrame_final/final_train/df_final_train_1.csv cargado en df_train_1\n",
      "Archivo ../data/dataFrame_final/final_test/df_final_test_1.csv cargado en df_test_1\n",
      "Archivo ../data/dataFrame_final/final_train/df_final_train_2.csv cargado en df_train_2\n",
      "Archivo ../data/dataFrame_final/final_test/df_final_test_2.csv cargado en df_test_2\n",
      "Archivo ../data/dataFrame_final/final_train/df_final_train_3.csv cargado en df_train_3\n",
      "Archivo ../data/dataFrame_final/final_test/df_final_test_3.csv cargado en df_test_3\n",
      "Archivo ../data/dataFrame_final/final_train/df_final_train_4.csv cargado en df_train_4\n",
      "Archivo ../data/dataFrame_final/final_test/df_final_test_4.csv cargado en df_test_4\n",
      "Archivo ../data/dataFrame_final/final_train/df_final_train_5.csv cargado en df_train_5\n",
      "Archivo ../data/dataFrame_final/final_test/df_final_test_5.csv cargado en df_test_5\n",
      "Archivo ../data/dataFrame_final/final_train/df_final_train_6.csv cargado en df_train_6\n",
      "Archivo ../data/dataFrame_final/final_test/df_final_test_6.csv cargado en df_test_6\n",
      "Archivo ../data/dataFrame_final/final_train/df_final_train_7.csv cargado en df_train_7\n",
      "Archivo ../data/dataFrame_final/final_test/df_final_test_7.csv cargado en df_test_7\n"
     ]
    }
   ],
   "source": [
    "for i in range(1, 8):\n",
    "    file_name_train = f'../data/dataFrame_final/final_train/df_final_train_{i}.csv'\n",
    "    globals()[f'df_train_{i}'] = pd.read_csv(file_name_train, encoding='ISO-8859-1')\n",
    "    print(f'Archivo {file_name_train} cargado en df_train_{i}')\n",
    "\n",
    "    file_name_test = f'../data/dataFrame_final/final_test/df_final_test_{i}.csv'\n",
    "    globals()[f'df_test_{i}'] = pd.read_csv(file_name_test, encoding='ISO-8859-1')\n",
    "    print(f'Archivo {file_name_test} cargado en df_test_{i}')"
   ]
  },
  {
   "cell_type": "markdown",
   "metadata": {},
   "source": [
    "### Normalización\n"
   ]
  },
  {
   "cell_type": "markdown",
   "metadata": {},
   "source": [
    "Es necesaria normalización para Redes neuronales y recomendada para Regresión Logística, SVM, Regresión Lineal y Polinomial"
   ]
  },
  {
   "cell_type": "markdown",
   "metadata": {},
   "source": [
    "### Definición de funciones"
   ]
  },
  {
   "cell_type": "code",
   "execution_count": 42,
   "metadata": {},
   "outputs": [],
   "source": [
    "import matplotlib.pyplot as plt\n",
    "from sklearn import metrics\n",
    "from sklearn.linear_model import SGDRegressor\n",
    "import numpy as np\n",
    "from sklearn.linear_model import SGDClassifier"
   ]
  },
  {
   "cell_type": "code",
   "execution_count": null,
   "metadata": {},
   "outputs": [],
   "source": [
    "!pip3.12 install dask dask-ml joblib"
   ]
  },
  {
   "cell_type": "code",
   "execution_count": 70,
   "metadata": {},
   "outputs": [],
   "source": [
    "# Recibe un modelo entrenado y realiza una predicción sobre los conjuntos de entrenamiento y test para evaluarlo\n",
    "def evaluate_model(X, y, model, model_name):\n",
    "        \n",
    "    raw_predictions = model.predict(X)\n",
    "    if model_name == 'LinearRegression':\n",
    "        predictions = [round(x) for x in raw_predictions]\n",
    "        average = 'macro'\n",
    "    else:\n",
    "        predictions = raw_predictions \n",
    "        average = 'binary'\n",
    "    accuracy = metrics.accuracy_score(y, predictions)\n",
    "    precision, recall, fscore, _ = metrics.precision_recall_fscore_support(\n",
    "        y, predictions, average=average, zero_division=0\n",
    "    )\n",
    "    train_auc = metrics.roc_auc_score(y, predictions)\n",
    "    \n",
    "    return {\n",
    "        'accuracy': accuracy,\n",
    "        'precision': precision,\n",
    "        'recall': recall,\n",
    "        'f1_score': fscore,\n",
    "        'auc': train_auc,\n",
    "        'num_samples': len(y)  \n",
    "    }\n",
    "    \n"
   ]
  },
  {
   "cell_type": "code",
   "execution_count": 74,
   "metadata": {},
   "outputs": [],
   "source": [
    "def prediction(model, model_name):\n",
    "    results_list = {\n",
    "        'train': [],\n",
    "        'test': []\n",
    "    }\n",
    "\n",
    "    for i in range(1, 8):\n",
    "        data_train = globals()[f'df_train_{i}']\n",
    "        X_train = data_train.drop(columns=['label']).values\n",
    "        y_train = data_train['label'].values\n",
    "\n",
    "        data_test = globals()[f'df_test_{i}']\n",
    "        X_test = data_test.drop(columns=['label']).values\n",
    "        y_test = data_test['label'].values\n",
    "\n",
    "        train_partition_results = evaluate_model(X_train, y_train, model, model_name)\n",
    "        results_list['train'].append(train_partition_results)\n",
    "\n",
    "        test_partition_results = evaluate_model(X_test, y_test, model, model_name)\n",
    "        results_list['test'].append(test_partition_results)\n",
    "\n",
    "    # Guardar resultados de cada partición en models_results\n",
    "    models_results[f'{model_name}'] = results_list\n"
   ]
  },
  {
   "cell_type": "code",
   "execution_count": 65,
   "metadata": {},
   "outputs": [],
   "source": [
    "import matplotlib.pyplot as plt\n",
    "\n",
    "def plot_results(model_name):\n",
    "    train_f1_scores = [result['f1_score'] for result in models_results[f'{model_name}']['train']]\n",
    "    test_f1_scores = [result['f1_score'] for result in models_results[f'{model_name}']['test']]\n",
    "\n",
    "    plt.figure(figsize=(10, 6))\n",
    "    plt.plot(range(1, 8), train_f1_scores, label='Train F1 Score', marker='o', color='blue')\n",
    "    plt.plot(range(1, 8), test_f1_scores, label='Test F1 Score', marker='o', color='red')\n",
    "    plt.title(f'Comparación de F1 en {model_name}')\n",
    "    plt.xlabel('Número de partición')\n",
    "    plt.ylabel('F1 Score')\n",
    "    plt.legend()\n",
    "    plt.grid(True)\n",
    "    plt.ylim(0, 1)\n",
    "    plt.show()\n"
   ]
  },
  {
   "cell_type": "code",
   "execution_count": 96,
   "metadata": {},
   "outputs": [],
   "source": [
    "import matplotlib.pyplot as plt\n",
    "import numpy as np\n",
    "\n",
    "def plot_model_comparison(models_results, metric='accuracy'):\n",
    "    models = list(models_results.keys())\n",
    "    train_scores = []\n",
    "    test_scores = []\n",
    "    \n",
    "    for model in models:\n",
    "        train_metric = np.mean([entry[metric] for entry in models_results[model]['train']])\n",
    "        test_metric = np.mean([entry[metric] for entry in models_results[model]['test']])\n",
    "        \n",
    "        train_scores.append(train_metric)\n",
    "        test_scores.append(test_metric)\n",
    "    \n",
    "    x = np.arange(len(models))\n",
    "    width = 0.25  \n",
    "\n",
    "    fig, ax = plt.subplots(figsize=(10, 6))\n",
    "\n",
    "    ax.bar(x - width/2, train_scores, width, label='Train')\n",
    "    ax.bar(x + width/2, test_scores, width, label='Test')\n",
    "\n",
    "    ax.set_xlabel('Models')\n",
    "    ax.set_ylabel(metric.capitalize())\n",
    "    ax.set_title(f'{metric.capitalize()} by model')\n",
    "    ax.set_xticks(x)\n",
    "    ax.set_xticklabels(models, rotation=45)\n",
    "    ax.legend()\n",
    "\n",
    "    plt.tight_layout()\n",
    "    plt.show()\n",
    "\n"
   ]
  },
  {
   "cell_type": "markdown",
   "metadata": {},
   "source": [
    "### Regresión Lineal DONE"
   ]
  },
  {
   "cell_type": "markdown",
   "metadata": {},
   "source": [
    "##### Entrenamiento"
   ]
  },
  {
   "cell_type": "markdown",
   "metadata": {},
   "source": [
    "Como LinealRegression no permite hacer partial fit, usamos SGDRegressor con loss = squared error y así realiza lo mismo que el original, minimizar el error cuadrático"
   ]
  },
  {
   "cell_type": "code",
   "execution_count": 44,
   "metadata": {},
   "outputs": [],
   "source": [
    "model = SGDRegressor(loss='squared_error', random_state=42)\n",
    "\n",
    "for i in range(1, 8):\n",
    "    data_train = globals()[f'df_train_{i}']\n",
    "    X_train = data_train.drop(columns=['label']).values\n",
    "    y_train = data_train['label'].values\n",
    "    \n",
    "    model.partial_fit(X_train, y_train)\n"
   ]
  },
  {
   "cell_type": "code",
   "execution_count": 45,
   "metadata": {},
   "outputs": [
    {
     "data": {
      "text/plain": [
       "['../data/models\\\\LinearRegression.joblib']"
      ]
     },
     "execution_count": 45,
     "metadata": {},
     "output_type": "execute_result"
    }
   ],
   "source": [
    "dir = \"../data/models\"\n",
    "model_path = os.path.join(dir, \"LinearRegression.joblib\")\n",
    "joblib.dump(model, model_path)"
   ]
  },
  {
   "cell_type": "markdown",
   "metadata": {},
   "source": [
    "##### Predicción"
   ]
  },
  {
   "cell_type": "code",
   "execution_count": 78,
   "metadata": {},
   "outputs": [],
   "source": [
    "# Cargar modelo de LinearRegression\n",
    "model = joblib.load(\"../data/models/LinearRegression.joblib\")"
   ]
  },
  {
   "cell_type": "code",
   "execution_count": 79,
   "metadata": {},
   "outputs": [],
   "source": [
    "prediction(model, 'LinearRegression')"
   ]
  },
  {
   "cell_type": "code",
   "execution_count": 80,
   "metadata": {},
   "outputs": [
    {
     "data": {
      "image/png": "[encoded data removed]",
      "text/plain": [
       "<Figure size 1000x600 with 1 Axes>"
      ]
     },
     "metadata": {},
     "output_type": "display_data"
    }
   ],
   "source": [
    "plot_results('LogisticRegression')"
   ]
  },
  {
   "cell_type": "markdown",
   "metadata": {},
   "source": [
    "### Regresión Polinomial"
   ]
  },
  {
   "cell_type": "code",
   "execution_count": null,
   "metadata": {},
   "outputs": [],
   "source": [
    "from sklearn.preprocessing import PolynomialFeatures\n",
    "from sklearn.linear_model import LinearRegression\n",
    "from sklearn.pipeline import Pipeline\n",
    "\n",
    "# Creamos el pipeline de regresión polinomial\n",
    "polynomial_model = Pipeline([\n",
    "    ('poly_features', PolynomialFeatures(degree=3)),\n",
    "    ('linear_regression', LinearRegression())\n",
    "])\n",
    "\n",
    "# Evaluamos y guardamos el resultado\n",
    "results_dict['PolynomialRegression'] = evaluate_model(X_train, X_test, y_train, y_test, polynomial_model, 'PolynomialRegression')\n"
   ]
  },
  {
   "cell_type": "markdown",
   "metadata": {},
   "source": [
    "### Regresión Logística: DONE"
   ]
  },
  {
   "cell_type": "markdown",
   "metadata": {},
   "source": [
    "##### Entrenamiento"
   ]
  },
  {
   "cell_type": "markdown",
   "metadata": {},
   "source": [
    "Como LinearRegression no permite un entrenamiento por partes, usamos SGDClasifier en su lugar con \"loss='log'\" para realizar una clasificación utilizando el algoritmo de gradiente descendente estocástico."
   ]
  },
  {
   "cell_type": "code",
   "execution_count": 24,
   "metadata": {},
   "outputs": [],
   "source": [
    "model = SGDClassifier(loss='log_loss', random_state=42)\n",
    "\n",
    "for i in range(1, 8):\n",
    "    data_train = globals()[f'df_train_{i}']\n",
    "    X_train = data_train.drop(columns=['label']).values\n",
    "    y_train = data_train['label'].values\n",
    "\n",
    "    model.partial_fit(X_train, y_train, classes=np.unique(y_train))\n"
   ]
  },
  {
   "cell_type": "code",
   "execution_count": 25,
   "metadata": {},
   "outputs": [
    {
     "data": {
      "text/plain": [
       "['../data/models\\\\LogisticRegression.joblib']"
      ]
     },
     "execution_count": 25,
     "metadata": {},
     "output_type": "execute_result"
    }
   ],
   "source": [
    "dir = \"../data/models\"\n",
    "model_path = os.path.join(dir, \"LogisticRegression.joblib\")\n",
    "joblib.dump(model, model_path)\n"
   ]
  },
  {
   "cell_type": "markdown",
   "metadata": {},
   "source": [
    "##### Predicción"
   ]
  },
  {
   "cell_type": "code",
   "execution_count": 71,
   "metadata": {},
   "outputs": [],
   "source": [
    "# Cargar modelo de LogisticRegression\n",
    "model = joblib.load(\"../data/models/LogisticRegression.joblib\")"
   ]
  },
  {
   "cell_type": "code",
   "execution_count": 76,
   "metadata": {},
   "outputs": [],
   "source": [
    "prediction(model, 'LogisticRegression')"
   ]
  },
  {
   "cell_type": "code",
   "execution_count": 77,
   "metadata": {},
   "outputs": [
    {
     "data": {
      "image/png": "[encoded data removed]",
      "text/plain": [
       "<Figure size 1000x600 with 1 Axes>"
      ]
     },
     "metadata": {},
     "output_type": "display_data"
    }
   ],
   "source": [
    "plot_results('LogisticRegression')"
   ]
  },
  {
   "cell_type": "markdown",
   "metadata": {},
   "source": [
    "### Árboles de decisión"
   ]
  },
  {
   "cell_type": "code",
   "execution_count": null,
   "metadata": {},
   "outputs": [],
   "source": [
    "from sklearn.tree import DecisionTreeClassifier\n",
    "\n",
    "# Modelo de Árbol de Decisión\n",
    "tree_model = DecisionTreeClassifier()\n",
    "\n",
    "# Evaluamos y guardamos el resultado\n",
    "results_dict['DecisionTree'] = evaluate_model(X_train, X_test, y_train, y_test, tree_model, 'DecisionTree')\n"
   ]
  },
  {
   "cell_type": "markdown",
   "metadata": {},
   "source": [
    "### Basado en instancias : KNN"
   ]
  },
  {
   "cell_type": "code",
   "execution_count": null,
   "metadata": {},
   "outputs": [],
   "source": [
    "from sklearn.neighbors import KNeighborsClassifier\n",
    "\n",
    "# Modelo de K-Nearest Neighbors\n",
    "knn_model = KNeighborsClassifier(n_neighbors=5)\n",
    "\n",
    "# Evaluamos y guardamos el resultado\n",
    "results_dict['KNeighbors'] = evaluate_model(X_train, X_test, y_train, y_test, knn_model, 'KNeighbors')\n"
   ]
  },
  {
   "cell_type": "markdown",
   "metadata": {},
   "source": [
    "### Máquinas de soporte vectorial : SVC"
   ]
  },
  {
   "cell_type": "code",
   "execution_count": null,
   "metadata": {},
   "outputs": [],
   "source": [
    "from sklearn.svm import SVC\n",
    "\n",
    "# Modelo de SVM\n",
    "svm_model = SVC(kernel='rbf', probability=True)\n",
    "\n",
    "# Evaluamos y guardamos el resultado\n",
    "results_dict['SVM'] = evaluate_model(X_train, X_test, y_train, y_test, svm_model, 'SVM')\n"
   ]
  },
  {
   "cell_type": "markdown",
   "metadata": {},
   "source": [
    "### Redes neuronales "
   ]
  },
  {
   "cell_type": "code",
   "execution_count": null,
   "metadata": {},
   "outputs": [],
   "source": [
    "from sklearn.neural_network import MLPClassifier\n",
    "\n",
    "# Modelo de Red Neuronal\n",
    "nn_model = MLPClassifier(hidden_layer_sizes=(64, 32), max_iter=1000, random_state=42)\n",
    "\n",
    "# Evaluamos y guardamos el resultado\n",
    "results_dict['NeuralNetwork'] = evaluate_model(X_train, X_test, y_train, y_test, nn_model, 'NeuralNetwork')\n"
   ]
  },
  {
   "cell_type": "markdown",
   "metadata": {},
   "source": [
    "## Comparación de resultados"
   ]
  },
  {
   "cell_type": "code",
   "execution_count": null,
   "metadata": {},
   "outputs": [
    {
     "data": {
      "image/png": "[encoded data removed]",
      "text/plain": [
       "<Figure size 1000x600 with 1 Axes>"
      ]
     },
     "metadata": {},
     "output_type": "display_data"
    }
   ],
   "source": [
    "plot_model_comparison(models_results, metric='f1_score')"
   ]
  },
  {
   "cell_type": "markdown",
   "metadata": {},
   "source": [
    "## Ajuste de hiperparámetros"
   ]
  },
  {
   "cell_type": "markdown",
   "metadata": {},
   "source": [
    "## Nuevos resultados"
   ]
  }
 ],
 "metadata": {
  "kernelspec": {
   "display_name": "Python 3",
   "language": "python",
   "name": "python3"
  },
  "language_info": {
   "codemirror_mode": {
    "name": "ipython",
    "version": 3
   },
   "file_extension": ".py",
   "mimetype": "text/x-python",
   "name": "python",
   "nbconvert_exporter": "python",
   "pygments_lexer": "ipython3",
   "version": "3.12.3"
  }
 },
 "nbformat": 4,
 "nbformat_minor": 2
}
