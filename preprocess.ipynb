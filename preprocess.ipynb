{
 "cells": [
  {
   "cell_type": "code",
   "execution_count": 1,
   "metadata": {},
   "outputs": [],
   "source": [
    "%%capture\n",
    "# !pip3.12 install missingno\n",
    "import pandas as pd\n",
    "import numpy as np\n",
    "from sklearn.model_selection import train_test_split\n",
    "from sklearn.impute import SimpleImputer\n",
    "\n",
    "from sklearn.preprocessing import StandardScaler, MinMaxScaler\n",
    "from sklearn.neighbors import KNeighborsClassifier\n",
    "from sklearn.tree import DecisionTreeClassifier\n",
    "from sklearn.metrics import accuracy_score, precision_score, recall_score, f1_score, confusion_matrix\n",
    "import matplotlib.pyplot as plt\n",
    "from sklearn.tree import plot_tree\n",
    "from sklearn.tree import export_text\n",
    "import seaborn as sns\n",
    "import missingno as msno"
   ]
  },
  {
   "cell_type": "markdown",
   "metadata": {},
   "source": [
    "# Análisis preliminar\n"
   ]
  },
  {
   "cell_type": "code",
   "execution_count": 2,
   "metadata": {},
   "outputs": [],
   "source": [
    "# df_data_100 = pd.read_csv('train_data_100_lines.csv', encoding='ISO-8859-1')\n",
    "# df_label = pd.read_csv('train_labels_50_lines.csv', encoding='ISO-8859-1')"
   ]
  },
  {
   "cell_type": "code",
   "execution_count": 3,
   "metadata": {},
   "outputs": [],
   "source": [
    "# df_data_100.head()\n"
   ]
  },
  {
   "cell_type": "code",
   "execution_count": 4,
   "metadata": {},
   "outputs": [],
   "source": [
    "# import pandas as pd\n",
    "\n",
    "# # Revisar si las transacciones de un mismo cliente están consecutivas\n",
    "# df_data_100['is_consecutive'] = df_data_100['ID'] == df_data_100['ID'].shift()\n",
    "\n",
    "# # Verificar si hay filas donde el ID del cliente no es consecutivo\n",
    "# non_consecutive = df_data_100[df_data_100['is_consecutive'] == False]\n",
    "\n",
    "# if non_consecutive.empty:\n",
    "#     print(\"Todas las transacciones de los clientes están colocadas consecutivamente.\")\n",
    "# else:\n",
    "#     print(f\"Hay {len(non_consecutive)} transacciones que no están consecutivas.\")\n",
    "#     print(non_consecutive[['ID']].drop_duplicates())  # Muestra los IDs no consecutivos\n"
   ]
  },
  {
   "cell_type": "code",
   "execution_count": 5,
   "metadata": {},
   "outputs": [],
   "source": [
    "# df_data = pd.read_csv('train_data.csv', encoding='ISO-8859-1')\n"
   ]
  },
  {
   "cell_type": "code",
   "execution_count": 6,
   "metadata": {},
   "outputs": [],
   "source": [
    "# df_data.shape[0]"
   ]
  },
  {
   "cell_type": "markdown",
   "metadata": {},
   "source": [
    "### División en csv's\n"
   ]
  },
  {
   "cell_type": "code",
   "execution_count": 7,
   "metadata": {},
   "outputs": [],
   "source": [
    "\n",
    "# # Definir el tamaño objetivo de 500,000 filas por CSV\n",
    "# chunk_size = 500000\n",
    "\n",
    "# # Inicializar variables\n",
    "# current_chunk = []\n",
    "# current_chunk_size = 0\n",
    "# file_index = 1\n",
    "# last_customer_id = None\n",
    "\n",
    "# # Función para guardar el chunk actual en un CSV\n",
    "# def save_chunk(chunk, file_index):\n",
    "#     df_chunk = pd.DataFrame(chunk)\n",
    "#     df_chunk.to_csv(f'train_data_part_{file_index}.csv', index=False)\n",
    "#     print(f'Archivo train_data_part_{file_index}.csv guardado con {len(df_chunk)} filas.')\n",
    "\n",
    "# # Iterar sobre el DataFrame\n",
    "# for i, row in df_data.iterrows():\n",
    "#     customer_id = row['ID']\n",
    "\n",
    "#     # Si hemos alcanzado el tamaño máximo del chunk y el nuevo customer_id es diferente al último en el chunk\n",
    "#     if current_chunk_size >= chunk_size and customer_id != last_customer_id:\n",
    "#         save_chunk(current_chunk, file_index)  # Guardar el CSV actual\n",
    "#         file_index += 1\n",
    "#         current_chunk = []  # Reiniciar el chunk\n",
    "#         current_chunk_size = 0\n",
    "\n",
    "#     # Añadir la fila actual al chunk\n",
    "#     current_chunk.append(row)\n",
    "#     current_chunk_size += 1\n",
    "#     last_customer_id = customer_id\n",
    "\n",
    "# # Guardar el último chunk si no está vacío\n",
    "# if current_chunk:\n",
    "#     save_chunk(current_chunk, file_index)\n"
   ]
  },
  {
   "cell_type": "code",
   "execution_count": 8,
   "metadata": {},
   "outputs": [],
   "source": [
    "# df_data_part_1 = pd.read_csv('train_data_part_1.csv', encoding='ISO-8859-1')"
   ]
  },
  {
   "cell_type": "code",
   "execution_count": 9,
   "metadata": {},
   "outputs": [],
   "source": [
    "# pd.set_option('display.max_rows', None)"
   ]
  },
  {
   "cell_type": "code",
   "execution_count": 10,
   "metadata": {},
   "outputs": [],
   "source": [
    "# percentage = df_data_part_1.isnull().mean() * 100\n",
    "# columns_with_nulls = percentage[percentage > 0]\n",
    "# print(columns_with_nulls)\n"
   ]
  },
  {
   "cell_type": "markdown",
   "metadata": {},
   "source": [
    "# Preprocesado  \n"
   ]
  },
  {
   "cell_type": "markdown",
   "metadata": {},
   "source": [
    "## Cargado de csv's\n"
   ]
  },
  {
   "cell_type": "code",
   "execution_count": 11,
   "metadata": {},
   "outputs": [
    {
     "name": "stdout",
     "output_type": "stream",
     "text": [
      "Archivo ../data/train_data_part_1.csv cargado en df_data_part_1\n",
      "Archivo ../data/train_data_part_2.csv cargado en df_data_part_2\n",
      "Archivo ../data/train_data_part_3.csv cargado en df_data_part_3\n",
      "Archivo ../data/train_data_part_4.csv cargado en df_data_part_4\n",
      "Archivo ../data/train_data_part_5.csv cargado en df_data_part_5\n",
      "Archivo ../data/train_data_part_6.csv cargado en df_data_part_6\n",
      "Archivo ../data/train_data_part_7.csv cargado en df_data_part_7\n"
     ]
    }
   ],
   "source": [
    "for i in range(1, 8):\n",
    "    file_name = f'../data/train_data_part_{i}.csv'\n",
    "    globals()[f'df_data_part_{i}'] = pd.read_csv(file_name, encoding='ISO-8859-1')\n",
    "    print(f'Archivo {file_name} cargado en df_data_part_{i}')"
   ]
  },
  {
   "cell_type": "markdown",
   "metadata": {},
   "source": [
    "### Comprobar columnas con valores nulos"
   ]
  },
  {
   "cell_type": "code",
   "execution_count": 12,
   "metadata": {},
   "outputs": [],
   "source": [
    "def null_percentage(df, percentage):\n",
    "    null_ratio = {}\n",
    "    for col in df.columns:\n",
    "        ratio = df[col].isna().sum() / len(df) * 100\n",
    "        if ratio > percentage:\n",
    "            null_ratio[col] = ratio\n",
    "           \n",
    "    return null_ratio"
   ]
  },
  {
   "cell_type": "markdown",
   "metadata": {},
   "source": [
    "Me quedo solo con las columnas con menos de 50% de valores nulos"
   ]
  },
  {
   "cell_type": "code",
   "execution_count": 13,
   "metadata": {},
   "outputs": [
    {
     "name": "stdout",
     "output_type": "stream",
     "text": [
      "Columnas con más del 50% de valores nulos en todos los CSVs: ['Infraction_ZVHJ', 'Base_8318', 'Infraction_WEG', 'Infraction_MZI', 'Risk_5797', 'Infraction_WLMI', 'Base_64022', 'Risk_4561', 'Infraction_GWL', 'Expenditure_KMW', 'Base_3958', 'Infraction_EBA', 'Infraction_APIU', 'Infraction_IRKE', 'Infraction_HPLO', 'Infraction_SVKR', 'Infraction_SBF', 'Infraction_FUSM', 'Infraction_ADWZ', 'Infraction_WWLN', 'Infraction_GEL', 'Infraction_ZTLC', 'Infraction_HPS', 'Infraction_JVWF', 'Infraction_QGC', 'Base_8379', 'Infraction_CLLY', 'Infraction_NCB', 'Infraction_MAN', 'Infraction_ANHZ']\n"
     ]
    }
   ],
   "source": [
    "columns_with_high_nulls = []\n",
    "for i in range(1, 8):\n",
    "    data_frame = globals()[f'df_data_part_{i}']\n",
    "    null_columns = set(null_percentage(data_frame, 50).keys())\n",
    "    \n",
    "    # Si es el primer DataFrame, inicializar el conjunto con sus columnas\n",
    "    if i == 1:\n",
    "        columns_with_high_nulls = null_columns\n",
    "    else:\n",
    "        # Mantener solo las columnas que están en todos los DataFrames\n",
    "        columns_with_high_nulls = columns_with_high_nulls.intersection(null_columns)\n",
    "\n",
    "columns_with_high_nulls = list(columns_with_high_nulls)\n",
    "\n",
    "print(f\"Columnas con más del 50% de valores nulos en todos los CSVs: {columns_with_high_nulls}\")"
   ]
  },
  {
   "cell_type": "markdown",
   "metadata": {},
   "source": [
    "Eliminamos las columnas con más de 50% de valores nulos en todos los csv's"
   ]
  },
  {
   "cell_type": "code",
   "execution_count": 14,
   "metadata": {},
   "outputs": [],
   "source": [
    "for i in range(1, 8):\n",
    "    data_frame = globals()[f'df_data_part_{i}']\n",
    "    data_frame.drop(columns=columns_with_high_nulls, inplace=True)\n",
    "    "
   ]
  },
  {
   "cell_type": "markdown",
   "metadata": {},
   "source": [
    "### Comprobar si hay filas que tengan todas las columnas a null\n"
   ]
  },
  {
   "cell_type": "code",
   "execution_count": 15,
   "metadata": {},
   "outputs": [
    {
     "name": "stdout",
     "output_type": "stream",
     "text": [
      "No hay filas completamente nulas en df_data_part_1.\n",
      "No hay filas completamente nulas en df_data_part_2.\n",
      "No hay filas completamente nulas en df_data_part_3.\n",
      "No hay filas completamente nulas en df_data_part_4.\n",
      "No hay filas completamente nulas en df_data_part_5.\n",
      "No hay filas completamente nulas en df_data_part_6.\n",
      "No hay filas completamente nulas en df_data_part_7.\n"
     ]
    }
   ],
   "source": [
    "# Verificar si hay filas completamente nulas\n",
    "for i in range(1, 8):\n",
    "    data_frame = globals()[f'df_data_part_{i}']\n",
    "    null_rows = data_frame[data_frame.isnull().all(axis=1)]\n",
    "    if not null_rows.empty:\n",
    "        print(f'Filas completamente nulas en df_data_part_{i}:')\n",
    "        print(null_rows)\n",
    "    else:\n",
    "        print(f'No hay filas completamente nulas en df_data_part_{i}.')"
   ]
  },
  {
   "cell_type": "code",
   "execution_count": 16,
   "metadata": {},
   "outputs": [
    {
     "data": {
      "image/png": "[encoded data removed]",
      "text/plain": [
       "<Figure size 1000x800 with 2 Axes>"
      ]
     },
     "metadata": {},
     "output_type": "display_data"
    }
   ],
   "source": [
    "na_df = df_data_part_1\n",
    "msno.matrix(na_df, figsize=(10, 8))\n",
    "plt.show()"
   ]
  },
  {
   "cell_type": "markdown",
   "metadata": {},
   "source": [
    "### Comprobar filas duplicadas"
   ]
  },
  {
   "cell_type": "code",
   "execution_count": 17,
   "metadata": {},
   "outputs": [
    {
     "name": "stdout",
     "output_type": "stream",
     "text": [
      "No hay filas duplicadas en df_data_part_1.\n",
      "No hay filas duplicadas en df_data_part_2.\n",
      "No hay filas duplicadas en df_data_part_3.\n",
      "No hay filas duplicadas en df_data_part_4.\n",
      "No hay filas duplicadas en df_data_part_5.\n",
      "No hay filas duplicadas en df_data_part_6.\n",
      "No hay filas duplicadas en df_data_part_7.\n"
     ]
    }
   ],
   "source": [
    "# Verificar si hay filas duplicadas en cada DataFrame\n",
    "for i in range(1, 8):\n",
    "    data_frame = globals()[f'df_data_part_{i}']\n",
    "    duplicate_rows = data_frame[data_frame.duplicated()]\n",
    "    if not duplicate_rows.empty:\n",
    "        print(f'Filas duplicadas en df_data_part_{i}:')\n",
    "        print(duplicate_rows)\n",
    "    else:\n",
    "        print(f'No hay filas duplicadas en df_data_part_{i}.')"
   ]
  },
  {
   "cell_type": "markdown",
   "metadata": {},
   "source": [
    "### Comprobar varianza 0"
   ]
  },
  {
   "cell_type": "code",
   "execution_count": 18,
   "metadata": {},
   "outputs": [
    {
     "name": "stdout",
     "output_type": "stream",
     "text": [
      "No hay columnas con baja varianza en df_data_part_1.\n",
      "No hay columnas con baja varianza en df_data_part_2.\n",
      "No hay columnas con baja varianza en df_data_part_3.\n",
      "No hay columnas con baja varianza en df_data_part_4.\n",
      "No hay columnas con baja varianza en df_data_part_5.\n",
      "No hay columnas con baja varianza en df_data_part_6.\n",
      "No hay columnas con baja varianza en df_data_part_7.\n"
     ]
    }
   ],
   "source": [
    "# Verificar si hay columnas con baja varianza\n",
    "for i in range(1, 8):\n",
    "    data_frame = globals()[f'df_data_part_{i}']\n",
    "    low_variance_cols = []\n",
    "    for col in data_frame.columns:\n",
    "        if data_frame[col].nunique() == 1:\n",
    "            low_variance_cols.append(col)\n",
    "    if low_variance_cols:\n",
    "        print(f'Columnas con baja varianza en df_data_part_{i}: {low_variance_cols}')\n",
    "    else:\n",
    "        print(f'No hay columnas con baja varianza en df_data_part_{i}.')"
   ]
  },
  {
   "cell_type": "markdown",
   "metadata": {},
   "source": [
    "# Análisis de tipo de variable"
   ]
  },
  {
   "cell_type": "code",
   "execution_count": 19,
   "metadata": {},
   "outputs": [
    {
     "name": "stdout",
     "output_type": "stream",
     "text": [
      "object: ['ID', 'Expenditure_AHF', 'Infraction_YFSG', 'Infraction_DQLY', 'Infraction_CLH', 'Base_67254', 'Infraction_TEN']\n",
      "float64: ['Payment_6804', 'Infraction_CGP', 'Base_7744', 'Base_80863', 'Risk_1930', 'Expenditure_JIG', 'Infraction_SNZ', 'Base_02683', 'Infraction_ZWWJ', 'Infraction_QJJF', 'Base_76065', 'Infraction_EJZ', 'Base_6872', 'Risk_0322', 'Infraction_FMXQ', 'Infraction_GGO', 'Infraction_TLPJ', 'Base_1165', 'Base_39598', 'Base_6187', 'Infraction_ZTNC', 'Base_85131', 'Risk_9995', 'Infraction_AYWV', 'Payment_22507', 'Base_9516', 'Expenditure_YTR', 'Base_36384', 'Expenditure_FIP', 'Infraction_PAS', 'Risk_0003', 'Expenditure_HMO', 'Base_24406', 'Expenditure_LMSR', 'Infraction_BSU', 'Base_14808', 'Risk_8065', 'Infraction_ZYW', 'Base_1039', 'Infraction_HSSU', 'Infraction_EHZP', 'Infraction_TBP', 'Base_0580', 'Expenditure_RGD', 'Infraction_PBC', 'Infraction_AQO', 'Base_0229', 'Base_69608', 'Base_91828', 'Base_6852', 'Expenditure_IDZ', 'Risk_1475', 'Expenditure_BWX', 'Base_8511', 'Infraction_JYZB', 'Base_22178', 'Infraction_ZTYG', 'Infraction_ZVW', 'Infraction_EYU', 'Expenditure_UWVG', 'Base_3041', 'Payment_3207', 'Infraction_QKZN', 'Infraction_CZE', 'Base_65352', 'Risk_7095', 'Infraction_JBR', 'Base_66195', 'Base_36516', 'Infraction_RXQH', 'Infraction_HFU', 'Risk_6346', 'Expenditure_HRQ', 'Infraction_VTR', 'Risk_2102', 'Risk_4804', 'Base_7331', 'Infraction_XWX', 'Expenditure_XDD', 'Risk_4553', 'Base_67585', 'Risk_8742', 'Infraction_VHU', 'Risk_4247', 'Risk_2380', 'Infraction_GSS', 'Risk_0454', 'Base_8730', 'Expenditure_HKXV', 'Infraction_MHM', 'Risk_4160', 'Risk_3506', 'Expenditure_GCAO', 'Risk_9367', 'Base_7910', 'Expenditure_GMC', 'Risk_9423', 'Risk_6977', 'Base_9103', 'Infraction_KSBR', 'Risk_6178', 'Risk_6197', 'Infraction_NRBQ', 'Infraction_WVC', 'Infraction_QVSL', 'Infraction_QXUM', 'Risk_8532', 'Risk_9247', 'Infraction_IMIM', 'Expenditure_UIWS', 'Expenditure_ONEG', 'Expenditure_MTRQ', 'Expenditure_LAHK', 'Expenditure_HPM', 'Infraction_LTIS', 'Infraction_HFSI', 'Infraction_ETH', 'Infraction_SDWM', 'Base_5441', 'Base_2810', 'Risk_8902', 'Infraction_PTY', 'Infraction_BGGU', 'Base_4569', 'Expenditure_BEH', 'Infraction_LMHK', 'Infraction_NMCB', 'Infraction_TPAF', 'Infraction_ZRH', 'Infraction_XEPQ', 'Infraction_ZMKI', 'Infraction_WIS', 'Infraction_RKTA', 'Infraction_IIZ', 'Infraction_WVAW', 'Infraction_KEJT', 'Infraction_TFOY', 'Infraction_WMAQ', 'Infraction_SIA', 'Infraction_CZXL', 'Infraction_QEY', 'Base_52892', 'Infraction_HUK', 'Infraction_VHHP', 'Infraction_LIES', 'Risk_5270', 'Infraction_QWWW', 'Infraction_YQXM', 'Infraction_QGR', 'Infraction_LSX', 'Infraction_IBJ', 'Infraction_DNOU']\n",
      "int64: ['Base_23737']\n"
     ]
    }
   ],
   "source": [
    "# Agrupar columnas por tipo de dato\n",
    "data_types = {}\n",
    "# No hace falta comprobar todos los df ya que tienen las mismas columnas\n",
    "data_frame = df_data_part_1\n",
    "for col in data_frame.columns:\n",
    "    data_type = str(data_frame[col].dtype)\n",
    "    if data_type not in data_types:\n",
    "        data_types[data_type] = []\n",
    "    data_types[data_type].append(col)\n",
    "\n",
    "for data_type, columns in data_types.items():\n",
    "    print(f'{data_type}: {columns}')"
   ]
  },
  {
   "cell_type": "markdown",
   "metadata": {},
   "source": [
    "## Variables categóricas\n"
   ]
  },
  {
   "cell_type": "code",
   "execution_count": 20,
   "metadata": {},
   "outputs": [
    {
     "name": "stdout",
     "output_type": "stream",
     "text": [
      "                                                  ID Expenditure_AHF  \\\n",
      "0  3333337004103300505242400473433643475477705348...      2017-03-05   \n",
      "1  3333337004103300505242400473433643475477705348...      2017-04-20   \n",
      "2  3333337004103300505242400473433643475477705348...      2017-05-11   \n",
      "3  3333337004103300505242400473433643475477705348...      2017-06-29   \n",
      "4  3333337004103300505242400473433643475477705348...      2017-08-03   \n",
      "\n",
      "  Infraction_YFSG Infraction_DQLY Infraction_CLH    Base_67254 Infraction_TEN  \n",
      "0              CO               O      very_high  moderate_low  extremely_low  \n",
      "1              CO               O      very_high  moderate_low  extremely_low  \n",
      "2              CO               O      very_high  moderate_low  extremely_low  \n",
      "3              CO               O      very_high  moderate_low  extremely_low  \n",
      "4              CO               O      very_high  moderate_low  extremely_low  \n"
     ]
    }
   ],
   "source": [
    "# Hacemos print de las columnas de tipo object, solo primeras filas\n",
    "data_frame = df_data_part_1\n",
    "print(data_frame.select_dtypes(include='object').head())"
   ]
  },
  {
   "cell_type": "markdown",
   "metadata": {},
   "source": [
    "#### Transformación ID to_numeric"
   ]
  },
  {
   "cell_type": "code",
   "execution_count": 21,
   "metadata": {},
   "outputs": [],
   "source": [
    "# Pasamos ID a número en todos los dataframes para facilitar su procesado\n",
    "for i in range(1, 8):\n",
    "    data_frame = globals()[f'df_data_part_{i}']\n",
    "    data_frame['ID'] = pd.to_numeric(data_frame['ID'], errors='coerce')"
   ]
  },
  {
   "cell_type": "markdown",
   "metadata": {},
   "source": [
    "#### Transformación Expenditure_AHF to_datetime"
   ]
  },
  {
   "cell_type": "code",
   "execution_count": 22,
   "metadata": {},
   "outputs": [],
   "source": [
    "for i in range(1, 8):\n",
    "    data_frame = globals()[f'df_data_part_{i}']\n",
    "    data_frame['Expenditure_AHF'] = pd.to_datetime(data_frame['Expenditure_AHF'], errors='coerce')\n",
    "    data_frame['Expenditure_AHF_year'] = data_frame['Expenditure_AHF'].dt.year\n",
    "    data_frame['Expenditure_AHF_month'] = data_frame['Expenditure_AHF'].dt.month\n",
    "    data_frame['Expenditure_AHF_day'] = data_frame['Expenditure_AHF'].dt.day\n",
    "    data_frame.drop(columns=['Expenditure_AHF'], inplace=True)\n"
   ]
  },
  {
   "cell_type": "markdown",
   "metadata": {},
   "source": [
    "#### Transformación Infraction_YFSG encoding"
   ]
  },
  {
   "cell_type": "code",
   "execution_count": 23,
   "metadata": {},
   "outputs": [
    {
     "name": "stdout",
     "output_type": "stream",
     "text": [
      "{'CL', 'XZ', 'XL', 'CO', 'XM', 'CR'}\n"
     ]
    }
   ],
   "source": [
    "# Ver los valores de la columna Infraction_YFSG en todos los DataFrames y hacer una intersección\n",
    "unique_values = set()\n",
    "for i in range(1, 8):\n",
    "    data_frame = globals()[f'df_data_part_{i}']\n",
    "    unique_values_i = set(data_frame['Infraction_YFSG'].unique())\n",
    "    if not unique_values:\n",
    "        unique_values = unique_values_i\n",
    "    else:\n",
    "        unique_values = unique_values.intersection(unique_values_i)\n",
    "\n",
    "print(unique_values)"
   ]
  },
  {
   "cell_type": "code",
   "execution_count": 24,
   "metadata": {},
   "outputs": [],
   "source": [
    "from sklearn.preprocessing import LabelEncoder\n",
    "\n",
    "label_encoder = LabelEncoder()\n",
    "\n",
    "for i in range(1, 8):\n",
    "    data_frame = globals()[f'df_data_part_{i}']\n",
    "    data_frame['Infraction_YFSG_encoded'] = label_encoder.fit_transform(data_frame['Infraction_YFSG'])\n",
    "    data_frame.drop(columns=['Infraction_YFSG'], inplace=True)\n"
   ]
  },
  {
   "cell_type": "markdown",
   "metadata": {},
   "source": [
    "#### Transformación Infraction_DQLY"
   ]
  },
  {
   "cell_type": "code",
   "execution_count": 25,
   "metadata": {},
   "outputs": [
    {
     "name": "stdout",
     "output_type": "stream",
     "text": [
      "{nan, 'R', 'U', 'O', '-1'}\n"
     ]
    }
   ],
   "source": [
    "# Ver los valores de la columna Infraction_YFSG en todos los DataFrames y hacer una intersección\n",
    "unique_values = set()\n",
    "for i in range(1, 8):\n",
    "    data_frame = globals()[f'df_data_part_{i}']\n",
    "    unique_values_i = set(data_frame['Infraction_DQLY'].unique())\n",
    "    if not unique_values:\n",
    "        unique_values = unique_values_i\n",
    "    else:\n",
    "        unique_values = unique_values.intersection(unique_values_i)\n",
    "\n",
    "print(unique_values)"
   ]
  },
  {
   "cell_type": "code",
   "execution_count": 26,
   "metadata": {},
   "outputs": [
    {
     "name": "stdout",
     "output_type": "stream",
     "text": [
      "Porcentaje de NaNs en df_data_part_1: 3.96%\n",
      "Porcentaje de NaNs en df_data_part_2: 3.88%\n",
      "Porcentaje de NaNs en df_data_part_3: 3.98%\n",
      "Porcentaje de NaNs en df_data_part_4: 4.02%\n",
      "Porcentaje de NaNs en df_data_part_5: 3.94%\n",
      "Porcentaje de NaNs en df_data_part_6: 3.84%\n",
      "Porcentaje de NaNs en df_data_part_7: 3.93%\n"
     ]
    }
   ],
   "source": [
    "# Análisis de porcentaje de NaNs en cada DataFrame en la columna Infraction_DQLY\n",
    "for i in range(1, 8):\n",
    "    data_frame = globals()[f'df_data_part_{i}']\n",
    "    print(f'Porcentaje de NaNs en df_data_part_{i}: {data_frame[\"Infraction_DQLY\"].isna().mean() * 100:.2f}%')"
   ]
  },
  {
   "cell_type": "markdown",
   "metadata": {},
   "source": [
    "Antes de codificarlo necesitamos tratar los NaN"
   ]
  },
  {
   "cell_type": "code",
   "execution_count": 27,
   "metadata": {},
   "outputs": [
    {
     "name": "stderr",
     "output_type": "stream",
     "text": [
      "C:\\Users\\eleni\\AppData\\Local\\Temp\\ipykernel_21092\\2308713897.py:5: FutureWarning: A value is trying to be set on a copy of a DataFrame or Series through chained assignment using an inplace method.\n",
      "The behavior will change in pandas 3.0. This inplace method will never work because the intermediate object on which we are setting values always behaves as a copy.\n",
      "\n",
      "For example, when doing 'df[col].method(value, inplace=True)', try using 'df.method({col: value}, inplace=True)' or df[col] = df[col].method(value) instead, to perform the operation inplace on the original object.\n",
      "\n",
      "\n",
      "  data_frame['Infraction_DQLY'].fillna(most_common_value, inplace=True)\n"
     ]
    }
   ],
   "source": [
    "# Como el porcentaje de NaNs es muy bajo (aprox. 4%), rellenamos los NaNs con el valor más común\n",
    "for i in range(1, 8):\n",
    "    data_frame = globals()[f'df_data_part_{i}']\n",
    "    most_common_value = data_frame['Infraction_DQLY'].mode()[0]\n",
    "    data_frame['Infraction_DQLY'].fillna(most_common_value, inplace=True)\n",
    "\n"
   ]
  },
  {
   "cell_type": "markdown",
   "metadata": {},
   "source": [
    "##### Hacemos la codificación de la columna"
   ]
  },
  {
   "cell_type": "code",
   "execution_count": 28,
   "metadata": {},
   "outputs": [],
   "source": [
    "for i in range(1, 8):\n",
    "    data_frame = globals()[f'df_data_part_{i}']\n",
    "    data_frame['Infraction_DQLY_encoded'] = label_encoder.fit_transform(data_frame['Infraction_DQLY'])\n",
    "    data_frame.drop(columns=['Infraction_DQLY'], inplace=True)\n"
   ]
  },
  {
   "cell_type": "markdown",
   "metadata": {},
   "source": [
    "### Las siguientes columnas comparten etiquetas"
   ]
  },
  {
   "cell_type": "code",
   "execution_count": 29,
   "metadata": {},
   "outputs": [
    {
     "name": "stdout",
     "output_type": "stream",
     "text": [
      "Infraction_CLH: ['very_high' 'moderate_low' 'moderate' 'high' nan 'moderate_high'\n",
      " 'very_low' 'low']\n",
      "Base_67254: ['moderate_low' 'low' 'moderate' 'high' 'very_high' 'extremely_high'\n",
      " 'moderate_high' nan]\n",
      "Infraction_TEN: ['extremely_low' 'very_high' 'moderate_high' 'moderate_low' 'low' nan\n",
      " 'moderate' 'high']\n"
     ]
    }
   ],
   "source": [
    "ordinal_columns = ['Infraction_CLH', 'Base_67254', 'Infraction_TEN']\n",
    "\n",
    "for col in ordinal_columns:\n",
    "    print(f'{col}: {df_data_part_1[col].unique()}')"
   ]
  },
  {
   "cell_type": "code",
   "execution_count": 30,
   "metadata": {},
   "outputs": [],
   "source": [
    "frequency_map = {\n",
    "    'extremely_low': 0,\n",
    "    'very_low': 1,\n",
    "    'moderate_low': 2,\n",
    "    'low': 3,\n",
    "    'moderate': 4,\n",
    "    'high':5,\n",
    "    'moderate_high': 6,\n",
    "    'very_high': 7,\n",
    "    'extremely_high': 8\n",
    "}\n",
    "\n",
    "\n",
    "for i in range(1, 8):\n",
    "    for col in ordinal_columns:\n",
    "        data_frame = globals()[f'df_data_part_{i}']\n",
    "        data_frame[f'{col}_encoded'] = data_frame[col].map(frequency_map)\n",
    "        data_frame.drop(columns=[col], inplace=True)"
   ]
  },
  {
   "cell_type": "code",
   "execution_count": 31,
   "metadata": {},
   "outputs": [
    {
     "name": "stdout",
     "output_type": "stream",
     "text": [
      "Infraction_CLH_encoded: [ 7.  2.  4.  5. nan  6.  1.  3.]\n",
      "Base_67254_encoded: [ 2.  3.  4.  5.  7.  8.  6. nan]\n",
      "Infraction_TEN_encoded: [ 0.  7.  6.  2.  3. nan  4.  5.]\n"
     ]
    }
   ],
   "source": [
    "ordinal_columns = ['Infraction_CLH_encoded', 'Base_67254_encoded', 'Infraction_TEN_encoded']\n",
    "\n",
    "for col in ordinal_columns:\n",
    "    print(f'{col}: {df_data_part_1[col].unique()}')"
   ]
  },
  {
   "cell_type": "code",
   "execution_count": 32,
   "metadata": {},
   "outputs": [
    {
     "name": "stdout",
     "output_type": "stream",
     "text": [
      "Infraction_CLH_encoded: 3.92%\n",
      "Base_67254_encoded: 0.04%\n",
      "Infraction_TEN_encoded: 3.21%\n"
     ]
    }
   ],
   "source": [
    "# Voy a ver cuántos valores NaN hay en cada columna de las ordinal_columns en la intersection de los DataFrames como porcentaje\n",
    "for col in ordinal_columns:\n",
    "    nan_count = 0\n",
    "    total = 0\n",
    "    for i in range(1, 8):\n",
    "        data_frame = globals()[f'df_data_part_{i}']\n",
    "        total += data_frame[col].shape[0]\n",
    "        nan_count += data_frame[col].isna().sum()\n",
    "    print(f'{col}: {nan_count/total*100:.2f}%')"
   ]
  },
  {
   "cell_type": "markdown",
   "metadata": {},
   "source": [
    "Es un porcentaje muy bajo así que podemos rellenarlos sin problema. En este caso usaremos la moda"
   ]
  },
  {
   "cell_type": "code",
   "execution_count": 33,
   "metadata": {},
   "outputs": [
    {
     "name": "stdout",
     "output_type": "stream",
     "text": [
      "Infraction_CLH_encoded: [np.float64(7.0), np.float64(7.0), np.float64(7.0), np.float64(7.0), np.float64(7.0), np.float64(7.0), np.float64(7.0)]\n",
      "Base_67254_encoded: [np.float64(2.0), np.float64(2.0), np.float64(2.0), np.float64(2.0), np.float64(2.0), np.float64(2.0), np.float64(2.0)]\n",
      "Infraction_TEN_encoded: [np.float64(0.0), np.float64(0.0), np.float64(0.0), np.float64(0.0), np.float64(0.0), np.float64(0.0), np.float64(0.0)]\n"
     ]
    }
   ],
   "source": [
    "# Quiero saber el valor que más se repite en cada columna ordinal\n",
    "for col in ordinal_columns:\n",
    "    most_common_values = []\n",
    "    for i in range(1, 8):\n",
    "        data_frame = globals()[f'df_data_part_{i}']\n",
    "        most_common_value = data_frame[col].mode()[0]\n",
    "        most_common_values.append(most_common_value)\n",
    "    print(f'{col}: {most_common_values}')\n",
    "    "
   ]
  },
  {
   "cell_type": "code",
   "execution_count": 34,
   "metadata": {},
   "outputs": [],
   "source": [
    "# Rellenar los valores NaN con el valor más común en cada columna ordinal.\n",
    "for col in ordinal_columns:\n",
    "    for i in range(1, 8):\n",
    "        data_frame = globals()[f'df_data_part_{i}']\n",
    "        most_common_value = data_frame[col].mode()[0]\n",
    "        data_frame[col] = data_frame[col].fillna(most_common_value)\n"
   ]
  },
  {
   "cell_type": "markdown",
   "metadata": {},
   "source": [
    "## Comprobación columnas duplicadas"
   ]
  },
  {
   "cell_type": "code",
   "execution_count": 35,
   "metadata": {},
   "outputs": [
    {
     "name": "stdout",
     "output_type": "stream",
     "text": [
      "No hay columnas duplicadas en df_data_part_1.\n",
      "No hay columnas duplicadas en df_data_part_2.\n",
      "No hay columnas duplicadas en df_data_part_3.\n",
      "No hay columnas duplicadas en df_data_part_4.\n",
      "No hay columnas duplicadas en df_data_part_5.\n",
      "No hay columnas duplicadas en df_data_part_6.\n",
      "No hay columnas duplicadas en df_data_part_7.\n"
     ]
    }
   ],
   "source": [
    "# Ya hemos visto que las categóricas no están dulpicadas entre sí así que solo analizamos si las columnas numéricas están duplicadas\n",
    "for i in range(1, 8):\n",
    "    data_frame = globals()[f'df_data_part_{i}']\n",
    "    duplicate_columns = data_frame.columns[data_frame.columns.duplicated()]\n",
    "    if not duplicate_columns.empty:\n",
    "        print(f'Columnas duplicadas en df_data_part_{i}: {duplicate_columns}')\n",
    "    else:\n",
    "        print(f'No hay columnas duplicadas en df_data_part_{i}.')\n"
   ]
  },
  {
   "cell_type": "markdown",
   "metadata": {},
   "source": [
    "### Podemos hacer una matriz de correlación para comprobarlo"
   ]
  },
  {
   "cell_type": "code",
   "execution_count": 36,
   "metadata": {},
   "outputs": [],
   "source": [
    "# # Vamos a hacer una matriz de correlación para ver si hay columnas altamente correlacionadas. Quiero hacer una matriz de correlación para cada DataFrame y luego compararlas para que seleccionar las columnas con correlación mayor a 0.9 y así eliminar una de ellas\n",
    "# correlation_threshold = 0.9\n",
    "# for i in range(1, 8):\n",
    "#     data_frame = globals()[f'df_data_part_{i}']\n",
    "#     corr = data_frame.corr()\n",
    "#     plt.figure(figsize=(12, 10))\n",
    "#     sns.heatmap(corr, annot=True, cmap='coolwarm', vmin=-1, vmax=1)\n",
    "#     plt.title(f'Correlation Matrix df_data_part_{i}')\n",
    "#     plt.show()\n",
    "#     # ahora hacemos una lista de las columnas con correlación mayor a 0.9\n",
    "#     correlation_matrix = corr.abs()\n",
    "#     upper_triangle = correlation_matrix.where(np.triu(np.ones(correlation_matrix.shape), k=1).astype(np.bool))\n",
    "#     if i == 1:\n",
    "#         columns_to_drop = [column for column in upper_triangle.columns if any(upper_triangle[column] > correlation_threshold)]\n",
    "#     else:\n",
    "#         columns_current_matrix = [column for column in upper_triangle.columns if any(upper_triangle[column] > correlation_threshold)]\n",
    "#         #comprobar intersección de listas\n",
    "#         columns_to_drop = list(set(columns_to_drop).intersection(columns_current_matrix))\n",
    "# print(columns_to_drop)"
   ]
  },
  {
   "cell_type": "code",
   "execution_count": null,
   "metadata": {},
   "outputs": [],
   "source": []
  },
  {
   "cell_type": "code",
   "execution_count": 37,
   "metadata": {},
   "outputs": [],
   "source": [
    "# # Eliminamos las columnas que tengar correlación mayor a 0.9 o -0.9\n",
    "# correlation_threshold = 0.9\n",
    "# correlation_matrix = df_data_part_1.corr().abs()\n",
    "# upper_triangle = correlation_matrix.where(np.triu(np.ones(correlation_matrix.shape), k=1).astype(np.bool))\n",
    "# columns_to_drop = [column for column in upper_triangle.columns if any(upper_triangle[column] > correlation_threshold)]\n",
    "# print(f'Columnas a eliminar: {columns_to_drop}')\n"
   ]
  },
  {
   "cell_type": "markdown",
   "metadata": {},
   "source": [
    "## Comprobación NaNs"
   ]
  },
  {
   "cell_type": "markdown",
   "metadata": {},
   "source": [
    "Vamos a analizar las filas para eliminar aquellas que tengan NaN en más del 30% de las columnas si estas componen una pequeña poción del dataframe y rellenar estos valores no tendría sentido ya que la fila perdería valor para el posterior estudio ya que sería completamente artificial"
   ]
  },
  {
   "cell_type": "code",
   "execution_count": 38,
   "metadata": {},
   "outputs": [
    {
     "name": "stdout",
     "output_type": "stream",
     "text": [
      "Número de filas a eliminar: 0.26%\n"
     ]
    }
   ],
   "source": [
    "# Quiero saber cuántas filas tienen más del 30% de las columnas nulas en porcentaje sobre el total de todos los DataFrames\n",
    "rows_to_drop = []\n",
    "total_rows = 0\n",
    "for i in range(1, 8):\n",
    "    data_frame = globals()[f'df_data_part_{i}']\n",
    "    total_rows += data_frame.shape[0]\n",
    "    null_percentage = data_frame.isnull().mean(axis=1) * 100\n",
    "    rows_to_drop.extend(null_percentage[null_percentage > 30].index)\n",
    "rows_to_drop = set(rows_to_drop)\n",
    "print(f'Número de filas a eliminar: {len(rows_to_drop)/total_rows*100:.2f}%')\n"
   ]
  },
  {
   "cell_type": "code",
   "execution_count": 39,
   "metadata": {},
   "outputs": [],
   "source": [
    "# Eliminos las filas con más del 30% de valores nulos\n",
    "for i in range(1, 8):\n",
    "    data_frame = globals()[f'df_data_part_{i}']\n",
    "    # Como no me deja usar los valores de rows_to_drop como índices, lo hago de la siguiente manera\n",
    "    data_frame.drop(data_frame.index.intersection(rows_to_drop), inplace=True)\n"
   ]
  },
  {
   "cell_type": "markdown",
   "metadata": {},
   "source": [
    "Ahora vamos a hacer un análisis de las columnas que nos quedan"
   ]
  },
  {
   "cell_type": "code",
   "execution_count": 40,
   "metadata": {},
   "outputs": [
    {
     "name": "stdout",
     "output_type": "stream",
     "text": [
      "Payment_6804: 0.57285%\n",
      "Base_80863: 0.00515%\n",
      "Expenditure_JIG: 18.28497%\n",
      "Infraction_SNZ: 0.00515%\n",
      "Base_02683: 0.00515%\n",
      "Infraction_ZWWJ: 29.85362%\n",
      "Infraction_QJJF: 4.71919%\n",
      "Infraction_EJZ: 0.00515%\n",
      "Infraction_FMXQ: 21.68924%\n",
      "Infraction_TLPJ: 12.72720%\n",
      "Base_1165: 0.00009%\n",
      "Base_6187: 0.37812%\n",
      "Infraction_AYWV: 0.27658%\n",
      "Payment_22507: 5.22159%\n",
      "Infraction_PAS: 0.00515%\n",
      "Expenditure_HMO: 18.28497%\n",
      "Infraction_BSU: 3.13283%\n",
      "Base_14808: 0.75777%\n",
      "Infraction_HSSU: 1.70469%\n",
      "Infraction_TBP: 10.71778%\n",
      "Base_0580: 0.05267%\n",
      "Infraction_PBC: 13.51881%\n",
      "Base_0229: 0.00515%\n",
      "Base_91828: 0.00515%\n",
      "Base_6852: 0.00515%\n",
      "Infraction_JYZB: 3.27808%\n",
      "Base_22178: 0.00515%\n",
      "Infraction_ZTYG: 1.46566%\n",
      "Infraction_EYU: 0.17689%\n",
      "Infraction_QKZN: 0.28817%\n",
      "Risk_7095: 0.00003%\n",
      "Infraction_JBR: 45.50540%\n",
      "Base_66195: 0.05267%\n",
      "Base_36516: 0.00515%\n",
      "Infraction_RXQH: 4.71919%\n",
      "Infraction_HFU: 1.12025%\n",
      "Infraction_VTR: 0.28817%\n",
      "Base_7331: 0.00515%\n",
      "Infraction_XWX: 0.22756%\n",
      "Risk_4553: 0.00074%\n",
      "Infraction_VHU: 3.27808%\n",
      "Risk_4247: 0.00003%\n",
      "Infraction_GSS: 0.27658%\n",
      "Base_8730: 0.00515%\n",
      "Risk_9423: 0.00120%\n",
      "Base_9103: 0.00515%\n",
      "Infraction_KSBR: 0.27658%\n",
      "Infraction_NRBQ: 2.63359%\n",
      "Expenditure_UIWS: 0.34234%\n",
      "Expenditure_ONEG: 0.00788%\n",
      "Expenditure_MTRQ: 0.33483%\n",
      "Expenditure_LAHK: 0.23238%\n",
      "Expenditure_HPM: 0.01147%\n",
      "Infraction_LTIS: 0.52778%\n",
      "Infraction_HFSI: 1.58240%\n",
      "Infraction_ETH: 1.58240%\n",
      "Infraction_SDWM: 1.58240%\n",
      "Base_2810: 0.00110%\n",
      "Risk_8902: 2.24443%\n",
      "Infraction_PTY: 0.01196%\n",
      "Infraction_BGGU: 0.01662%\n",
      "Base_4569: 0.00104%\n",
      "Expenditure_BEH: 25.07885%\n",
      "Infraction_LMHK: 2.95426%\n",
      "Infraction_NMCB: 2.95426%\n",
      "Infraction_TPAF: 2.95426%\n",
      "Infraction_ZRH: 2.95426%\n",
      "Infraction_XEPQ: 2.95426%\n",
      "Infraction_ZMKI: 2.95426%\n",
      "Infraction_WIS: 2.95426%\n",
      "Infraction_RKTA: 2.95426%\n",
      "Infraction_IIZ: 2.95426%\n",
      "Infraction_WVAW: 2.95426%\n",
      "Infraction_KEJT: 2.95426%\n",
      "Infraction_TFOY: 2.95426%\n",
      "Infraction_WMAQ: 1.91497%\n",
      "Infraction_CZXL: 1.58240%\n",
      "Infraction_QEY: 1.58240%\n",
      "Base_52892: 0.01220%\n",
      "Infraction_HUK: 1.58240%\n",
      "Infraction_VHHP: 1.58240%\n",
      "Infraction_LIES: 0.56417%\n",
      "Infraction_QWWW: 1.58240%\n",
      "Infraction_YQXM: 0.52736%\n",
      "Infraction_QGR: 1.58240%\n",
      "Infraction_LSX: 1.58240%\n",
      "Infraction_IBJ: 0.52852%\n",
      "Infraction_DNOU: 1.58240%\n"
     ]
    }
   ],
   "source": [
    "# Voy a ver cuántos valores NaN hay en cada columna en la intersection de los DataFrames.\n",
    "columns_percentage = {}\n",
    "for col in df_data_part_1.columns:\n",
    "    nan_count = 0\n",
    "    total_rows = 0\n",
    "    for i in range(1, 8):\n",
    "        data_frame = globals()[f'df_data_part_{i}']\n",
    "        total_rows += data_frame.shape[0]\n",
    "        nan_count += data_frame[col].isna().sum()\n",
    "    if nan_count > 0:\n",
    "        columns_percentage[col] = nan_count/total_rows * 100    \n",
    "        print(f'{col}: {nan_count/total_rows * 100:.5f}%')"
   ]
  },
  {
   "cell_type": "markdown",
   "metadata": {},
   "source": [
    "Vamos a rellenar aquellas que tengan menos del 6% de NaNs y a eliminar los que tengan más de ese porcentaje , rellenar estos últimos no tendría sentido"
   ]
  },
  {
   "cell_type": "code",
   "execution_count": 41,
   "metadata": {},
   "outputs": [],
   "source": [
    "# Eliminamos las columnas con más de 6% de valores nulos en la intersección de los DataFrames\n",
    "for col in columns_percentage.keys():\n",
    "    if columns_percentage[col] > 6:\n",
    "        for i in range(1, 8):\n",
    "            data_frame = globals()[f'df_data_part_{i}']\n",
    "            data_frame.drop(columns=[col], inplace=True)    "
   ]
  },
  {
   "cell_type": "code",
   "execution_count": 42,
   "metadata": {},
   "outputs": [],
   "source": [
    "# Vamos a rellenar los NaNs de las columnas restantes de la siguiente manera:\n",
    "# Si la columna es categórica, rellena con la moda (no hace falta tenerlo en cuenta ahora ya que lo hemos hecho manualmnete anteriormente)\n",
    "# Si la columna es numérica:\n",
    "#           - con la media si la desviación estándar es menor a 1\n",
    "#           - con la mediana si la desviación estándar es mayor a 1\n",
    "#           - con la moda si la desviación estándar es 0\n",
    "\n",
    "for col in df_data_part_1.columns:\n",
    "    for i in range(1, 8):\n",
    "        data_frame = globals()[f'df_data_part_{i}']\n",
    "        if data_frame[col].isna().sum() != 0:\n",
    "            mean = data_frame[col].mean()\n",
    "            median = data_frame[col].median()\n",
    "            mode = data_frame[col].mode()[0]\n",
    "            std = data_frame[col].std()\n",
    "            if std == 0:\n",
    "                data_frame[col] = data_frame[col].fillna(mode)\n",
    "            elif std < 1:\n",
    "                data_frame[col] = data_frame[col].fillna(mean)\n",
    "            else:\n",
    "                data_frame[col] = data_frame[col].fillna(median)\n"
   ]
  },
  {
   "cell_type": "markdown",
   "metadata": {},
   "source": [
    "## Tratar valores infinitos"
   ]
  },
  {
   "cell_type": "code",
   "execution_count": 43,
   "metadata": {},
   "outputs": [
    {
     "name": "stdout",
     "output_type": "stream",
     "text": [
      "Valores infinitos en df_data_part_1: 0.0\n",
      "Valores infinitos en df_data_part_2: 0.0\n",
      "Valores infinitos en df_data_part_3: 0.0\n",
      "Valores infinitos en df_data_part_4: 0.0\n",
      "Valores infinitos en df_data_part_5: 0.0\n",
      "Valores infinitos en df_data_part_6: 0.0\n",
      "Valores infinitos en df_data_part_7: 0.0\n"
     ]
    }
   ],
   "source": [
    "# Imprimir los valores infinitos para tratarlos\n",
    "from numpy import inf\n",
    "for i in range(1, 8):\n",
    "    data_frame = globals()[f'df_data_part_{i}']\n",
    "    infinite_values = data_frame[data_frame == np.inf].sum().sum()\n",
    "    print(f'Valores infinitos en df_data_part_{i}: {infinite_values}')"
   ]
  },
  {
   "cell_type": "markdown",
   "metadata": {},
   "source": [
    "# Selección de características\n"
   ]
  },
  {
   "cell_type": "code",
   "execution_count": 44,
   "metadata": {},
   "outputs": [
    {
     "data": {
      "text/html": [
       "<div>\n",
       "<style scoped>\n",
       "    .dataframe tbody tr th:only-of-type {\n",
       "        vertical-align: middle;\n",
       "    }\n",
       "\n",
       "    .dataframe tbody tr th {\n",
       "        vertical-align: top;\n",
       "    }\n",
       "\n",
       "    .dataframe thead th {\n",
       "        text-align: right;\n",
       "    }\n",
       "</style>\n",
       "<table border=\"1\" class=\"dataframe\">\n",
       "  <thead>\n",
       "    <tr style=\"text-align: right;\">\n",
       "      <th></th>\n",
       "      <th>ID</th>\n",
       "      <th>label</th>\n",
       "    </tr>\n",
       "  </thead>\n",
       "  <tbody>\n",
       "    <tr>\n",
       "      <th>0</th>\n",
       "      <td>3333337004103300505242400473433643475477705348...</td>\n",
       "      <td>0</td>\n",
       "    </tr>\n",
       "    <tr>\n",
       "      <th>1</th>\n",
       "      <td>3333412724050477534287115505554450368233003786...</td>\n",
       "      <td>0</td>\n",
       "    </tr>\n",
       "    <tr>\n",
       "      <th>2</th>\n",
       "      <td>3333755354307801420025735367852078550468735254...</td>\n",
       "      <td>0</td>\n",
       "    </tr>\n",
       "    <tr>\n",
       "      <th>3</th>\n",
       "      <td>3333545238615133608512002405572210535308150267...</td>\n",
       "      <td>0</td>\n",
       "    </tr>\n",
       "    <tr>\n",
       "      <th>4</th>\n",
       "      <td>3333333216773173414240337455254307444633113087...</td>\n",
       "      <td>1</td>\n",
       "    </tr>\n",
       "  </tbody>\n",
       "</table>\n",
       "</div>"
      ],
      "text/plain": [
       "                                                  ID  label\n",
       "0  3333337004103300505242400473433643475477705348...      0\n",
       "1  3333412724050477534287115505554450368233003786...      0\n",
       "2  3333755354307801420025735367852078550468735254...      0\n",
       "3  3333545238615133608512002405572210535308150267...      0\n",
       "4  3333333216773173414240337455254307444633113087...      1"
      ]
     },
     "execution_count": 44,
     "metadata": {},
     "output_type": "execute_result"
    }
   ],
   "source": [
    "df_labels_50 = pd.read_csv('../data/train_labels_50_lines.csv', encoding='ISO-8859-1')\n",
    "df_labels_50.head()"
   ]
  },
  {
   "cell_type": "markdown",
   "metadata": {},
   "source": [
    "### Filtro"
   ]
  },
  {
   "cell_type": "markdown",
   "metadata": {},
   "source": [
    "Como la variable objetivo es binaria (0,1), probamos con ANOVA"
   ]
  },
  {
   "cell_type": "code",
   "execution_count": 45,
   "metadata": {},
   "outputs": [],
   "source": [
    "df_labels = pd.read_csv('../data/train_labels.csv', encoding='ISO-8859-1')"
   ]
  },
  {
   "cell_type": "code",
   "execution_count": 46,
   "metadata": {},
   "outputs": [],
   "source": [
    "df_labels['ID'] = pd.to_numeric(df_labels['ID'], errors='coerce')"
   ]
  },
  {
   "cell_type": "code",
   "execution_count": 47,
   "metadata": {},
   "outputs": [],
   "source": [
    " # NO EJECUTAR MÁS DE UNA VEZ (pasan cosas raras con label)\n",
    "for i in range(1, 8):\n",
    "    data_frame = globals()[f'df_data_part_{i}']\n",
    "    globals()[f'df_merged_part_{i}'] = pd.merge(data_frame, df_labels, on='ID', how='left')\n"
   ]
  },
  {
   "cell_type": "code",
   "execution_count": 49,
   "metadata": {},
   "outputs": [
    {
     "name": "stdout",
     "output_type": "stream",
     "text": [
      "La partición 1 tiene la columna label.\n",
      "La partición 2 tiene la columna label.\n",
      "La partición 3 tiene la columna label.\n",
      "La partición 4 tiene la columna label.\n",
      "La partición 5 tiene la columna label.\n",
      "La partición 6 tiene la columna label.\n",
      "La partición 7 tiene la columna label.\n"
     ]
    }
   ],
   "source": [
    "for i in range(1, 8):\n",
    "    data_frame = globals()[f'df_merged_part_{i}']\n",
    "    if 'label' not in data_frame.columns:\n",
    "        print(f'La partición {i} no tiene la columna label.')\n",
    "    else:\n",
    "        print(f'La partición {i} tiene la columna label.')"
   ]
  },
  {
   "cell_type": "code",
   "execution_count": 49,
   "metadata": {},
   "outputs": [
    {
     "name": "stdout",
     "output_type": "stream",
     "text": [
      "Características seleccionadas para todas dataframes: {'Base_80863', 'Base_85131', 'Base_69608', 'Payment_6804', 'Infraction_QJJF'}\n"
     ]
    }
   ],
   "source": [
    "from sklearn.feature_selection import SelectKBest\n",
    "from sklearn.feature_selection import f_classif \n",
    "\n",
    "columns_data = df_data_part_1.columns\n",
    "selected_features = set()\n",
    "\n",
    "# Como el train data está dividido en 7 partes, vamos a hacer un loop para cargar cada parte y seleccionar las 5 características más importantes según ANOVA (f_classif)\n",
    "for i in range(1, 8):\n",
    "    data_frame = globals()[f'df_merged_part_{i}']\n",
    "        \n",
    "    X = data_frame.drop(columns=['label']).copy()\n",
    "    y = data_frame['label']\n",
    "    \n",
    "    selector = SelectKBest(score_func=f_classif, k=5)\n",
    "    X_new = selector.fit_transform(X, y)\n",
    "    selected_indices = selector.get_support(indices=True)\n",
    "    if i == 1:\n",
    "        selected_features = set(columns_data[selected_indices])\n",
    "    else:\n",
    "        selected_features.intersection(set(data_frame.columns[selected_indices]))\n",
    "\n",
    "print(f'Características seleccionadas para todas dataframes: {selected_features}')\n",
    "\n"
   ]
  },
  {
   "cell_type": "markdown",
   "metadata": {},
   "source": [
    "### Wrapper"
   ]
  },
  {
   "cell_type": "code",
   "execution_count": 50,
   "metadata": {},
   "outputs": [],
   "source": [
    "# use random forest for wrapper method\n",
    "from sklearn.preprocessing import StandardScaler\n",
    "from sklearn.ensemble import RandomForestClassifier\n",
    "\n",
    "# we changed the max_samples to 0.5 because the dataset is too big and it was taking too long to run\n",
    "model = RandomForestClassifier(n_estimators=20, max_features='sqrt', max_samples=0.5, random_state=42, n_jobs=-1)\n",
    "selected_features = set()\n",
    "scaler = StandardScaler() # scale the data\n",
    "\n",
    "for i in range(1, 8):\n",
    "    data_frame = globals()[f'df_data_part_{i}']\n",
    "    X = scaler.fit_transform(data_frame) # scale the data\n",
    "    data_frame_merged = pd.merge(data_frame, df_labels, on='ID', how='inner')\n",
    "    y = data_frame_merged['label']\n",
    "    \n",
    "    model.fit(X, y)\n",
    "    \n",
    "    # we only want 5 most importatnt features\n",
    "    importances = model.feature_importances_\n",
    "    indices = np.argsort(importances)[-5:] \n",
    "    if i == 1:\n",
    "        selected_features = set(data_frame.columns[indices])\n",
    "    else:\n",
    "        selected_features.intersection(set(data_frame.columns[indices]))\n",
    "\n",
    "print(f'Características seleccionadas para todas dataframes: {selected_features}')"
   ]
  },
  {
   "cell_type": "markdown",
   "metadata": {},
   "source": [
    "### Embebido"
   ]
  },
  {
   "cell_type": "markdown",
   "metadata": {},
   "source": [
    "Ridge Regression dura mucho MUCHO mas que LASSO, pero da los mismos resultados."
   ]
  },
  {
   "cell_type": "code",
   "execution_count": 51,
   "metadata": {},
   "outputs": [],
   "source": [
    "# # perform ridge regression\n",
    "# from sklearn.linear_model import Ridge\n",
    "# from sklearn.feature_selection import SequentialFeatureSelector\n",
    "\n",
    "# for i in range(1, 8):\n",
    "#     data_frame = globals()[f'df_data_part_{i}']\n",
    "#     data_frame_merged = pd.merge(data_frame, df_labels, on='ID', how='inner')\n",
    "#     y = data_frame_merged['label']\n",
    "#     x = data_frame.drop(columns=['ID'])\n",
    "    \n",
    "#     # scale the data\n",
    "#     scaler = StandardScaler()\n",
    "#     x_scaled = scaler.fit_transform(x)\n",
    "    \n",
    "#     # perform ridge regression\n",
    "#     model = Ridge(alpha=1.0)\n",
    "#     sfs = SequentialFeatureSelector(model, n_features_to_select=5)\n",
    "#     sfs.fit(x_scaled, y)\n",
    "    \n",
    "#     selected_features = x.columns[sfs.get_support()]\n",
    "#     print(f'Características seleccionadas para df_data_part_{i}: {selected_features}')"
   ]
  },
  {
   "cell_type": "code",
   "execution_count": 52,
   "metadata": {},
   "outputs": [],
   "source": [
    "#perform lasso regression; select 5 best features\n",
    "from sklearn.linear_model import Lasso\n",
    "from sklearn.feature_selection import SelectFromModel\n",
    "\n",
    "for i in range(1, 8):\n",
    "    data_frame = globals()[f'df_data_part_{i}']\n",
    "    data_frame_merged = pd.merge(data_frame, df_labels, on='ID', how='inner')\n",
    "    y = data_frame_merged['label']\n",
    "    x = data_frame.drop(columns=['ID'])\n",
    "    \n",
    "    # scale the data\n",
    "    scaler = StandardScaler()\n",
    "    X = scaler.fit_transform(x)\n",
    "    \n",
    "    # perform lasso regression\n",
    "    model = Lasso(alpha=0.1)\n",
    "    sfm = SelectFromModel(model)\n",
    "    sfm.fit(X, y)\n",
    "    \n",
    "    selected_features = x.columns[sfm.get_support()]\n",
    "    print(f'Características seleccionadas para df_data_part_{i}: {selected_features}')\n",
    "\n"
   ]
  },
  {
   "cell_type": "markdown",
   "metadata": {},
   "source": [
    "## Mejora de Hiperparámetros (optuna)"
   ]
  },
  {
   "cell_type": "markdown",
   "metadata": {},
   "source": [
    "#### Escalado de datos"
   ]
  },
  {
   "cell_type": "code",
   "execution_count": 50,
   "metadata": {},
   "outputs": [],
   "source": [
    "from sklearn.preprocessing import StandardScaler\n",
    "\n",
    "for i in range(1, 8):\n",
    "    data_frame = globals()[f'df_merged_part_{i}']\n",
    "    \n",
    "    X = data_frame.drop(columns=['label']).copy()  \n",
    "    y = data_frame['label']\n",
    "    \n",
    "    scaler = StandardScaler()\n",
    "    X_scaled = scaler.fit_transform(X)\n",
    "    \n",
    "    X_scaled = pd.DataFrame(X_scaled, columns=X.columns)\n",
    "    \n",
    "    globals()[f'df_scaled_part_{i}'] = pd.concat([X_scaled, y.reset_index(drop=True)], axis=1)\n",
    "\n"
   ]
  },
  {
   "cell_type": "markdown",
   "metadata": {},
   "source": [
    "Como es imposible procesar tantos datos con cross validation y el resto de métodos, intento al máximo reducir previamente el número de columnas"
   ]
  },
  {
   "cell_type": "code",
   "execution_count": 51,
   "metadata": {},
   "outputs": [
    {
     "name": "stdout",
     "output_type": "stream",
     "text": [
      "Columnas a eliminar por baja varianza en todas las particiones: {'Infraction_PTY', 'Base_5441', 'Risk_9247', 'Risk_8742', 'Risk_6178', 'Risk_5270', 'Risk_3506', 'Risk_6197', 'Risk_4160', 'Infraction_ZRH', 'Infraction_KSBR', 'Base_23737', 'Expenditure_GCAO', 'Base_7331'}\n"
     ]
    }
   ],
   "source": [
    "# Voy a hacer una selección de características a eliminar con el método de la varianza (threshold=0.01)\n",
    "from sklearn.feature_selection import VarianceThreshold\n",
    "columnas_baja_varianza_final = None\n",
    "\n",
    "for i in range(1, 8):\n",
    "    data_frame = globals()[f'df_merged_part_{i}']\n",
    "\n",
    "    X = data_frame.drop(columns=['label']).copy()\n",
    "\n",
    "    selector = VarianceThreshold(threshold=0.01)\n",
    "    selector.fit(X)\n",
    "    columnas_baja_varianza = X.columns[~selector.get_support()].tolist()\n",
    "    if i == 1:\n",
    "        columnas_baja_varianza_final = set(columnas_baja_varianza)\n",
    "    else:\n",
    "        columnas_baja_varianza_final.intersection_update(columnas_baja_varianza)\n",
    "\n",
    "print(f'Columnas a eliminar por baja varianza en todas las particiones: {columnas_baja_varianza_final}')"
   ]
  },
  {
   "cell_type": "code",
   "execution_count": 52,
   "metadata": {},
   "outputs": [],
   "source": [
    "for i in range(1,8):\n",
    "    data_frame = globals()[f'df_scaled_part_{i}']\n",
    "    data_frame.drop(columns=columnas_baja_varianza_final, inplace=True)"
   ]
  },
  {
   "cell_type": "markdown",
   "metadata": {},
   "source": [
    "¡Cuidado con los cambios de dataframe!"
   ]
  },
  {
   "cell_type": "markdown",
   "metadata": {},
   "source": [
    "#### Código SelectKbest y random forest"
   ]
  },
  {
   "cell_type": "code",
   "execution_count": null,
   "metadata": {},
   "outputs": [],
   "source": [
    "from sklearn.feature_selection import SelectKBest, f_classif\n",
    "from sklearn.ensemble import RandomForestClassifier\n",
    "from sklearn.model_selection import cross_val_score\n",
    "import numpy as np\n",
    "\n",
    "\n",
    "max_k = X.shape[1]  \n",
    "tolerancia_mejora = 0.0000000001  # Mínima mejora para continuar\n",
    "mejor_score = 0\n",
    "k_optimo = 1\n",
    "\n",
    "# k_general = np.array([])\n",
    "\n",
    "\n",
    "data_frame = df_scaled_part_1\n",
    "\n",
    "X = data_frame.drop(columns=['label']).copy()\n",
    "y = data_frame['label']\n",
    "\n",
    "for k in range(1, max_k + 1):\n",
    "    # Selección de características con ANOVA para cada k\n",
    "    selector = SelectKBest(score_func=f_classif, k=k)\n",
    "    X_new = selector.fit_transform(X, y)\n",
    "    \n",
    "    # Entrenar el modelo en las c aracterísticas seleccionadas y evalúa rendimiento\n",
    "    clf = RandomForestClassifier(n_estimators=50, n_jobs=-1, verbose=1)\n",
    "    scores = cross_val_score(clf, X_new, y, cv=5, scoring='f1') \n",
    "    score_promedio = np.mean(scores)\n",
    "\n",
    "\n",
    "    mejor_score = score_promedio\n",
    "    k_optimo = k\n",
    "\n",
    "# k_general = np.append(k_general, k_optimo)\n",
    "print(f\"El valor óptimo de k para la partición {i} es {k_optimo}, con un score promedio de {mejor_score:.4f}\")\n",
    "\n",
    "\n",
    "# print(f\"El valor óptimo de k en conjunto es {k_general.mean()}\")\n"
   ]
  },
  {
   "cell_type": "markdown",
   "metadata": {},
   "source": [
    "Este código produce la siguiente salida: \"El valor óptimo de k es 8\". Hay que tener en cuenta que la parada del programa se produce cuando la mejora no es mayor en 0.0000000001 puntos. Tal vez deberíamos permitir un margen menos ajustado.\n",
    "<br> Sin tolerancia de mejora no funciona"
   ]
  },
  {
   "cell_type": "markdown",
   "metadata": {},
   "source": [
    "#### Código OPTUNA"
   ]
  },
  {
   "cell_type": "markdown",
   "metadata": {},
   "source": [
    "- Ya he probado entre 1 y 30 y me ha dado mejor k = 30\n",
    "- Probando entre 30 y 60, me da que el valor óptimo es k = 53"
   ]
  },
  {
   "cell_type": "code",
   "execution_count": 65,
   "metadata": {},
   "outputs": [
    {
     "name": "stderr",
     "output_type": "stream",
     "text": [
      "[I 2024-11-01 18:36:20,289] A new study created in memory with name: no-name-fb787147-c8a7-4c84-95ce-53fd37d6020c\n",
      "[I 2024-11-01 18:37:33,602] Trial 0 finished with value: 0.7164843285931216 and parameters: {'k': 31}. Best is trial 0 with value: 0.7164843285931216.\n",
      "[I 2024-11-01 18:38:47,725] Trial 1 finished with value: 0.7210004693082995 and parameters: {'k': 35}. Best is trial 1 with value: 0.7210004693082995.\n",
      "[I 2024-11-01 18:40:19,170] Trial 2 finished with value: 0.7228230094512664 and parameters: {'k': 40}. Best is trial 2 with value: 0.7228230094512664.\n",
      "[I 2024-11-01 18:42:05,467] Trial 3 finished with value: 0.7268868128692078 and parameters: {'k': 55}. Best is trial 3 with value: 0.7268868128692078.\n",
      "[I 2024-11-01 18:43:51,122] Trial 4 finished with value: 0.7261654828085407 and parameters: {'k': 59}. Best is trial 3 with value: 0.7268868128692078.\n",
      "[I 2024-11-01 18:45:43,599] Trial 5 finished with value: 0.7261654828085407 and parameters: {'k': 59}. Best is trial 3 with value: 0.7268868128692078.\n",
      "[I 2024-11-01 18:52:22,676] Trial 6 finished with value: 0.7261453841671361 and parameters: {'k': 56}. Best is trial 3 with value: 0.7268868128692078.\n",
      "[I 2024-11-01 18:56:58,773] Trial 7 finished with value: 0.7269461111764586 and parameters: {'k': 53}. Best is trial 7 with value: 0.7269461111764586.\n",
      "[I 2024-11-01 18:58:09,202] Trial 8 finished with value: 0.7242732389759349 and parameters: {'k': 43}. Best is trial 7 with value: 0.7269461111764586.\n",
      "[I 2024-11-01 18:59:15,101] Trial 9 finished with value: 0.7215567311304452 and parameters: {'k': 37}. Best is trial 7 with value: 0.7269461111764586.\n"
     ]
    },
    {
     "name": "stdout",
     "output_type": "stream",
     "text": [
      "El valor óptimo de `k` para df_scaled_part_1 es 53, con un f1-score de 0.7269\n"
     ]
    }
   ],
   "source": [
    "import optuna\n",
    "from sklearn.ensemble import RandomForestClassifier\n",
    "from sklearn.feature_selection import SelectKBest, f_classif\n",
    "from sklearn.model_selection import cross_val_score\n",
    "import numpy as np\n",
    "from optuna.pruners import MedianPruner\n",
    "\n",
    "\n",
    "def objective(trial, X, y):\n",
    "    # Sugerir valor de `k` entre 30 y 60 (vamos a hacerlo por tramos para reducir el espacio de búsqueda)\n",
    "    k = trial.suggest_int('k', 30, 60)\n",
    "\n",
    "    # Selección de características con SelectKBest\n",
    "    selector = SelectKBest(score_func=f_classif, k=k)\n",
    "    X_new = selector.fit_transform(X, y)\n",
    "    \n",
    "    # Modelo base para evaluar características\n",
    "    clf = RandomForestClassifier(n_estimators=50, n_jobs=-1, random_state=42)\n",
    "    \n",
    "    # Evaluación usando validación cruzada\n",
    "    scores = cross_val_score(clf, X_new, y, cv=3, scoring='f1')\n",
    "    return np.mean(scores)\n",
    "\n",
    "\n",
    "data_frame = df_scaled_part_1\n",
    "X = data_frame.drop(columns=['label']).copy()\n",
    "y = data_frame['label']\n",
    "\n",
    "# Optimización con Optuna\n",
    "study = optuna.create_study(direction=\"maximize\", pruner=MedianPruner(n_startup_trials=5, n_warmup_steps=3))\n",
    "study.optimize(lambda trial: objective(trial, X, y), n_trials=10)  \n",
    "\n",
    "k_optimo = study.best_params['k']\n",
    "\n",
    "print(f\"El valor óptimo de `k` para df_scaled_part_{i} es {k_optimo}, con un f1-score de {study.best_value:.4f}\")\n"
   ]
  },
  {
   "cell_type": "markdown",
   "metadata": {},
   "source": [
    "La salida con k de 1 a 30 es : <br>\"[I 2024-11-01 18:04:38,998] A new study created in memory with name: no-name-c58a74c8-d3a6-49e5-b9fd-149ab5255644\n",
    "<br>[I 2024-11-01 18:05:47,310] Trial 0 finished with value: 0.7177146397341488 and parameters: {'k': 30}. Best is trial 0 with value: 0.7177146397341488.\n",
    "<br>[I 2024-11-01 18:06:43,957] Trial 1 finished with value: 0.7020254628628231 and parameters: {'k': 22}. Best is trial 0 with value: 0.7177146397341488.\n",
    "<br>[I 2024-11-01 18:07:45,874] Trial 2 finished with value: 0.6973999889571102 and parameters: {'k': 14}. Best is trial 0 with value: 0.7177146397341488.\n",
    "<br>[I 2024-11-01 18:09:04,985] Trial 3 finished with value: 0.7072520041335205 and parameters: {'k': 25}. Best is trial 0 with value: 0.7177146397341488.\n",
    "<br> ...\"\n",
    "<br>Así que viendo esta distribución, tiene sentido deducir que k >= 30"
   ]
  },
  {
   "cell_type": "markdown",
   "metadata": {},
   "source": [
    "## Repectición de la selección de características"
   ]
  },
  {
   "cell_type": "code",
   "execution_count": 53,
   "metadata": {},
   "outputs": [
    {
     "name": "stdout",
     "output_type": "stream",
     "text": [
      "Características seleccionadas para todas dataframes: {'Infraction_QKZN', 'Infraction_ZMKI', 'Expenditure_ONEG', 'Infraction_QJJF', 'Payment_6804', 'Base_9516', 'Infraction_HSSU', 'Infraction_AYWV', 'Infraction_HFU', 'Infraction_BSU', 'Infraction_EJZ', 'Infraction_RKTA', 'Risk_8902', 'Payment_22507', 'Infraction_ZYW', 'Risk_9995', 'Infraction_GGO', 'Base_6187', 'Risk_1475', 'Expenditure_LMSR', 'Payment_3207', 'Base_2810', 'Risk_1930', 'Base_85131', 'Base_66195', 'Base_1165', 'Base_9103', 'Base_6872', 'Infraction_CZE', 'Risk_0322', 'Base_76065', 'Base_7744', 'Infraction_SNZ', 'Infraction_ZTYG', 'Infraction_CZXL', 'Base_22178', 'Base_4569', 'Base_36384', 'Expenditure_LAHK', 'Base_67254_encoded', 'Base_6852', 'Infraction_BGGU', 'Base_80863', 'Infraction_KEJT', 'Base_39598', 'Infraction_XEPQ', 'Base_02683', 'ID', 'Expenditure_UWVG', 'Expenditure_UIWS', 'Base_24406', 'Base_3041', 'Infraction_EHZP'}\n"
     ]
    }
   ],
   "source": [
    "# seleccionar las características óptimas con wrapper method\n",
    "from sklearn.ensemble import RandomForestClassifier\n",
    "\n",
    "# we changed the max_samples to 0.5 because the dataset is too big and it was taking too long to run\n",
    "model = RandomForestClassifier(n_estimators=20, max_features='sqrt', max_samples=0.5, random_state=42, n_jobs=-1)\n",
    "selected_features = set()\n",
    "\n",
    "for i in range(1, 8):\n",
    "    data_frame = globals()[f'df_scaled_part_{i}']\n",
    "    X = data_frame.drop(columns=['label']).copy()\n",
    "    y = data_frame['label']\n",
    "    \n",
    "    model.fit(X, y)\n",
    "    \n",
    "    # we only want 53 most importatnt features\n",
    "    importances = model.feature_importances_\n",
    "    indices = np.argsort(importances)[-53:] \n",
    "    if i == 1:\n",
    "        selected_features = set(data_frame.columns[indices])\n",
    "    else:\n",
    "        selected_features.intersection(set(data_frame.columns[indices]))\n",
    "\n",
    "print(f'Características seleccionadas para todas dataframes: {selected_features}')"
   ]
  },
  {
   "cell_type": "code",
   "execution_count": 54,
   "metadata": {},
   "outputs": [],
   "source": [
    "# voy a eliminar las columnas que NO están en selected_features en todos los dataframes\n",
    "selected_features.add('label')\n",
    "for i in range(1, 8):\n",
    "    data_frame = globals()[f'df_scaled_part_{i}']\n",
    "    data_frame.drop(columns=data_frame.columns.difference(selected_features), inplace=True)"
   ]
  },
  {
   "cell_type": "code",
   "execution_count": 55,
   "metadata": {},
   "outputs": [
    {
     "data": {
      "text/plain": [
       "Index(['ID', 'Payment_6804', 'Base_7744', 'Base_80863', 'Risk_1930',\n",
       "       'Infraction_SNZ', 'Base_02683', 'Infraction_QJJF', 'Base_76065',\n",
       "       'Infraction_EJZ', 'Base_6872', 'Risk_0322', 'Infraction_GGO',\n",
       "       'Base_1165', 'Base_39598', 'Base_6187', 'Base_85131', 'Risk_9995',\n",
       "       'Infraction_AYWV', 'Payment_22507', 'Base_9516', 'Base_36384',\n",
       "       'Base_24406', 'Expenditure_LMSR', 'Infraction_BSU', 'Infraction_ZYW',\n",
       "       'Infraction_HSSU', 'Infraction_EHZP', 'Base_6852', 'Risk_1475',\n",
       "       'Base_22178', 'Infraction_ZTYG', 'Expenditure_UWVG', 'Base_3041',\n",
       "       'Payment_3207', 'Infraction_QKZN', 'Infraction_CZE', 'Base_66195',\n",
       "       'Infraction_HFU', 'Base_9103', 'Expenditure_UIWS', 'Expenditure_ONEG',\n",
       "       'Expenditure_LAHK', 'Base_2810', 'Risk_8902', 'Infraction_BGGU',\n",
       "       'Base_4569', 'Infraction_XEPQ', 'Infraction_ZMKI', 'Infraction_RKTA',\n",
       "       'Infraction_KEJT', 'Infraction_CZXL', 'Base_67254_encoded', 'label'],\n",
       "      dtype='object')"
      ]
     },
     "execution_count": 55,
     "metadata": {},
     "output_type": "execute_result"
    }
   ],
   "source": [
    "df_scaled_part_1.columns"
   ]
  },
  {
   "cell_type": "markdown",
   "metadata": {},
   "source": [
    "## Regularización (para evitar overfitting) -> l1/l2"
   ]
  },
  {
   "cell_type": "code",
   "execution_count": 56,
   "metadata": {},
   "outputs": [
    {
     "name": "stdout",
     "output_type": "stream",
     "text": [
      " Seleccionadas 48 características después de regularización L1\n"
     ]
    }
   ],
   "source": [
    "# Ahora sobre las scaled parts voy a aplicar una regularización\n",
    "from sklearn.linear_model import LogisticRegression\n",
    "from sklearn.model_selection import train_test_split\n",
    "\n",
    "# Regularización de tipo L1 con un valor de C=0.1\n",
    "for i in range(1, 8):\n",
    "    data_frame = globals()[f'df_scaled_part_{i}']\n",
    "    X = data_frame.drop(columns=['label']).copy()\n",
    "    y = data_frame['label']\n",
    "    \n",
    "    X_train, X_test, y_train, y_test = train_test_split(X, y, test_size=0.2, random_state=42)\n",
    "    \n",
    "    clf = LogisticRegression(penalty='l1', C=0.1, solver='liblinear', random_state=42)\n",
    "    clf.fit(X_train, y_train)\n",
    "    \n",
    "    coeficientes_no_cero = clf.coef_[0] != 0\n",
    "    # Intersección\n",
    "    if i == 1:\n",
    "        columnas_seleccionadas = set(X.columns[coeficientes_no_cero])\n",
    "    else:     \n",
    "        columnas_seleccionadas.intersection_update(set(X.columns[coeficientes_no_cero]))\n",
    "    \n",
    "print(f\" Seleccionadas {len(columnas_seleccionadas)} características después de regularización L1\")\n"
   ]
  },
  {
   "cell_type": "code",
   "execution_count": 73,
   "metadata": {},
   "outputs": [
    {
     "name": "stdout",
     "output_type": "stream",
     "text": [
      "{'Infraction_QKZN', 'Expenditure_ONEG', 'Infraction_QJJF', 'label', 'Payment_6804', 'Base_9516', 'Infraction_HSSU', 'Infraction_AYWV', 'Infraction_HFU', 'Infraction_BSU', 'Infraction_EJZ', 'Infraction_RKTA', 'Risk_8902', 'Payment_22507', 'Infraction_ZYW', 'Risk_9995', 'Infraction_GGO', 'Base_6187', 'Expenditure_LMSR', 'Payment_3207', 'Base_2810', 'Risk_1930', 'Base_85131', 'Base_66195', 'Base_1165', 'Base_6872', 'Base_76065', 'Risk_0322', 'Base_7744', 'Infraction_SNZ', 'Infraction_ZTYG', 'Infraction_CZXL', 'Base_22178', 'Base_4569', 'Base_36384', 'Base_80863', 'Expenditure_LAHK', 'Base_6852', 'Infraction_BGGU', 'Base_67254_encoded', 'Infraction_KEJT', 'Base_39598', 'Base_02683', 'ID', 'Expenditure_UWVG', 'Base_24406', 'Expenditure_UIWS', 'Base_3041', 'Infraction_EHZP'}\n"
     ]
    }
   ],
   "source": [
    "columnas_seleccionadas.add('label')\n",
    "print(columnas_seleccionadas)"
   ]
  },
  {
   "cell_type": "markdown",
   "metadata": {},
   "source": [
    "## Inbalanced data\n"
   ]
  },
  {
   "cell_type": "code",
   "execution_count": 72,
   "metadata": {},
   "outputs": [
    {
     "data": {
      "image/png": "[encoded data removed]",
      "text/plain": [
       "<Figure size 800x600 with 1 Axes>"
      ]
     },
     "metadata": {},
     "output_type": "display_data"
    },
    {
     "data": {
      "image/png": "[encoded data removed]",
      "text/plain": [
       "<Figure size 800x600 with 1 Axes>"
      ]
     },
     "metadata": {},
     "output_type": "display_data"
    }
   ],
   "source": [
    "import matplotlib.pyplot as plt\n",
    "import seaborn as sns\n",
    "import pandas as pd\n",
    "\n",
    "class_counts_total = {}\n",
    "\n",
    "for i in range(1, 8):\n",
    "\n",
    "    data_frame = globals()[f'df_scaled_part_{i}']\n",
    "    class_counts = data_frame['label'].value_counts()\n",
    "    \n",
    "\n",
    "    for label, count in class_counts.items():\n",
    "        if label in class_counts_total:\n",
    "            class_counts_total[label] += count\n",
    "        else:\n",
    "            class_counts_total[label] = count\n",
    "\n",
    "\n",
    "class_counts_total_df = pd.DataFrame(list(class_counts_total.items()), columns=['label', 'count'])\n",
    "\n",
    "\n",
    "plt.figure(figsize=(8, 6))\n",
    "sns.barplot(data=class_counts_total_df, x='label',hue = 'label', y='count', palette='viridis', legend=False)\n",
    "plt.title('Distribución de Clases Total')\n",
    "plt.xlabel('Clase')\n",
    "plt.ylabel('Frecuencia Total')\n",
    "plt.show()\n",
    "\n",
    "\n",
    "total_count = sum(class_counts_total.values())\n",
    "class_percentages = {label: (count / total_count) * 100 for label, count in class_counts_total.items()}\n",
    "\n",
    "# Gráfico circular para la distribución porcentual\n",
    "plt.figure(figsize=(8, 6))\n",
    "pd.Series(class_percentages).plot(kind='pie', autopct='%1.1f%%', startangle=140, colors=sns.color_palette(\"viridis\"))\n",
    "plt.title('Distribución de Porcentajes de Cada Clase')\n",
    "plt.ylabel('')\n",
    "plt.show()\n"
   ]
  },
  {
   "cell_type": "markdown",
   "metadata": {},
   "source": [
    "Claramente se ve una dominancia de la clase 0 sobre 1. \n",
    "<br><br>Como la diferencia de valores es tan significativa, en caso de aplicar directamente un Oversampling method sumaría de media 200.000 nuevas entradas por partición, 1.400.000 en total. \n",
    "<br><br>Para evitar un aumento tan masivo de datos y por consiguiente una dificultad añadida al entrenamiento, hemos decidido aplicar un Undersmpling method previo."
   ]
  },
  {
   "cell_type": "markdown",
   "metadata": {},
   "source": [
    "#### Undersampling + Oversampling (SMOTE)"
   ]
  },
  {
   "cell_type": "markdown",
   "metadata": {},
   "source": [
    "No quiero hacer un aumento masivo pero tampoco una pérdida masiva de información, así que voy a probar una técnica que termine con la misma cantidad inicial de entradas en cada dataframe\n",
    "<br><br> De este modo eliminamos e introducimos la misma cantidad de elementos y equilibramos los efectos negativos de ambos métodos (si solo eliminásemos habría una gran pérdida de información y si solo añadiésemos filas habría mayor riesgo de overfitting)"
   ]
  },
  {
   "cell_type": "code",
   "execution_count": 77,
   "metadata": {},
   "outputs": [
    {
     "name": "stdout",
     "output_type": "stream",
     "text": [
      "Partición 1:\n",
      "Distribución después de Undersampling - Clase 0: 123313; Clase 1: 123313\n",
      "Distribución después de SMOTE - Clase 0: 123313; Clase 1: 123313\n",
      "\n",
      "Partición 2:\n",
      "Distribución después de Undersampling - Clase 0: 121736; Clase 1: 121736\n",
      "Distribución después de SMOTE - Clase 0: 121736; Clase 1: 121736\n",
      "\n",
      "Partición 3:\n",
      "Distribución después de Undersampling - Clase 0: 124226; Clase 1: 124226\n",
      "Distribución después de SMOTE - Clase 0: 124226; Clase 1: 124226\n",
      "\n",
      "Partición 4:\n",
      "Distribución después de Undersampling - Clase 0: 123251; Clase 1: 123251\n",
      "Distribución después de SMOTE - Clase 0: 123251; Clase 1: 123251\n",
      "\n",
      "Partición 5:\n",
      "Distribución después de Undersampling - Clase 0: 122761; Clase 1: 122761\n",
      "Distribución después de SMOTE - Clase 0: 122761; Clase 1: 122761\n",
      "\n",
      "Partición 6:\n",
      "Distribución después de Undersampling - Clase 0: 122169; Clase 1: 122169\n",
      "Distribución después de SMOTE - Clase 0: 122169; Clase 1: 122169\n",
      "\n",
      "Partición 7:\n",
      "Distribución después de Undersampling - Clase 0: 76412; Clase 1: 76412\n",
      "Distribución después de SMOTE - Clase 0: 76412; Clase 1: 76412\n",
      "\n"
     ]
    }
   ],
   "source": [
    "from imblearn.under_sampling import RandomUnderSampler\n",
    "from imblearn.over_sampling import SMOTE\n",
    "\n",
    "for i in range(1, 8):\n",
    "    \n",
    "    data_frame = globals()[f'df_scaled_part_{i}']\n",
    "    total_instances = data_frame.shape[0]\n",
    "    # Casos en los que label = 1\n",
    "    desired_class_1 = data_frame[data_frame['label'] == 1].shape[0]\n",
    "    # Casos en los que label = 0\n",
    "    desired_class_0 = total_instances - desired_class_1\n",
    "\n",
    "    \n",
    "    X = data_frame.drop(columns=['label']).copy()  \n",
    "    y = data_frame['label'] \n",
    "\n",
    "    # UNDERSAMPLING\n",
    "    undersample = RandomUnderSampler(sampling_strategy={0: desired_class_0, 1: desired_class_1}, random_state=42)\n",
    "    X_under, y_under = undersample.fit_resample(X, y)\n",
    "\n",
    "    # OVERSAMPLING\n",
    "    smote = SMOTE(random_state=42)\n",
    "    X_resampled, y_resampled = smote.fit_resample(X_under, y_under)\n",
    "\n",
    "    \n",
    "    print(f'Partición {i}:')\n",
    "    print(f'Distribución después de Undersampling - Clase 0: {y_under.value_counts().get(0, 0)}; Clase 1: {y_under.value_counts().get(1, 0)}')\n",
    "    print(f'Distribución después de SMOTE - Clase 0: {y_resampled.value_counts().get(0, 0)}; Clase 1: {y_resampled.value_counts().get(1, 0)}')\n",
    "    print('')\n",
    "\n",
    "    \n",
    "    df_resampled = pd.DataFrame(X_resampled, columns=X.columns)\n",
    "    df_resampled['label'] = y_resampled\n",
    "    globals()[f'df_resampled_part_{i}'] = df_resampled  "
   ]
  },
  {
   "cell_type": "markdown",
   "metadata": {},
   "source": [
    "#### Oversampling : SMOTE"
   ]
  },
  {
   "cell_type": "code",
   "execution_count": 74,
   "metadata": {},
   "outputs": [
    {
     "name": "stdout",
     "output_type": "stream",
     "text": [
      "Partición 1:\n",
      "Distribución original - Clase 0: 368156; Clase 1: 123313\n",
      "Distribución después de SMOTE - Clase 0: 368156; Clase 1: 368156\n",
      "\n",
      "Partición 2:\n",
      "Distribución original - Clase 0: 369725; Clase 1: 121736\n",
      "Distribución después de SMOTE - Clase 0: 369725; Clase 1: 369725\n",
      "\n",
      "Partición 3:\n",
      "Distribución original - Clase 0: 367236; Clase 1: 124226\n",
      "Distribución después de SMOTE - Clase 0: 367236; Clase 1: 367236\n",
      "\n",
      "Partición 4:\n",
      "Distribución original - Clase 0: 368211; Clase 1: 123251\n",
      "Distribución después de SMOTE - Clase 0: 368211; Clase 1: 368211\n",
      "\n",
      "Partición 5:\n",
      "Distribución original - Clase 0: 368698; Clase 1: 122761\n",
      "Distribución después de SMOTE - Clase 0: 368698; Clase 1: 368698\n",
      "\n",
      "Partición 6:\n",
      "Distribución original - Clase 0: 369297; Clase 1: 122169\n",
      "Distribución después de SMOTE - Clase 0: 369297; Clase 1: 369297\n",
      "\n",
      "Partición 7:\n",
      "Distribución original - Clase 0: 236745; Clase 1: 76412\n",
      "Distribución después de SMOTE - Clase 0: 236745; Clase 1: 236745\n",
      "\n"
     ]
    }
   ],
   "source": [
    "from imblearn.over_sampling import SMOTE\n",
    "\n",
    "# Aplica SMOTE a cada partición sin dividir en train/test\n",
    "for i in range(1, 8):\n",
    "    # Cargar cada DataFrame correspondiente a la partición\n",
    "    data_frame = globals()[f'df_scaled_part_{i}']\n",
    "    \n",
    "    X = data_frame.drop(columns=['label']).copy()  # Características\n",
    "    y = data_frame['label']  # Variable objetivo\n",
    "    \n",
    "    # Aplicar SMOTE\n",
    "    smote = SMOTE(random_state=42)\n",
    "    X_resampled, y_resampled = smote.fit_resample(X, y)\n",
    "    \n",
    "    # Mostrar la distribución después de SMOTE\n",
    "    print(f'Partición {i}:')\n",
    "    print(f'Distribución original - Clase 0: {y.value_counts().get(0, 0)}; Clase 1: {y.value_counts().get(1, 0)}')\n",
    "    print(f'Distribución después de SMOTE - Clase 0: {y_resampled.value_counts().get(0, 0)}; Clase 1: {y_resampled.value_counts().get(1, 0)}')\n",
    "    print('')\n",
    "\n",
    "    df_resampled = pd.DataFrame(X_resampled, columns=X.columns)\n",
    "    df_resampled['label'] = y_resampled\n",
    "    globals()[f'df_SMOTE_part_{i}'] = df_resampled  # Guarda el nuevo DataFrame en una variable global\n",
    "\n"
   ]
  },
  {
   "cell_type": "markdown",
   "metadata": {},
   "source": [
    "## Reducción de dimensionalidad\n",
    "\n"
   ]
  }
 ],
 "metadata": {
  "kernelspec": {
   "display_name": "Python 3",
   "language": "python",
   "name": "python3"
  },
  "language_info": {
   "codemirror_mode": {
    "name": "ipython",
    "version": 3
   },
   "file_extension": ".py",
   "mimetype": "text/x-python",
   "name": "python",
   "nbconvert_exporter": "python",
   "pygments_lexer": "ipython3",
   "version": "3.12.3"
  }
 },
 "nbformat": 4,
 "nbformat_minor": 2
}
