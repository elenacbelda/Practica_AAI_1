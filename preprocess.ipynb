{
 "cells": [
  {
   "cell_type": "code",
   "execution_count": 1,
   "metadata": {},
   "outputs": [],
   "source": [
    "%%capture\n",
    "# !pip3.12 install missingno\n",
    "import pandas as pd\n",
    "import numpy as np\n",
    "from sklearn.model_selection import train_test_split\n",
    "from sklearn.impute import SimpleImputer\n",
    "from sklearn.preprocessing import StandardScaler, MinMaxScaler\n",
    "from sklearn.neighbors import KNeighborsClassifier\n",
    "from sklearn.tree import DecisionTreeClassifier\n",
    "from sklearn.metrics import accuracy_score, precision_score, recall_score, f1_score, confusion_matrix\n",
    "import matplotlib.pyplot as plt\n",
    "from sklearn.tree import plot_tree\n",
    "from sklearn.tree import export_text\n",
    "import matplotlib.pyplot as plt\n",
    "import seaborn as sns\n",
    "import missingno as msno"
   ]
  },
  {
   "cell_type": "markdown",
   "metadata": {},
   "source": [
    "# Análisis preliminar\n"
   ]
  },
  {
   "cell_type": "code",
   "execution_count": 11,
   "metadata": {},
   "outputs": [],
   "source": [
    "df_data_100 = pd.read_csv('train_data_100_lines.csv', encoding='ISO-8859-1')\n",
    "df_label = pd.read_csv('train_labels_50_lines.csv', encoding='ISO-8859-1')"
   ]
  },
  {
   "cell_type": "code",
   "execution_count": 12,
   "metadata": {},
   "outputs": [
    {
     "data": {
      "text/html": [
       "<div>\n",
       "<style scoped>\n",
       "    .dataframe tbody tr th:only-of-type {\n",
       "        vertical-align: middle;\n",
       "    }\n",
       "\n",
       "    .dataframe tbody tr th {\n",
       "        vertical-align: top;\n",
       "    }\n",
       "\n",
       "    .dataframe thead th {\n",
       "        text-align: right;\n",
       "    }\n",
       "</style>\n",
       "<table border=\"1\" class=\"dataframe\">\n",
       "  <thead>\n",
       "    <tr style=\"text-align: right;\">\n",
       "      <th></th>\n",
       "      <th>ID</th>\n",
       "      <th>Expenditure_AHF</th>\n",
       "      <th>Payment_6804</th>\n",
       "      <th>Infraction_CGP</th>\n",
       "      <th>Base_7744</th>\n",
       "      <th>Base_80863</th>\n",
       "      <th>Risk_1930</th>\n",
       "      <th>Expenditure_JIG</th>\n",
       "      <th>Infraction_SNZ</th>\n",
       "      <th>Base_02683</th>\n",
       "      <th>...</th>\n",
       "      <th>Infraction_WWLN</th>\n",
       "      <th>Infraction_ADWZ</th>\n",
       "      <th>Infraction_MZI</th>\n",
       "      <th>Infraction_QWWW</th>\n",
       "      <th>Infraction_YQXM</th>\n",
       "      <th>Infraction_QGR</th>\n",
       "      <th>Infraction_ZTLC</th>\n",
       "      <th>Infraction_LSX</th>\n",
       "      <th>Infraction_IBJ</th>\n",
       "      <th>Infraction_DNOU</th>\n",
       "    </tr>\n",
       "  </thead>\n",
       "  <tbody>\n",
       "    <tr>\n",
       "      <th>0</th>\n",
       "      <td>3333337004103300505242400473433643475477705348...</td>\n",
       "      <td>2017-03-05</td>\n",
       "      <td>0.929122</td>\n",
       "      <td>0.382790</td>\n",
       "      <td>0.025782</td>\n",
       "      <td>1.002647</td>\n",
       "      <td>0.005515</td>\n",
       "      <td>0.089799</td>\n",
       "      <td>0.001479</td>\n",
       "      <td>0.005830</td>\n",
       "      <td>...</td>\n",
       "      <td>NaN</td>\n",
       "      <td>NaN</td>\n",
       "      <td>NaN</td>\n",
       "      <td>0.003776</td>\n",
       "      <td>0.001808</td>\n",
       "      <td>0.008200</td>\n",
       "      <td>NaN</td>\n",
       "      <td>0.001061</td>\n",
       "      <td>0.000027</td>\n",
       "      <td>0.002629</td>\n",
       "    </tr>\n",
       "    <tr>\n",
       "      <th>1</th>\n",
       "      <td>3333337004103300505242400473433643475477705348...</td>\n",
       "      <td>2017-04-20</td>\n",
       "      <td>0.918431</td>\n",
       "      <td>0.002224</td>\n",
       "      <td>0.006806</td>\n",
       "      <td>1.008186</td>\n",
       "      <td>0.003287</td>\n",
       "      <td>0.095966</td>\n",
       "      <td>0.007831</td>\n",
       "      <td>0.000861</td>\n",
       "      <td>...</td>\n",
       "      <td>NaN</td>\n",
       "      <td>NaN</td>\n",
       "      <td>NaN</td>\n",
       "      <td>0.004046</td>\n",
       "      <td>0.008288</td>\n",
       "      <td>0.001375</td>\n",
       "      <td>NaN</td>\n",
       "      <td>0.009999</td>\n",
       "      <td>0.002669</td>\n",
       "      <td>0.006912</td>\n",
       "    </tr>\n",
       "    <tr>\n",
       "      <th>2</th>\n",
       "      <td>3333337004103300505242400473433643475477705348...</td>\n",
       "      <td>2017-05-11</td>\n",
       "      <td>0.922563</td>\n",
       "      <td>0.567403</td>\n",
       "      <td>0.033713</td>\n",
       "      <td>1.007497</td>\n",
       "      <td>0.005594</td>\n",
       "      <td>0.094655</td>\n",
       "      <td>0.003162</td>\n",
       "      <td>0.010466</td>\n",
       "      <td>...</td>\n",
       "      <td>NaN</td>\n",
       "      <td>NaN</td>\n",
       "      <td>NaN</td>\n",
       "      <td>0.007742</td>\n",
       "      <td>0.002693</td>\n",
       "      <td>0.009851</td>\n",
       "      <td>NaN</td>\n",
       "      <td>0.000996</td>\n",
       "      <td>0.003254</td>\n",
       "      <td>0.004469</td>\n",
       "    </tr>\n",
       "    <tr>\n",
       "      <th>3</th>\n",
       "      <td>3333337004103300505242400473433643475477705348...</td>\n",
       "      <td>2017-06-29</td>\n",
       "      <td>0.919253</td>\n",
       "      <td>0.213193</td>\n",
       "      <td>0.031170</td>\n",
       "      <td>1.008534</td>\n",
       "      <td>0.008996</td>\n",
       "      <td>0.099089</td>\n",
       "      <td>0.009513</td>\n",
       "      <td>0.005360</td>\n",
       "      <td>...</td>\n",
       "      <td>NaN</td>\n",
       "      <td>NaN</td>\n",
       "      <td>NaN</td>\n",
       "      <td>0.002502</td>\n",
       "      <td>0.003399</td>\n",
       "      <td>0.004284</td>\n",
       "      <td>NaN</td>\n",
       "      <td>0.002642</td>\n",
       "      <td>0.004325</td>\n",
       "      <td>0.006308</td>\n",
       "    </tr>\n",
       "    <tr>\n",
       "      <th>4</th>\n",
       "      <td>3333337004103300505242400473433643475477705348...</td>\n",
       "      <td>2017-08-03</td>\n",
       "      <td>0.901860</td>\n",
       "      <td>0.325467</td>\n",
       "      <td>0.109644</td>\n",
       "      <td>1.005098</td>\n",
       "      <td>0.008041</td>\n",
       "      <td>0.108526</td>\n",
       "      <td>0.000732</td>\n",
       "      <td>0.005484</td>\n",
       "      <td>...</td>\n",
       "      <td>NaN</td>\n",
       "      <td>NaN</td>\n",
       "      <td>NaN</td>\n",
       "      <td>0.000275</td>\n",
       "      <td>0.007992</td>\n",
       "      <td>0.006918</td>\n",
       "      <td>NaN</td>\n",
       "      <td>0.009869</td>\n",
       "      <td>0.002979</td>\n",
       "      <td>0.005527</td>\n",
       "    </tr>\n",
       "  </tbody>\n",
       "</table>\n",
       "<p>5 rows × 190 columns</p>\n",
       "</div>"
      ],
      "text/plain": [
       "                                                  ID Expenditure_AHF  \\\n",
       "0  3333337004103300505242400473433643475477705348...      2017-03-05   \n",
       "1  3333337004103300505242400473433643475477705348...      2017-04-20   \n",
       "2  3333337004103300505242400473433643475477705348...      2017-05-11   \n",
       "3  3333337004103300505242400473433643475477705348...      2017-06-29   \n",
       "4  3333337004103300505242400473433643475477705348...      2017-08-03   \n",
       "\n",
       "   Payment_6804  Infraction_CGP  Base_7744  Base_80863  Risk_1930  \\\n",
       "0      0.929122        0.382790   0.025782    1.002647   0.005515   \n",
       "1      0.918431        0.002224   0.006806    1.008186   0.003287   \n",
       "2      0.922563        0.567403   0.033713    1.007497   0.005594   \n",
       "3      0.919253        0.213193   0.031170    1.008534   0.008996   \n",
       "4      0.901860        0.325467   0.109644    1.005098   0.008041   \n",
       "\n",
       "   Expenditure_JIG  Infraction_SNZ  Base_02683  ...  Infraction_WWLN  \\\n",
       "0         0.089799        0.001479    0.005830  ...              NaN   \n",
       "1         0.095966        0.007831    0.000861  ...              NaN   \n",
       "2         0.094655        0.003162    0.010466  ...              NaN   \n",
       "3         0.099089        0.009513    0.005360  ...              NaN   \n",
       "4         0.108526        0.000732    0.005484  ...              NaN   \n",
       "\n",
       "   Infraction_ADWZ  Infraction_MZI  Infraction_QWWW  Infraction_YQXM  \\\n",
       "0              NaN             NaN         0.003776         0.001808   \n",
       "1              NaN             NaN         0.004046         0.008288   \n",
       "2              NaN             NaN         0.007742         0.002693   \n",
       "3              NaN             NaN         0.002502         0.003399   \n",
       "4              NaN             NaN         0.000275         0.007992   \n",
       "\n",
       "   Infraction_QGR  Infraction_ZTLC  Infraction_LSX  Infraction_IBJ  \\\n",
       "0        0.008200              NaN        0.001061        0.000027   \n",
       "1        0.001375              NaN        0.009999        0.002669   \n",
       "2        0.009851              NaN        0.000996        0.003254   \n",
       "3        0.004284              NaN        0.002642        0.004325   \n",
       "4        0.006918              NaN        0.009869        0.002979   \n",
       "\n",
       "   Infraction_DNOU  \n",
       "0         0.002629  \n",
       "1         0.006912  \n",
       "2         0.004469  \n",
       "3         0.006308  \n",
       "4         0.005527  \n",
       "\n",
       "[5 rows x 190 columns]"
      ]
     },
     "execution_count": 12,
     "metadata": {},
     "output_type": "execute_result"
    }
   ],
   "source": [
    "df_data_100.head()\n"
   ]
  },
  {
   "cell_type": "code",
   "execution_count": 4,
   "metadata": {},
   "outputs": [
    {
     "name": "stdout",
     "output_type": "stream",
     "text": [
      "Hay 9 transacciones que no están consecutivas.\n",
      "                                                   ID\n",
      "0   3333337004103300505242400473433643475477705348...\n",
      "13  3333412724050477534287115505554450368233003786...\n",
      "26  3333755354307801420025735367852078550468735254...\n",
      "39  3333545238615133608512002405572210535308150267...\n",
      "52  3333333216773173414240337455254307444633113087...\n",
      "65  3331615143023053154650782333554783450473733165...\n",
      "78  3331667757451082637147533444427274432044222417...\n",
      "81  3331518360312256685203553502477321640385423445...\n",
      "94  3331577436843324303562132281160853252523518165...\n"
     ]
    }
   ],
   "source": [
    "import pandas as pd\n",
    "\n",
    "# Revisar si las transacciones de un mismo cliente están consecutivas\n",
    "df_data_100['is_consecutive'] = df_data_100['ID'] == df_data_100['ID'].shift()\n",
    "\n",
    "# Verificar si hay filas donde el ID del cliente no es consecutivo\n",
    "non_consecutive = df_data_100[df_data_100['is_consecutive'] == False]\n",
    "\n",
    "if non_consecutive.empty:\n",
    "    print(\"Todas las transacciones de los clientes están colocadas consecutivamente.\")\n",
    "else:\n",
    "    print(f\"Hay {len(non_consecutive)} transacciones que no están consecutivas.\")\n",
    "    print(non_consecutive[['ID']].drop_duplicates())  # Muestra los IDs no consecutivos\n"
   ]
  },
  {
   "cell_type": "markdown",
   "metadata": {},
   "source": [
    "# Preprocesado \n"
   ]
  },
  {
   "cell_type": "code",
   "execution_count": null,
   "metadata": {},
   "outputs": [],
   "source": [
    "df_data = pd.read_csv('train_data.csv', encoding='ISO-8859-1')\n"
   ]
  },
  {
   "cell_type": "code",
   "execution_count": 9,
   "metadata": {},
   "outputs": [
    {
     "data": {
      "text/plain": [
       "3318787"
      ]
     },
     "execution_count": 9,
     "metadata": {},
     "output_type": "execute_result"
    }
   ],
   "source": [
    "df_data.shape[0]"
   ]
  },
  {
   "cell_type": "markdown",
   "metadata": {},
   "source": [
    "### División en csv's\n"
   ]
  },
  {
   "cell_type": "code",
   "execution_count": 13,
   "metadata": {},
   "outputs": [
    {
     "name": "stdout",
     "output_type": "stream",
     "text": [
      "Archivo train_data_part_1.csv guardado con 500011 filas.\n",
      "Archivo train_data_part_2.csv guardado con 500003 filas.\n",
      "Archivo train_data_part_3.csv guardado con 500004 filas.\n",
      "Archivo train_data_part_4.csv guardado con 500004 filas.\n",
      "Archivo train_data_part_5.csv guardado con 500001 filas.\n",
      "Archivo train_data_part_6.csv guardado con 500008 filas.\n",
      "Archivo train_data_part_7.csv guardado con 318756 filas.\n"
     ]
    }
   ],
   "source": [
    "\n",
    "# Definir el tamaño objetivo de 500,000 filas por CSV\n",
    "chunk_size = 500000\n",
    "\n",
    "# Inicializar variables\n",
    "current_chunk = []\n",
    "current_chunk_size = 0\n",
    "file_index = 1\n",
    "last_customer_id = None\n",
    "\n",
    "# Función para guardar el chunk actual en un CSV\n",
    "def save_chunk(chunk, file_index):\n",
    "    df_chunk = pd.DataFrame(chunk)\n",
    "    df_chunk.to_csv(f'train_data_part_{file_index}.csv', index=False)\n",
    "    print(f'Archivo train_data_part_{file_index}.csv guardado con {len(df_chunk)} filas.')\n",
    "\n",
    "# Iterar sobre el DataFrame\n",
    "for i, row in df_data.iterrows():\n",
    "    customer_id = row['ID']\n",
    "\n",
    "    # Si hemos alcanzado el tamaño máximo del chunk y el nuevo customer_id es diferente al último en el chunk\n",
    "    if current_chunk_size >= chunk_size and customer_id != last_customer_id:\n",
    "        save_chunk(current_chunk, file_index)  # Guardar el CSV actual\n",
    "        file_index += 1\n",
    "        current_chunk = []  # Reiniciar el chunk\n",
    "        current_chunk_size = 0\n",
    "\n",
    "    # Añadir la fila actual al chunk\n",
    "    current_chunk.append(row)\n",
    "    current_chunk_size += 1\n",
    "    last_customer_id = customer_id\n",
    "\n",
    "# Guardar el último chunk si no está vacío\n",
    "if current_chunk:\n",
    "    save_chunk(current_chunk, file_index)\n"
   ]
  },
  {
   "cell_type": "code",
   "execution_count": 14,
   "metadata": {},
   "outputs": [],
   "source": [
    "df_data_part_1 = pd.read_csv('train_data_part_1.csv', encoding='ISO-8859-1')"
   ]
  },
  {
   "cell_type": "code",
   "execution_count": 17,
   "metadata": {},
   "outputs": [],
   "source": [
    "pd.set_option('display.max_rows', None)"
   ]
  },
  {
   "cell_type": "code",
   "execution_count": 18,
   "metadata": {},
   "outputs": [
    {
     "name": "stdout",
     "output_type": "stream",
     "text": [
      "Payment_6804         0.861581\n",
      "Base_80863           0.036399\n",
      "Expenditure_JIG     18.512393\n",
      "Infraction_SNZ       0.036399\n",
      "Base_02683           0.036399\n",
      "Infraction_SBF      85.429721\n",
      "Infraction_ZWWJ     30.097338\n",
      "Infraction_QJJF      4.999490\n",
      "Infraction_EJZ       0.036399\n",
      "Infraction_FMXQ     21.958917\n",
      "Infraction_TLPJ     13.045513\n",
      "Infraction_NCB      89.935821\n",
      "Base_1165            0.002600\n",
      "Base_6187            0.419391\n",
      "Infraction_CLLY     56.598955\n",
      "Infraction_AYWV      0.526988\n",
      "Payment_22507        5.535278\n",
      "Infraction_GWL      73.906974\n",
      "Infraction_PAS       0.036399\n",
      "Expenditure_HMO     18.512393\n",
      "Infraction_BSU       3.396725\n",
      "Infraction_GEL      54.170808\n",
      "Base_14808           0.892580\n",
      "Expenditure_KMW     52.999634\n",
      "Infraction_HSSU      1.940357\n",
      "Infraction_TBP      10.791163\n",
      "Base_0580            0.111598\n",
      "Infraction_PBC      13.748098\n",
      "Infraction_DQLY      3.955113\n",
      "Base_0229            0.036399\n",
      "Base_8318           56.626954\n",
      "Base_91828           0.036399\n",
      "Infraction_HPS      88.570651\n",
      "Base_6852            0.036399\n",
      "Infraction_CLH       3.903314\n",
      "Infraction_JYZB      3.521523\n",
      "Base_22178           0.036399\n",
      "Infraction_ZTYG      1.691363\n",
      "Infraction_EYU       0.416591\n",
      "Infraction_JVWF     99.002822\n",
      "Infraction_QKZN      0.380992\n",
      "Infraction_APIU     88.758247\n",
      "Infraction_JBR      45.673795\n",
      "Base_66195           0.111598\n",
      "Base_36516           0.036399\n",
      "Infraction_RXQH      4.999490\n",
      "Infraction_HFU       1.356570\n",
      "Risk_5797           94.240527\n",
      "Infraction_VTR       0.380992\n",
      "Base_7331            0.036399\n",
      "Infraction_XWX       0.470190\n",
      "Infraction_FUSM     73.458384\n",
      "Risk_4553            0.000400\n",
      "Infraction_VHU       3.521523\n",
      "Infraction_GSS       0.526988\n",
      "Base_8379           93.104552\n",
      "Base_8730            0.036399\n",
      "Infraction_IRKE     99.934001\n",
      "Infraction_WEG      99.879603\n",
      "Risk_9423            0.001400\n",
      "Base_9103            0.036399\n",
      "Infraction_KSBR      0.526988\n",
      "Infraction_NRBQ      2.844137\n",
      "Expenditure_UIWS     0.344592\n",
      "Expenditure_ONEG     0.002800\n",
      "Expenditure_MTRQ     0.339993\n",
      "Expenditure_LAHK     0.232195\n",
      "Expenditure_HPM      0.014400\n",
      "Infraction_LTIS      0.734584\n",
      "Infraction_HFSI      1.805160\n",
      "Infraction_ETH       1.805160\n",
      "Infraction_ZVHJ     54.284006\n",
      "Infraction_ANHZ     90.009820\n",
      "Infraction_SDWM      1.805160\n",
      "Base_2810            0.001600\n",
      "Risk_4561           89.018442\n",
      "Risk_8902            2.359948\n",
      "Base_67254           0.036399\n",
      "Infraction_HPLO     99.479611\n",
      "Infraction_PTY       0.030999\n",
      "Infraction_QGC      99.424213\n",
      "Infraction_EBA      99.424213\n",
      "Base_64022          99.375014\n",
      "Infraction_BGGU      0.050799\n",
      "Base_4569            0.001400\n",
      "Expenditure_BEH     25.353642\n",
      "Infraction_LMHK      3.191330\n",
      "Infraction_NMCB      3.191330\n",
      "Infraction_TPAF      3.191330\n",
      "Infraction_ZRH       3.191330\n",
      "Infraction_TEN       3.191330\n",
      "Infraction_XEPQ      3.191330\n",
      "Infraction_ZMKI      3.191330\n",
      "Infraction_WIS       3.191330\n",
      "Infraction_RKTA      3.191330\n",
      "Infraction_IIZ       3.191330\n",
      "Infraction_WVAW      3.191330\n",
      "Infraction_KEJT      3.191330\n",
      "Infraction_TFOY      3.191330\n",
      "Infraction_WMAQ      2.132953\n",
      "Infraction_CZXL      1.805160\n",
      "Infraction_QEY       1.805160\n",
      "Base_52892           0.014800\n",
      "Base_3958           98.660829\n",
      "Infraction_HUK       1.805160\n",
      "Infraction_VHHP      1.805160\n",
      "Infraction_WLMI     89.987820\n",
      "Infraction_LIES      0.768783\n",
      "Infraction_SVKR     96.413479\n",
      "Infraction_MAN      96.413479\n",
      "Infraction_WWLN     96.413479\n",
      "Infraction_ADWZ     96.413479\n",
      "Infraction_MZI      96.413479\n",
      "Infraction_QWWW      1.805160\n",
      "Infraction_YQXM      0.734184\n",
      "Infraction_QGR       1.805160\n",
      "Infraction_ZTLC     83.093972\n",
      "Infraction_LSX       1.805160\n",
      "Infraction_IBJ       0.735184\n",
      "Infraction_DNOU      1.805160\n",
      "dtype: float64\n"
     ]
    }
   ],
   "source": [
    "percentage = df_data_part_1.isnull().mean() * 100\n",
    "columns_with_nulls = percentage[percentage > 0]\n",
    "print(columns_with_nulls)\n"
   ]
  },
  {
   "cell_type": "markdown",
   "metadata": {},
   "source": [
    "## Cargado de csv's\n"
   ]
  },
  {
   "cell_type": "code",
   "execution_count": 2,
   "metadata": {},
   "outputs": [
    {
     "name": "stdout",
     "output_type": "stream",
     "text": [
      "Archivo train_data_part_1.csv cargado en df_data_part_1\n",
      "Archivo train_data_part_2.csv cargado en df_data_part_2\n",
      "Archivo train_data_part_3.csv cargado en df_data_part_3\n",
      "Archivo train_data_part_4.csv cargado en df_data_part_4\n",
      "Archivo train_data_part_5.csv cargado en df_data_part_5\n",
      "Archivo train_data_part_6.csv cargado en df_data_part_6\n",
      "Archivo train_data_part_7.csv cargado en df_data_part_7\n"
     ]
    }
   ],
   "source": [
    "for i in range(1, 8):\n",
    "    file_name = f'train_data_part_{i}.csv'\n",
    "    globals()[f'df_data_part_{i}'] = pd.read_csv(file_name, encoding='ISO-8859-1')\n",
    "    print(f'Archivo {file_name} cargado en df_data_part_{i}')"
   ]
  },
  {
   "cell_type": "markdown",
   "metadata": {},
   "source": [
    "### Comprobar columnas con valores nulos"
   ]
  },
  {
   "cell_type": "code",
   "execution_count": 46,
   "metadata": {},
   "outputs": [],
   "source": [
    "def null_percentage(df, percentage):\n",
    "    null_ratio = {}\n",
    "    for col in df.columns:\n",
    "        ratio = df[col].isna().sum() / len(df) * 100\n",
    "        if ratio > percentage:\n",
    "            null_ratio[col] = ratio\n",
    "           \n",
    "    return null_ratio"
   ]
  },
  {
   "cell_type": "markdown",
   "metadata": {},
   "source": [
    "Me quedo solo con las columnas con menos de 80% de valores nulos"
   ]
  },
  {
   "cell_type": "code",
   "execution_count": 5,
   "metadata": {},
   "outputs": [
    {
     "name": "stdout",
     "output_type": "stream",
     "text": [
      "Columnas con más del 80% de valores nulos en todos los CSVs: ['Base_3958', 'Infraction_WWLN', 'Infraction_JVWF', 'Infraction_ZTLC', 'Infraction_IRKE', 'Infraction_QGC', 'Infraction_WLMI', 'Infraction_MZI', 'Risk_5797', 'Infraction_HPS', 'Infraction_HPLO', 'Infraction_SVKR', 'Base_64022', 'Infraction_ADWZ', 'Infraction_EBA', 'Risk_4561', 'Infraction_SBF', 'Infraction_APIU', 'Infraction_MAN', 'Infraction_WEG', 'Infraction_ANHZ', 'Base_8379', 'Infraction_NCB']\n"
     ]
    }
   ],
   "source": [
    "columns_with_high_nulls = []\n",
    "for i in range(1, 8):\n",
    "    data_frame = globals()[f'df_data_part_{i}']\n",
    "    null_columns = set(null_percentage(data_frame, 80).keys())\n",
    "    \n",
    "    # Si es el primer DataFrame, inicializar el conjunto con sus columnas\n",
    "    if i == 1:\n",
    "        columns_with_high_nulls = null_columns\n",
    "    else:\n",
    "        # Mantener solo las columnas que están en todos los DataFrames\n",
    "        columns_with_high_nulls = columns_with_high_nulls.intersection(null_columns)\n",
    "\n",
    "columns_with_high_nulls = list(columns_with_high_nulls)\n",
    "\n",
    "print(f\"Columnas con más del 80% de valores nulos en todos los CSVs: {columns_with_high_nulls}\")"
   ]
  },
  {
   "cell_type": "markdown",
   "metadata": {},
   "source": [
    "Eliminamos las columnas con más de 80% de valores nulos en todos los csv's"
   ]
  },
  {
   "cell_type": "code",
   "execution_count": 6,
   "metadata": {},
   "outputs": [],
   "source": [
    "for i in range(1, 8):\n",
    "    data_frame = globals()[f'df_data_part_{i}']\n",
    "    data_frame.drop(columns=columns_with_high_nulls, inplace=True)\n",
    "    "
   ]
  },
  {
   "cell_type": "markdown",
   "metadata": {},
   "source": [
    "### Comprobar si hay filas que tengan todas las columnas a null\n"
   ]
  },
  {
   "cell_type": "code",
   "execution_count": 8,
   "metadata": {},
   "outputs": [
    {
     "name": "stdout",
     "output_type": "stream",
     "text": [
      "No hay filas completamente nulas en df_data_part_1.\n",
      "No hay filas completamente nulas en df_data_part_2.\n",
      "No hay filas completamente nulas en df_data_part_3.\n",
      "No hay filas completamente nulas en df_data_part_4.\n",
      "No hay filas completamente nulas en df_data_part_5.\n",
      "No hay filas completamente nulas en df_data_part_6.\n",
      "No hay filas completamente nulas en df_data_part_7.\n"
     ]
    }
   ],
   "source": [
    "# Verificar si hay filas completamente nulas\n",
    "for i in range(1, 8):\n",
    "    data_frame = globals()[f'df_data_part_{i}']\n",
    "    null_rows = data_frame[data_frame.isnull().all(axis=1)]\n",
    "    if not null_rows.empty:\n",
    "        print(f'Filas completamente nulas en df_data_part_{i}:')\n",
    "        print(null_rows)\n",
    "    else:\n",
    "        print(f'No hay filas completamente nulas en df_data_part_{i}.')"
   ]
  },
  {
   "cell_type": "markdown",
   "metadata": {},
   "source": [
    "### Comprobar filas duplicadas"
   ]
  },
  {
   "cell_type": "code",
   "execution_count": 21,
   "metadata": {},
   "outputs": [
    {
     "name": "stdout",
     "output_type": "stream",
     "text": [
      "No hay filas duplicadas en df_data_part_1.\n",
      "No hay filas duplicadas en df_data_part_2.\n",
      "No hay filas duplicadas en df_data_part_3.\n",
      "No hay filas duplicadas en df_data_part_4.\n",
      "No hay filas duplicadas en df_data_part_5.\n",
      "No hay filas duplicadas en df_data_part_6.\n",
      "No hay filas duplicadas en df_data_part_7.\n"
     ]
    }
   ],
   "source": [
    "# Verificar si hay filas duplicadas en cada DataFrame\n",
    "for i in range(1, 8):\n",
    "    data_frame = globals()[f'df_data_part_{i}']\n",
    "    duplicate_rows = data_frame[data_frame.duplicated()]\n",
    "    if not duplicate_rows.empty:\n",
    "        print(f'Filas duplicadas en df_data_part_{i}:')\n",
    "        print(duplicate_rows)\n",
    "    else:\n",
    "        print(f'No hay filas duplicadas en df_data_part_{i}.')"
   ]
  },
  {
   "cell_type": "markdown",
   "metadata": {},
   "source": [
    "### Comprobar varianza 0"
   ]
  },
  {
   "cell_type": "code",
   "execution_count": 22,
   "metadata": {},
   "outputs": [
    {
     "name": "stdout",
     "output_type": "stream",
     "text": [
      "No hay columnas con baja varianza en df_data_part_1.\n",
      "No hay columnas con baja varianza en df_data_part_2.\n",
      "No hay columnas con baja varianza en df_data_part_3.\n",
      "No hay columnas con baja varianza en df_data_part_4.\n",
      "No hay columnas con baja varianza en df_data_part_5.\n",
      "No hay columnas con baja varianza en df_data_part_6.\n",
      "No hay columnas con baja varianza en df_data_part_7.\n"
     ]
    }
   ],
   "source": [
    "# Verificar si hay columnas con baja varianza\n",
    "for i in range(1, 8):\n",
    "    data_frame = globals()[f'df_data_part_{i}']\n",
    "    low_variance_cols = []\n",
    "    for col in data_frame.columns:\n",
    "        if data_frame[col].nunique() == 1:\n",
    "            low_variance_cols.append(col)\n",
    "    if low_variance_cols:\n",
    "        print(f'Columnas con baja varianza en df_data_part_{i}: {low_variance_cols}')\n",
    "    else:\n",
    "        print(f'No hay columnas con baja varianza en df_data_part_{i}.')"
   ]
  },
  {
   "cell_type": "markdown",
   "metadata": {},
   "source": [
    "Cuidado porque un 5% puede ser poco y a la vez, todas las filas de un cliente"
   ]
  },
  {
   "cell_type": "code",
   "execution_count": 47,
   "metadata": {},
   "outputs": [
    {
     "name": "stdout",
     "output_type": "stream",
     "text": [
      "Valores nulos en df_data_part_1:\n",
      "{'Payment_6804': np.float64(0.8615810452170053), 'Base_80863': np.float64(0.036399199217617216), 'Expenditure_JIG': np.float64(18.512392727359998), 'Infraction_SNZ': np.float64(0.036399199217617216), 'Base_02683': np.float64(0.036399199217617216), 'Infraction_ZWWJ': np.float64(30.097337858567112), 'Infraction_QJJF': np.float64(4.999490011219753), 'Infraction_EJZ': np.float64(0.036399199217617216), 'Infraction_FMXQ': np.float64(21.958916903828115), 'Infraction_TLPJ': np.float64(13.04551299871403), 'Base_1165': np.float64(0.002599942801258372), 'Base_6187': np.float64(0.4193907734029851), 'Infraction_CLLY': np.float64(56.598954822993896), 'Infraction_AYWV': np.float64(0.5269884062550624), 'Payment_22507': np.float64(5.535278223879074), 'Infraction_GWL': np.float64(73.90697404657097), 'Infraction_PAS': np.float64(0.036399199217617216), 'Expenditure_HMO': np.float64(18.512392727359998), 'Infraction_BSU': np.float64(3.396725272044015), 'Infraction_GEL': np.float64(54.17080824221867), 'Base_14808': np.float64(0.8925803632320088), 'Expenditure_KMW': np.float64(52.99963400805182), 'Infraction_HSSU': np.float64(1.9403573121391329), 'Infraction_TBP': np.float64(10.791162594422923), 'Base_0580': np.float64(0.11159754485401321), 'Infraction_PBC': np.float64(13.74809754185408), 'Base_0229': np.float64(0.036399199217617216), 'Base_8318': np.float64(56.626954207007444), 'Base_91828': np.float64(0.036399199217617216), 'Base_6852': np.float64(0.036399199217617216), 'Infraction_CLH': np.float64(3.903314127089204), 'Infraction_JYZB': np.float64(3.521522526504417), 'Base_22178': np.float64(0.036399199217617216), 'Infraction_ZTYG': np.float64(1.6913627900186197), 'Infraction_EYU': np.float64(0.4165908350016299), 'Infraction_QKZN': np.float64(0.38099161818439997), 'Infraction_JBR': np.float64(45.67379517650612), 'Base_66195': np.float64(0.11159754485401321), 'Base_36516': np.float64(0.036399199217617216), 'Infraction_RXQH': np.float64(4.999490011219753), 'Infraction_HFU': np.float64(1.3565701554565799), 'Infraction_VTR': np.float64(0.38099161818439997), 'Base_7331': np.float64(0.036399199217617216), 'Infraction_XWX': np.float64(0.4701896558275718), 'Infraction_FUSM': np.float64(73.45838391555387), 'Risk_4553': np.float64(0.00039999120019359574), 'Infraction_VHU': np.float64(3.521522526504417), 'Infraction_GSS': np.float64(0.5269884062550624), 'Base_8730': np.float64(0.036399199217617216), 'Risk_9423': np.float64(0.001399969200677585), 'Base_9103': np.float64(0.036399199217617216), 'Infraction_KSBR': np.float64(0.5269884062550624), 'Infraction_NRBQ': np.float64(2.8441374289765626), 'Expenditure_UIWS': np.float64(0.3445924189667827), 'Expenditure_ONEG': np.float64(0.00279993840135517), 'Expenditure_MTRQ': np.float64(0.3399925201645564), 'Expenditure_LAHK': np.float64(0.23219489171238233), 'Expenditure_HPM': np.float64(0.014399683206969447), 'Infraction_LTIS': np.float64(0.7345838391555386), 'Infraction_HFSI': np.float64(1.8051602864736975), 'Infraction_ETH': np.float64(1.8051602864736975), 'Infraction_ZVHJ': np.float64(54.28400575187345), 'Infraction_SDWM': np.float64(1.8051602864736975), 'Base_2810': np.float64(0.001599964800774383), 'Risk_8902': np.float64(2.359948081142215), 'Base_67254': np.float64(0.036399199217617216), 'Infraction_PTY': np.float64(0.03099931801500367), 'Infraction_BGGU': np.float64(0.050798882424586654), 'Base_4569': np.float64(0.001399969200677585), 'Expenditure_BEH': np.float64(25.353642219871166), 'Infraction_LMHK': np.float64(3.1913297907446037), 'Infraction_NMCB': np.float64(3.1913297907446037), 'Infraction_TPAF': np.float64(3.1913297907446037), 'Infraction_ZRH': np.float64(3.1913297907446037), 'Infraction_TEN': np.float64(3.1913297907446037), 'Infraction_XEPQ': np.float64(3.1913297907446037), 'Infraction_ZMKI': np.float64(3.1913297907446037), 'Infraction_WIS': np.float64(3.1913297907446037), 'Infraction_RKTA': np.float64(3.1913297907446037), 'Infraction_IIZ': np.float64(3.1913297907446037), 'Infraction_WVAW': np.float64(3.1913297907446037), 'Infraction_KEJT': np.float64(3.1913297907446037), 'Infraction_TFOY': np.float64(3.1913297907446037), 'Infraction_WMAQ': np.float64(2.1329530750323493), 'Infraction_CZXL': np.float64(1.8051602864736975), 'Infraction_QEY': np.float64(1.8051602864736975), 'Base_52892': np.float64(0.014799674407163042), 'Infraction_HUK': np.float64(1.8051602864736975), 'Infraction_VHHP': np.float64(1.8051602864736975), 'Infraction_LIES': np.float64(0.7687830867720911), 'Infraction_QWWW': np.float64(1.8051602864736975), 'Infraction_YQXM': np.float64(0.734183847955345), 'Infraction_QGR': np.float64(1.8051602864736975), 'Infraction_LSX': np.float64(1.8051602864736975), 'Infraction_IBJ': np.float64(0.735183825955829), 'Infraction_DNOU': np.float64(1.8051602864736975)}\n",
      "Valores nulos en df_data_part_2:\n",
      "{'Payment_6804': np.float64(0.7975952144287134), 'Base_80863': np.float64(0.03479979120125279), 'Expenditure_JIG': np.float64(18.266690399857602), 'Infraction_SNZ': np.float64(0.03479979120125279), 'Base_02683': np.float64(0.03479979120125279), 'Infraction_ZWWJ': np.float64(29.65802205186769), 'Infraction_QJJF': np.float64(4.957570254578473), 'Infraction_EJZ': np.float64(0.03479979120125279), 'Infraction_FMXQ': np.float64(21.534870790775255), 'Infraction_TLPJ': np.float64(12.811323132061208), 'Base_1165': np.float64(0.003799977200136799), 'Base_6187': np.float64(0.40499757001457987), 'Infraction_CLLY': np.float64(56.500060999634), 'Infraction_AYWV': np.float64(0.5295968224190655), 'Payment_22507': np.float64(5.329368023791857), 'Infraction_GWL': np.float64(74.12395525626846), 'Infraction_PAS': np.float64(0.03479979120125279), 'Expenditure_HMO': np.float64(18.266690399857602), 'Infraction_BSU': np.float64(3.2945802325186047), 'Infraction_GEL': np.float64(53.805677165937006), 'Base_14808': np.float64(0.8853946876318741), 'Expenditure_KMW': np.float64(52.989482063107616), 'Infraction_HSSU': np.float64(1.9223884656692058), 'Infraction_TBP': np.float64(10.704335773985356), 'Base_0580': np.float64(0.15459907240556556), 'Infraction_PBC': np.float64(13.568918586488483), 'Base_0229': np.float64(0.03479979120125279), 'Base_8318': np.float64(56.77305936164383), 'Base_91828': np.float64(0.03479979120125279), 'Base_6852': np.float64(0.03479979120125279), 'Infraction_CLH': np.float64(3.8945766325402045), 'Infraction_JYZB': np.float64(3.499579002525985), 'Base_22178': np.float64(0.03479979120125279), 'Infraction_ZTYG': np.float64(1.709389743661538), 'Infraction_EYU': np.float64(0.44159735041589754), 'Infraction_QKZN': np.float64(0.4385973684157895), 'Infraction_JBR': np.float64(45.276528340829955), 'Base_66195': np.float64(0.15459907240556556), 'Base_36516': np.float64(0.03479979120125279), 'Infraction_RXQH': np.float64(4.957570254578473), 'Infraction_HFU': np.float64(1.4209914740511558), 'Infraction_VTR': np.float64(0.4385973684157895), 'Base_7331': np.float64(0.03479979120125279), 'Infraction_XWX': np.float64(0.4521972868162791), 'Infraction_FUSM': np.float64(73.21716069703582), 'Risk_4553': np.float64(0.00019999880000719995), 'Infraction_VHU': np.float64(3.499579002525985), 'Infraction_GSS': np.float64(0.5295968224190655), 'Base_8730': np.float64(0.03479979120125279), 'Risk_9423': np.float64(0.0011999928000431996), 'Base_9103': np.float64(0.03479979120125279), 'Infraction_KSBR': np.float64(0.5295968224190655), 'Infraction_NRBQ': np.float64(2.8237830573016565), 'Expenditure_UIWS': np.float64(0.34999790001259995), 'Expenditure_ONEG': np.float64(0.009599942400345597), 'Expenditure_MTRQ': np.float64(0.34259794441233354), 'Expenditure_LAHK': np.float64(0.20899874600752394), 'Expenditure_HPM': np.float64(0.012399925600446398), 'Infraction_LTIS': np.float64(0.7389955660266038), 'Infraction_HFSI': np.float64(1.8843886936678382), 'Infraction_ETH': np.float64(1.8843886936678382), 'Infraction_ZVHJ': np.float64(54.49907300556197), 'Infraction_SDWM': np.float64(1.8843886936678382), 'Base_2810': np.float64(0.0009999940000359998), 'Risk_8902': np.float64(2.309386143683138), 'Base_67254': np.float64(0.03479979120125279), 'Infraction_PTY': np.float64(0.028399829601022393), 'Infraction_BGGU': np.float64(0.04719971680169919), 'Base_4569': np.float64(0.0009999940000359998), 'Expenditure_BEH': np.float64(25.08524948850307), 'Infraction_LMHK': np.float64(3.2103807377155738), 'Infraction_NMCB': np.float64(3.2103807377155738), 'Infraction_TPAF': np.float64(3.2103807377155738), 'Infraction_ZRH': np.float64(3.2103807377155738), 'Infraction_TEN': np.float64(3.2103807377155738), 'Infraction_XEPQ': np.float64(3.2103807377155738), 'Infraction_ZMKI': np.float64(3.2103807377155738), 'Infraction_WIS': np.float64(3.2103807377155738), 'Infraction_RKTA': np.float64(3.2103807377155738), 'Infraction_IIZ': np.float64(3.2103807377155738), 'Infraction_WVAW': np.float64(3.2103807377155738), 'Infraction_KEJT': np.float64(3.2103807377155738), 'Infraction_TFOY': np.float64(3.2103807377155738), 'Infraction_WMAQ': np.float64(2.1163873016761903), 'Infraction_CZXL': np.float64(1.8843886936678382), 'Infraction_QEY': np.float64(1.8843886936678382), 'Base_52892': np.float64(0.012599924400453596), 'Infraction_HUK': np.float64(1.8843886936678382), 'Infraction_VHHP': np.float64(1.8843886936678382), 'Infraction_LIES': np.float64(0.776195342827943), 'Infraction_QWWW': np.float64(1.8843886936678382), 'Infraction_YQXM': np.float64(0.7383955696265823), 'Infraction_QGR': np.float64(1.8843886936678382), 'Infraction_LSX': np.float64(1.8843886936678382), 'Infraction_IBJ': np.float64(0.7383955696265823), 'Infraction_DNOU': np.float64(1.8843886936678382)}\n",
      "Valores nulos en df_data_part_3:\n",
      "{'Payment_6804': np.float64(0.8409932720538236), 'Base_80863': np.float64(0.03659970720234238), 'Expenditure_JIG': np.float64(18.425052599579203), 'Infraction_SNZ': np.float64(0.03659970720234238), 'Base_02683': np.float64(0.03659970720234238), 'Infraction_ZWWJ': np.float64(30.044759641922862), 'Infraction_QJJF': np.float64(5.011359909120728), 'Infraction_EJZ': np.float64(0.03659970720234238), 'Infraction_FMXQ': np.float64(21.83862529099767), 'Infraction_TLPJ': np.float64(12.801297589619285), 'Base_1165': np.float64(0.0035999712002303982), 'Base_6187': np.float64(0.40619675042599657), 'Infraction_CLLY': np.float64(57.015943872449014), 'Infraction_AYWV': np.float64(0.5449956400348798), 'Payment_22507': np.float64(5.5469556243550056), 'Infraction_GWL': np.float64(73.66921064631484), 'Infraction_PAS': np.float64(0.03659970720234238), 'Expenditure_HMO': np.float64(18.425052599579203), 'Infraction_BSU': np.float64(3.3601731186150507), 'Infraction_GEL': np.float64(54.14756681946544), 'Base_14808': np.float64(0.9051927584579323), 'Expenditure_KMW': np.float64(52.83377732978136), 'Infraction_HSSU': np.float64(1.9465844273245814), 'Infraction_TBP': np.float64(10.611915104679163), 'Base_0580': np.float64(0.14099887200902392), 'Infraction_PBC': np.float64(13.439892480860152), 'Base_0229': np.float64(0.03659970720234238), 'Base_8318': np.float64(56.49174806601547), 'Base_91828': np.float64(0.03659970720234238), 'Base_6852': np.float64(0.03659970720234238), 'Infraction_CLH': np.float64(3.9381684946520426), 'Infraction_JYZB': np.float64(3.5583715330277355), 'Base_22178': np.float64(0.03659970720234238), 'Infraction_ZTYG': np.float64(1.7699858401132793), 'Infraction_EYU': np.float64(0.43959648322813416), 'Infraction_QKZN': np.float64(0.40359677122583026), 'Infraction_JBR': np.float64(45.77283381732946), 'Base_66195': np.float64(0.14099887200902392), 'Base_36516': np.float64(0.03659970720234238), 'Infraction_RXQH': np.float64(5.011359909120728), 'Infraction_HFU': np.float64(1.3727890176878583), 'Infraction_VTR': np.float64(0.40359677122583026), 'Base_7331': np.float64(0.03659970720234238), 'Infraction_XWX': np.float64(0.47779617763057897), 'Infraction_FUSM': np.float64(73.37621299029607), 'Risk_4553': np.float64(0.0007999936000511995), 'Infraction_VHU': np.float64(3.5583715330277355), 'Infraction_GSS': np.float64(0.5449956400348798), 'Base_8730': np.float64(0.03659970720234238), 'Risk_9423': np.float64(0.00019999840001279988), 'Base_9103': np.float64(0.03659970720234238), 'Infraction_KSBR': np.float64(0.5449956400348798), 'Infraction_NRBQ': np.float64(2.898376812985496), 'Expenditure_UIWS': np.float64(0.34039727682178544), 'Expenditure_ONEG': np.float64(0.010199918400652794), 'Expenditure_MTRQ': np.float64(0.33219734242126064), 'Expenditure_LAHK': np.float64(0.22659818721450226), 'Expenditure_HPM': np.float64(0.012399900800793593), 'Infraction_LTIS': np.float64(0.7487940096479229), 'Infraction_HFSI': np.float64(1.8395852833177333), 'Infraction_ETH': np.float64(1.8395852833177333), 'Infraction_ZVHJ': np.float64(54.56116351069191), 'Infraction_SDWM': np.float64(1.8395852833177333), 'Base_2810': np.float64(0.0007999936000511995), 'Risk_8902': np.float64(2.316581467348261), 'Base_67254': np.float64(0.03659970720234238), 'Infraction_PTY': np.float64(0.029799761601907185), 'Infraction_BGGU': np.float64(0.04899960800313597), 'Base_4569': np.float64(0.0007999936000511995), 'Expenditure_BEH': np.float64(25.21679826561388), 'Infraction_LMHK': np.float64(3.2221742226062196), 'Infraction_NMCB': np.float64(3.2221742226062196), 'Infraction_TPAF': np.float64(3.2221742226062196), 'Infraction_ZRH': np.float64(3.2221742226062196), 'Infraction_TEN': np.float64(3.2221742226062196), 'Infraction_XEPQ': np.float64(3.2221742226062196), 'Infraction_ZMKI': np.float64(3.2221742226062196), 'Infraction_WIS': np.float64(3.2221742226062196), 'Infraction_RKTA': np.float64(3.2221742226062196), 'Infraction_IIZ': np.float64(3.2221742226062196), 'Infraction_WVAW': np.float64(3.2221742226062196), 'Infraction_KEJT': np.float64(3.2221742226062196), 'Infraction_TFOY': np.float64(3.2221742226062196), 'Infraction_WMAQ': np.float64(2.130982952136383), 'Infraction_CZXL': np.float64(1.8395852833177333), 'Infraction_QEY': np.float64(1.8395852833177333), 'Base_52892': np.float64(0.013199894400844795), 'Infraction_HUK': np.float64(1.8395852833177333), 'Infraction_VHHP': np.float64(1.8395852833177333), 'Infraction_LIES': np.float64(0.7907936736506108), 'Infraction_QWWW': np.float64(1.8395852833177333), 'Infraction_YQXM': np.float64(0.7487940096479229), 'Infraction_QGR': np.float64(1.8395852833177333), 'Infraction_LSX': np.float64(1.8395852833177333), 'Infraction_IBJ': np.float64(0.7497940016479868), 'Infraction_DNOU': np.float64(1.8395852833177333)}\n",
      "Valores nulos en df_data_part_4:\n",
      "{'Payment_6804': np.float64(0.8333933328533373), 'Base_80863': np.float64(0.04119967040263678), 'Expenditure_JIG': np.float64(18.46845225238198), 'Infraction_SNZ': np.float64(0.04119967040263678), 'Base_02683': np.float64(0.04119967040263678), 'Infraction_ZWWJ': np.float64(29.844561243510054), 'Infraction_QJJF': np.float64(4.858361133110935), 'Infraction_EJZ': np.float64(0.04119967040263678), 'Infraction_FMXQ': np.float64(21.556427548579613), 'Infraction_TLPJ': np.float64(12.732698138414895), 'Base_1165': np.float64(0.004799961600307197), 'Base_6187': np.float64(0.3819969440244478), 'Infraction_CLLY': np.float64(56.36554907560739), 'Infraction_AYWV': np.float64(0.5131958944328445), 'Payment_22507': np.float64(5.535755713954289), 'Infraction_GWL': np.float64(73.49921200630395), 'Infraction_PAS': np.float64(0.04119967040263678), 'Expenditure_HMO': np.float64(18.46845225238198), 'Infraction_BSU': np.float64(3.2531739746082033), 'Infraction_GEL': np.float64(53.80536955704355), 'Base_14808': np.float64(0.9299925600595196), 'Expenditure_KMW': np.float64(52.970376236990106), 'Infraction_HSSU': np.float64(1.9911840705274357), 'Infraction_TBP': np.float64(10.62611499108007), 'Base_0580': np.float64(0.12279901760785913), 'Infraction_PBC': np.float64(13.501491988064096), 'Base_0229': np.float64(0.04119967040263678), 'Base_8318': np.float64(56.68934648522812), 'Base_91828': np.float64(0.04119967040263678), 'Base_6852': np.float64(0.04119967040263678), 'Infraction_CLH': np.float64(4.014167886656907), 'Infraction_JYZB': np.float64(3.587771297829617), 'Base_22178': np.float64(0.04119967040263678), 'Infraction_ZTYG': np.float64(1.7335861313109495), 'Infraction_EYU': np.float64(0.40039679682562535), 'Infraction_QKZN': np.float64(0.386796905624755), 'Infraction_JBR': np.float64(45.15343877248982), 'Base_66195': np.float64(0.12279901760785913), 'Base_36516': np.float64(0.04119967040263678), 'Infraction_RXQH': np.float64(4.858361133110935), 'Infraction_HFU': np.float64(1.390188878488972), 'Infraction_VTR': np.float64(0.386796905624755), 'Base_7331': np.float64(0.04119967040263678), 'Infraction_XWX': np.float64(0.43979648162814694), 'Infraction_FUSM': np.float64(73.47121223030216), 'Risk_4553': np.float64(0.0005999952000383997), 'Infraction_VHU': np.float64(3.587771297829617), 'Infraction_GSS': np.float64(0.5131958944328445), 'Base_8730': np.float64(0.04119967040263678), 'Risk_9423': np.float64(0.0013999888000895994), 'Base_9103': np.float64(0.04119967040263678), 'Infraction_KSBR': np.float64(0.5131958944328445), 'Infraction_NRBQ': np.float64(2.8841769265845874), 'Expenditure_UIWS': np.float64(0.33779729762161903), 'Expenditure_ONEG': np.float64(0.009399924800601596), 'Expenditure_MTRQ': np.float64(0.33139734882120947), 'Expenditure_LAHK': np.float64(0.25559795521635825), 'Expenditure_HPM': np.float64(0.009799921600627195), 'Infraction_LTIS': np.float64(0.7429940560475516), 'Infraction_HFSI': np.float64(1.8513851889184887), 'Infraction_ETH': np.float64(1.8513851889184887), 'Infraction_ZVHJ': np.float64(54.5375636994904), 'Infraction_SDWM': np.float64(1.8513851889184887), 'Base_2810': np.float64(0.0007999936000511995), 'Risk_8902': np.float64(2.3763809889520884), 'Base_67254': np.float64(0.04119967040263678), 'Infraction_PTY': np.float64(0.029999760001919982), 'Infraction_BGGU': np.float64(0.050999592003263976), 'Base_4569': np.float64(0.0005999952000383997), 'Expenditure_BEH': np.float64(25.431196550427597), 'Infraction_LMHK': np.float64(3.259773921808626), 'Infraction_NMCB': np.float64(3.259773921808626), 'Infraction_TPAF': np.float64(3.259773921808626), 'Infraction_ZRH': np.float64(3.259773921808626), 'Infraction_TEN': np.float64(3.259773921808626), 'Infraction_XEPQ': np.float64(3.259773921808626), 'Infraction_ZMKI': np.float64(3.259773921808626), 'Infraction_WIS': np.float64(3.259773921808626), 'Infraction_RKTA': np.float64(3.259773921808626), 'Infraction_IIZ': np.float64(3.259773921808626), 'Infraction_WVAW': np.float64(3.259773921808626), 'Infraction_KEJT': np.float64(3.259773921808626), 'Infraction_TFOY': np.float64(3.259773921808626), 'Infraction_WMAQ': np.float64(2.143982848137215), 'Infraction_CZXL': np.float64(1.8513851889184887), 'Infraction_QEY': np.float64(1.8513851889184887), 'Base_52892': np.float64(0.010399916800665595), 'Infraction_HUK': np.float64(1.8513851889184887), 'Infraction_VHHP': np.float64(1.8513851889184887), 'Infraction_LIES': np.float64(0.7819937440500475), 'Infraction_QWWW': np.float64(1.8513851889184887), 'Infraction_YQXM': np.float64(0.7421940624475004), 'Infraction_QGR': np.float64(1.8513851889184887), 'Infraction_LSX': np.float64(1.8513851889184887), 'Infraction_IBJ': np.float64(0.7427940576475388), 'Infraction_DNOU': np.float64(1.8513851889184887)}\n",
      "Valores nulos en df_data_part_5:\n",
      "{'Payment_6804': np.float64(0.8483983032033937), 'Base_80863': np.float64(0.0357999284001432), 'Expenditure_JIG': np.float64(18.44476311047378), 'Infraction_SNZ': np.float64(0.0357999284001432), 'Base_02683': np.float64(0.0357999284001432), 'Infraction_ZWWJ': np.float64(30.204139591720818), 'Infraction_QJJF': np.float64(4.958990082019836), 'Infraction_EJZ': np.float64(0.0357999284001432), 'Infraction_FMXQ': np.float64(22.045555908888183), 'Infraction_TLPJ': np.float64(13.073973852052296), 'Base_1165': np.float64(0.0051999896000208), 'Base_6187': np.float64(0.4157991684016632), 'Infraction_CLLY': np.float64(57.115085769828454), 'Infraction_AYWV': np.float64(0.5393989212021576), 'Payment_22507': np.float64(5.483589032821935), 'Infraction_GWL': np.float64(73.8240523518953), 'Infraction_PAS': np.float64(0.0357999284001432), 'Expenditure_HMO': np.float64(18.44476311047378), 'Infraction_BSU': np.float64(3.3855932288135424), 'Infraction_GEL': np.float64(53.822692354615285), 'Base_14808': np.float64(0.8917982164035672), 'Expenditure_KMW': np.float64(53.42049315901368), 'Infraction_HSSU': np.float64(1.9405961188077623), 'Infraction_TBP': np.float64(10.9251781496437), 'Base_0580': np.float64(0.13239973520052958), 'Infraction_PBC': np.float64(13.841772316455367), 'Base_0229': np.float64(0.0357999284001432), 'Base_8318': np.float64(56.942886114227775), 'Base_91828': np.float64(0.0357999284001432), 'Base_6852': np.float64(0.0357999284001432), 'Infraction_CLH': np.float64(3.938792122415755), 'Infraction_JYZB': np.float64(3.513792972414055), 'Base_22178': np.float64(0.0357999284001432), 'Infraction_ZTYG': np.float64(1.710996578006844), 'Infraction_EYU': np.float64(0.4413991172017656), 'Infraction_QKZN': np.float64(0.3851992296015408), 'Infraction_JBR': np.float64(45.631508736982525), 'Base_66195': np.float64(0.13239973520052958), 'Base_36516': np.float64(0.0357999284001432), 'Infraction_RXQH': np.float64(4.958990082019836), 'Infraction_HFU': np.float64(1.3371973256053489), 'Infraction_VTR': np.float64(0.3851992296015408), 'Base_7331': np.float64(0.0357999284001432), 'Infraction_XWX': np.float64(0.4757990484019032), 'Infraction_FUSM': np.float64(73.63905272189456), 'Risk_4553': np.float64(0.001999996000008), 'Infraction_VHU': np.float64(3.513792972414055), 'Infraction_GSS': np.float64(0.5393989212021576), 'Base_8730': np.float64(0.0357999284001432), 'Risk_9423': np.float64(0.0021999956000087998), 'Base_9103': np.float64(0.0357999284001432), 'Infraction_KSBR': np.float64(0.5393989212021576), 'Infraction_NRBQ': np.float64(2.8655942688114626), 'Expenditure_UIWS': np.float64(0.3601992796014408), 'Expenditure_ONEG': np.float64(0.008999982000036), 'Expenditure_MTRQ': np.float64(0.3535992928014144), 'Expenditure_LAHK': np.float64(0.2297995404009192), 'Expenditure_HPM': np.float64(0.0117999764000472), 'Infraction_LTIS': np.float64(0.7249985500028999), 'Infraction_HFSI': np.float64(1.8073963852072297), 'Infraction_ETH': np.float64(1.8073963852072297), 'Infraction_ZVHJ': np.float64(55.09788980422039), 'Infraction_SDWM': np.float64(1.8073963852072297), 'Base_2810': np.float64(0.0013999972000056), 'Risk_8902': np.float64(2.316195367609265), 'Base_67254': np.float64(0.0357999284001432), 'Infraction_PTY': np.float64(0.027399945200109597), 'Infraction_BGGU': np.float64(0.0475999048001904), 'Base_4569': np.float64(0.0013999972000056), 'Expenditure_BEH': np.float64(25.340749318501366), 'Infraction_LMHK': np.float64(3.203193593612813), 'Infraction_NMCB': np.float64(3.203193593612813), 'Infraction_TPAF': np.float64(3.203193593612813), 'Infraction_ZRH': np.float64(3.203193593612813), 'Infraction_TEN': np.float64(3.203193593612813), 'Infraction_XEPQ': np.float64(3.203193593612813), 'Infraction_ZMKI': np.float64(3.203193593612813), 'Infraction_WIS': np.float64(3.203193593612813), 'Infraction_RKTA': np.float64(3.203193593612813), 'Infraction_IIZ': np.float64(3.203193593612813), 'Infraction_WVAW': np.float64(3.203193593612813), 'Infraction_KEJT': np.float64(3.203193593612813), 'Infraction_TFOY': np.float64(3.203193593612813), 'Infraction_WMAQ': np.float64(2.1271957456085087), 'Infraction_CZXL': np.float64(1.8073963852072297), 'Infraction_QEY': np.float64(1.8073963852072297), 'Base_52892': np.float64(0.013799972400055201), 'Infraction_HUK': np.float64(1.8073963852072297), 'Infraction_VHHP': np.float64(1.8073963852072297), 'Infraction_LIES': np.float64(0.756998486003028), 'Infraction_QWWW': np.float64(1.8073963852072297), 'Infraction_YQXM': np.float64(0.7245985508028985), 'Infraction_QGR': np.float64(1.8073963852072297), 'Infraction_LSX': np.float64(1.8073963852072297), 'Infraction_IBJ': np.float64(0.727998544002912), 'Infraction_DNOU': np.float64(1.8073963852072297)}\n",
      "Valores nulos en df_data_part_6:\n",
      "{'Payment_6804': np.float64(0.7921873250028), 'Base_80863': np.float64(0.03879937920993264), 'Expenditure_JIG': np.float64(18.192308923057233), 'Infraction_SNZ': np.float64(0.03879937920993264), 'Base_02683': np.float64(0.03879937920993264), 'Infraction_ZWWJ': np.float64(30.318714900561588), 'Infraction_QJJF': np.float64(5.082518679701125), 'Infraction_EJZ': np.float64(0.03879937920993264), 'Infraction_FMXQ': np.float64(22.40824146813651), 'Infraction_TLPJ': np.float64(13.253187948992817), 'Base_1165': np.float64(0.006199900801587174), 'Base_6187': np.float64(0.3923937217004528), 'Infraction_CLLY': np.float64(57.068886897809634), 'Infraction_AYWV': np.float64(0.5495912065406954), 'Payment_22507': np.float64(5.380713908577463), 'Infraction_GWL': np.float64(73.58882257883874), 'Infraction_PAS': np.float64(0.03879937920993264), 'Expenditure_HMO': np.float64(18.192308923057233), 'Infraction_BSU': np.float64(3.3949456808691063), 'Infraction_GEL': np.float64(54.00033599462408), 'Base_14808': np.float64(0.8991856130301914), 'Expenditure_KMW': np.float64(52.65555751107982), 'Infraction_HSSU': np.float64(1.9077694756883892), 'Infraction_TBP': np.float64(11.07922273243628), 'Base_0580': np.float64(0.11159821442856914), 'Infraction_PBC': np.float64(13.9175773187629), 'Base_0229': np.float64(0.03879937920993264), 'Base_8318': np.float64(56.87129005935905), 'Base_91828': np.float64(0.03879937920993264), 'Base_6852': np.float64(0.03879937920993264), 'Infraction_CLH': np.float64(3.842338522583639), 'Infraction_JYZB': np.float64(3.4583446664853366), 'Base_22178': np.float64(0.03879937920993264), 'Infraction_ZTYG': np.float64(1.728972336442617), 'Infraction_EYU': np.float64(0.4343930497112046), 'Infraction_QKZN': np.float64(0.41339338570582873), 'Risk_7095': np.float64(0.0001999968000511992), 'Infraction_JBR': np.float64(45.772267643717704), 'Base_66195': np.float64(0.11159821442856914), 'Base_36516': np.float64(0.03879937920993264), 'Infraction_RXQH': np.float64(5.082518679701125), 'Infraction_HFU': np.float64(1.387777795555271), 'Infraction_VTR': np.float64(0.41339338570582873), 'Base_7331': np.float64(0.03879937920993264), 'Infraction_XWX': np.float64(0.4763923777219565), 'Infraction_FUSM': np.float64(73.3570262875794), 'Risk_4553': np.float64(0.0005999904001535975), 'Infraction_VHU': np.float64(3.4583446664853366), 'Risk_4247': np.float64(0.0001999968000511992), 'Infraction_GSS': np.float64(0.5495912065406954), 'Base_8730': np.float64(0.03879937920993264), 'Risk_9423': np.float64(0.0007999872002047968), 'Base_9103': np.float64(0.03879937920993264), 'Infraction_KSBR': np.float64(0.5495912065406954), 'Infraction_NRBQ': np.float64(2.808355066318939), 'Expenditure_UIWS': np.float64(0.34799443208908654), 'Expenditure_ONEG': np.float64(0.007799875201996768), 'Expenditure_MTRQ': np.float64(0.3379945920865266), 'Expenditure_LAHK': np.float64(0.23719620486072224), 'Expenditure_HPM': np.float64(0.010399833602662358), 'Infraction_LTIS': np.float64(0.7323882817874914), 'Infraction_HFSI': np.float64(1.8419705284715444), 'Infraction_ETH': np.float64(1.8419705284715444), 'Infraction_ZVHJ': np.float64(54.7953232748276), 'Infraction_SDWM': np.float64(1.8419705284715444), 'Base_2810': np.float64(0.0013999776003583942), 'Risk_8902': np.float64(2.3699620806067103), 'Base_67254': np.float64(0.03879937920993264), 'Infraction_PTY': np.float64(0.03239948160829427), 'Infraction_BGGU': np.float64(0.049199212812595), 'Base_4569': np.float64(0.0013999776003583942), 'Expenditure_BEH': np.float64(24.95440072958833), 'Infraction_LMHK': np.float64(3.1553495144077695), 'Infraction_NMCB': np.float64(3.1553495144077695), 'Infraction_TPAF': np.float64(3.1553495144077695), 'Infraction_ZRH': np.float64(3.1553495144077695), 'Infraction_TEN': np.float64(3.1553495144077695), 'Infraction_XEPQ': np.float64(3.1553495144077695), 'Infraction_ZMKI': np.float64(3.1553495144077695), 'Infraction_WIS': np.float64(3.1553495144077695), 'Infraction_RKTA': np.float64(3.1553495144077695), 'Infraction_IIZ': np.float64(3.1553495144077695), 'Infraction_WVAW': np.float64(3.1553495144077695), 'Infraction_KEJT': np.float64(3.1553495144077695), 'Infraction_TFOY': np.float64(3.1553495144077695), 'Infraction_WMAQ': np.float64(2.0619670085278634), 'Infraction_CZXL': np.float64(1.8419705284715444), 'Infraction_QEY': np.float64(1.8419705284715444), 'Base_52892': np.float64(0.010999824002815956), 'Infraction_HUK': np.float64(1.8419705284715444), 'Infraction_VHHP': np.float64(1.8419705284715444), 'Infraction_LIES': np.float64(0.7705876705972704), 'Infraction_QWWW': np.float64(1.8419705284715444), 'Infraction_YQXM': np.float64(0.7321882849874402), 'Infraction_QGR': np.float64(1.8419705284715444), 'Infraction_LSX': np.float64(1.8419705284715444), 'Infraction_IBJ': np.float64(0.7331882689876962), 'Infraction_DNOU': np.float64(1.8419705284715444)}\n",
      "Valores nulos en df_data_part_7:\n",
      "{'Payment_6804': np.float64(0.8188081165531002), 'Base_80863': np.float64(0.04109726562009813), 'Expenditure_JIG': np.float64(18.32718442946956), 'Infraction_SNZ': np.float64(0.04109726562009813), 'Base_02683': np.float64(0.04109726562009813), 'Infraction_ZWWJ': np.float64(30.106413683193416), 'Infraction_QJJF': np.float64(4.836614840191243), 'Infraction_EJZ': np.float64(0.04109726562009813), 'Infraction_FMXQ': np.float64(21.887587998343562), 'Infraction_TLPJ': np.float64(12.932462447765689), 'Base_1165': np.float64(0.00658811128261115), 'Base_6187': np.float64(0.3893260048438304), 'Infraction_CLLY': np.float64(56.647090564569766), 'Infraction_AYWV': np.float64(0.4906574307620876), 'Payment_22507': np.float64(5.483818343811567), 'Infraction_GWL': np.float64(74.12033028397896), 'Infraction_PAS': np.float64(0.04109726562009813), 'Expenditure_HMO': np.float64(18.32718442946956), 'Infraction_BSU': np.float64(3.268958074514676), 'Infraction_GEL': np.float64(53.97702317760293), 'Base_14808': np.float64(0.9053947219817039), 'Expenditure_KMW': np.float64(52.70614513922875), 'Infraction_HSSU': np.float64(1.8939251339582626), 'Infraction_TBP': np.float64(10.860030870007153), 'Base_0580': np.float64(0.07905733539133382), 'Infraction_PBC': np.float64(13.70452634617074), 'Base_0229': np.float64(0.04109726562009813), 'Base_8318': np.float64(56.87014518942388), 'Base_91828': np.float64(0.04109726562009813), 'Base_6852': np.float64(0.04109726562009813), 'Infraction_CLH': np.float64(3.8888679742498966), 'Infraction_JYZB': np.float64(3.5064438002735634), 'Base_22178': np.float64(0.04109726562009813), 'Infraction_ZTYG': np.float64(1.7176147272521929), 'Infraction_EYU': np.float64(0.38807112650428544), 'Infraction_QKZN': np.float64(0.3626598401284995), 'Infraction_JBR': np.float64(45.04479915672175), 'Base_66195': np.float64(0.07905733539133382), 'Base_36516': np.float64(0.04109726562009813), 'Infraction_RXQH': np.float64(4.836614840191243), 'Infraction_HFU': np.float64(1.3690722684435743), 'Infraction_VTR': np.float64(0.3626598401284995), 'Base_7331': np.float64(0.04109726562009813), 'Infraction_XWX': np.float64(0.42916839212438357), 'Infraction_FUSM': np.float64(73.50042038424375), 'Risk_4553': np.float64(0.0003137195848862453), 'Infraction_VHU': np.float64(3.5064438002735634), 'Infraction_GSS': np.float64(0.4906574307620876), 'Base_8730': np.float64(0.04109726562009813), 'Risk_9423': np.float64(0.0009411587546587358), 'Base_9103': np.float64(0.04109726562009813), 'Infraction_KSBR': np.float64(0.4906574307620876), 'Infraction_NRBQ': np.float64(2.8106137609958717), 'Expenditure_UIWS': np.float64(0.3331701991491925), 'Expenditure_ONEG': np.float64(0.006274391697724906), 'Expenditure_MTRQ': np.float64(0.3231311724328326), 'Expenditure_LAHK': np.float64(0.24846591122990624), 'Expenditure_HPM': np.float64(0.009097867961701114), 'Infraction_LTIS': np.float64(0.6870458909008771), 'Infraction_HFSI': np.float64(1.8396516457729422), 'Infraction_ETH': np.float64(1.8396516457729422), 'Infraction_ZVHJ': np.float64(54.95143620825961), 'Infraction_SDWM': np.float64(1.8396516457729422), 'Base_2810': np.float64(0.0006274391697724906), 'Risk_8902': np.float64(2.33030907653503), 'Base_67254': np.float64(0.04109726562009813), 'Infraction_PTY': np.float64(0.027293603885103337), 'Infraction_BGGU': np.float64(0.05019513358179925), 'Base_4569': np.float64(0.0006274391697724906), 'Expenditure_BEH': np.float64(25.105409780521775), 'Infraction_LMHK': np.float64(3.2033906812734507), 'Infraction_NMCB': np.float64(3.2033906812734507), 'Infraction_TPAF': np.float64(3.2033906812734507), 'Infraction_ZRH': np.float64(3.2033906812734507), 'Infraction_TEN': np.float64(3.2033906812734507), 'Infraction_XEPQ': np.float64(3.2033906812734507), 'Infraction_ZMKI': np.float64(3.2033906812734507), 'Infraction_WIS': np.float64(3.2033906812734507), 'Infraction_RKTA': np.float64(3.2033906812734507), 'Infraction_IIZ': np.float64(3.2033906812734507), 'Infraction_WVAW': np.float64(3.2033906812734507), 'Infraction_KEJT': np.float64(3.2033906812734507), 'Infraction_TFOY': np.float64(3.2033906812734507), 'Infraction_WMAQ': np.float64(2.1113328062844308), 'Infraction_CZXL': np.float64(1.8396516457729422), 'Infraction_QEY': np.float64(1.8396516457729422), 'Base_52892': np.float64(0.009411587546587358), 'Infraction_HUK': np.float64(1.8396516457729422), 'Infraction_VHHP': np.float64(1.8396516457729422), 'Infraction_LIES': np.float64(0.717476690634843), 'Infraction_QWWW': np.float64(1.8396516457729422), 'Infraction_YQXM': np.float64(0.6861047321462185), 'Infraction_QGR': np.float64(1.8396516457729422), 'Infraction_LSX': np.float64(1.8396516457729422), 'Infraction_IBJ': np.float64(0.6870458909008771), 'Infraction_DNOU': np.float64(1.8396516457729422)}\n"
     ]
    }
   ],
   "source": [
    "# Calcular porcentajes de NaNs por columna teniendo en cuenta la intersección de los DataFrames y filtrando las columnas menores de 5% para eliminar las filas que tengan NaN en esa columna\n",
    "for i in range(1, 8):\n",
    "    data_frame = globals()[f'df_data_part_{i}']\n",
    "    percentage = data_frame.isnull().mean() * 100\n",
    "    columns_with_nulls = percentage[percentage > 0]\n",
    "    print(f'Porcentaje de valores nulos en df_data_part_{i}:')\n",
    "    print(columns_with_nulls)\n",
    "    print()\n"
   ]
  },
  {
   "cell_type": "markdown",
   "metadata": {},
   "source": [
    "## Análisis de tipo de variable"
   ]
  },
  {
   "cell_type": "code",
   "execution_count": 23,
   "metadata": {},
   "outputs": [
    {
     "name": "stdout",
     "output_type": "stream",
     "text": [
      "object: ['ID', 'Expenditure_AHF', 'Infraction_YFSG', 'Infraction_DQLY', 'Infraction_CLH', 'Base_67254', 'Infraction_TEN']\n",
      "float64: ['Payment_6804', 'Infraction_CGP', 'Base_7744', 'Base_80863', 'Risk_1930', 'Expenditure_JIG', 'Infraction_SNZ', 'Base_02683', 'Infraction_ZWWJ', 'Infraction_QJJF', 'Base_76065', 'Infraction_EJZ', 'Base_6872', 'Risk_0322', 'Infraction_FMXQ', 'Infraction_GGO', 'Infraction_TLPJ', 'Base_1165', 'Base_39598', 'Base_6187', 'Infraction_CLLY', 'Infraction_ZTNC', 'Base_85131', 'Risk_9995', 'Infraction_AYWV', 'Payment_22507', 'Base_9516', 'Infraction_GWL', 'Expenditure_YTR', 'Base_36384', 'Expenditure_FIP', 'Infraction_PAS', 'Risk_0003', 'Expenditure_HMO', 'Base_24406', 'Expenditure_LMSR', 'Infraction_BSU', 'Infraction_GEL', 'Base_14808', 'Risk_8065', 'Infraction_ZYW', 'Expenditure_KMW', 'Base_1039', 'Infraction_HSSU', 'Infraction_EHZP', 'Infraction_TBP', 'Base_0580', 'Expenditure_RGD', 'Infraction_PBC', 'Infraction_AQO', 'Base_0229', 'Base_8318', 'Base_69608', 'Base_91828', 'Base_6852', 'Expenditure_IDZ', 'Risk_1475', 'Expenditure_BWX', 'Base_8511', 'Infraction_JYZB', 'Base_22178', 'Infraction_ZTYG', 'Infraction_ZVW', 'Infraction_EYU', 'Expenditure_UWVG', 'Base_3041', 'Payment_3207', 'Infraction_QKZN', 'Infraction_CZE', 'Base_65352', 'Risk_7095', 'Infraction_JBR', 'Base_66195', 'Base_36516', 'Infraction_RXQH', 'Infraction_HFU', 'Risk_6346', 'Expenditure_HRQ', 'Infraction_VTR', 'Risk_2102', 'Risk_4804', 'Base_7331', 'Infraction_XWX', 'Infraction_FUSM', 'Expenditure_XDD', 'Risk_4553', 'Base_67585', 'Risk_8742', 'Infraction_VHU', 'Risk_4247', 'Risk_2380', 'Infraction_GSS', 'Risk_0454', 'Base_8730', 'Expenditure_HKXV', 'Infraction_MHM', 'Risk_4160', 'Risk_3506', 'Expenditure_GCAO', 'Risk_9367', 'Base_7910', 'Expenditure_GMC', 'Risk_9423', 'Risk_6977', 'Base_9103', 'Infraction_KSBR', 'Risk_6178', 'Risk_6197', 'Infraction_NRBQ', 'Infraction_WVC', 'Infraction_QVSL', 'Infraction_QXUM', 'Risk_8532', 'Risk_9247', 'Infraction_IMIM', 'Expenditure_UIWS', 'Expenditure_ONEG', 'Expenditure_MTRQ', 'Expenditure_LAHK', 'Expenditure_HPM', 'Infraction_LTIS', 'Infraction_HFSI', 'Infraction_ETH', 'Infraction_ZVHJ', 'Infraction_SDWM', 'Base_5441', 'Base_2810', 'Risk_8902', 'Infraction_PTY', 'Infraction_BGGU', 'Base_4569', 'Expenditure_BEH', 'Infraction_LMHK', 'Infraction_NMCB', 'Infraction_TPAF', 'Infraction_ZRH', 'Infraction_XEPQ', 'Infraction_ZMKI', 'Infraction_WIS', 'Infraction_RKTA', 'Infraction_IIZ', 'Infraction_WVAW', 'Infraction_KEJT', 'Infraction_TFOY', 'Infraction_WMAQ', 'Infraction_SIA', 'Infraction_CZXL', 'Infraction_QEY', 'Base_52892', 'Infraction_HUK', 'Infraction_VHHP', 'Infraction_LIES', 'Risk_5270', 'Infraction_QWWW', 'Infraction_YQXM', 'Infraction_QGR', 'Infraction_LSX', 'Infraction_IBJ', 'Infraction_DNOU']\n",
      "int64: ['Base_23737']\n"
     ]
    }
   ],
   "source": [
    "# Agrupar columnas por tipo de dato\n",
    "data_types = {}\n",
    "# No hace falta comprobar todos los df ya que tienen las mismas columnas\n",
    "data_frame = df_data_part_1\n",
    "for col in data_frame.columns:\n",
    "    data_type = str(data_frame[col].dtype)\n",
    "    if data_type not in data_types:\n",
    "        data_types[data_type] = []\n",
    "    data_types[data_type].append(col)\n",
    "\n",
    "for data_type, columns in data_types.items():\n",
    "    print(f'{data_type}: {columns}')"
   ]
  },
  {
   "cell_type": "markdown",
   "metadata": {},
   "source": [
    "### Variables categóricas\n"
   ]
  },
  {
   "cell_type": "code",
   "execution_count": 26,
   "metadata": {},
   "outputs": [
    {
     "name": "stdout",
     "output_type": "stream",
     "text": [
      "                                                  ID Expenditure_AHF  \\\n",
      "0  3333337004103300505242400473433643475477705348...      2017-03-05   \n",
      "1  3333337004103300505242400473433643475477705348...      2017-04-20   \n",
      "2  3333337004103300505242400473433643475477705348...      2017-05-11   \n",
      "3  3333337004103300505242400473433643475477705348...      2017-06-29   \n",
      "4  3333337004103300505242400473433643475477705348...      2017-08-03   \n",
      "\n",
      "  Infraction_YFSG Infraction_DQLY Infraction_CLH    Base_67254 Infraction_TEN  \n",
      "0              CO               O      very_high  moderate_low  extremely_low  \n",
      "1              CO               O      very_high  moderate_low  extremely_low  \n",
      "2              CO               O      very_high  moderate_low  extremely_low  \n",
      "3              CO               O      very_high  moderate_low  extremely_low  \n",
      "4              CO               O      very_high  moderate_low  extremely_low  \n"
     ]
    }
   ],
   "source": [
    "# Hacemos print de las columnas de tipo object, solo primeras filas\n",
    "data_frame = df_data_part_1\n",
    "print(data_frame.select_dtypes(include='object').head())"
   ]
  },
  {
   "cell_type": "markdown",
   "metadata": {},
   "source": [
    "####  "
   ]
  },
  {
   "cell_type": "markdown",
   "metadata": {},
   "source": [
    "#### Transformación ID"
   ]
  },
  {
   "cell_type": "code",
   "execution_count": 27,
   "metadata": {},
   "outputs": [],
   "source": [
    "# Pasamos ID a número en todos los dataframes para facilitar su procesado\n",
    "for i in range(1, 8):\n",
    "    data_frame = globals()[f'df_data_part_{i}']\n",
    "    data_frame['ID'] = pd.to_numeric(data_frame['ID'], errors='coerce')"
   ]
  },
  {
   "cell_type": "markdown",
   "metadata": {},
   "source": [
    "#### Transformación Expenditure_AHF"
   ]
  },
  {
   "cell_type": "code",
   "execution_count": 28,
   "metadata": {},
   "outputs": [],
   "source": [
    "for i in range(1, 8):\n",
    "    data_frame = globals()[f'df_data_part_{i}']\n",
    "    data_frame['Expenditure_AHF'] = pd.to_datetime(data_frame['Expenditure_AHF'], errors='coerce')\n",
    "    data_frame['Expenditure_AHF_year'] = data_frame['Expenditure_AHF'].dt.year\n",
    "    data_frame['Expenditure_AHF_month'] = data_frame['Expenditure_AHF'].dt.month\n",
    "    data_frame['Expenditure_AHF_day'] = data_frame['Expenditure_AHF'].dt.day\n",
    "    data_frame.drop(columns=['Expenditure_AHF'], inplace=True)\n"
   ]
  },
  {
   "cell_type": "markdown",
   "metadata": {},
   "source": [
    "#### Transformación Infraction_YFSG"
   ]
  },
  {
   "cell_type": "code",
   "execution_count": 30,
   "metadata": {},
   "outputs": [
    {
     "name": "stdout",
     "output_type": "stream",
     "text": [
      "{'XZ', 'CL', 'XM', 'XL', 'CO', 'CR'}\n"
     ]
    }
   ],
   "source": [
    "# Ver los valores de la columna Infraction_YFSG en todos los DataFrames y hacer una intersección\n",
    "unique_values = set()\n",
    "for i in range(1, 8):\n",
    "    data_frame = globals()[f'df_data_part_{i}']\n",
    "    unique_values_i = set(data_frame['Infraction_YFSG'].unique())\n",
    "    if not unique_values:\n",
    "        unique_values = unique_values_i\n",
    "    else:\n",
    "        unique_values = unique_values.intersection(unique_values_i)\n",
    "\n",
    "print(unique_values)"
   ]
  },
  {
   "cell_type": "code",
   "execution_count": 31,
   "metadata": {},
   "outputs": [],
   "source": [
    "from sklearn.preprocessing import LabelEncoder\n",
    "\n",
    "label_encoder = LabelEncoder()\n",
    "\n",
    "for i in range(1, 8):\n",
    "    data_frame = globals()[f'df_data_part_{i}']\n",
    "    data_frame['Infraction_YFSG_encoded'] = label_encoder.fit_transform(data_frame['Infraction_YFSG'])\n",
    "    data_frame.drop(columns=['Infraction_YFSG'], inplace=True)\n"
   ]
  },
  {
   "cell_type": "markdown",
   "metadata": {},
   "source": [
    "#### Transformación Infraction_DQLY"
   ]
  },
  {
   "cell_type": "code",
   "execution_count": 32,
   "metadata": {},
   "outputs": [
    {
     "name": "stdout",
     "output_type": "stream",
     "text": [
      "{'R', nan, 'U', '-1', 'O'}\n"
     ]
    }
   ],
   "source": [
    "# Ver los valores de la columna Infraction_YFSG en todos los DataFrames y hacer una intersección\n",
    "unique_values = set()\n",
    "for i in range(1, 8):\n",
    "    data_frame = globals()[f'df_data_part_{i}']\n",
    "    unique_values_i = set(data_frame['Infraction_DQLY'].unique())\n",
    "    if not unique_values:\n",
    "        unique_values = unique_values_i\n",
    "    else:\n",
    "        unique_values = unique_values.intersection(unique_values_i)\n",
    "\n",
    "print(unique_values)"
   ]
  },
  {
   "cell_type": "code",
   "execution_count": 37,
   "metadata": {},
   "outputs": [
    {
     "name": "stdout",
     "output_type": "stream",
     "text": [
      "Porcentaje de NaNs en df_data_part_1: 3.96%\n",
      "Porcentaje de NaNs en df_data_part_2: 3.88%\n",
      "Porcentaje de NaNs en df_data_part_3: 3.98%\n",
      "Porcentaje de NaNs en df_data_part_4: 4.02%\n",
      "Porcentaje de NaNs en df_data_part_5: 3.94%\n",
      "Porcentaje de NaNs en df_data_part_6: 3.84%\n",
      "Porcentaje de NaNs en df_data_part_7: 3.93%\n"
     ]
    }
   ],
   "source": [
    "# Análisis de porcentaje de NaNs en cada DataFrame en la columna Infraction_DQLY\n",
    "for i in range(1, 8):\n",
    "    data_frame = globals()[f'df_data_part_{i}']\n",
    "    print(f'Porcentaje de NaNs en df_data_part_{i}: {data_frame[\"Infraction_DQLY\"].isna().mean() * 100:.2f}%')"
   ]
  },
  {
   "cell_type": "markdown",
   "metadata": {},
   "source": [
    "Antes de codificarlo necesitamos tratar los NaN"
   ]
  },
  {
   "cell_type": "code",
   "execution_count": 41,
   "metadata": {},
   "outputs": [
    {
     "name": "stderr",
     "output_type": "stream",
     "text": [
      "C:\\Users\\eleni\\AppData\\Local\\Temp\\ipykernel_30512\\2308713897.py:5: FutureWarning: A value is trying to be set on a copy of a DataFrame or Series through chained assignment using an inplace method.\n",
      "The behavior will change in pandas 3.0. This inplace method will never work because the intermediate object on which we are setting values always behaves as a copy.\n",
      "\n",
      "For example, when doing 'df[col].method(value, inplace=True)', try using 'df.method({col: value}, inplace=True)' or df[col] = df[col].method(value) instead, to perform the operation inplace on the original object.\n",
      "\n",
      "\n",
      "  data_frame['Infraction_DQLY'].fillna(most_common_value, inplace=True)\n"
     ]
    }
   ],
   "source": [
    "# Como el porcentaje de NaNs es muy bajo (aprox. 4%), rellenamos los NaNs con el valor más común\n",
    "for i in range(1, 8):\n",
    "    data_frame = globals()[f'df_data_part_{i}']\n",
    "    most_common_value = data_frame['Infraction_DQLY'].mode()[0]\n",
    "    data_frame['Infraction_DQLY'].fillna(most_common_value, inplace=True)\n",
    "\n"
   ]
  },
  {
   "cell_type": "markdown",
   "metadata": {},
   "source": [
    "##### Hacemos la codificación de la columna"
   ]
  },
  {
   "cell_type": "code",
   "execution_count": 44,
   "metadata": {},
   "outputs": [],
   "source": [
    "for i in range(1, 8):\n",
    "    data_frame = globals()[f'df_data_part_{i}']\n",
    "    data_frame['Infraction_DQLY_encoded'] = label_encoder.fit_transform(data_frame['Infraction_DQLY'])\n",
    "    data_frame.drop(columns=['Infraction_DQLY'], inplace=True)\n"
   ]
  },
  {
   "cell_type": "markdown",
   "metadata": {},
   "source": [
    "#### Transformación Infraction_CLH"
   ]
  },
  {
   "cell_type": "code",
   "execution_count": 45,
   "metadata": {},
   "outputs": [
    {
     "name": "stdout",
     "output_type": "stream",
     "text": [
      "{'moderate', 'moderate_low', nan, 'very_high', 'moderate_high', 'very_low', 'low', 'high'}\n"
     ]
    }
   ],
   "source": [
    "# Ver los valores de la columna Infraction_YFSG en todos los DataFrames y hacer una intersección\n",
    "unique_values = set()\n",
    "for i in range(1, 8):\n",
    "    data_frame = globals()[f'df_data_part_{i}']\n",
    "    unique_values_i = set(data_frame['Infraction_CLH'].unique())\n",
    "    if not unique_values:\n",
    "        unique_values = unique_values_i\n",
    "    else:\n",
    "        unique_values = unique_values.intersection(unique_values_i)\n",
    "\n",
    "print(unique_values)"
   ]
  },
  {
   "cell_type": "markdown",
   "metadata": {},
   "source": [
    "Antes de codificarlo, tratamos los NaN"
   ]
  },
  {
   "cell_type": "code",
   "execution_count": null,
   "metadata": {},
   "outputs": [],
   "source": []
  },
  {
   "cell_type": "markdown",
   "metadata": {},
   "source": [
    "## Comprobación NaNs **************"
   ]
  },
  {
   "cell_type": "markdown",
   "metadata": {},
   "source": [
    "## Tratar valores infinitos"
   ]
  },
  {
   "cell_type": "markdown",
   "metadata": {},
   "source": [
    "## Selección de características\n"
   ]
  },
  {
   "cell_type": "markdown",
   "metadata": {},
   "source": [
    "## Split Dataset"
   ]
  }
 ],
 "metadata": {
  "kernelspec": {
   "display_name": "Python 3",
   "language": "python",
   "name": "python3"
  },
  "language_info": {
   "codemirror_mode": {
    "name": "ipython",
    "version": 3
   },
   "file_extension": ".py",
   "mimetype": "text/x-python",
   "name": "python",
   "nbconvert_exporter": "python",
   "pygments_lexer": "ipython3",
   "version": "3.12.3"
  }
 },
 "nbformat": 4,
 "nbformat_minor": 2
}
