{
 "cells": [
  {
   "cell_type": "markdown",
   "metadata": {},
   "source": [
    "### Filtro"
   ]
  },
  {
   "cell_type": "markdown",
   "metadata": {},
   "source": [
    "Como la variable objetivo es binaria (0,1), probamos con ANOVA"
   ]
  },
  {
   "cell_type": "code",
   "execution_count": null,
   "metadata": {},
   "outputs": [],
   "source": [
    "df_labels = pd.read_csv('train_labels.csv', encoding='ISO-8859-1')"
   ]
  },
  {
   "cell_type": "code",
   "execution_count": null,
   "metadata": {},
   "outputs": [],
   "source": [
    "df_labels['ID'] = pd.to_numeric(df_labels['ID'], errors='coerce')"
   ]
  },
  {
   "cell_type": "markdown",
   "metadata": {},
   "source": [
    "Este es el código de merge (lo he cambiado porque antes se hacía mal)"
   ]
  },
  {
   "cell_type": "code",
   "execution_count": null,
   "metadata": {},
   "outputs": [],
   "source": [
    "# NO EJECUTAR más de una vez (pasan cosas raras con label)\n",
    "for i in range(1, 8):\n",
    "    data_frame = globals()[f'df_data_part_{i}']\n",
    "    globals()[f'df_merged_part_{i}'] = pd.merge(data_frame, df_labels, on='ID', how='left')\n"
   ]
  },
  {
   "cell_type": "code",
   "execution_count": null,
   "metadata": {},
   "outputs": [
    {
     "name": "stdout",
     "output_type": "stream",
     "text": [
      "La partición 1 tiene la columna label.\n",
      "La partición 2 tiene la columna label.\n",
      "La partición 3 tiene la columna label.\n",
      "La partición 4 tiene la columna label.\n",
      "La partición 5 tiene la columna label.\n",
      "La partición 6 tiene la columna label.\n",
      "La partición 7 tiene la columna label.\n"
     ]
    }
   ],
   "source": [
    "for i in range(1, 8):\n",
    "    data_frame = globals()[f'df_merged_part_{i}']\n",
    "    if 'label' not in data_frame.columns:\n",
    "        print(f'La partición {i} no tiene la columna label.')\n",
    "    else:\n",
    "        print(f'La partición {i} tiene la columna label.')"
   ]
  },
  {
   "cell_type": "code",
   "execution_count": null,
   "metadata": {},
   "outputs": [
    {
     "name": "stdout",
     "output_type": "stream",
     "text": [
      "Características seleccionadas {'Base_80863', 'Payment_6804', 'Base_85131', 'Infraction_QJJF', 'Base_69608'}\n"
     ]
    }
   ],
   "source": [
    "from sklearn.feature_selection import SelectKBest\n",
    "from sklearn.feature_selection import f_classif \n",
    "\n",
    "columns_data = df_data_part_1.columns\n",
    "selected_features = set()\n",
    "\n",
    "# Como el train data está dividido en 7 partes, vamos a hacer un loop para cargar cada parte y seleccionar las 5 características más importantes según ANOVA (f_classif)\n",
    "for i in range(1, 8):\n",
    "    data_frame = globals()[f'df_merged_part_{i}']\n",
    "        \n",
    "    X = data_frame.drop(columns=['label']).copy()\n",
    "    y = data_frame['label']\n",
    "    \n",
    "    selector = SelectKBest(score_func=f_classif, k=5)\n",
    "    X_new = selector.fit_transform(X, y)\n",
    "    selected_indices = selector.get_support(indices=True)\n",
    "    if i == 1:\n",
    "        selected_features = set(columns_data[selected_indices])\n",
    "    else:\n",
    "        selected_features.intersection(set(data_frame.columns[selected_indices]))\n",
    "\n",
    "print(f'Características seleccionadas {selected_features}')\n",
    "\n"
   ]
  }
 ],
 "metadata": {
  "language_info": {
   "name": "python"
  }
 },
 "nbformat": 4,
 "nbformat_minor": 2
}
